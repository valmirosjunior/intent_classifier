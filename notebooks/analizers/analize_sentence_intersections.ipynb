{
 "cells": [
  {
   "cell_type": "code",
   "execution_count": 1,
   "metadata": {
    "pycharm": {
     "name": "#%%\n"
    }
   },
   "outputs": [],
   "source": [
    "%load_ext autoreload\n",
    "\n",
    "%autoreload 2"
   ]
  },
  {
   "cell_type": "code",
   "execution_count": 2,
   "metadata": {},
   "outputs": [],
   "source": [
    "import pandas as pd\n",
    "from src.core import file_manager as fm\n",
    "from src.embeddings.constants import EMBEDDING_MODELS_TRANSLATION"
   ]
  },
  {
   "cell_type": "code",
   "execution_count": 3,
   "metadata": {},
   "outputs": [],
   "source": [
    "embeddings = list(EMBEDDING_MODELS_TRANSLATION.keys())"
   ]
  },
  {
   "cell_type": "code",
   "execution_count": 4,
   "metadata": {},
   "outputs": [],
   "source": [
    "def describe_intersections_models(suffix='train', column_to_compared='correct_txt'):\n",
    "  for i in range(len(embeddings) -1):\n",
    "    df = pd.read_csv(fm.filename_from_data_dir(f'output/neural_models/patient/{embeddings[i]}/data_{suffix}.csv'))\n",
    "    print(f'{embeddings[i]} has {df[column_to_compared].count()} sentences')\n",
    "    \n",
    "    for j in range(i + 1, len(embeddings)):\n",
    "      df_2 = pd.read_csv(fm.filename_from_data_dir(f'output/neural_models/patient/{embeddings[j]}/data_{suffix}.csv'))\n",
    "      sentences_in_common = df.loc[df[column_to_compared].isin(df_2[column_to_compared])][column_to_compared].count()\n",
    "      \n",
    "      print(f'Has in common: {sentences_in_common} with the {embeddings[j]}, that has {df_2[column_to_compared].count()} sentences')\n",
    "    \n",
    "    print('==================================================================\\n')\n",
    "\n",
    "\n",
    "  sentences_in_all_models = pd.read_csv(fm.filename_from_data_dir(\n",
    "    f'output/neural_models/patient/{embeddings[0]}/data_{suffix}.csv')\n",
    "    )[column_to_compared]\n",
    "\n",
    "  for i in range(1, len(embeddings)):\n",
    "    df = pd.read_csv(fm.filename_from_data_dir(f'output/neural_models/patient/{embeddings[i]}/data_{suffix}.csv'))\n",
    "\n",
    "    sentences_in_all_models = df.loc[df[column_to_compared].isin(sentences_in_all_models)][column_to_compared]\n",
    "\n",
    "  print(f'\\nThere are {sentences_in_all_models.count()} present in all models')"
   ]
  },
  {
   "cell_type": "code",
   "execution_count": 23,
   "metadata": {},
   "outputs": [
    {
     "name": "stdout",
     "output_type": "stream",
     "text": [
      "bert_pt has 6185 sentences\n",
      "Has in common: 2376 with the flair_pt, that has 6188 sentences\n",
      "Has in common: 2007 with the glove, that has 6230 sentences\n",
      "Has in common: 2094 with the lasbe, that has 5604 sentences\n",
      "Has in common: 1836 with the use, that has 4849 sentences\n",
      "==================================================================\n",
      "\n",
      "flair_pt has 6188 sentences\n",
      "Has in common: 1946 with the glove, that has 6230 sentences\n",
      "Has in common: 1909 with the lasbe, that has 5604 sentences\n",
      "Has in common: 1713 with the use, that has 4849 sentences\n",
      "==================================================================\n",
      "\n",
      "glove has 6230 sentences\n",
      "Has in common: 1623 with the lasbe, that has 5604 sentences\n",
      "Has in common: 1431 with the use, that has 4849 sentences\n",
      "==================================================================\n",
      "\n",
      "lasbe has 5604 sentences\n",
      "Has in common: 2136 with the use, that has 4849 sentences\n",
      "==================================================================\n",
      "\n",
      "\n",
      "There are 206 present in all models\n"
     ]
    }
   ],
   "source": [
    "describe_intersections_models(suffix='train')"
   ]
  },
  {
   "cell_type": "code",
   "execution_count": 24,
   "metadata": {},
   "outputs": [
    {
     "name": "stdout",
     "output_type": "stream",
     "text": [
      "bert_pt has 2652 sentences\n",
      "Has in common: 416 with the flair_pt, that has 2652 sentences\n",
      "Has in common: 388 with the glove, that has 2670 sentences\n",
      "Has in common: 398 with the lasbe, that has 2403 sentences\n",
      "Has in common: 311 with the use, that has 2079 sentences\n",
      "==================================================================\n",
      "\n",
      "flair_pt has 2652 sentences\n",
      "Has in common: 331 with the glove, that has 2670 sentences\n",
      "Has in common: 342 with the lasbe, that has 2403 sentences\n",
      "Has in common: 290 with the use, that has 2079 sentences\n",
      "==================================================================\n",
      "\n",
      "glove has 2670 sentences\n",
      "Has in common: 297 with the lasbe, that has 2403 sentences\n",
      "Has in common: 261 with the use, that has 2079 sentences\n",
      "==================================================================\n",
      "\n",
      "lasbe has 2403 sentences\n",
      "Has in common: 376 with the use, that has 2079 sentences\n",
      "==================================================================\n",
      "\n",
      "\n",
      "There are 3 present in all models\n"
     ]
    }
   ],
   "source": [
    "describe_intersections_models(suffix='test')"
   ]
  },
  {
   "cell_type": "code",
   "execution_count": 4,
   "metadata": {},
   "outputs": [],
   "source": [
    "def describe_intersections(variation):\n",
    "  for i in range(len(embeddings) -1):\n",
    "    df = fm.read_annotated_df_with_embeddings(embedding_name=embeddings[i], variation=variation)\n",
    "    print(f'{embeddings[i]} has {df[\"txt\"].count()} sentences')\n",
    "    \n",
    "    for j in range(i + 1, len(embeddings)):\n",
    "      df_2 = fm.read_annotated_df_with_embeddings(embedding_name=embeddings[j], variation=variation)\n",
    "      sentences_in_common = df.loc[df['txt'].isin(df_2['txt'])]['txt'].count()\n",
    "      \n",
    "      print(f'Has in common: {sentences_in_common} with the {embeddings[j]}, that has {df_2[\"txt\"].count()} sentences')\n",
    "    \n",
    "    print('==================================================================\\n')\n",
    "\n",
    "\n",
    "  sentences_in_all_models = fm.read_annotated_df_with_embeddings(embedding_name=embeddings[0], variation=variation)['txt']\n",
    "\n",
    "  for i in range(1, len(embeddings)):\n",
    "    df = fm.read_annotated_df_with_embeddings(embedding_name=embeddings[i], variation=variation)\n",
    "\n",
    "    sentences_in_all_models = df.loc[df['txt'].isin(sentences_in_all_models)]['txt']\n",
    "\n",
    "  print(f'\\nThere are {sentences_in_all_models.count()} present in all models')\n",
    "\n",
    "  return sentences_in_all_models\n",
    "     "
   ]
  },
  {
   "cell_type": "code",
   "execution_count": 5,
   "metadata": {},
   "outputs": [
    {
     "name": "stdout",
     "output_type": "stream",
     "text": [
      "bert_pt has 8837 sentences\n",
      "Has in common: 4762 with the flair_pt, that has 8840 sentences\n",
      "Has in common: 4054 with the glove, that has 8900 sentences\n",
      "Has in common: 4264 with the lasbe, that has 8007 sentences\n",
      "Has in common: 3746 with the use, that has 6928 sentences\n",
      "==================================================================\n",
      "\n",
      "flair_pt has 8840 sentences\n",
      "Has in common: 3879 with the glove, that has 8900 sentences\n",
      "Has in common: 3907 with the lasbe, that has 8007 sentences\n",
      "Has in common: 3493 with the use, that has 6928 sentences\n",
      "==================================================================\n",
      "\n",
      "glove has 8900 sentences\n",
      "Has in common: 3376 with the lasbe, that has 8007 sentences\n",
      "Has in common: 3009 with the use, that has 6928 sentences\n",
      "==================================================================\n",
      "\n",
      "lasbe has 8007 sentences\n",
      "Has in common: 4296 with the use, that has 6928 sentences\n",
      "==================================================================\n",
      "\n",
      "\n",
      "There are 1068 present in all models\n"
     ]
    }
   ],
   "source": [
    "sentences_in_all_models = describe_intersections('without_others_intent/k100_without_sentences_higher_than_median')"
   ]
  },
  {
   "cell_type": "code",
   "execution_count": 8,
   "metadata": {},
   "outputs": [],
   "source": [
    "actor = 'patient'\n",
    "variation = 'without_others_intent/k100_without_sentences_higher_than_median'\n",
    "\n",
    "path = fm.filename_from_data_dir( f'output/{actor}/{variation}/intersection_sentences.csv')\n",
    "sentences_in_all_models.to_csv(path, index=False)\n",
    "\n",
    "path_300 = fm.filename_from_data_dir( f'output/{actor}/{variation}/intersection_300_sentences.csv')\n",
    "sentences_in_all_models.sample(n=300, random_state=42).to_csv(path_300, index=False)"
   ]
  },
  {
   "cell_type": "code",
   "execution_count": 12,
   "metadata": {},
   "outputs": [
    {
     "name": "stdout",
     "output_type": "stream",
     "text": [
      "bert_pt has 17309 sentences\n",
      "Has in common: 13488 with the flair_pt, that has 17341 sentences\n",
      "Has in common: 12646 with the glove, that has 17330 sentences\n",
      "Has in common: 12787 with the lasbe, that has 15790 sentences\n",
      "Has in common: 11562 with the use, that has 13636 sentences\n",
      "==================================================================\n",
      "\n",
      "flair_pt has 17341 sentences\n",
      "Has in common: 12272 with the glove, that has 17330 sentences\n",
      "Has in common: 12330 with the lasbe, that has 15790 sentences\n",
      "Has in common: 11041 with the use, that has 13636 sentences\n",
      "==================================================================\n",
      "\n",
      "glove has 17330 sentences\n",
      "Has in common: 11496 with the lasbe, that has 15790 sentences\n",
      "Has in common: 10201 with the use, that has 13636 sentences\n",
      "==================================================================\n",
      "\n",
      "lasbe has 15790 sentences\n",
      "Has in common: 11461 with the use, that has 13636 sentences\n",
      "==================================================================\n",
      "\n",
      "\n",
      "There are 7072 present in all models\n"
     ]
    }
   ],
   "source": [
    "describe_intersections('without_others_intent/k100_without_outliers')"
   ]
  },
  {
   "cell_type": "code",
   "execution_count": 13,
   "metadata": {},
   "outputs": [
    {
     "name": "stdout",
     "output_type": "stream",
     "text": [
      "bert_pt has 13402 sentences\n",
      "Has in common: 8303 with the flair_pt, that has 13401 sentences\n",
      "Has in common: 7158 with the glove, that has 12933 sentences\n",
      "Has in common: 7817 with the lasbe, that has 13398 sentences\n",
      "Has in common: 7589 with the use, that has 13397 sentences\n",
      "==================================================================\n",
      "\n",
      "flair_pt has 13401 sentences\n",
      "Has in common: 7269 with the glove, that has 12933 sentences\n",
      "Has in common: 7322 with the lasbe, that has 13398 sentences\n",
      "Has in common: 7166 with the use, that has 13397 sentences\n",
      "==================================================================\n",
      "\n",
      "glove has 12933 sentences\n",
      "Has in common: 6937 with the lasbe, that has 13398 sentences\n",
      "Has in common: 6836 with the use, that has 13397 sentences\n",
      "==================================================================\n",
      "\n",
      "lasbe has 13398 sentences\n",
      "Has in common: 9118 with the use, that has 13397 sentences\n",
      "==================================================================\n",
      "\n",
      "\n",
      "There are 2226 present in all models\n"
     ]
    }
   ],
   "source": [
    "describe_intersections('k100_without_sentences_higher_than_median')"
   ]
  },
  {
   "cell_type": "code",
   "execution_count": 15,
   "metadata": {},
   "outputs": [
    {
     "name": "stdout",
     "output_type": "stream",
     "text": [
      "bert_pt has 26312 sentences\n",
      "Has in common: 25854 with the flair_pt, that has 26249 sentences\n",
      "Has in common: 24758 with the glove, that has 25141 sentences\n",
      "Has in common: 25959 with the lasbe, that has 26378 sentences\n",
      "Has in common: 26045 with the use, that has 26471 sentences\n",
      "==================================================================\n",
      "\n",
      "flair_pt has 26249 sentences\n",
      "Has in common: 24727 with the glove, that has 25141 sentences\n",
      "Has in common: 25881 with the lasbe, that has 26378 sentences\n",
      "Has in common: 25971 with the use, that has 26471 sentences\n",
      "==================================================================\n",
      "\n",
      "glove has 25141 sentences\n",
      "Has in common: 24801 with the lasbe, that has 26378 sentences\n",
      "Has in common: 24871 with the use, that has 26471 sentences\n",
      "==================================================================\n",
      "\n",
      "lasbe has 26378 sentences\n",
      "Has in common: 26137 with the use, that has 26471 sentences\n",
      "==================================================================\n",
      "\n",
      "\n",
      "There are 23855 present in all models\n"
     ]
    }
   ],
   "source": [
    "describe_intersections('k100_without_outliers')"
   ]
  },
  {
   "cell_type": "code",
   "execution_count": null,
   "metadata": {},
   "outputs": [],
   "source": []
  }
 ],
 "metadata": {
  "interpreter": {
   "hash": "da386d383b1a4f2ab977ab0cc371ee70ac9bd2160da3f0bf5cca7f94d497a6a3"
  },
  "kernelspec": {
   "display_name": "Python 3.10.4 ('venv': venv)",
   "language": "python",
   "name": "python3"
  },
  "language_info": {
   "codemirror_mode": {
    "name": "ipython",
    "version": 3
   },
   "file_extension": ".py",
   "mimetype": "text/x-python",
   "name": "python",
   "nbconvert_exporter": "python",
   "pygments_lexer": "ipython3",
   "version": "3.10.4"
  },
  "orig_nbformat": 4,
  "vscode": {
   "interpreter": {
    "hash": "da386d383b1a4f2ab977ab0cc371ee70ac9bd2160da3f0bf5cca7f94d497a6a3"
   }
  }
 },
 "nbformat": 4,
 "nbformat_minor": 2
}

{
 "cells": [
  {
   "cell_type": "code",
   "execution_count": 1,
   "metadata": {},
   "outputs": [],
   "source": [
    "%load_ext autoreload\n",
    "\n",
    "%autoreload 2"
   ]
  },
  {
   "cell_type": "code",
   "execution_count": 4,
   "metadata": {},
   "outputs": [],
   "source": [
    "import pandas as pd\n",
    "from src.data_helper import DataHelper"
   ]
  },
  {
   "cell_type": "code",
   "execution_count": 21,
   "metadata": {},
   "outputs": [],
   "source": [
    "file_name_annotated = DataHelper.generate_filename_from_data_dir('output/patient/annotated_sentences.csv')\n",
    "\n",
    "df_annotated = pd.read_csv(file_name_annotated)"
   ]
  },
  {
   "cell_type": "code",
   "execution_count": 47,
   "metadata": {},
   "outputs": [
    {
     "data": {
      "text/plain": [
       "txt              26647\n",
       "annotated_txt    26647\n",
       "dtype: int64"
      ]
     },
     "execution_count": 47,
     "metadata": {},
     "output_type": "execute_result"
    }
   ],
   "source": [
    "df_annotated.count()"
   ]
  },
  {
   "cell_type": "code",
   "execution_count": 14,
   "metadata": {},
   "outputs": [
    {
     "data": {
      "text/plain": [
       "26647"
      ]
     },
     "execution_count": 14,
     "metadata": {},
     "output_type": "execute_result"
    }
   ],
   "source": [
    "dict_annotated_txt = pd.Series(df_annotated.annotated_txt.values,index=df_annotated.txt).to_dict()\n",
    "\n",
    "len(dict_annotated_txt.keys())"
   ]
  },
  {
   "cell_type": "code",
   "execution_count": 53,
   "metadata": {},
   "outputs": [],
   "source": [
    "def add_annottated_text(model_name):\n",
    "  file_name_input = DataHelper.generate_filename_from_data_dir(f'output/patient/k100/{model_name}/classified_sentences.csv')\n",
    "  file_name_output = DataHelper.generate_filename_from_data_dir(f'output/patient/k100/{model_name}/annotated_sentences.csv')\n",
    "\n",
    "  df = pd.read_csv(file_name_input)\n",
    "  df['annotated_txt'] = df['txt'].map(dict_annotated_txt)\n",
    "\n",
    "  count_nam = df.isnull().sum().sum()\n",
    "  print(f'There are {count_nam} rows')\n",
    "\n",
    "  df = df.dropna()\n",
    "  df.to_csv(file_name_output, index=False)\n",
    "\n",
    "\n",
    "  return df"
   ]
  },
  {
   "cell_type": "code",
   "execution_count": 26,
   "metadata": {},
   "outputs": [
    {
     "name": "stdout",
     "output_type": "stream",
     "text": [
      "There are 0 rows\n"
     ]
    }
   ],
   "source": [
    "add_annottated_text(model_name='use')"
   ]
  },
  {
   "cell_type": "code",
   "execution_count": null,
   "metadata": {},
   "outputs": [],
   "source": [
    "add_annottated_text(model_name='lasbe')"
   ]
  },
  {
   "cell_type": "code",
   "execution_count": 27,
   "metadata": {},
   "outputs": [
    {
     "name": "stdout",
     "output_type": "stream",
     "text": [
      "There are 0 rows\n"
     ]
    }
   ],
   "source": [
    "add_annottated_text(model_name='bert_pt')"
   ]
  },
  {
   "cell_type": "code",
   "execution_count": 42,
   "metadata": {},
   "outputs": [
    {
     "name": "stdout",
     "output_type": "stream",
     "text": [
      "There are 0 rows\n"
     ]
    },
    {
     "data": {
      "text/html": [
       "<div>\n",
       "<style scoped>\n",
       "    .dataframe tbody tr th:only-of-type {\n",
       "        vertical-align: middle;\n",
       "    }\n",
       "\n",
       "    .dataframe tbody tr th {\n",
       "        vertical-align: top;\n",
       "    }\n",
       "\n",
       "    .dataframe thead th {\n",
       "        text-align: right;\n",
       "    }\n",
       "</style>\n",
       "<table border=\"1\" class=\"dataframe\">\n",
       "  <thead>\n",
       "    <tr style=\"text-align: right;\">\n",
       "      <th></th>\n",
       "      <th>txt</th>\n",
       "      <th>label</th>\n",
       "      <th>distance</th>\n",
       "      <th>intent</th>\n",
       "      <th>annotated_txt</th>\n",
       "    </tr>\n",
       "  </thead>\n",
       "  <tbody>\n",
       "    <tr>\n",
       "      <th>0</th>\n",
       "      <td>Há dois tias estou com dor na garganta</td>\n",
       "      <td>37</td>\n",
       "      <td>0.235620</td>\n",
       "      <td>inform_symptoms</td>\n",
       "      <td>Há dois tias estou com [dor](SINTOMA) na [garg...</td>\n",
       "    </tr>\n",
       "    <tr>\n",
       "      <th>1</th>\n",
       "      <td>Estou preocupado pois tenho asma</td>\n",
       "      <td>28</td>\n",
       "      <td>0.548455</td>\n",
       "      <td>inform_symptoms</td>\n",
       "      <td>Estou preocupado pois tenho [asma](SINTOMA)</td>\n",
       "    </tr>\n",
       "    <tr>\n",
       "      <th>2</th>\n",
       "      <td>Só ontem</td>\n",
       "      <td>63</td>\n",
       "      <td>0.043683</td>\n",
       "      <td>inform</td>\n",
       "      <td>Só ontem</td>\n",
       "    </tr>\n",
       "    <tr>\n",
       "      <th>3</th>\n",
       "      <td>Sim</td>\n",
       "      <td>22</td>\n",
       "      <td>0.035047</td>\n",
       "      <td>inform</td>\n",
       "      <td>Sim</td>\n",
       "    </tr>\n",
       "    <tr>\n",
       "      <th>4</th>\n",
       "      <td>Chenil e aerodin spray</td>\n",
       "      <td>4</td>\n",
       "      <td>0.250928</td>\n",
       "      <td>inform_medicine</td>\n",
       "      <td>Chenil e aerodin spray</td>\n",
       "    </tr>\n",
       "    <tr>\n",
       "      <th>...</th>\n",
       "      <td>...</td>\n",
       "      <td>...</td>\n",
       "      <td>...</td>\n",
       "      <td>...</td>\n",
       "      <td>...</td>\n",
       "    </tr>\n",
       "    <tr>\n",
       "      <th>25411</th>\n",
       "      <td>Sou asmática e tenho crise alérgica (sinusite)...</td>\n",
       "      <td>7</td>\n",
       "      <td>0.193843</td>\n",
       "      <td>inform</td>\n",
       "      <td>Sou asmática e tenho crise alérgica ([sinusite...</td>\n",
       "    </tr>\n",
       "    <tr>\n",
       "      <th>25412</th>\n",
       "      <td>Fico com coriza por conta dos espirros...</td>\n",
       "      <td>59</td>\n",
       "      <td>0.197496</td>\n",
       "      <td>inform_symptoms</td>\n",
       "      <td>Fico com coriza por conta dos [espirros](SINTO...</td>\n",
       "    </tr>\n",
       "    <tr>\n",
       "      <th>25413</th>\n",
       "      <td>Entendi. Não senti falta de ar. Mas ficarei at...</td>\n",
       "      <td>59</td>\n",
       "      <td>0.134908</td>\n",
       "      <td>inform_symptoms</td>\n",
       "      <td>Entendi. Não senti [falta de ar](SINTOMA). Mas...</td>\n",
       "    </tr>\n",
       "    <tr>\n",
       "      <th>25414</th>\n",
       "      <td>A confusão são os sintomas parecidos</td>\n",
       "      <td>7</td>\n",
       "      <td>0.389289</td>\n",
       "      <td>inform</td>\n",
       "      <td>A [confusão](SINTOMA) são os sintomas parecidos</td>\n",
       "    </tr>\n",
       "    <tr>\n",
       "      <th>25415</th>\n",
       "      <td>Muita obrigada pela atenção</td>\n",
       "      <td>1</td>\n",
       "      <td>0.099816</td>\n",
       "      <td>greeting</td>\n",
       "      <td>Muita obrigada pela atenção</td>\n",
       "    </tr>\n",
       "  </tbody>\n",
       "</table>\n",
       "<p>25416 rows × 5 columns</p>\n",
       "</div>"
      ],
      "text/plain": [
       "                                                     txt  label  distance  \\\n",
       "0                 Há dois tias estou com dor na garganta     37  0.235620   \n",
       "1                       Estou preocupado pois tenho asma     28  0.548455   \n",
       "2                                               Só ontem     63  0.043683   \n",
       "3                                                    Sim     22  0.035047   \n",
       "4                                 Chenil e aerodin spray      4  0.250928   \n",
       "...                                                  ...    ...       ...   \n",
       "25411  Sou asmática e tenho crise alérgica (sinusite)...      7  0.193843   \n",
       "25412          Fico com coriza por conta dos espirros...     59  0.197496   \n",
       "25413  Entendi. Não senti falta de ar. Mas ficarei at...     59  0.134908   \n",
       "25414               A confusão são os sintomas parecidos      7  0.389289   \n",
       "25415                        Muita obrigada pela atenção      1  0.099816   \n",
       "\n",
       "                intent                                      annotated_txt  \n",
       "0      inform_symptoms  Há dois tias estou com [dor](SINTOMA) na [garg...  \n",
       "1      inform_symptoms        Estou preocupado pois tenho [asma](SINTOMA)  \n",
       "2               inform                                           Só ontem  \n",
       "3               inform                                                Sim  \n",
       "4      inform_medicine                             Chenil e aerodin spray  \n",
       "...                ...                                                ...  \n",
       "25411           inform  Sou asmática e tenho crise alérgica ([sinusite...  \n",
       "25412  inform_symptoms  Fico com coriza por conta dos [espirros](SINTO...  \n",
       "25413  inform_symptoms  Entendi. Não senti [falta de ar](SINTOMA). Mas...  \n",
       "25414           inform    A [confusão](SINTOMA) são os sintomas parecidos  \n",
       "25415         greeting                        Muita obrigada pela atenção  \n",
       "\n",
       "[25416 rows x 5 columns]"
      ]
     },
     "execution_count": 42,
     "metadata": {},
     "output_type": "execute_result"
    }
   ],
   "source": [
    "add_annottated_text(model_name='glove')"
   ]
  },
  {
   "cell_type": "code",
   "execution_count": 54,
   "metadata": {},
   "outputs": [
    {
     "name": "stdout",
     "output_type": "stream",
     "text": [
      "There are 21 rows\n"
     ]
    },
    {
     "data": {
      "text/html": [
       "<div>\n",
       "<style scoped>\n",
       "    .dataframe tbody tr th:only-of-type {\n",
       "        vertical-align: middle;\n",
       "    }\n",
       "\n",
       "    .dataframe tbody tr th {\n",
       "        vertical-align: top;\n",
       "    }\n",
       "\n",
       "    .dataframe thead th {\n",
       "        text-align: right;\n",
       "    }\n",
       "</style>\n",
       "<table border=\"1\" class=\"dataframe\">\n",
       "  <thead>\n",
       "    <tr style=\"text-align: right;\">\n",
       "      <th></th>\n",
       "      <th>txt</th>\n",
       "      <th>label</th>\n",
       "      <th>distance</th>\n",
       "      <th>intent</th>\n",
       "      <th>annotated_txt</th>\n",
       "    </tr>\n",
       "  </thead>\n",
       "  <tbody>\n",
       "    <tr>\n",
       "      <th>0</th>\n",
       "      <td>Há dois tias estou com dor na garganta</td>\n",
       "      <td>45</td>\n",
       "      <td>0.132922</td>\n",
       "      <td>inform_symptoms</td>\n",
       "      <td>Há dois tias estou com [dor](SINTOMA) na [garg...</td>\n",
       "    </tr>\n",
       "    <tr>\n",
       "      <th>1</th>\n",
       "      <td>Estou preocupado pois tenho asma</td>\n",
       "      <td>19</td>\n",
       "      <td>0.162285</td>\n",
       "      <td>inform_symptoms</td>\n",
       "      <td>Estou preocupado pois tenho [asma](SINTOMA)</td>\n",
       "    </tr>\n",
       "    <tr>\n",
       "      <th>2</th>\n",
       "      <td>Só ontem</td>\n",
       "      <td>27</td>\n",
       "      <td>0.214000</td>\n",
       "      <td>inform</td>\n",
       "      <td>Só ontem</td>\n",
       "    </tr>\n",
       "    <tr>\n",
       "      <th>3</th>\n",
       "      <td>Sim</td>\n",
       "      <td>58</td>\n",
       "      <td>0.161684</td>\n",
       "      <td>inform</td>\n",
       "      <td>Sim</td>\n",
       "    </tr>\n",
       "    <tr>\n",
       "      <th>4</th>\n",
       "      <td>Chenil e aerodin spray</td>\n",
       "      <td>42</td>\n",
       "      <td>0.172895</td>\n",
       "      <td>inform_medicine</td>\n",
       "      <td>Chenil e aerodin spray</td>\n",
       "    </tr>\n",
       "  </tbody>\n",
       "</table>\n",
       "</div>"
      ],
      "text/plain": [
       "                                      txt  label  distance           intent  \\\n",
       "0  Há dois tias estou com dor na garganta     45  0.132922  inform_symptoms   \n",
       "1        Estou preocupado pois tenho asma     19  0.162285  inform_symptoms   \n",
       "2                                Só ontem     27  0.214000           inform   \n",
       "3                                     Sim     58  0.161684           inform   \n",
       "4                  Chenil e aerodin spray     42  0.172895  inform_medicine   \n",
       "\n",
       "                                       annotated_txt  \n",
       "0  Há dois tias estou com [dor](SINTOMA) na [garg...  \n",
       "1        Estou preocupado pois tenho [asma](SINTOMA)  \n",
       "2                                           Só ontem  \n",
       "3                                                Sim  \n",
       "4                             Chenil e aerodin spray  "
      ]
     },
     "execution_count": 54,
     "metadata": {},
     "output_type": "execute_result"
    }
   ],
   "source": [
    "df = add_annottated_text(model_name='flair_pt_br')\n",
    "\n",
    "# df[df['annotated_txt'].isna()]\n",
    "\n",
    "df.head()"
   ]
  },
  {
   "cell_type": "code",
   "execution_count": 45,
   "metadata": {},
   "outputs": [
    {
     "data": {
      "text/plain": [
       "_id             27006\n",
       "cri             27006\n",
       "atu             27006\n",
       "idp             27006\n",
       "ori             27006\n",
       "original_txt    27006\n",
       "created_at      27006\n",
       "id              27006\n",
       "seq             27006\n",
       "txt             27006\n",
       "dtype: int64"
      ]
     },
     "execution_count": 45,
     "metadata": {},
     "output_type": "execute_result"
    }
   ],
   "source": [
    "file_name_input = DataHelper.generate_filename_from_data_dir(f'output/professional/clean_sentences.csv')\n",
    "\n",
    "df = pd.read_csv(file_name_input)\n",
    "\n",
    "df.count()"
   ]
  },
  {
   "cell_type": "code",
   "execution_count": null,
   "metadata": {},
   "outputs": [],
   "source": []
  }
 ],
 "metadata": {
  "interpreter": {
   "hash": "da386d383b1a4f2ab977ab0cc371ee70ac9bd2160da3f0bf5cca7f94d497a6a3"
  },
  "kernelspec": {
   "display_name": "Python 3.9.7 ('venv': venv)",
   "language": "python",
   "name": "python3"
  },
  "language_info": {
   "codemirror_mode": {
    "name": "ipython",
    "version": 3
   },
   "file_extension": ".py",
   "mimetype": "text/x-python",
   "name": "python",
   "nbconvert_exporter": "python",
   "pygments_lexer": "ipython3",
   "version": "3.9.7"
  },
  "orig_nbformat": 4
 },
 "nbformat": 4,
 "nbformat_minor": 2
}

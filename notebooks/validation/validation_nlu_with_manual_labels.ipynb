{
 "cells": [
  {
   "cell_type": "code",
   "execution_count": 2,
   "metadata": {},
   "outputs": [],
   "source": [
    "import numpy as np\n",
    "import pandas as pd\n",
    "import requests\n",
    "\n",
    "from src.core import file_manager  as fm"
   ]
  },
  {
   "cell_type": "code",
   "execution_count": 5,
   "metadata": {},
   "outputs": [
    {
     "data": {
      "text/plain": [
       "inform_symptoms    182\n",
       "greeting            58\n",
       "request_inform      43\n",
       "inform_medicine     14\n",
       "Name: intent, dtype: int64"
      ]
     },
     "execution_count": 5,
     "metadata": {},
     "output_type": "execute_result"
    }
   ],
   "source": [
    "# file = fm.filename_from_data_dir('output/patient/manual_label/not_used_sentences_with_label_manual.csv')\n",
    "variation = 'without_others_intent/k100_without_sentences_higher_than_median'\n",
    "file = fm.filename_from_data_dir( f'output/patient/{variation}/intersection_300_sentences_with_label.csv')\n",
    "\n",
    "data_to_valid = pd.read_csv(file)\n",
    "\n",
    "data_to_valid = data_to_valid.loc[data_to_valid.intent != 'others']\n",
    "\n",
    "data_to_valid.intent.value_counts()"
   ]
  },
  {
   "cell_type": "code",
   "execution_count": 4,
   "metadata": {},
   "outputs": [],
   "source": [
    "# data_weighted = []\n",
    "\n",
    "# for intent in data_to_valid_without_others.intent.unique():\n",
    "#   intent_sentences = data_to_valid_without_others[data_to_valid_without_others['intent'] ==  intent][:25].to_numpy()\n",
    "#   for row in intent_sentences:\n",
    "#     data_weighted.append({'txt': row[0], 'intent': row[1]})"
   ]
  },
  {
   "cell_type": "code",
   "execution_count": 5,
   "metadata": {},
   "outputs": [
    {
     "data": {
      "text/html": [
       "<div>\n",
       "<style scoped>\n",
       "    .dataframe tbody tr th:only-of-type {\n",
       "        vertical-align: middle;\n",
       "    }\n",
       "\n",
       "    .dataframe tbody tr th {\n",
       "        vertical-align: top;\n",
       "    }\n",
       "\n",
       "    .dataframe thead th {\n",
       "        text-align: right;\n",
       "    }\n",
       "</style>\n",
       "<table border=\"1\" class=\"dataframe\">\n",
       "  <thead>\n",
       "    <tr style=\"text-align: right;\">\n",
       "      <th></th>\n",
       "      <th>txt</th>\n",
       "      <th>intent</th>\n",
       "    </tr>\n",
       "  </thead>\n",
       "  <tbody>\n",
       "    <tr>\n",
       "      <th>0</th>\n",
       "      <td>Tem algum remedio pra tipo aperto no peito</td>\n",
       "      <td>request_inform</td>\n",
       "    </tr>\n",
       "    <tr>\n",
       "      <th>1</th>\n",
       "      <td>Onde posso fzr</td>\n",
       "      <td>request_inform</td>\n",
       "    </tr>\n",
       "    <tr>\n",
       "      <th>2</th>\n",
       "      <td>Vcs Irão falar comigo primeiro e com ele depois ?</td>\n",
       "      <td>request_inform</td>\n",
       "    </tr>\n",
       "    <tr>\n",
       "      <th>3</th>\n",
       "      <td>Dr vocês teriam atendimento piscologico?</td>\n",
       "      <td>request_inform</td>\n",
       "    </tr>\n",
       "    <tr>\n",
       "      <th>4</th>\n",
       "      <td>Se continuar alta por Qua nto tempo?</td>\n",
       "      <td>request_inform</td>\n",
       "    </tr>\n",
       "    <tr>\n",
       "      <th>...</th>\n",
       "      <td>...</td>\n",
       "      <td>...</td>\n",
       "    </tr>\n",
       "    <tr>\n",
       "      <th>95</th>\n",
       "      <td>Graças a Deus não foi o meu caso</td>\n",
       "      <td>greeting</td>\n",
       "    </tr>\n",
       "    <tr>\n",
       "      <th>96</th>\n",
       "      <td>Olá hoje ele está bem melhor Glória a Deus Ñ p...</td>\n",
       "      <td>greeting</td>\n",
       "    </tr>\n",
       "    <tr>\n",
       "      <th>97</th>\n",
       "      <td>Mais eu agradeço</td>\n",
       "      <td>greeting</td>\n",
       "    </tr>\n",
       "    <tr>\n",
       "      <th>98</th>\n",
       "      <td>Espero que nao seja preciso. Boa Noite</td>\n",
       "      <td>greeting</td>\n",
       "    </tr>\n",
       "    <tr>\n",
       "      <th>99</th>\n",
       "      <td>Nem sei como lhe agradecer</td>\n",
       "      <td>greeting</td>\n",
       "    </tr>\n",
       "  </tbody>\n",
       "</table>\n",
       "<p>100 rows × 2 columns</p>\n",
       "</div>"
      ],
      "text/plain": [
       "                                                  txt          intent\n",
       "0          Tem algum remedio pra tipo aperto no peito  request_inform\n",
       "1                                      Onde posso fzr  request_inform\n",
       "2   Vcs Irão falar comigo primeiro e com ele depois ?  request_inform\n",
       "3            Dr vocês teriam atendimento piscologico?  request_inform\n",
       "4                Se continuar alta por Qua nto tempo?  request_inform\n",
       "..                                                ...             ...\n",
       "95                   Graças a Deus não foi o meu caso        greeting\n",
       "96  Olá hoje ele está bem melhor Glória a Deus Ñ p...        greeting\n",
       "97                                   Mais eu agradeço        greeting\n",
       "98             Espero que nao seja preciso. Boa Noite        greeting\n",
       "99                         Nem sei como lhe agradecer        greeting\n",
       "\n",
       "[100 rows x 2 columns]"
      ]
     },
     "execution_count": 5,
     "metadata": {},
     "output_type": "execute_result"
    }
   ],
   "source": [
    "# data_to_valid = pd.DataFrame(data_weighted)\n",
    "\n",
    "# data_to_valid"
   ]
  },
  {
   "cell_type": "code",
   "execution_count": 6,
   "metadata": {},
   "outputs": [
    {
     "data": {
      "text/plain": [
       "array(['inform_medicine', 'request_inform', 'inform_symptoms',\n",
       "       'inform_symptoms', 'inform_symptoms', 'inform_symptoms',\n",
       "       'inform_symptoms', 'inform_symptoms', 'greeting',\n",
       "       'inform_symptoms', 'inform_symptoms', 'inform_symptoms',\n",
       "       'request_inform', 'inform_symptoms', 'request_inform',\n",
       "       'inform_symptoms', 'inform_symptoms', 'inform_symptoms',\n",
       "       'inform_symptoms', 'inform_medicine', 'greeting',\n",
       "       'inform_symptoms', 'inform_symptoms', 'inform_symptoms',\n",
       "       'inform_symptoms', 'greeting', 'inform_symptoms', 'greeting',\n",
       "       'inform_symptoms', 'inform_symptoms', 'inform_symptoms',\n",
       "       'inform_symptoms', 'inform_symptoms', 'inform_symptoms',\n",
       "       'inform_symptoms', 'request_inform', 'greeting', 'inform_symptoms',\n",
       "       'request_inform', 'inform_symptoms', 'inform_symptoms',\n",
       "       'inform_symptoms', 'inform_symptoms', 'inform_symptoms',\n",
       "       'inform_symptoms', 'inform_symptoms', 'greeting',\n",
       "       'inform_symptoms', 'inform_symptoms', 'inform_symptoms',\n",
       "       'request_inform', 'request_inform', 'inform_symptoms', 'greeting',\n",
       "       'request_inform', 'inform_symptoms', 'inform_symptoms',\n",
       "       'inform_medicine', 'inform_symptoms', 'request_inform',\n",
       "       'request_inform', 'greeting', 'inform_symptoms', 'inform_symptoms',\n",
       "       'inform_symptoms', 'request_inform', 'greeting', 'inform_symptoms',\n",
       "       'inform_symptoms', 'request_inform', 'inform_symptoms',\n",
       "       'request_inform', 'inform_medicine', 'inform_symptoms', 'greeting',\n",
       "       'greeting', 'inform_symptoms', 'request_inform', 'inform_symptoms',\n",
       "       'inform_symptoms', 'inform_symptoms', 'inform_symptoms',\n",
       "       'inform_medicine', 'inform_symptoms', 'greeting', 'greeting',\n",
       "       'request_inform', 'inform_symptoms', 'greeting', 'request_inform',\n",
       "       'inform_symptoms', 'inform_symptoms', 'inform_symptoms',\n",
       "       'inform_symptoms', 'inform_medicine', 'greeting',\n",
       "       'inform_symptoms', 'inform_symptoms', 'inform_symptoms',\n",
       "       'greeting', 'request_inform', 'inform_symptoms', 'inform_symptoms',\n",
       "       'inform_symptoms', 'inform_symptoms', 'inform_medicine',\n",
       "       'inform_symptoms', 'inform_symptoms', 'greeting', 'request_inform',\n",
       "       'inform_symptoms', 'request_inform', 'inform_symptoms',\n",
       "       'inform_symptoms', 'inform_symptoms', 'inform_symptoms',\n",
       "       'greeting', 'inform_symptoms', 'inform_symptoms',\n",
       "       'inform_symptoms', 'request_inform', 'greeting', 'inform_symptoms',\n",
       "       'greeting', 'request_inform', 'inform_symptoms', 'greeting',\n",
       "       'inform_symptoms', 'inform_symptoms', 'inform_symptoms',\n",
       "       'request_inform', 'greeting', 'greeting', 'inform_symptoms',\n",
       "       'inform_symptoms', 'greeting', 'inform_symptoms',\n",
       "       'inform_symptoms', 'inform_symptoms', 'inform_symptoms',\n",
       "       'inform_symptoms', 'inform_symptoms', 'inform_symptoms',\n",
       "       'inform_symptoms', 'request_inform', 'request_inform', 'greeting',\n",
       "       'greeting', 'inform_symptoms', 'inform_symptoms',\n",
       "       'inform_symptoms', 'greeting', 'greeting', 'inform_symptoms',\n",
       "       'inform_symptoms', 'request_inform', 'inform_symptoms',\n",
       "       'request_inform', 'inform_symptoms', 'inform_symptoms', 'greeting',\n",
       "       'request_inform', 'inform_symptoms', 'inform_symptoms',\n",
       "       'inform_symptoms', 'inform_symptoms', 'inform_symptoms',\n",
       "       'inform_symptoms', 'inform_symptoms', 'request_inform', 'greeting',\n",
       "       'inform_symptoms', 'greeting', 'request_inform', 'request_inform',\n",
       "       'request_inform', 'inform_symptoms', 'greeting', 'inform_symptoms',\n",
       "       'inform_symptoms', 'inform_symptoms', 'inform_symptoms',\n",
       "       'request_inform', 'inform_symptoms', 'inform_symptoms',\n",
       "       'inform_symptoms', 'greeting', 'inform_symptoms',\n",
       "       'inform_symptoms', 'inform_symptoms', 'greeting', 'greeting',\n",
       "       'inform_symptoms', 'greeting', 'inform_symptoms',\n",
       "       'inform_symptoms', 'greeting', 'inform_symptoms',\n",
       "       'inform_symptoms', 'inform_symptoms', 'inform_symptoms',\n",
       "       'inform_medicine', 'inform_symptoms', 'inform_symptoms',\n",
       "       'greeting', 'request_inform', 'greeting', 'inform_symptoms',\n",
       "       'inform_symptoms', 'request_inform', 'inform_symptoms',\n",
       "       'inform_symptoms', 'inform_symptoms', 'greeting',\n",
       "       'inform_symptoms', 'inform_symptoms', 'inform_symptoms',\n",
       "       'inform_symptoms', 'request_inform', 'inform_symptoms',\n",
       "       'inform_medicine', 'greeting', 'inform_medicine',\n",
       "       'inform_symptoms', 'greeting', 'inform_symptoms',\n",
       "       'inform_symptoms', 'inform_symptoms', 'greeting',\n",
       "       'inform_symptoms', 'inform_symptoms', 'inform_medicine',\n",
       "       'inform_symptoms', 'greeting', 'inform_symptoms',\n",
       "       'inform_symptoms', 'greeting', 'inform_symptoms',\n",
       "       'inform_symptoms', 'greeting', 'request_inform', 'greeting',\n",
       "       'request_inform', 'inform_symptoms', 'greeting', 'greeting',\n",
       "       'inform_symptoms', 'inform_symptoms', 'greeting',\n",
       "       'inform_symptoms', 'inform_symptoms', 'inform_symptoms',\n",
       "       'inform_symptoms', 'greeting', 'inform_symptoms',\n",
       "       'inform_symptoms', 'greeting', 'inform_medicine', 'request_inform',\n",
       "       'inform_symptoms', 'request_inform', 'inform_symptoms',\n",
       "       'request_inform', 'inform_symptoms', 'inform_symptoms',\n",
       "       'inform_symptoms', 'inform_symptoms', 'inform_symptoms',\n",
       "       'greeting', 'inform_symptoms', 'inform_symptoms',\n",
       "       'inform_symptoms', 'inform_symptoms', 'inform_symptoms',\n",
       "       'request_inform', 'greeting', 'inform_medicine', 'inform_symptoms',\n",
       "       'greeting', 'request_inform', 'inform_symptoms', 'inform_symptoms',\n",
       "       'inform_symptoms', 'inform_symptoms', 'inform_symptoms',\n",
       "       'greeting', 'greeting', 'greeting', 'inform_symptoms',\n",
       "       'inform_symptoms', 'inform_medicine', 'request_inform',\n",
       "       'inform_symptoms', 'inform_symptoms', 'inform_symptoms',\n",
       "       'inform_symptoms', 'inform_symptoms'], dtype=object)"
      ]
     },
     "execution_count": 6,
     "metadata": {},
     "output_type": "execute_result"
    }
   ],
   "source": [
    "correct_label = data_to_valid['intent'].to_numpy()\n",
    "\n",
    "correct_label"
   ]
  },
  {
   "cell_type": "code",
   "execution_count": 7,
   "metadata": {},
   "outputs": [],
   "source": [
    "def predict_intent_text(text):\n",
    "  data = {'text': text}\n",
    "  \n",
    "  r = requests.post('http://localhost:5005/model/parse', json=data)\n",
    "\n",
    "  # return r.json()['intent']['name']\n",
    "  return r.json()\n",
    "\n",
    "\n",
    "def get_accuracy_for_current_server_nlu():\n",
    "  predicts = data_to_valid['txt'].apply(lambda x: predict_intent_text(x))\n",
    "\n",
    "  correct_predict = np.equal(predicts, correct_label).sum()\n",
    "\n",
    "  accuracy = correct_predict / len(correct_label)\n",
    "\n",
    "  return accuracy"
   ]
  },
  {
   "cell_type": "markdown",
   "metadata": {},
   "source": [
    "## Bert PT"
   ]
  },
  {
   "cell_type": "code",
   "execution_count": 10,
   "metadata": {},
   "outputs": [
    {
     "data": {
      "text/plain": [
       "{'text': 'Tem algum remedio pra tipo aperto no peito',\n",
       " 'intent': {'id': 2360174131124351663,\n",
       "  'name': 'inform_symptoms',\n",
       "  'confidence': 1.0},\n",
       " 'entities': [],\n",
       " 'intent_ranking': [{'id': 2360174131124351663,\n",
       "   'name': 'inform_symptoms',\n",
       "   'confidence': 1.0},\n",
       "  {'id': -3804969864138313327, 'name': 'request_inform', 'confidence': 0.0},\n",
       "  {'id': -596494055960690614, 'name': 'inform_medicine', 'confidence': 0.0},\n",
       "  {'id': 1186845720183537659, 'name': 'greeting', 'confidence': 0.0}],\n",
       " 'response_selector': {'all_retrieval_intents': [],\n",
       "  'default': {'response': {'id': None,\n",
       "    'responses': None,\n",
       "    'response_templates': None,\n",
       "    'confidence': 0.0,\n",
       "    'intent_response_key': None,\n",
       "    'utter_action': 'utter_None',\n",
       "    'template_name': 'utter_None'},\n",
       "   'ranking': []}}}"
      ]
     },
     "execution_count": 10,
     "metadata": {},
     "output_type": "execute_result"
    }
   ],
   "source": [
    "predict_intent_text(data_to_valid['txt'][0])"
   ]
  },
  {
   "cell_type": "code",
   "execution_count": 25,
   "metadata": {},
   "outputs": [
    {
     "data": {
      "text/plain": [
       "0.7"
      ]
     },
     "execution_count": 25,
     "metadata": {},
     "output_type": "execute_result"
    }
   ],
   "source": [
    "get_accuracy_for_current_server_nlu()"
   ]
  },
  {
   "cell_type": "markdown",
   "metadata": {},
   "source": [
    "## Flair PT"
   ]
  },
  {
   "cell_type": "code",
   "execution_count": 27,
   "metadata": {},
   "outputs": [
    {
     "data": {
      "text/plain": [
       "0.62"
      ]
     },
     "execution_count": 27,
     "metadata": {},
     "output_type": "execute_result"
    }
   ],
   "source": [
    "get_accuracy_for_current_server_nlu()"
   ]
  },
  {
   "cell_type": "markdown",
   "metadata": {},
   "source": [
    "## Glove"
   ]
  },
  {
   "cell_type": "code",
   "execution_count": 29,
   "metadata": {},
   "outputs": [
    {
     "data": {
      "text/plain": [
       "0.44"
      ]
     },
     "execution_count": 29,
     "metadata": {},
     "output_type": "execute_result"
    }
   ],
   "source": [
    "get_accuracy_for_current_server_nlu()"
   ]
  },
  {
   "cell_type": "markdown",
   "metadata": {},
   "source": [
    "## Lasbe"
   ]
  },
  {
   "cell_type": "code",
   "execution_count": 30,
   "metadata": {},
   "outputs": [
    {
     "data": {
      "text/plain": [
       "0.77"
      ]
     },
     "execution_count": 30,
     "metadata": {},
     "output_type": "execute_result"
    }
   ],
   "source": [
    "get_accuracy_for_current_server_nlu()"
   ]
  },
  {
   "cell_type": "markdown",
   "metadata": {},
   "source": [
    "## Muse"
   ]
  },
  {
   "cell_type": "code",
   "execution_count": 31,
   "metadata": {},
   "outputs": [
    {
     "data": {
      "text/plain": [
       "0.74"
      ]
     },
     "execution_count": 31,
     "metadata": {},
     "output_type": "execute_result"
    }
   ],
   "source": [
    "get_accuracy_for_current_server_nlu()"
   ]
  },
  {
   "cell_type": "code",
   "execution_count": null,
   "metadata": {},
   "outputs": [],
   "source": []
  }
 ],
 "metadata": {
  "interpreter": {
   "hash": "da386d383b1a4f2ab977ab0cc371ee70ac9bd2160da3f0bf5cca7f94d497a6a3"
  },
  "kernelspec": {
   "display_name": "Python 3.10.4 ('venv': venv)",
   "language": "python",
   "name": "python3"
  },
  "language_info": {
   "codemirror_mode": {
    "name": "ipython",
    "version": 3
   },
   "file_extension": ".py",
   "mimetype": "text/x-python",
   "name": "python",
   "nbconvert_exporter": "python",
   "pygments_lexer": "ipython3",
   "version": "3.10.4"
  },
  "orig_nbformat": 4
 },
 "nbformat": 4,
 "nbformat_minor": 2
}

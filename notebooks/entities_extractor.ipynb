{
 "cells": [
  {
   "cell_type": "code",
   "execution_count": 3,
   "outputs": [
    {
     "name": "stderr",
     "output_type": "stream",
     "text": [
      "/home/valmir/dev/python/intent_classifier/src/entity_extraction/venv/lib/python3.8/site-packages/spacy/util.py:275: UserWarning: [W031] Model 'pt_core_news_sm' (2.2.5) requires spaCy v2.2 and is incompatible with the current spaCy version (2.3.5). This may lead to unexpected results or runtime errors. To resolve this, download a newer compatible model or retrain your custom model with the current spaCy version. For more details and available updates, run: python -m spacy validate\n",
      "  warnings.warn(warn_msg)\n"
     ]
    }
   ],
   "source": [
    "import pandas as pd\n",
    "\n",
    "from src.core import file_manager as  fm\n",
    "from src.entity_extraction import pipeline_helper as ph"
   ],
   "metadata": {
    "collapsed": false,
    "pycharm": {
     "name": "#%%\n"
    }
   }
  },
  {
   "cell_type": "code",
   "execution_count": 4,
   "outputs": [],
   "source": [
    "pd.options.display.max_rows = 100000\n",
    "pd.set_option('display.max_colwidth', None)"
   ],
   "metadata": {
    "collapsed": false,
    "pycharm": {
     "name": "#%%\n"
    }
   }
  },
  {
   "cell_type": "code",
   "execution_count": 5,
   "outputs": [
    {
     "name": "stdout",
     "output_type": "stream",
     "text": [
      "Reading file...\n",
      "Adding entities...\n",
      "Formatting entities...\n",
      "Annotating entities...\n"
     ]
    },
    {
     "data": {
      "text/plain": "                   _id                       cri                       atu  \\\n0  7Nmt894SbdLamfwAo-1  2020-05-04T21:15:55.119Z  2020-05-04T21:53:06:605Z   \n1  7Nmt894SbdLamfwAo-2  2020-05-04T21:16:21.726Z  2020-05-04T21:53:06:605Z   \n2  7Nmt894SbdLamfwAo-3  2020-05-04T21:16:49.298Z  2020-05-04T21:53:06:605Z   \n3  7Nmt894SbdLamfwAo-5  2020-05-04T21:17:23.211Z  2020-05-04T21:53:06:605Z   \n4  7Nmt894SbdLamfwAo-6  2020-05-04T21:17:43.786Z  2020-05-04T21:53:06:605Z   \n\n                 idp      ori  \\\n0  2CNgApLrPbw5bsyxG  patient   \n1  2CNgApLrPbw5bsyxG  patient   \n2  2CNgApLrPbw5bsyxG  patient   \n3  2CNgApLrPbw5bsyxG  patient   \n4  2CNgApLrPbw5bsyxG  patient   \n\n                                                              txt  \\\n0                         Tô  muito nervosa Marcela com tudo isso   \n1  O meu problema  é  psicológico    nem dormi estou  conseguindo   \n2                                                  Com muito medo   \n3                                                             Sim   \n4                    A 3 meses atrás  quando o meu esposo faleceu   \n\n       created_at                 id  seq  \\\n0  20-05-04T21:15  7Nmt894SbdLamfwAo    1   \n1  20-05-04T21:16  7Nmt894SbdLamfwAo    2   \n2  20-05-04T21:16  7Nmt894SbdLamfwAo    3   \n3  20-05-04T21:17  7Nmt894SbdLamfwAo    5   \n4  20-05-04T21:17  7Nmt894SbdLamfwAo    6   \n\n                                                     original_txt ents  \\\n0                         Tô  muito nervosa Marcela com tudo isso   []   \n1  O meu problema  é  psicológico    nem dormi estou  conseguindo   []   \n2                                                  Com muito medo   []   \n3                                                             Sim   []   \n4                    A 3 meses atrás  quando o meu esposo faleceu   []   \n\n               ents_old  \\\n0  {\"m1\": {}, \"m2\": {}}   \n1  {\"m1\": {}, \"m2\": {}}   \n2  {\"m1\": {}, \"m2\": {}}   \n3  {\"m1\": {}, \"m2\": {}}   \n4  {\"m1\": {}, \"m2\": {}}   \n\n                                                    annotated_txt  \n0                         Tô  muito nervosa Marcela com tudo isso  \n1  O meu problema  é  psicológico    nem dormi estou  conseguindo  \n2                                                  Com muito medo  \n3                                                             Sim  \n4                    A 3 meses atrás  quando o meu esposo faleceu  ",
      "text/html": "<div>\n<style scoped>\n    .dataframe tbody tr th:only-of-type {\n        vertical-align: middle;\n    }\n\n    .dataframe tbody tr th {\n        vertical-align: top;\n    }\n\n    .dataframe thead th {\n        text-align: right;\n    }\n</style>\n<table border=\"1\" class=\"dataframe\">\n  <thead>\n    <tr style=\"text-align: right;\">\n      <th></th>\n      <th>_id</th>\n      <th>cri</th>\n      <th>atu</th>\n      <th>idp</th>\n      <th>ori</th>\n      <th>txt</th>\n      <th>created_at</th>\n      <th>id</th>\n      <th>seq</th>\n      <th>original_txt</th>\n      <th>ents</th>\n      <th>ents_old</th>\n      <th>annotated_txt</th>\n    </tr>\n  </thead>\n  <tbody>\n    <tr>\n      <th>0</th>\n      <td>7Nmt894SbdLamfwAo-1</td>\n      <td>2020-05-04T21:15:55.119Z</td>\n      <td>2020-05-04T21:53:06:605Z</td>\n      <td>2CNgApLrPbw5bsyxG</td>\n      <td>patient</td>\n      <td>Tô  muito nervosa Marcela com tudo isso</td>\n      <td>20-05-04T21:15</td>\n      <td>7Nmt894SbdLamfwAo</td>\n      <td>1</td>\n      <td>Tô  muito nervosa Marcela com tudo isso</td>\n      <td>[]</td>\n      <td>{\"m1\": {}, \"m2\": {}}</td>\n      <td>Tô  muito nervosa Marcela com tudo isso</td>\n    </tr>\n    <tr>\n      <th>1</th>\n      <td>7Nmt894SbdLamfwAo-2</td>\n      <td>2020-05-04T21:16:21.726Z</td>\n      <td>2020-05-04T21:53:06:605Z</td>\n      <td>2CNgApLrPbw5bsyxG</td>\n      <td>patient</td>\n      <td>O meu problema  é  psicológico    nem dormi estou  conseguindo</td>\n      <td>20-05-04T21:16</td>\n      <td>7Nmt894SbdLamfwAo</td>\n      <td>2</td>\n      <td>O meu problema  é  psicológico    nem dormi estou  conseguindo</td>\n      <td>[]</td>\n      <td>{\"m1\": {}, \"m2\": {}}</td>\n      <td>O meu problema  é  psicológico    nem dormi estou  conseguindo</td>\n    </tr>\n    <tr>\n      <th>2</th>\n      <td>7Nmt894SbdLamfwAo-3</td>\n      <td>2020-05-04T21:16:49.298Z</td>\n      <td>2020-05-04T21:53:06:605Z</td>\n      <td>2CNgApLrPbw5bsyxG</td>\n      <td>patient</td>\n      <td>Com muito medo</td>\n      <td>20-05-04T21:16</td>\n      <td>7Nmt894SbdLamfwAo</td>\n      <td>3</td>\n      <td>Com muito medo</td>\n      <td>[]</td>\n      <td>{\"m1\": {}, \"m2\": {}}</td>\n      <td>Com muito medo</td>\n    </tr>\n    <tr>\n      <th>3</th>\n      <td>7Nmt894SbdLamfwAo-5</td>\n      <td>2020-05-04T21:17:23.211Z</td>\n      <td>2020-05-04T21:53:06:605Z</td>\n      <td>2CNgApLrPbw5bsyxG</td>\n      <td>patient</td>\n      <td>Sim</td>\n      <td>20-05-04T21:17</td>\n      <td>7Nmt894SbdLamfwAo</td>\n      <td>5</td>\n      <td>Sim</td>\n      <td>[]</td>\n      <td>{\"m1\": {}, \"m2\": {}}</td>\n      <td>Sim</td>\n    </tr>\n    <tr>\n      <th>4</th>\n      <td>7Nmt894SbdLamfwAo-6</td>\n      <td>2020-05-04T21:17:43.786Z</td>\n      <td>2020-05-04T21:53:06:605Z</td>\n      <td>2CNgApLrPbw5bsyxG</td>\n      <td>patient</td>\n      <td>A 3 meses atrás  quando o meu esposo faleceu</td>\n      <td>20-05-04T21:17</td>\n      <td>7Nmt894SbdLamfwAo</td>\n      <td>6</td>\n      <td>A 3 meses atrás  quando o meu esposo faleceu</td>\n      <td>[]</td>\n      <td>{\"m1\": {}, \"m2\": {}}</td>\n      <td>A 3 meses atrás  quando o meu esposo faleceu</td>\n    </tr>\n  </tbody>\n</table>\n</div>"
     },
     "execution_count": 5,
     "metadata": {},
     "output_type": "execute_result"
    }
   ],
   "source": [
    "path_input = fm.filename_from_data_dir('output/patient/clean_sentences.csv')\n",
    "path_output = fm.filename_from_data_dir('output/patient/annotated_sentences.csv')\n",
    "\n",
    "df = ph.run_pipeline(path_input, path_output)\n",
    "\n",
    "df.head()"
   ],
   "metadata": {
    "collapsed": false,
    "pycharm": {
     "name": "#%%\n"
    }
   }
  },
  {
   "cell_type": "code",
   "execution_count": 6,
   "outputs": [
    {
     "name": "stdout",
     "output_type": "stream",
     "text": [
      "Python 3.8.0\r\n"
     ]
    }
   ],
   "source": [
    "!python -V"
   ],
   "metadata": {
    "collapsed": false,
    "pycharm": {
     "name": "#%%\n"
    }
   }
  },
  {
   "cell_type": "code",
   "execution_count": 6,
   "outputs": [],
   "source": [],
   "metadata": {
    "collapsed": false,
    "pycharm": {
     "name": "#%%\n"
    }
   }
  }
 ],
 "metadata": {
  "colab": {
   "collapsed_sections": [
    "j4czsIMfhdrK",
    "bv-QX-Xti0e1"
   ],
   "name": "Covid_entity_extraction.ipynb",
   "provenance": [
    {
     "file_id": "1IrqIf2LlL2kqvaxrEv5hO_gqq17KG34u",
     "timestamp": 1617632991507
    },
    {
     "file_id": "1ZnDskO4NthlbAIfsyqfTlghc-HxUghJu",
     "timestamp": 1610031267704
    },
    {
     "file_id": "1WFkwD1ChAQ2J9GIIq9uPfxnPRCqQaw9o",
     "timestamp": 1606748253234
    },
    {
     "file_id": "1X5i3tDKCy7DOeLrrYZyc0CnHfM0w49hl",
     "timestamp": 1587746130065
    },
    {
     "file_id": "1M5BTAfo16cwZX_vkWx9RbxAVnUAQX3uY",
     "timestamp": 1587675227657
    },
    {
     "file_id": "1Svj9Cdo4VkuCeBlKAokMqLdojufSS1v_",
     "timestamp": 1587667186364
    }
   ]
  },
  "kernelspec": {
   "display_name": "Python 3",
   "name": "python3"
  }
 },
 "nbformat": 4,
 "nbformat_minor": 0
}
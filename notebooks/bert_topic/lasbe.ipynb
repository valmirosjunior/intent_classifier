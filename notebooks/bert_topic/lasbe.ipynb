{
 "cells": [
  {
   "cell_type": "code",
   "execution_count": 1,
   "metadata": {
    "pycharm": {
     "name": "#%%\n"
    }
   },
   "outputs": [],
   "source": [
    "%load_ext autoreload\n",
    "\n",
    "%autoreload 2"
   ]
  },
  {
   "cell_type": "code",
   "execution_count": 2,
   "metadata": {},
   "outputs": [
    {
     "name": "stderr",
     "output_type": "stream",
     "text": [
      "2023-11-03 10:47:36.136383: W tensorflow/stream_executor/platform/default/dso_loader.cc:64] Could not load dynamic library 'libcudart.so.11.0'; dlerror: libcudart.so.11.0: cannot open shared object file: No such file or directory\n",
      "2023-11-03 10:47:36.136400: I tensorflow/stream_executor/cuda/cudart_stub.cc:29] Ignore above cudart dlerror if you do not have a GPU set up on your machine.\n",
      "[nltk_data] Downloading package stopwords to /home/valmir/nltk_data...\n",
      "[nltk_data]   Package stopwords is already up-to-date!\n"
     ]
    }
   ],
   "source": [
    "from src.bertopic.data_helper import DataHelper\n",
    "from src.bertopic.neural_model import NeuralModel\n",
    "from src.bertopic.word_cloud_helper import WordCloudHelper"
   ]
  },
  {
   "cell_type": "code",
   "execution_count": 22,
   "metadata": {},
   "outputs": [],
   "source": [
    "embedding_name = 'lasbe'"
   ]
  },
  {
   "cell_type": "code",
   "execution_count": 4,
   "metadata": {},
   "outputs": [],
   "source": [
    "wh = WordCloudHelper(embedding_name)\n",
    "# wh.generate_word_cloud(0)\n",
    "# wh.generate_word_cloud(1)\n",
    "# wh.generate_word_cloud(2)\n",
    "# wh.generate_word_cloud(3)\n",
    "# wh.generate_word_cloud(4)\n",
    "# wh.generate_word_cloud(5)\n",
    "# wh.generate_word_cloud(6)\n"
   ]
  },
  {
   "cell_type": "code",
   "execution_count": 5,
   "metadata": {},
   "outputs": [
    {
     "data": {
      "text/plain": [
       "346"
      ]
     },
     "execution_count": 5,
     "metadata": {},
     "output_type": "execute_result"
    }
   ],
   "source": [
    "len(wh.doc_info['label'].unique())"
   ]
  },
  {
   "cell_type": "code",
   "execution_count": 15,
   "metadata": {},
   "outputs": [],
   "source": [
    "# wh.generate_word_cloud(6)"
   ]
  },
  {
   "cell_type": "code",
   "execution_count": 16,
   "metadata": {},
   "outputs": [],
   "source": [
    "wh.anottate_intents()"
   ]
  },
  {
   "cell_type": "code",
   "execution_count": 17,
   "metadata": {},
   "outputs": [
    {
     "name": "stdout",
     "output_type": "stream",
     "text": [
      "intents: ['others' 'outliers' 'request_inform' 'greeting' 'inform_symptoms'\n",
      " 'inform_medicine']\n",
      "last indnex: 344\n"
     ]
    }
   ],
   "source": [
    "wh.check_intents()"
   ]
  },
  {
   "cell_type": "code",
   "execution_count": 24,
   "metadata": {},
   "outputs": [
    {
     "name": "stdout",
     "output_type": "stream",
     "text": [
      "         Unnamed: 0         Topic   Probability         label\n",
      "count  15056.000000  15056.000000  15056.000000  15056.000000\n",
      "mean   13345.237513     90.032213      0.832699     90.032213\n",
      "std     7760.391422     88.177347      0.226803     88.177347\n",
      "min        0.000000      0.000000      0.024816      0.000000\n",
      "25%     6641.500000     17.000000      0.707086     17.000000\n",
      "50%    13353.000000     60.000000      0.970686     60.000000\n",
      "75%    20006.250000    143.000000      1.000000    143.000000\n",
      "max    26753.000000    344.000000      1.000000    344.000000\n"
     ]
    },
    {
     "data": {
      "text/html": [
       "<div>\n",
       "<style scoped>\n",
       "    .dataframe tbody tr th:only-of-type {\n",
       "        vertical-align: middle;\n",
       "    }\n",
       "\n",
       "    .dataframe tbody tr th {\n",
       "        vertical-align: top;\n",
       "    }\n",
       "\n",
       "    .dataframe thead th {\n",
       "        text-align: right;\n",
       "    }\n",
       "</style>\n",
       "<table border=\"1\" class=\"dataframe\">\n",
       "  <thead>\n",
       "    <tr style=\"text-align: right;\">\n",
       "      <th></th>\n",
       "      <th>Unnamed: 0</th>\n",
       "      <th>Topic</th>\n",
       "      <th>Probability</th>\n",
       "      <th>label</th>\n",
       "    </tr>\n",
       "  </thead>\n",
       "  <tbody>\n",
       "    <tr>\n",
       "      <th>count</th>\n",
       "      <td>9158.000000</td>\n",
       "      <td>9158.000000</td>\n",
       "      <td>9158.000000</td>\n",
       "      <td>9158.000000</td>\n",
       "    </tr>\n",
       "    <tr>\n",
       "      <th>mean</th>\n",
       "      <td>13352.597620</td>\n",
       "      <td>90.178096</td>\n",
       "      <td>0.961583</td>\n",
       "      <td>90.178096</td>\n",
       "    </tr>\n",
       "    <tr>\n",
       "      <th>std</th>\n",
       "      <td>7818.257572</td>\n",
       "      <td>96.367822</td>\n",
       "      <td>0.097312</td>\n",
       "      <td>96.367822</td>\n",
       "    </tr>\n",
       "    <tr>\n",
       "      <th>min</th>\n",
       "      <td>2.000000</td>\n",
       "      <td>0.000000</td>\n",
       "      <td>0.273862</td>\n",
       "      <td>0.000000</td>\n",
       "    </tr>\n",
       "    <tr>\n",
       "      <th>25%</th>\n",
       "      <td>6517.250000</td>\n",
       "      <td>12.000000</td>\n",
       "      <td>1.000000</td>\n",
       "      <td>12.000000</td>\n",
       "    </tr>\n",
       "    <tr>\n",
       "      <th>50%</th>\n",
       "      <td>13318.500000</td>\n",
       "      <td>51.000000</td>\n",
       "      <td>1.000000</td>\n",
       "      <td>51.000000</td>\n",
       "    </tr>\n",
       "    <tr>\n",
       "      <th>75%</th>\n",
       "      <td>20200.000000</td>\n",
       "      <td>146.000000</td>\n",
       "      <td>1.000000</td>\n",
       "      <td>146.000000</td>\n",
       "    </tr>\n",
       "    <tr>\n",
       "      <th>max</th>\n",
       "      <td>26753.000000</td>\n",
       "      <td>344.000000</td>\n",
       "      <td>1.000000</td>\n",
       "      <td>344.000000</td>\n",
       "    </tr>\n",
       "  </tbody>\n",
       "</table>\n",
       "</div>"
      ],
      "text/plain": [
       "         Unnamed: 0        Topic  Probability        label\n",
       "count   9158.000000  9158.000000  9158.000000  9158.000000\n",
       "mean   13352.597620    90.178096     0.961583    90.178096\n",
       "std     7818.257572    96.367822     0.097312    96.367822\n",
       "min        2.000000     0.000000     0.273862     0.000000\n",
       "25%     6517.250000    12.000000     1.000000    12.000000\n",
       "50%    13318.500000    51.000000     1.000000    51.000000\n",
       "75%    20200.000000   146.000000     1.000000   146.000000\n",
       "max    26753.000000   344.000000     1.000000   344.000000"
      ]
     },
     "execution_count": 24,
     "metadata": {},
     "output_type": "execute_result"
    }
   ],
   "source": [
    "dh = DataHelper(embedding_name=embedding_name)\n",
    "\n",
    "print(dh.save_variation(variation='without_outliers', measure='lower_bound').describe())\n",
    "dh.save_variation(variation='without_sentences_higher_than_median', measure='med').describe()"
   ]
  },
  {
   "cell_type": "code",
   "execution_count": 26,
   "metadata": {},
   "outputs": [
    {
     "name": "stdout",
     "output_type": "stream",
     "text": [
      "Applying seed\n",
      "Split data for variation: \n",
      "Build Model...\n",
      "training model\n",
      "Save Model...\n",
      "get metrics\n",
      "{\n",
      "    \"accuracy\": 0.9566201433421351,\n",
      "    \"simples_accuracy\": 0.9566201433421351,\n",
      "    \"matthews_corrcoef\": 0.9313374228225259,\n",
      "    \"weighted\": {\n",
      "        \"precision\": 0.9567187241624572,\n",
      "        \"recall\": 0.9566201433421351,\n",
      "        \"f1\": 0.9565827815592063\n",
      "    },\n",
      "    \"macro\": {\n",
      "        \"precision\": 0.9487719168738284,\n",
      "        \"recall\": 0.9431566230104661,\n",
      "        \"f1\": 0.9457733186660329\n",
      "    },\n",
      "    \"micro\": {\n",
      "        \"precision\": 0.9566201433421351,\n",
      "        \"recall\": 0.9566201433421351,\n",
      "        \"f1\": 0.9566201433421351\n",
      "    }\n",
      "}\n",
      "Split data for variation: without_outliers/\n",
      "Build Model...\n",
      "training model\n",
      "Save Model...\n",
      "get metrics\n",
      "{\n",
      "    \"accuracy\": 0.9563665212217374,\n",
      "    \"simples_accuracy\": 0.9563665212217374,\n",
      "    \"matthews_corrcoef\": 0.9305504539074004,\n",
      "    \"weighted\": {\n",
      "        \"precision\": 0.9562602040772634,\n",
      "        \"recall\": 0.9563665212217374,\n",
      "        \"f1\": 0.9561521023667563\n",
      "    },\n",
      "    \"macro\": {\n",
      "        \"precision\": 0.9492348678033796,\n",
      "        \"recall\": 0.9361536004998147,\n",
      "        \"f1\": 0.9423805681780018\n",
      "    },\n",
      "    \"micro\": {\n",
      "        \"precision\": 0.9563665212217374,\n",
      "        \"recall\": 0.9563665212217374,\n",
      "        \"f1\": 0.9563665212217374\n",
      "    }\n",
      "}\n",
      "Split data for variation: without_sentences_higher_than_median/\n",
      "Build Model...\n",
      "training model\n",
      "Save Model...\n",
      "get metrics\n",
      "{\n",
      "    \"accuracy\": 0.967391304347826,\n",
      "    \"simples_accuracy\": 0.967391304347826,\n",
      "    \"matthews_corrcoef\": 0.9438445834281348,\n",
      "    \"weighted\": {\n",
      "        \"precision\": 0.9674324762818154,\n",
      "        \"recall\": 0.967391304347826,\n",
      "        \"f1\": 0.9673658417535361\n",
      "    },\n",
      "    \"macro\": {\n",
      "        \"precision\": 0.9584345600179422,\n",
      "        \"recall\": 0.9519423967526801,\n",
      "        \"f1\": 0.955077109739127\n",
      "    },\n",
      "    \"micro\": {\n",
      "        \"precision\": 0.967391304347826,\n",
      "        \"recall\": 0.967391304347826,\n",
      "        \"f1\": 0.967391304347826\n",
      "    }\n",
      "}\n"
     ]
    }
   ],
   "source": [
    "NeuralModel(embedding_name).run_pipeline()"
   ]
  },
  {
   "cell_type": "code",
   "execution_count": null,
   "metadata": {},
   "outputs": [],
   "source": []
  }
 ],
 "metadata": {
  "interpreter": {
   "hash": "da386d383b1a4f2ab977ab0cc371ee70ac9bd2160da3f0bf5cca7f94d497a6a3"
  },
  "kernelspec": {
   "display_name": "Python 3.9.7 ('venv': venv)",
   "language": "python",
   "name": "python3"
  },
  "language_info": {
   "codemirror_mode": {
    "name": "ipython",
    "version": 3
   },
   "file_extension": ".py",
   "mimetype": "text/x-python",
   "name": "python",
   "nbconvert_exporter": "python",
   "pygments_lexer": "ipython3",
   "version": "3.10.12"
  },
  "orig_nbformat": 4
 },
 "nbformat": 4,
 "nbformat_minor": 2
}

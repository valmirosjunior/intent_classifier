{
 "cells": [
  {
   "cell_type": "code",
   "execution_count": 1,
   "metadata": {
    "pycharm": {
     "name": "#%%\n"
    }
   },
   "outputs": [],
   "source": [
    "%load_ext autoreload\n",
    "\n",
    "%autoreload 2"
   ]
  },
  {
   "cell_type": "code",
   "execution_count": 2,
   "metadata": {},
   "outputs": [
    {
     "name": "stderr",
     "output_type": "stream",
     "text": [
      "2023-10-29 12:37:06.693227: W tensorflow/stream_executor/platform/default/dso_loader.cc:64] Could not load dynamic library 'libcudart.so.11.0'; dlerror: libcudart.so.11.0: cannot open shared object file: No such file or directory\n",
      "2023-10-29 12:37:06.693254: I tensorflow/stream_executor/cuda/cudart_stub.cc:29] Ignore above cudart dlerror if you do not have a GPU set up on your machine.\n",
      "[nltk_data] Downloading package stopwords to /home/valmir/nltk_data...\n",
      "[nltk_data]   Package stopwords is already up-to-date!\n"
     ]
    }
   ],
   "source": [
    "from src.bertopic.data_helper import DataHelper\n",
    "from src.bertopic.neural_model import NeuralModel\n",
    "from src.bertopic.word_cloud_helper import WordCloudHelper"
   ]
  },
  {
   "cell_type": "code",
   "execution_count": 3,
   "metadata": {},
   "outputs": [],
   "source": [
    "embedding_name = 'glove'"
   ]
  },
  {
   "cell_type": "code",
   "execution_count": 4,
   "metadata": {},
   "outputs": [],
   "source": [
    "wh = WordCloudHelper(embedding_name)\n",
    "# wh.generate_word_cloud(0)\n",
    "# wh.generate_word_cloud(1)\n",
    "# wh.generate_word_cloud(2)\n",
    "# wh.generate_word_cloud(3)\n",
    "# wh.generate_word_cloud(4)\n",
    "# wh.generate_word_cloud(5)\n",
    "# wh.generate_word_cloud(6)\n"
   ]
  },
  {
   "cell_type": "code",
   "execution_count": 5,
   "metadata": {},
   "outputs": [
    {
     "data": {
      "text/plain": [
       "484"
      ]
     },
     "execution_count": 5,
     "metadata": {},
     "output_type": "execute_result"
    }
   ],
   "source": [
    "len(wh.doc_info['label'].unique())"
   ]
  },
  {
   "cell_type": "code",
   "execution_count": 6,
   "metadata": {},
   "outputs": [],
   "source": [
    "# wh.generate_word_cloud(0)\n",
    "# wh.generate_word_cloud(9)"
   ]
  },
  {
   "cell_type": "code",
   "execution_count": 15,
   "metadata": {},
   "outputs": [],
   "source": [
    "wh.anottate_intents()"
   ]
  },
  {
   "cell_type": "code",
   "execution_count": 16,
   "metadata": {},
   "outputs": [
    {
     "name": "stdout",
     "output_type": "stream",
     "text": [
      "intents: ['outliers' 'others' 'greeting' 'inform_symptoms' 'request_inform'\n",
      " 'inform_medicine']\n",
      "last indnex: 482\n"
     ]
    }
   ],
   "source": [
    "wh.check_intents()"
   ]
  },
  {
   "cell_type": "code",
   "execution_count": 17,
   "metadata": {},
   "outputs": [
    {
     "name": "stdout",
     "output_type": "stream",
     "text": [
      "         Unnamed: 0         Topic   Probability         label\n",
      "count  16202.000000  16202.000000  16202.000000  16202.000000\n",
      "mean   13315.870880    134.433403      0.704015    134.433403\n",
      "std     7791.462348    130.547040      0.350785    130.547040\n",
      "min        2.000000      0.000000      0.000120      0.000000\n",
      "25%     6544.500000     21.000000      0.411229     21.000000\n",
      "50%    13263.000000     92.000000      0.887054     92.000000\n",
      "75%    20087.750000    218.000000      1.000000    218.000000\n",
      "max    26753.000000    482.000000      1.000000    482.000000\n"
     ]
    },
    {
     "data": {
      "text/html": [
       "<div>\n",
       "<style scoped>\n",
       "    .dataframe tbody tr th:only-of-type {\n",
       "        vertical-align: middle;\n",
       "    }\n",
       "\n",
       "    .dataframe tbody tr th {\n",
       "        vertical-align: top;\n",
       "    }\n",
       "\n",
       "    .dataframe thead th {\n",
       "        text-align: right;\n",
       "    }\n",
       "</style>\n",
       "<table border=\"1\" class=\"dataframe\">\n",
       "  <thead>\n",
       "    <tr style=\"text-align: right;\">\n",
       "      <th></th>\n",
       "      <th>Unnamed: 0</th>\n",
       "      <th>Topic</th>\n",
       "      <th>Probability</th>\n",
       "      <th>label</th>\n",
       "    </tr>\n",
       "  </thead>\n",
       "  <tbody>\n",
       "    <tr>\n",
       "      <th>count</th>\n",
       "      <td>9390.000000</td>\n",
       "      <td>9390.000000</td>\n",
       "      <td>9390.000000</td>\n",
       "      <td>9390.000000</td>\n",
       "    </tr>\n",
       "    <tr>\n",
       "      <th>mean</th>\n",
       "      <td>13420.099042</td>\n",
       "      <td>150.029180</td>\n",
       "      <td>0.913254</td>\n",
       "      <td>150.029180</td>\n",
       "    </tr>\n",
       "    <tr>\n",
       "      <th>std</th>\n",
       "      <td>7809.871641</td>\n",
       "      <td>145.267607</td>\n",
       "      <td>0.181690</td>\n",
       "      <td>145.267607</td>\n",
       "    </tr>\n",
       "    <tr>\n",
       "      <th>min</th>\n",
       "      <td>2.000000</td>\n",
       "      <td>0.000000</td>\n",
       "      <td>0.038834</td>\n",
       "      <td>0.000000</td>\n",
       "    </tr>\n",
       "    <tr>\n",
       "      <th>25%</th>\n",
       "      <td>6677.500000</td>\n",
       "      <td>20.000000</td>\n",
       "      <td>0.930852</td>\n",
       "      <td>20.000000</td>\n",
       "    </tr>\n",
       "    <tr>\n",
       "      <th>50%</th>\n",
       "      <td>13426.500000</td>\n",
       "      <td>102.000000</td>\n",
       "      <td>1.000000</td>\n",
       "      <td>102.000000</td>\n",
       "    </tr>\n",
       "    <tr>\n",
       "      <th>75%</th>\n",
       "      <td>20217.750000</td>\n",
       "      <td>255.000000</td>\n",
       "      <td>1.000000</td>\n",
       "      <td>255.000000</td>\n",
       "    </tr>\n",
       "    <tr>\n",
       "      <th>max</th>\n",
       "      <td>26751.000000</td>\n",
       "      <td>482.000000</td>\n",
       "      <td>1.000000</td>\n",
       "      <td>482.000000</td>\n",
       "    </tr>\n",
       "  </tbody>\n",
       "</table>\n",
       "</div>"
      ],
      "text/plain": [
       "         Unnamed: 0        Topic  Probability        label\n",
       "count   9390.000000  9390.000000  9390.000000  9390.000000\n",
       "mean   13420.099042   150.029180     0.913254   150.029180\n",
       "std     7809.871641   145.267607     0.181690   145.267607\n",
       "min        2.000000     0.000000     0.038834     0.000000\n",
       "25%     6677.500000    20.000000     0.930852    20.000000\n",
       "50%    13426.500000   102.000000     1.000000   102.000000\n",
       "75%    20217.750000   255.000000     1.000000   255.000000\n",
       "max    26751.000000   482.000000     1.000000   482.000000"
      ]
     },
     "execution_count": 17,
     "metadata": {},
     "output_type": "execute_result"
    }
   ],
   "source": [
    "dh = DataHelper(embedding_name=embedding_name)\n",
    "\n",
    "print(dh.save_variation(variation='without_outliers', measure='lower_bound').describe())\n",
    "dh.save_variation(variation='without_sentences_higher_than_median', measure='med').describe()"
   ]
  },
  {
   "cell_type": "code",
   "execution_count": 19,
   "metadata": {},
   "outputs": [
    {
     "name": "stdout",
     "output_type": "stream",
     "text": [
      "Applying seed\n",
      "Split data for variation: \n",
      "Build Model...\n",
      "training model\n",
      "Save Model...\n",
      "get metrics\n",
      "{\n",
      "    \"accuracy\": 0.9118942731277533,\n",
      "    \"simples_accuracy\": 0.9118942731277533,\n",
      "    \"matthews_corrcoef\": 0.8614531641331461,\n",
      "    \"weighted\": {\n",
      "        \"precision\": 0.9118292988484447,\n",
      "        \"recall\": 0.9118942731277533,\n",
      "        \"f1\": 0.9116212276684073\n",
      "    },\n",
      "    \"macro\": {\n",
      "        \"precision\": 0.889431783564805,\n",
      "        \"recall\": 0.8792123541928585,\n",
      "        \"f1\": 0.8836524531712961\n",
      "    },\n",
      "    \"micro\": {\n",
      "        \"precision\": 0.9118942731277533,\n",
      "        \"recall\": 0.9118942731277533,\n",
      "        \"f1\": 0.9118942731277533\n",
      "    }\n",
      "}\n",
      "Split data for variation: without_outliers/\n",
      "Build Model...\n",
      "training model\n",
      "Save Model...\n",
      "get metrics\n",
      "{\n",
      "    \"accuracy\": 0.9166373549067885,\n",
      "    \"simples_accuracy\": 0.9166373549067885,\n",
      "    \"matthews_corrcoef\": 0.8674772594590019,\n",
      "    \"weighted\": {\n",
      "        \"precision\": 0.9162915485629067,\n",
      "        \"recall\": 0.9166373549067885,\n",
      "        \"f1\": 0.9163813776726519\n",
      "    },\n",
      "    \"macro\": {\n",
      "        \"precision\": 0.899605580524548,\n",
      "        \"recall\": 0.8870617569589427,\n",
      "        \"f1\": 0.8931808499611606\n",
      "    },\n",
      "    \"micro\": {\n",
      "        \"precision\": 0.9166373549067885,\n",
      "        \"recall\": 0.9166373549067885,\n",
      "        \"f1\": 0.9166373549067885\n",
      "    }\n",
      "}\n",
      "Split data for variation: without_sentences_higher_than_median/\n",
      "Build Model...\n",
      "training model\n",
      "Save Model...\n",
      "get metrics\n",
      "{\n",
      "    \"accuracy\": 0.9196859903381642,\n",
      "    \"simples_accuracy\": 0.9196859903381642,\n",
      "    \"matthews_corrcoef\": 0.8768914378608235,\n",
      "    \"weighted\": {\n",
      "        \"precision\": 0.9204258618522385,\n",
      "        \"recall\": 0.9196859903381642,\n",
      "        \"f1\": 0.9192208514360096\n",
      "    },\n",
      "    \"macro\": {\n",
      "        \"precision\": 0.9076670292312689,\n",
      "        \"recall\": 0.8841374816917236,\n",
      "        \"f1\": 0.8947158817283357\n",
      "    },\n",
      "    \"micro\": {\n",
      "        \"precision\": 0.9196859903381642,\n",
      "        \"recall\": 0.9196859903381642,\n",
      "        \"f1\": 0.9196859903381642\n",
      "    }\n",
      "}\n"
     ]
    }
   ],
   "source": [
    "NeuralModel(embedding_name).run_pipeline()"
   ]
  },
  {
   "cell_type": "code",
   "execution_count": null,
   "metadata": {},
   "outputs": [],
   "source": []
  }
 ],
 "metadata": {
  "interpreter": {
   "hash": "da386d383b1a4f2ab977ab0cc371ee70ac9bd2160da3f0bf5cca7f94d497a6a3"
  },
  "kernelspec": {
   "display_name": "Python 3.9.7 ('venv': venv)",
   "language": "python",
   "name": "python3"
  },
  "language_info": {
   "codemirror_mode": {
    "name": "ipython",
    "version": 3
   },
   "file_extension": ".py",
   "mimetype": "text/x-python",
   "name": "python",
   "nbconvert_exporter": "python",
   "pygments_lexer": "ipython3",
   "version": "3.10.12"
  },
  "orig_nbformat": 4
 },
 "nbformat": 4,
 "nbformat_minor": 2
}

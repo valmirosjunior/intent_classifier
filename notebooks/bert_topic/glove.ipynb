{
 "cells": [
  {
   "cell_type": "code",
   "execution_count": 1,
   "metadata": {
    "pycharm": {
     "name": "#%%\n"
    }
   },
   "outputs": [],
   "source": [
    "%load_ext autoreload\n",
    "\n",
    "%autoreload 2"
   ]
  },
  {
   "cell_type": "code",
   "execution_count": 2,
   "metadata": {},
   "outputs": [
    {
     "name": "stderr",
     "output_type": "stream",
     "text": [
      "2024-03-05 00:08:49.821676: W tensorflow/stream_executor/platform/default/dso_loader.cc:64] Could not load dynamic library 'libcudart.so.11.0'; dlerror: libcudart.so.11.0: cannot open shared object file: No such file or directory\n",
      "2024-03-05 00:08:49.821692: I tensorflow/stream_executor/cuda/cudart_stub.cc:29] Ignore above cudart dlerror if you do not have a GPU set up on your machine.\n",
      "[nltk_data] Downloading package stopwords to /home/valmir/nltk_data...\n",
      "[nltk_data]   Package stopwords is already up-to-date!\n"
     ]
    }
   ],
   "source": [
    "from src.bertopic.data_helper import DataHelper\n",
    "from src.bertopic.neural_model import NeuralModel\n",
    "from src.bertopic.word_cloud_helper import WordCloudHelper"
   ]
  },
  {
   "cell_type": "code",
   "execution_count": 3,
   "metadata": {},
   "outputs": [],
   "source": [
    "embedding_name = 'glove'"
   ]
  },
  {
   "cell_type": "code",
   "execution_count": 4,
   "metadata": {},
   "outputs": [],
   "source": [
    "wh = WordCloudHelper(embedding_name)\n",
    "# wh.generate_word_cloud(0)\n",
    "# wh.generate_word_cloud(1)\n",
    "# wh.generate_word_cloud(2)\n",
    "# wh.generate_word_cloud(3)\n",
    "# wh.generate_word_cloud(4)\n",
    "# wh.generate_word_cloud(5)\n",
    "# wh.generate_word_cloud(6)\n"
   ]
  },
  {
   "cell_type": "code",
   "execution_count": 7,
   "metadata": {},
   "outputs": [
    {
     "name": "stdout",
     "output_type": "stream",
     "text": [
      "The total of sentences is: 26754\n",
      "The total of topics is: 484\n",
      "outliers, has 1 topics, and 9982 sentences\n",
      "greeting, has 58 topics, and 3004 sentences\n",
      "others, has 224 topics, and 6937 sentences\n",
      "inform_symptoms, has 141 topics, and 4910 sentences\n",
      "inform_medicine, has 25 topics, and 840 sentences\n",
      "request_inform, has 35 topics, and 1081 sentences\n"
     ]
    }
   ],
   "source": [
    "wh.describe_intents()"
   ]
  },
  {
   "cell_type": "code",
   "execution_count": 5,
   "metadata": {},
   "outputs": [
    {
     "data": {
      "text/plain": [
       "484"
      ]
     },
     "execution_count": 5,
     "metadata": {},
     "output_type": "execute_result"
    }
   ],
   "source": [
    "len(wh.doc_info['label'].unique())"
   ]
  },
  {
   "cell_type": "code",
   "execution_count": 6,
   "metadata": {},
   "outputs": [],
   "source": [
    "# wh.generate_word_cloud(0)\n",
    "# wh.generate_word_cloud(9)"
   ]
  },
  {
   "cell_type": "code",
   "execution_count": 15,
   "metadata": {},
   "outputs": [],
   "source": [
    "wh.anottate_intents()"
   ]
  },
  {
   "cell_type": "code",
   "execution_count": 16,
   "metadata": {},
   "outputs": [
    {
     "name": "stdout",
     "output_type": "stream",
     "text": [
      "intents: ['outliers' 'others' 'greeting' 'inform_symptoms' 'request_inform'\n",
      " 'inform_medicine']\n",
      "last indnex: 482\n"
     ]
    }
   ],
   "source": [
    "wh.check_intents()"
   ]
  },
  {
   "cell_type": "code",
   "execution_count": 4,
   "metadata": {},
   "outputs": [
    {
     "data": {
      "text/html": [
       "<div>\n",
       "<style scoped>\n",
       "    .dataframe tbody tr th:only-of-type {\n",
       "        vertical-align: middle;\n",
       "    }\n",
       "\n",
       "    .dataframe tbody tr th {\n",
       "        vertical-align: top;\n",
       "    }\n",
       "\n",
       "    .dataframe thead th {\n",
       "        text-align: right;\n",
       "    }\n",
       "</style>\n",
       "<table border=\"1\" class=\"dataframe\">\n",
       "  <thead>\n",
       "    <tr style=\"text-align: right;\">\n",
       "      <th></th>\n",
       "      <th>Unnamed: 0</th>\n",
       "      <th>Topic</th>\n",
       "      <th>Probability</th>\n",
       "      <th>label</th>\n",
       "    </tr>\n",
       "  </thead>\n",
       "  <tbody>\n",
       "    <tr>\n",
       "      <th>count</th>\n",
       "      <td>5519.000000</td>\n",
       "      <td>5519.000000</td>\n",
       "      <td>5519.000000</td>\n",
       "      <td>5519.000000</td>\n",
       "    </tr>\n",
       "    <tr>\n",
       "      <th>mean</th>\n",
       "      <td>13243.007429</td>\n",
       "      <td>133.421634</td>\n",
       "      <td>0.909922</td>\n",
       "      <td>133.421634</td>\n",
       "    </tr>\n",
       "    <tr>\n",
       "      <th>std</th>\n",
       "      <td>7848.127418</td>\n",
       "      <td>139.786774</td>\n",
       "      <td>0.184928</td>\n",
       "      <td>139.786774</td>\n",
       "    </tr>\n",
       "    <tr>\n",
       "      <th>min</th>\n",
       "      <td>9.000000</td>\n",
       "      <td>0.000000</td>\n",
       "      <td>0.082077</td>\n",
       "      <td>0.000000</td>\n",
       "    </tr>\n",
       "    <tr>\n",
       "      <th>25%</th>\n",
       "      <td>6396.500000</td>\n",
       "      <td>11.000000</td>\n",
       "      <td>0.918295</td>\n",
       "      <td>11.000000</td>\n",
       "    </tr>\n",
       "    <tr>\n",
       "      <th>50%</th>\n",
       "      <td>13130.000000</td>\n",
       "      <td>91.000000</td>\n",
       "      <td>1.000000</td>\n",
       "      <td>91.000000</td>\n",
       "    </tr>\n",
       "    <tr>\n",
       "      <th>75%</th>\n",
       "      <td>20060.500000</td>\n",
       "      <td>222.000000</td>\n",
       "      <td>1.000000</td>\n",
       "      <td>222.000000</td>\n",
       "    </tr>\n",
       "    <tr>\n",
       "      <th>max</th>\n",
       "      <td>26750.000000</td>\n",
       "      <td>481.000000</td>\n",
       "      <td>1.000000</td>\n",
       "      <td>481.000000</td>\n",
       "    </tr>\n",
       "  </tbody>\n",
       "</table>\n",
       "</div>"
      ],
      "text/plain": [
       "         Unnamed: 0        Topic  Probability        label\n",
       "count   5519.000000  5519.000000  5519.000000  5519.000000\n",
       "mean   13243.007429   133.421634     0.909922   133.421634\n",
       "std     7848.127418   139.786774     0.184928   139.786774\n",
       "min        9.000000     0.000000     0.082077     0.000000\n",
       "25%     6396.500000    11.000000     0.918295    11.000000\n",
       "50%    13130.000000    91.000000     1.000000    91.000000\n",
       "75%    20060.500000   222.000000     1.000000   222.000000\n",
       "max    26750.000000   481.000000     1.000000   481.000000"
      ]
     },
     "execution_count": 4,
     "metadata": {},
     "output_type": "execute_result"
    }
   ],
   "source": [
    "dh = DataHelper(embedding_name=embedding_name)\n",
    "\n",
    "dh.save_variation(variation='without_outliers', measure='lower_bound')\n",
    "dh.save_variation(variation='without_sentences_higher_than_median', measure='med')[1].describe()"
   ]
  },
  {
   "cell_type": "code",
   "execution_count": 4,
   "metadata": {},
   "outputs": [],
   "source": [
    "neural_model = NeuralModel(embedding_name)"
   ]
  },
  {
   "cell_type": "code",
   "execution_count": 5,
   "metadata": {},
   "outputs": [
    {
     "name": "stdout",
     "output_type": "stream",
     "text": [
      "Applying seed\n",
      "Split data for variation: without_sentences_higher_than_median/\n",
      "nan values: 3465    Do nada eu me senti muito mal. Sem nenhum moti...\n",
      "Name: txt, dtype: object\n",
      "The total of sentences is: 5518\n",
      "The total of sentences after remove validation is: 5413\n",
      "Build Model...\n",
      "training model\n"
     ]
    },
    {
     "name": "stderr",
     "output_type": "stream",
     "text": [
      "2024-03-05 00:09:07.041566: I tensorflow/stream_executor/cuda/cuda_gpu_executor.cc:936] successful NUMA node read from SysFS had negative value (-1), but there must be at least one NUMA node, so returning NUMA node zero\n",
      "2024-03-05 00:09:07.041909: W tensorflow/stream_executor/platform/default/dso_loader.cc:64] Could not load dynamic library 'libcudart.so.11.0'; dlerror: libcudart.so.11.0: cannot open shared object file: No such file or directory\n",
      "2024-03-05 00:09:07.041941: W tensorflow/stream_executor/platform/default/dso_loader.cc:64] Could not load dynamic library 'libcublas.so.11'; dlerror: libcublas.so.11: cannot open shared object file: No such file or directory\n",
      "2024-03-05 00:09:07.041967: W tensorflow/stream_executor/platform/default/dso_loader.cc:64] Could not load dynamic library 'libcublasLt.so.11'; dlerror: libcublasLt.so.11: cannot open shared object file: No such file or directory\n",
      "2024-03-05 00:09:07.041993: W tensorflow/stream_executor/platform/default/dso_loader.cc:64] Could not load dynamic library 'libcufft.so.10'; dlerror: libcufft.so.10: cannot open shared object file: No such file or directory\n",
      "2024-03-05 00:09:07.042020: W tensorflow/stream_executor/platform/default/dso_loader.cc:64] Could not load dynamic library 'libcurand.so.10'; dlerror: libcurand.so.10: cannot open shared object file: No such file or directory\n",
      "2024-03-05 00:09:07.042071: W tensorflow/stream_executor/platform/default/dso_loader.cc:64] Could not load dynamic library 'libcusolver.so.11'; dlerror: libcusolver.so.11: cannot open shared object file: No such file or directory\n",
      "2024-03-05 00:09:07.042110: W tensorflow/stream_executor/platform/default/dso_loader.cc:64] Could not load dynamic library 'libcusparse.so.11'; dlerror: libcusparse.so.11: cannot open shared object file: No such file or directory\n",
      "2024-03-05 00:09:07.042144: W tensorflow/stream_executor/platform/default/dso_loader.cc:64] Could not load dynamic library 'libcudnn.so.8'; dlerror: libcudnn.so.8: cannot open shared object file: No such file or directory\n",
      "2024-03-05 00:09:07.042150: W tensorflow/core/common_runtime/gpu/gpu_device.cc:1850] Cannot dlopen some GPU libraries. Please make sure the missing libraries mentioned above are installed properly if you would like to use GPU. Follow the guide at https://www.tensorflow.org/install/gpu for how to download and setup the required libraries for your platform.\n",
      "Skipping registering GPU devices...\n",
      "2024-03-05 00:09:07.042345: I tensorflow/core/platform/cpu_feature_guard.cc:151] This TensorFlow binary is optimized with oneAPI Deep Neural Network Library (oneDNN) to use the following CPU instructions in performance-critical operations:  AVX2 AVX512F FMA\n",
      "To enable them in other operations, rebuild TensorFlow with the appropriate compiler flags.\n"
     ]
    },
    {
     "name": "stdout",
     "output_type": "stream",
     "text": [
      "Save Model...\n",
      "get metrics\n",
      "{\n",
      "    \"accuracy\": 0.9328817733990148,\n",
      "    \"simples_accuracy\": 0.9328817733990148,\n",
      "    \"matthews_corrcoef\": 0.894848988371725,\n",
      "    \"weighted\": {\n",
      "        \"precision\": 0.9332714868970164,\n",
      "        \"recall\": 0.9328817733990148,\n",
      "        \"f1\": 0.9319764888437428\n",
      "    },\n",
      "    \"macro\": {\n",
      "        \"precision\": 0.9319437011873913,\n",
      "        \"recall\": 0.8831823386814792,\n",
      "        \"f1\": 0.9052416110519328\n",
      "    },\n",
      "    \"micro\": {\n",
      "        \"precision\": 0.9328817733990148,\n",
      "        \"recall\": 0.9328817733990148,\n",
      "        \"f1\": 0.9328817733990148\n",
      "    }\n",
      "}\n"
     ]
    }
   ],
   "source": [
    "neural_model.run_pipeline()"
   ]
  },
  {
   "cell_type": "code",
   "execution_count": 7,
   "metadata": {},
   "outputs": [
    {
     "name": "stdout",
     "output_type": "stream",
     "text": [
      "Loading validation data....\n",
      "nan values: Series([], Name: txt, dtype: object)\n",
      "The embedding: glove has a dimensionality of: 300\n",
      "Loading model....\n",
      "Running pridictions....\n"
     ]
    },
    {
     "data": {
      "text/plain": [
       "{'accuracy': 0.9057239057239057,\n",
       " 'simples_accuracy': 0.9057239057239057,\n",
       " 'matthews_corrcoef': 0.8321960818566098,\n",
       " 'weighted': {'precision': 0.9111317366123491,\n",
       "  'recall': 0.9057239057239057,\n",
       "  'f1': 0.9057583488506967},\n",
       " 'macro': {'precision': 0.8382535027696318,\n",
       "  'recall': 0.8364470333195273,\n",
       "  'f1': 0.8311811561881861},\n",
       " 'micro': {'precision': 0.9057239057239057,\n",
       "  'recall': 0.9057239057239057,\n",
       "  'f1': 0.9057239057239057}}"
      ]
     },
     "execution_count": 7,
     "metadata": {},
     "output_type": "execute_result"
    }
   ],
   "source": [
    "neural_model.run_validation_pipeline()"
   ]
  }
 ],
 "metadata": {
  "interpreter": {
   "hash": "da386d383b1a4f2ab977ab0cc371ee70ac9bd2160da3f0bf5cca7f94d497a6a3"
  },
  "kernelspec": {
   "display_name": "Python 3.9.7 ('venv': venv)",
   "language": "python",
   "name": "python3"
  },
  "language_info": {
   "codemirror_mode": {
    "name": "ipython",
    "version": 3
   },
   "file_extension": ".py",
   "mimetype": "text/x-python",
   "name": "python",
   "nbconvert_exporter": "python",
   "pygments_lexer": "ipython3",
   "version": "3.10.12"
  },
  "orig_nbformat": 4
 },
 "nbformat": 4,
 "nbformat_minor": 2
}

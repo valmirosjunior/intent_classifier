{
 "cells": [
  {
   "cell_type": "code",
   "execution_count": 1,
   "metadata": {
    "pycharm": {
     "name": "#%%\n"
    }
   },
   "outputs": [],
   "source": [
    "%load_ext autoreload\n",
    "\n",
    "%autoreload 2"
   ]
  },
  {
   "cell_type": "code",
   "execution_count": 2,
   "metadata": {},
   "outputs": [
    {
     "name": "stderr",
     "output_type": "stream",
     "text": [
      "2023-10-26 13:57:42.598709: W tensorflow/stream_executor/platform/default/dso_loader.cc:64] Could not load dynamic library 'libcudart.so.11.0'; dlerror: libcudart.so.11.0: cannot open shared object file: No such file or directory\n",
      "2023-10-26 13:57:42.598722: I tensorflow/stream_executor/cuda/cudart_stub.cc:29] Ignore above cudart dlerror if you do not have a GPU set up on your machine.\n",
      "[nltk_data] Downloading package stopwords to /home/valmir/nltk_data...\n",
      "[nltk_data]   Package stopwords is already up-to-date!\n"
     ]
    }
   ],
   "source": [
    "from src.bertopic.data_helper import DataHelper\n",
    "from src.bertopic.neural_model import NeuralModel\n",
    "from src.bertopic.word_cloud_helper import WordCloudHelper"
   ]
  },
  {
   "cell_type": "code",
   "execution_count": 3,
   "metadata": {},
   "outputs": [],
   "source": [
    "embedding_name = 'use'"
   ]
  },
  {
   "cell_type": "code",
   "execution_count": 4,
   "metadata": {},
   "outputs": [],
   "source": [
    "wh = WordCloudHelper(embedding_name)\n",
    "# wh.generate_word_cloud(0)\n",
    "# wh.generate_word_cloud(1)\n",
    "# wh.generate_word_cloud(2)\n",
    "# wh.generate_word_cloud(3)\n",
    "# wh.generate_word_cloud(4)\n",
    "# wh.generate_word_cloud(5)\n",
    "# wh.generate_word_cloud(6)\n"
   ]
  },
  {
   "cell_type": "code",
   "execution_count": 5,
   "metadata": {},
   "outputs": [
    {
     "data": {
      "text/plain": [
       "322"
      ]
     },
     "execution_count": 5,
     "metadata": {},
     "output_type": "execute_result"
    }
   ],
   "source": [
    "len(wh.doc_info['label'].unique())"
   ]
  },
  {
   "cell_type": "code",
   "execution_count": null,
   "metadata": {},
   "outputs": [],
   "source": [
    "# wh.generate_word_cloud(0)"
   ]
  },
  {
   "cell_type": "code",
   "execution_count": 16,
   "metadata": {},
   "outputs": [],
   "source": [
    "# wh.generate_word_cloud(6)"
   ]
  },
  {
   "cell_type": "code",
   "execution_count": 10,
   "metadata": {},
   "outputs": [],
   "source": [
    "wh.anottate_intents()"
   ]
  },
  {
   "cell_type": "code",
   "execution_count": 6,
   "metadata": {},
   "outputs": [
    {
     "name": "stdout",
     "output_type": "stream",
     "text": [
      "intents: ['outliers' 'inform_symptoms' 'others' 'greeting' 'inform_medicine'\n",
      " 'request_inform']\n",
      "last indnex: 320\n"
     ]
    }
   ],
   "source": [
    "wh.check_intents()"
   ]
  },
  {
   "cell_type": "code",
   "execution_count": 12,
   "metadata": {},
   "outputs": [
    {
     "name": "stdout",
     "output_type": "stream",
     "text": [
      "         Unnamed: 0         Topic   Probability         label\n",
      "count  16671.000000  16671.000000  16671.000000  16671.000000\n",
      "mean   13331.755983     70.209825      0.800055     70.209825\n",
      "std     7743.607196     80.766759      0.267898     80.766759\n",
      "min        2.000000      0.000000      0.002928      0.000000\n",
      "25%     6590.000000      7.000000      0.634618      7.000000\n",
      "50%    13280.000000     36.000000      0.969794     36.000000\n",
      "75%    20043.000000    111.000000      1.000000    111.000000\n",
      "max    26753.000000    320.000000      1.000000    320.000000\n"
     ]
    },
    {
     "data": {
      "text/html": [
       "<div>\n",
       "<style scoped>\n",
       "    .dataframe tbody tr th:only-of-type {\n",
       "        vertical-align: middle;\n",
       "    }\n",
       "\n",
       "    .dataframe tbody tr th {\n",
       "        vertical-align: top;\n",
       "    }\n",
       "\n",
       "    .dataframe thead th {\n",
       "        text-align: right;\n",
       "    }\n",
       "</style>\n",
       "<table border=\"1\" class=\"dataframe\">\n",
       "  <thead>\n",
       "    <tr style=\"text-align: right;\">\n",
       "      <th></th>\n",
       "      <th>Unnamed: 0</th>\n",
       "      <th>Topic</th>\n",
       "      <th>Probability</th>\n",
       "      <th>label</th>\n",
       "    </tr>\n",
       "  </thead>\n",
       "  <tbody>\n",
       "    <tr>\n",
       "      <th>count</th>\n",
       "      <td>10157.000000</td>\n",
       "      <td>10157.000000</td>\n",
       "      <td>10157.000000</td>\n",
       "      <td>10157.000000</td>\n",
       "    </tr>\n",
       "    <tr>\n",
       "      <th>mean</th>\n",
       "      <td>13311.122674</td>\n",
       "      <td>70.675889</td>\n",
       "      <td>0.949962</td>\n",
       "      <td>70.675889</td>\n",
       "    </tr>\n",
       "    <tr>\n",
       "      <th>std</th>\n",
       "      <td>7760.401497</td>\n",
       "      <td>87.283696</td>\n",
       "      <td>0.123643</td>\n",
       "      <td>87.283696</td>\n",
       "    </tr>\n",
       "    <tr>\n",
       "      <th>min</th>\n",
       "      <td>2.000000</td>\n",
       "      <td>0.000000</td>\n",
       "      <td>0.186699</td>\n",
       "      <td>0.000000</td>\n",
       "    </tr>\n",
       "    <tr>\n",
       "      <th>25%</th>\n",
       "      <td>6568.000000</td>\n",
       "      <td>4.000000</td>\n",
       "      <td>1.000000</td>\n",
       "      <td>4.000000</td>\n",
       "    </tr>\n",
       "    <tr>\n",
       "      <th>50%</th>\n",
       "      <td>13180.000000</td>\n",
       "      <td>28.000000</td>\n",
       "      <td>1.000000</td>\n",
       "      <td>28.000000</td>\n",
       "    </tr>\n",
       "    <tr>\n",
       "      <th>75%</th>\n",
       "      <td>20032.000000</td>\n",
       "      <td>111.000000</td>\n",
       "      <td>1.000000</td>\n",
       "      <td>111.000000</td>\n",
       "    </tr>\n",
       "    <tr>\n",
       "      <th>max</th>\n",
       "      <td>26753.000000</td>\n",
       "      <td>320.000000</td>\n",
       "      <td>1.000000</td>\n",
       "      <td>320.000000</td>\n",
       "    </tr>\n",
       "  </tbody>\n",
       "</table>\n",
       "</div>"
      ],
      "text/plain": [
       "         Unnamed: 0         Topic   Probability         label\n",
       "count  10157.000000  10157.000000  10157.000000  10157.000000\n",
       "mean   13311.122674     70.675889      0.949962     70.675889\n",
       "std     7760.401497     87.283696      0.123643     87.283696\n",
       "min        2.000000      0.000000      0.186699      0.000000\n",
       "25%     6568.000000      4.000000      1.000000      4.000000\n",
       "50%    13180.000000     28.000000      1.000000     28.000000\n",
       "75%    20032.000000    111.000000      1.000000    111.000000\n",
       "max    26753.000000    320.000000      1.000000    320.000000"
      ]
     },
     "execution_count": 12,
     "metadata": {},
     "output_type": "execute_result"
    }
   ],
   "source": [
    "dh = DataHelper(embedding_name=embedding_name)\n",
    "\n",
    "print(dh.save_variation(variation='without_outliers', measure='lower_bound').describe())\n",
    "dh.save_variation(variation='without_sentences_higher_than_median', measure='med').describe()"
   ]
  },
  {
   "cell_type": "code",
   "execution_count": 10,
   "metadata": {},
   "outputs": [
    {
     "name": "stdout",
     "output_type": "stream",
     "text": [
      "Applying seed\n",
      "Split data for variation: \n",
      "Build Model...\n",
      "training model\n",
      "Save Model...\n",
      "get metrics\n",
      "{\n",
      "    \"accuracy\": 0.8630536130536131,\n",
      "    \"simples_accuracy\": 0.8630536130536131,\n",
      "    \"matthews_corrcoef\": 0.7656711787702714,\n",
      "    \"weighted\": {\n",
      "        \"precision\": 0.8611402607129934,\n",
      "        \"recall\": 0.8630536130536131,\n",
      "        \"f1\": 0.8605256605801793\n",
      "    },\n",
      "    \"macro\": {\n",
      "        \"precision\": 0.8463470967517126,\n",
      "        \"recall\": 0.8039988570220039,\n",
      "        \"f1\": 0.8230533113332797\n",
      "    },\n",
      "    \"micro\": {\n",
      "        \"precision\": 0.8630536130536131,\n",
      "        \"recall\": 0.8630536130536131,\n",
      "        \"f1\": 0.863053613053613\n",
      "    }\n",
      "}\n",
      "Split data for variation: without_outliers/\n",
      "Build Model...\n",
      "training model\n",
      "Save Model...\n",
      "get metrics\n",
      "{\n",
      "    \"accuracy\": 0.8420891875381796,\n",
      "    \"simples_accuracy\": 0.8420891875381796,\n",
      "    \"matthews_corrcoef\": 0.73164876996446,\n",
      "    \"weighted\": {\n",
      "        \"precision\": 0.839285617888959,\n",
      "        \"recall\": 0.8420891875381796,\n",
      "        \"f1\": 0.8387846906893679\n",
      "    },\n",
      "    \"macro\": {\n",
      "        \"precision\": 0.8211823543338115,\n",
      "        \"recall\": 0.7802816012850894,\n",
      "        \"f1\": 0.7983884621255588\n",
      "    },\n",
      "    \"micro\": {\n",
      "        \"precision\": 0.8420891875381796,\n",
      "        \"recall\": 0.8420891875381796,\n",
      "        \"f1\": 0.8420891875381796\n",
      "    }\n",
      "}\n",
      "Split data for variation: without_sentences_higher_than_median/\n",
      "Build Model...\n",
      "training model\n",
      "Save Model...\n",
      "get metrics\n",
      "{\n",
      "    \"accuracy\": 0.8554216867469879,\n",
      "    \"simples_accuracy\": 0.8554216867469879,\n",
      "    \"matthews_corrcoef\": 0.756870099096649,\n",
      "    \"weighted\": {\n",
      "        \"precision\": 0.8538308318075807,\n",
      "        \"recall\": 0.8554216867469879,\n",
      "        \"f1\": 0.8525922133940547\n",
      "    },\n",
      "    \"macro\": {\n",
      "        \"precision\": 0.8453163533191165,\n",
      "        \"recall\": 0.796062938460611,\n",
      "        \"f1\": 0.8179333792161072\n",
      "    },\n",
      "    \"micro\": {\n",
      "        \"precision\": 0.8554216867469879,\n",
      "        \"recall\": 0.8554216867469879,\n",
      "        \"f1\": 0.8554216867469879\n",
      "    }\n",
      "}\n"
     ]
    }
   ],
   "source": [
    "NeuralModel(embedding_name).run_pipeline()"
   ]
  },
  {
   "cell_type": "code",
   "execution_count": null,
   "metadata": {},
   "outputs": [],
   "source": []
  }
 ],
 "metadata": {
  "interpreter": {
   "hash": "da386d383b1a4f2ab977ab0cc371ee70ac9bd2160da3f0bf5cca7f94d497a6a3"
  },
  "kernelspec": {
   "display_name": "Python 3.9.7 ('venv': venv)",
   "language": "python",
   "name": "python3"
  },
  "language_info": {
   "codemirror_mode": {
    "name": "ipython",
    "version": 3
   },
   "file_extension": ".py",
   "mimetype": "text/x-python",
   "name": "python",
   "nbconvert_exporter": "python",
   "pygments_lexer": "ipython3",
   "version": "3.10.12"
  },
  "orig_nbformat": 4
 },
 "nbformat": 4,
 "nbformat_minor": 2
}

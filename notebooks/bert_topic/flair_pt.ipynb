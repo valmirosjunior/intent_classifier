{
 "cells": [
  {
   "cell_type": "code",
   "execution_count": 1,
   "metadata": {
    "pycharm": {
     "name": "#%%\n"
    }
   },
   "outputs": [],
   "source": [
    "%load_ext autoreload\n",
    "\n",
    "%autoreload 2"
   ]
  },
  {
   "cell_type": "code",
   "execution_count": 2,
   "metadata": {},
   "outputs": [
    {
     "name": "stderr",
     "output_type": "stream",
     "text": [
      "2024-03-05 00:04:16.041995: W tensorflow/stream_executor/platform/default/dso_loader.cc:64] Could not load dynamic library 'libcudart.so.11.0'; dlerror: libcudart.so.11.0: cannot open shared object file: No such file or directory\n",
      "2024-03-05 00:04:16.042010: I tensorflow/stream_executor/cuda/cudart_stub.cc:29] Ignore above cudart dlerror if you do not have a GPU set up on your machine.\n",
      "[nltk_data] Downloading package stopwords to /home/valmir/nltk_data...\n",
      "[nltk_data]   Package stopwords is already up-to-date!\n"
     ]
    }
   ],
   "source": [
    "from src.bertopic.data_helper import DataHelper\n",
    "from src.bertopic.neural_model import NeuralModel\n",
    "from src.bertopic.word_cloud_helper import WordCloudHelper"
   ]
  },
  {
   "cell_type": "code",
   "execution_count": 3,
   "metadata": {},
   "outputs": [],
   "source": [
    "embedding_name = 'flair_pt'"
   ]
  },
  {
   "cell_type": "code",
   "execution_count": 9,
   "metadata": {},
   "outputs": [],
   "source": [
    "wh = WordCloudHelper(embedding_name)\n",
    "# wh.generate_word_cloud(0)\n",
    "# wh.generate_word_cloud(1)\n",
    "# wh.generate_word_cloud(2)\n",
    "# wh.generate_word_cloud(3)\n",
    "# wh.generate_word_cloud(4)\n",
    "# wh.generate_word_cloud(5)\n",
    "# wh.generate_word_cloud(6)\n"
   ]
  },
  {
   "cell_type": "code",
   "execution_count": 10,
   "metadata": {},
   "outputs": [
    {
     "name": "stdout",
     "output_type": "stream",
     "text": [
      "The total of sentences is: 26754\n",
      "The total of topics is: 314\n",
      "outliers, has 1 topics, and 12674 sentences\n",
      "request_inform, has 12 topics, and 2674 sentences\n",
      "others, has 142 topics, and 5229 sentences\n",
      "inform_medicine, has 15 topics, and 695 sentences\n",
      "inform_symptoms, has 114 topics, and 4178 sentences\n",
      "greeting, has 30 topics, and 1304 sentences\n"
     ]
    }
   ],
   "source": [
    "wh.describe_intents()"
   ]
  },
  {
   "cell_type": "code",
   "execution_count": 11,
   "metadata": {},
   "outputs": [
    {
     "data": {
      "text/plain": [
       "314"
      ]
     },
     "execution_count": 11,
     "metadata": {},
     "output_type": "execute_result"
    }
   ],
   "source": [
    "len(wh.doc_info['label'].unique())"
   ]
  },
  {
   "cell_type": "code",
   "execution_count": 12,
   "metadata": {},
   "outputs": [],
   "source": [
    "wh.anottate_intents()"
   ]
  },
  {
   "cell_type": "code",
   "execution_count": 13,
   "metadata": {},
   "outputs": [
    {
     "name": "stdout",
     "output_type": "stream",
     "text": [
      "intents: ['others' 'inform_symptoms' 'outliers' 'greeting' 'request_inform'\n",
      " 'inform_medicine']\n",
      "last indnex: 312\n"
     ]
    }
   ],
   "source": [
    "wh.check_intents()"
   ]
  },
  {
   "cell_type": "code",
   "execution_count": 14,
   "metadata": {},
   "outputs": [
    {
     "data": {
      "text/html": [
       "<div>\n",
       "<style scoped>\n",
       "    .dataframe tbody tr th:only-of-type {\n",
       "        vertical-align: middle;\n",
       "    }\n",
       "\n",
       "    .dataframe tbody tr th {\n",
       "        vertical-align: top;\n",
       "    }\n",
       "\n",
       "    .dataframe thead th {\n",
       "        text-align: right;\n",
       "    }\n",
       "</style>\n",
       "<table border=\"1\" class=\"dataframe\">\n",
       "  <thead>\n",
       "    <tr style=\"text-align: right;\">\n",
       "      <th></th>\n",
       "      <th>Unnamed: 0.2</th>\n",
       "      <th>Unnamed: 0.1</th>\n",
       "      <th>Unnamed: 0</th>\n",
       "      <th>Topic</th>\n",
       "      <th>Probability</th>\n",
       "      <th>label</th>\n",
       "    </tr>\n",
       "  </thead>\n",
       "  <tbody>\n",
       "    <tr>\n",
       "      <th>count</th>\n",
       "      <td>5532.000000</td>\n",
       "      <td>5532.000000</td>\n",
       "      <td>5532.000000</td>\n",
       "      <td>5532.000000</td>\n",
       "      <td>5532.000000</td>\n",
       "      <td>5532.000000</td>\n",
       "    </tr>\n",
       "    <tr>\n",
       "      <th>mean</th>\n",
       "      <td>13507.110629</td>\n",
       "      <td>13507.110629</td>\n",
       "      <td>13507.110629</td>\n",
       "      <td>63.123644</td>\n",
       "      <td>0.950512</td>\n",
       "      <td>63.123644</td>\n",
       "    </tr>\n",
       "    <tr>\n",
       "      <th>std</th>\n",
       "      <td>7700.749340</td>\n",
       "      <td>7700.749340</td>\n",
       "      <td>7700.749340</td>\n",
       "      <td>83.417576</td>\n",
       "      <td>0.128148</td>\n",
       "      <td>83.417576</td>\n",
       "    </tr>\n",
       "    <tr>\n",
       "      <th>min</th>\n",
       "      <td>9.000000</td>\n",
       "      <td>9.000000</td>\n",
       "      <td>9.000000</td>\n",
       "      <td>0.000000</td>\n",
       "      <td>0.122789</td>\n",
       "      <td>0.000000</td>\n",
       "    </tr>\n",
       "    <tr>\n",
       "      <th>25%</th>\n",
       "      <td>6775.750000</td>\n",
       "      <td>6775.750000</td>\n",
       "      <td>6775.750000</td>\n",
       "      <td>0.000000</td>\n",
       "      <td>1.000000</td>\n",
       "      <td>0.000000</td>\n",
       "    </tr>\n",
       "    <tr>\n",
       "      <th>50%</th>\n",
       "      <td>13530.000000</td>\n",
       "      <td>13530.000000</td>\n",
       "      <td>13530.000000</td>\n",
       "      <td>23.000000</td>\n",
       "      <td>1.000000</td>\n",
       "      <td>23.000000</td>\n",
       "    </tr>\n",
       "    <tr>\n",
       "      <th>75%</th>\n",
       "      <td>20183.250000</td>\n",
       "      <td>20183.250000</td>\n",
       "      <td>20183.250000</td>\n",
       "      <td>97.000000</td>\n",
       "      <td>1.000000</td>\n",
       "      <td>97.000000</td>\n",
       "    </tr>\n",
       "    <tr>\n",
       "      <th>max</th>\n",
       "      <td>26750.000000</td>\n",
       "      <td>26750.000000</td>\n",
       "      <td>26750.000000</td>\n",
       "      <td>309.000000</td>\n",
       "      <td>1.000000</td>\n",
       "      <td>309.000000</td>\n",
       "    </tr>\n",
       "  </tbody>\n",
       "</table>\n",
       "</div>"
      ],
      "text/plain": [
       "       Unnamed: 0.2  Unnamed: 0.1    Unnamed: 0        Topic  Probability  \\\n",
       "count   5532.000000   5532.000000   5532.000000  5532.000000  5532.000000   \n",
       "mean   13507.110629  13507.110629  13507.110629    63.123644     0.950512   \n",
       "std     7700.749340   7700.749340   7700.749340    83.417576     0.128148   \n",
       "min        9.000000      9.000000      9.000000     0.000000     0.122789   \n",
       "25%     6775.750000   6775.750000   6775.750000     0.000000     1.000000   \n",
       "50%    13530.000000  13530.000000  13530.000000    23.000000     1.000000   \n",
       "75%    20183.250000  20183.250000  20183.250000    97.000000     1.000000   \n",
       "max    26750.000000  26750.000000  26750.000000   309.000000     1.000000   \n",
       "\n",
       "             label  \n",
       "count  5532.000000  \n",
       "mean     63.123644  \n",
       "std      83.417576  \n",
       "min       0.000000  \n",
       "25%       0.000000  \n",
       "50%      23.000000  \n",
       "75%      97.000000  \n",
       "max     309.000000  "
      ]
     },
     "execution_count": 14,
     "metadata": {},
     "output_type": "execute_result"
    }
   ],
   "source": [
    "dh = DataHelper(embedding_name=embedding_name)\n",
    "\n",
    "dh.save_variation(variation='without_outliers', measure='lower_bound')\n",
    "dh.save_variation(variation='without_sentences_higher_than_median', measure='med')[1].describe()"
   ]
  },
  {
   "cell_type": "code",
   "execution_count": 4,
   "metadata": {},
   "outputs": [],
   "source": [
    "neural_model = NeuralModel(embedding_name)"
   ]
  },
  {
   "cell_type": "code",
   "execution_count": 8,
   "metadata": {},
   "outputs": [
    {
     "name": "stdout",
     "output_type": "stream",
     "text": [
      "Applying seed\n",
      "Split data for variation: without_sentences_higher_than_median/\n",
      "nan values: Series([], Name: txt, dtype: object)\n",
      "The total of sentences is: 5532\n",
      "The total of sentences after remove validation is: 5394\n",
      "Build Model...\n",
      "training model\n",
      "Save Model...\n",
      "get metrics\n",
      "{\n",
      "    \"accuracy\": 0.9740580605311921,\n",
      "    \"simples_accuracy\": 0.9740580605311921,\n",
      "    \"matthews_corrcoef\": 0.9605719470121452,\n",
      "    \"weighted\": {\n",
      "        \"precision\": 0.9739261015204002,\n",
      "        \"recall\": 0.9740580605311921,\n",
      "        \"f1\": 0.9733678925097566\n",
      "    },\n",
      "    \"macro\": {\n",
      "        \"precision\": 0.9642104999440148,\n",
      "        \"recall\": 0.9341977714379138,\n",
      "        \"f1\": 0.947247194222756\n",
      "    },\n",
      "    \"micro\": {\n",
      "        \"precision\": 0.9740580605311921,\n",
      "        \"recall\": 0.9740580605311921,\n",
      "        \"f1\": 0.9740580605311921\n",
      "    }\n",
      "}\n"
     ]
    }
   ],
   "source": [
    "neural_model.run_pipeline()"
   ]
  },
  {
   "cell_type": "code",
   "execution_count": 6,
   "metadata": {},
   "outputs": [
    {
     "name": "stdout",
     "output_type": "stream",
     "text": [
      "Loading validation data....\n",
      "nan values: Series([], Name: txt, dtype: object)\n",
      "The embedding: flair_pt has a dimensionality of: 4096\n",
      "Loading model....\n",
      "Running pridictions....\n"
     ]
    },
    {
     "data": {
      "text/plain": [
       "{'accuracy': 0.9696969696969697,\n",
       " 'simples_accuracy': 0.9696969696969697,\n",
       " 'matthews_corrcoef': 0.946333348865676,\n",
       " 'weighted': {'precision': 0.9711248611772172,\n",
       "  'recall': 0.9696969696969697,\n",
       "  'f1': 0.9686989194898041},\n",
       " 'macro': {'precision': 0.9882198952879582,\n",
       "  'recall': 0.9115448504983388,\n",
       "  'f1': 0.9452178284182304},\n",
       " 'micro': {'precision': 0.9696969696969697,\n",
       "  'recall': 0.9696969696969697,\n",
       "  'f1': 0.9696969696969697}}"
      ]
     },
     "execution_count": 6,
     "metadata": {},
     "output_type": "execute_result"
    }
   ],
   "source": [
    "neural_model.run_validation_pipeline()"
   ]
  }
 ],
 "metadata": {
  "interpreter": {
   "hash": "da386d383b1a4f2ab977ab0cc371ee70ac9bd2160da3f0bf5cca7f94d497a6a3"
  },
  "kernelspec": {
   "display_name": "Python 3.9.7 ('venv': venv)",
   "language": "python",
   "name": "python3"
  },
  "language_info": {
   "codemirror_mode": {
    "name": "ipython",
    "version": 3
   },
   "file_extension": ".py",
   "mimetype": "text/x-python",
   "name": "python",
   "nbconvert_exporter": "python",
   "pygments_lexer": "ipython3",
   "version": "3.10.12"
  },
  "orig_nbformat": 4
 },
 "nbformat": 4,
 "nbformat_minor": 2
}

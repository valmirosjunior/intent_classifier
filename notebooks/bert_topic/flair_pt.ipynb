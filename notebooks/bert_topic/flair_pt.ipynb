{
 "cells": [
  {
   "cell_type": "code",
   "execution_count": 1,
   "metadata": {
    "pycharm": {
     "name": "#%%\n"
    }
   },
   "outputs": [],
   "source": [
    "%load_ext autoreload\n",
    "\n",
    "%autoreload 2"
   ]
  },
  {
   "cell_type": "code",
   "execution_count": null,
   "metadata": {},
   "outputs": [],
   "source": [
    "from src.bertopic.data_helper import DataHelper\n",
    "from src.bertopic.neural_model import NeuralModel\n",
    "from src.bertopic.word_cloud_helper import WordCloudHelper"
   ]
  },
  {
   "cell_type": "code",
   "execution_count": 2,
   "metadata": {},
   "outputs": [],
   "source": [
    "embedding_name = 'flair_pt'"
   ]
  },
  {
   "cell_type": "code",
   "execution_count": 3,
   "metadata": {},
   "outputs": [
    {
     "name": "stderr",
     "output_type": "stream",
     "text": [
      "[nltk_data] Downloading package stopwords to /home/valmir/nltk_data...\n",
      "[nltk_data]   Package stopwords is already up-to-date!\n"
     ]
    }
   ],
   "source": [
    "wh = WordCloudHelper(embedding_name)\n",
    "# wh.generate_word_cloud(0)\n",
    "# wh.generate_word_cloud(1)\n",
    "# wh.generate_word_cloud(2)\n",
    "# wh.generate_word_cloud(3)\n",
    "# wh.generate_word_cloud(4)\n",
    "# wh.generate_word_cloud(5)\n",
    "# wh.generate_word_cloud(6)\n"
   ]
  },
  {
   "cell_type": "code",
   "execution_count": 4,
   "metadata": {},
   "outputs": [
    {
     "data": {
      "text/plain": [
       "314"
      ]
     },
     "execution_count": 4,
     "metadata": {},
     "output_type": "execute_result"
    }
   ],
   "source": [
    "len(wh.doc_info['label'].unique())"
   ]
  },
  {
   "cell_type": "code",
   "execution_count": 5,
   "metadata": {},
   "outputs": [],
   "source": [
    "wh.anottate_intents()"
   ]
  },
  {
   "cell_type": "code",
   "execution_count": 6,
   "metadata": {},
   "outputs": [
    {
     "name": "stdout",
     "output_type": "stream",
     "text": [
      "intents: ['others' 'inform_symptoms' 'outliers' 'greeting' 'request_inform'\n",
      " 'inform_medicine']\n",
      "last indnex: 312\n"
     ]
    }
   ],
   "source": [
    "wh.check_intents()"
   ]
  },
  {
   "cell_type": "code",
   "execution_count": 7,
   "metadata": {},
   "outputs": [
    {
     "name": "stdout",
     "output_type": "stream",
     "text": [
      "         Unnamed: 0         Topic   Probability         label\n",
      "count  13354.000000  13354.000000  13354.000000  13354.000000\n",
      "mean   13309.831212     77.820129      0.806548     77.820129\n",
      "std     7766.336829     80.221303      0.261819     80.221303\n",
      "min        0.000000      0.000000      0.008032      0.000000\n",
      "25%     6584.250000     11.000000      0.639270     11.000000\n",
      "50%    13246.000000     51.000000      0.970746     51.000000\n",
      "75%    20018.750000    123.000000      1.000000    123.000000\n",
      "max    26752.000000    312.000000      1.000000    312.000000\n"
     ]
    },
    {
     "data": {
      "text/html": [
       "<div>\n",
       "<style scoped>\n",
       "    .dataframe tbody tr th:only-of-type {\n",
       "        vertical-align: middle;\n",
       "    }\n",
       "\n",
       "    .dataframe tbody tr th {\n",
       "        vertical-align: top;\n",
       "    }\n",
       "\n",
       "    .dataframe thead th {\n",
       "        text-align: right;\n",
       "    }\n",
       "</style>\n",
       "<table border=\"1\" class=\"dataframe\">\n",
       "  <thead>\n",
       "    <tr style=\"text-align: right;\">\n",
       "      <th></th>\n",
       "      <th>Unnamed: 0</th>\n",
       "      <th>Topic</th>\n",
       "      <th>Probability</th>\n",
       "      <th>label</th>\n",
       "    </tr>\n",
       "  </thead>\n",
       "  <tbody>\n",
       "    <tr>\n",
       "      <th>count</th>\n",
       "      <td>8479.000000</td>\n",
       "      <td>8479.000000</td>\n",
       "      <td>8479.000000</td>\n",
       "      <td>8479.000000</td>\n",
       "    </tr>\n",
       "    <tr>\n",
       "      <th>mean</th>\n",
       "      <td>13459.757401</td>\n",
       "      <td>76.115226</td>\n",
       "      <td>0.945391</td>\n",
       "      <td>76.115226</td>\n",
       "    </tr>\n",
       "    <tr>\n",
       "      <th>std</th>\n",
       "      <td>7730.224724</td>\n",
       "      <td>88.239351</td>\n",
       "      <td>0.130376</td>\n",
       "      <td>88.239351</td>\n",
       "    </tr>\n",
       "    <tr>\n",
       "      <th>min</th>\n",
       "      <td>0.000000</td>\n",
       "      <td>0.000000</td>\n",
       "      <td>0.122789</td>\n",
       "      <td>0.000000</td>\n",
       "    </tr>\n",
       "    <tr>\n",
       "      <th>25%</th>\n",
       "      <td>6728.000000</td>\n",
       "      <td>2.000000</td>\n",
       "      <td>0.989266</td>\n",
       "      <td>2.000000</td>\n",
       "    </tr>\n",
       "    <tr>\n",
       "      <th>50%</th>\n",
       "      <td>13508.000000</td>\n",
       "      <td>39.000000</td>\n",
       "      <td>1.000000</td>\n",
       "      <td>39.000000</td>\n",
       "    </tr>\n",
       "    <tr>\n",
       "      <th>75%</th>\n",
       "      <td>20104.000000</td>\n",
       "      <td>123.000000</td>\n",
       "      <td>1.000000</td>\n",
       "      <td>123.000000</td>\n",
       "    </tr>\n",
       "    <tr>\n",
       "      <th>max</th>\n",
       "      <td>26751.000000</td>\n",
       "      <td>312.000000</td>\n",
       "      <td>1.000000</td>\n",
       "      <td>312.000000</td>\n",
       "    </tr>\n",
       "  </tbody>\n",
       "</table>\n",
       "</div>"
      ],
      "text/plain": [
       "         Unnamed: 0        Topic  Probability        label\n",
       "count   8479.000000  8479.000000  8479.000000  8479.000000\n",
       "mean   13459.757401    76.115226     0.945391    76.115226\n",
       "std     7730.224724    88.239351     0.130376    88.239351\n",
       "min        0.000000     0.000000     0.122789     0.000000\n",
       "25%     6728.000000     2.000000     0.989266     2.000000\n",
       "50%    13508.000000    39.000000     1.000000    39.000000\n",
       "75%    20104.000000   123.000000     1.000000   123.000000\n",
       "max    26751.000000   312.000000     1.000000   312.000000"
      ]
     },
     "execution_count": 7,
     "metadata": {},
     "output_type": "execute_result"
    }
   ],
   "source": [
    "dh = DataHelper(embedding_name=embedding_name)\n",
    "\n",
    "print(dh.save_variation(variation='without_outliers', measure='lower_bound').describe())\n",
    "dh.save_variation(variation='without_sentences_higher_than_median', measure='med').describe()"
   ]
  },
  {
   "cell_type": "code",
   "execution_count": 10,
   "metadata": {},
   "outputs": [
    {
     "name": "stdout",
     "output_type": "stream",
     "text": [
      "Applying seed\n",
      "Split data for variation: \n",
      "Build Model...\n",
      "training model\n",
      "Save Model...\n",
      "get metrics\n",
      "{\n",
      "    \"accuracy\": 0.9725150602409639,\n",
      "    \"simples_accuracy\": 0.9725150602409639,\n",
      "    \"matthews_corrcoef\": 0.9584362120176808,\n",
      "    \"weighted\": {\n",
      "        \"precision\": 0.9723224299269746,\n",
      "        \"recall\": 0.9725150602409639,\n",
      "        \"f1\": 0.9721512350357636\n",
      "    },\n",
      "    \"macro\": {\n",
      "        \"precision\": 0.9618956491162876,\n",
      "        \"recall\": 0.9478522191643622,\n",
      "        \"f1\": 0.9541284373134078\n",
      "    },\n",
      "    \"micro\": {\n",
      "        \"precision\": 0.9725150602409639,\n",
      "        \"recall\": 0.9725150602409639,\n",
      "        \"f1\": 0.9725150602409639\n",
      "    }\n",
      "}\n",
      "Split data for variation: without_outliers/\n",
      "Build Model...\n",
      "training model\n",
      "Save Model...\n",
      "get metrics\n",
      "{\n",
      "    \"accuracy\": 0.9691506410256411,\n",
      "    \"simples_accuracy\": 0.9691506410256411,\n",
      "    \"matthews_corrcoef\": 0.9521084330313766,\n",
      "    \"weighted\": {\n",
      "        \"precision\": 0.9690437286240832,\n",
      "        \"recall\": 0.9691506410256411,\n",
      "        \"f1\": 0.9685874722924666\n",
      "    },\n",
      "    \"macro\": {\n",
      "        \"precision\": 0.9609307055262947,\n",
      "        \"recall\": 0.937796337346093,\n",
      "        \"f1\": 0.9478062780778224\n",
      "    },\n",
      "    \"micro\": {\n",
      "        \"precision\": 0.9691506410256411,\n",
      "        \"recall\": 0.9691506410256411,\n",
      "        \"f1\": 0.9691506410256411\n",
      "    }\n",
      "}\n",
      "Split data for variation: without_sentences_higher_than_median/\n",
      "Build Model...\n",
      "training model\n",
      "Save Model...\n",
      "get metrics\n",
      "{\n",
      "    \"accuracy\": 0.9813253012048193,\n",
      "    \"simples_accuracy\": 0.9813253012048193,\n",
      "    \"matthews_corrcoef\": 0.9716581462372621,\n",
      "    \"weighted\": {\n",
      "        \"precision\": 0.9812722530822514,\n",
      "        \"recall\": 0.9813253012048193,\n",
      "        \"f1\": 0.9809318342674563\n",
      "    },\n",
      "    \"macro\": {\n",
      "        \"precision\": 0.9708297337340266,\n",
      "        \"recall\": 0.9487903405776443,\n",
      "        \"f1\": 0.958448744579008\n",
      "    },\n",
      "    \"micro\": {\n",
      "        \"precision\": 0.9813253012048193,\n",
      "        \"recall\": 0.9813253012048193,\n",
      "        \"f1\": 0.9813253012048193\n",
      "    }\n",
      "}\n"
     ]
    }
   ],
   "source": [
    "NeuralModel(embedding_name).run_pipeline()"
   ]
  }
 ],
 "metadata": {
  "interpreter": {
   "hash": "da386d383b1a4f2ab977ab0cc371ee70ac9bd2160da3f0bf5cca7f94d497a6a3"
  },
  "kernelspec": {
   "display_name": "Python 3.9.7 ('venv': venv)",
   "language": "python",
   "name": "python3"
  },
  "language_info": {
   "codemirror_mode": {
    "name": "ipython",
    "version": 3
   },
   "file_extension": ".py",
   "mimetype": "text/x-python",
   "name": "python",
   "nbconvert_exporter": "python",
   "pygments_lexer": "ipython3",
   "version": "3.10.12"
  },
  "orig_nbformat": 4
 },
 "nbformat": 4,
 "nbformat_minor": 2
}

{
 "cells": [
  {
   "cell_type": "code",
   "execution_count": 3,
   "metadata": {
    "pycharm": {
     "name": "#%%\n"
    }
   },
   "outputs": [
    {
     "name": "stdout",
     "output_type": "stream",
     "text": [
      "The autoreload extension is already loaded. To reload it, use:\n",
      "  %reload_ext autoreload\n"
     ]
    }
   ],
   "source": [
    "%load_ext autoreload\n",
    "\n",
    "%autoreload 2"
   ]
  },
  {
   "cell_type": "code",
   "execution_count": 4,
   "metadata": {},
   "outputs": [
    {
     "name": "stderr",
     "output_type": "stream",
     "text": [
      "2024-03-04 23:10:49.426187: W tensorflow/stream_executor/platform/default/dso_loader.cc:64] Could not load dynamic library 'libcudart.so.11.0'; dlerror: libcudart.so.11.0: cannot open shared object file: No such file or directory\n",
      "2024-03-04 23:10:49.426201: I tensorflow/stream_executor/cuda/cudart_stub.cc:29] Ignore above cudart dlerror if you do not have a GPU set up on your machine.\n",
      "[nltk_data] Downloading package stopwords to /home/valmir/nltk_data...\n",
      "[nltk_data]   Package stopwords is already up-to-date!\n"
     ]
    }
   ],
   "source": [
    "import pandas as pd\n",
    "\n",
    "from src.bertopic.data_helper import DataHelper\n",
    "from src.bertopic.neural_model import NeuralModel\n",
    "from src.bertopic.word_cloud_helper import WordCloudHelper\n",
    "from src.core import file_manager as fm"
   ]
  },
  {
   "cell_type": "code",
   "execution_count": 5,
   "metadata": {},
   "outputs": [],
   "source": [
    "embedding_name = 'bert_pt'"
   ]
  },
  {
   "cell_type": "code",
   "execution_count": 32,
   "metadata": {},
   "outputs": [],
   "source": [
    "wh = WordCloudHelper(embedding_name)\n",
    "# wh.generate_word_cloud(0)\n",
    "# wh.generate_word_cloud(1)\n",
    "# wh.generate_word_cloud(2)\n",
    "# wh.generate_word_cloud(3)\n",
    "# wh.generate_word_cloud(4)\n",
    "# wh.generate_word_cloud(5)\n",
    "# wh.generate_word_cloud(6)\n"
   ]
  },
  {
   "cell_type": "code",
   "execution_count": 33,
   "metadata": {},
   "outputs": [
    {
     "name": "stdout",
     "output_type": "stream",
     "text": [
      "The total of sentences is: 26754\n",
      "The total of topics is: 318\n",
      "outliers, has 1 topics, and 12924 sentences\n",
      "inform_medicine, has 20 topics, and 1467 sentences\n",
      "inform_symptoms, has 113 topics, and 5140 sentences\n",
      "others, has 116 topics, and 4101 sentences\n",
      "greeting, has 33 topics, and 1573 sentences\n",
      "request_inform, has 35 topics, and 1549 sentences\n"
     ]
    }
   ],
   "source": [
    "wh.describe_intents()"
   ]
  },
  {
   "cell_type": "code",
   "execution_count": null,
   "metadata": {},
   "outputs": [],
   "source": [
    "len(wh.doc_info['label'].unique())"
   ]
  },
  {
   "cell_type": "code",
   "execution_count": 34,
   "metadata": {},
   "outputs": [
    {
     "name": "stdout",
     "output_type": "stream",
     "text": [
      "intents: ['inform_symptoms' 'outliers' 'others' 'greeting' 'inform_medicine'\n",
      " 'request_inform']\n",
      "last indnex: 316\n"
     ]
    }
   ],
   "source": [
    "wh.check_intents()"
   ]
  },
  {
   "cell_type": "code",
   "execution_count": 59,
   "metadata": {},
   "outputs": [],
   "source": [
    "dh = DataHelper(embedding_name=embedding_name)"
   ]
  },
  {
   "cell_type": "code",
   "execution_count": 60,
   "metadata": {},
   "outputs": [
    {
     "data": {
      "text/html": [
       "<div>\n",
       "<style scoped>\n",
       "    .dataframe tbody tr th:only-of-type {\n",
       "        vertical-align: middle;\n",
       "    }\n",
       "\n",
       "    .dataframe tbody tr th {\n",
       "        vertical-align: top;\n",
       "    }\n",
       "\n",
       "    .dataframe thead th {\n",
       "        text-align: right;\n",
       "    }\n",
       "</style>\n",
       "<table border=\"1\" class=\"dataframe\">\n",
       "  <thead>\n",
       "    <tr style=\"text-align: right;\">\n",
       "      <th></th>\n",
       "      <th>Unnamed: 0</th>\n",
       "      <th>Topic</th>\n",
       "      <th>Probability</th>\n",
       "      <th>label</th>\n",
       "    </tr>\n",
       "  </thead>\n",
       "  <tbody>\n",
       "    <tr>\n",
       "      <th>count</th>\n",
       "      <td>5417.000000</td>\n",
       "      <td>5417.000000</td>\n",
       "      <td>5417.000000</td>\n",
       "      <td>5417.000000</td>\n",
       "    </tr>\n",
       "    <tr>\n",
       "      <th>mean</th>\n",
       "      <td>13260.663651</td>\n",
       "      <td>78.162082</td>\n",
       "      <td>0.937336</td>\n",
       "      <td>78.162082</td>\n",
       "    </tr>\n",
       "    <tr>\n",
       "      <th>std</th>\n",
       "      <td>7793.524147</td>\n",
       "      <td>85.020618</td>\n",
       "      <td>0.124381</td>\n",
       "      <td>85.020618</td>\n",
       "    </tr>\n",
       "    <tr>\n",
       "      <th>min</th>\n",
       "      <td>8.000000</td>\n",
       "      <td>0.000000</td>\n",
       "      <td>0.283024</td>\n",
       "      <td>0.000000</td>\n",
       "    </tr>\n",
       "    <tr>\n",
       "      <th>25%</th>\n",
       "      <td>6486.000000</td>\n",
       "      <td>12.000000</td>\n",
       "      <td>0.945091</td>\n",
       "      <td>12.000000</td>\n",
       "    </tr>\n",
       "    <tr>\n",
       "      <th>50%</th>\n",
       "      <td>13072.000000</td>\n",
       "      <td>41.000000</td>\n",
       "      <td>1.000000</td>\n",
       "      <td>41.000000</td>\n",
       "    </tr>\n",
       "    <tr>\n",
       "      <th>75%</th>\n",
       "      <td>20084.000000</td>\n",
       "      <td>118.000000</td>\n",
       "      <td>1.000000</td>\n",
       "      <td>118.000000</td>\n",
       "    </tr>\n",
       "    <tr>\n",
       "      <th>max</th>\n",
       "      <td>26749.000000</td>\n",
       "      <td>316.000000</td>\n",
       "      <td>1.000000</td>\n",
       "      <td>316.000000</td>\n",
       "    </tr>\n",
       "  </tbody>\n",
       "</table>\n",
       "</div>"
      ],
      "text/plain": [
       "         Unnamed: 0        Topic  Probability        label\n",
       "count   5417.000000  5417.000000  5417.000000  5417.000000\n",
       "mean   13260.663651    78.162082     0.937336    78.162082\n",
       "std     7793.524147    85.020618     0.124381    85.020618\n",
       "min        8.000000     0.000000     0.283024     0.000000\n",
       "25%     6486.000000    12.000000     0.945091    12.000000\n",
       "50%    13072.000000    41.000000     1.000000    41.000000\n",
       "75%    20084.000000   118.000000     1.000000   118.000000\n",
       "max    26749.000000   316.000000     1.000000   316.000000"
      ]
     },
     "execution_count": 60,
     "metadata": {},
     "output_type": "execute_result"
    }
   ],
   "source": [
    "dh.save_variation(variation='without_outliers', measure='lower_bound')\n",
    "dh.save_variation(variation='without_sentences_higher_than_median', measure='med')[1].describe()"
   ]
  },
  {
   "cell_type": "code",
   "execution_count": 17,
   "metadata": {},
   "outputs": [],
   "source": [
    "neural_model = NeuralModel(embedding_name)"
   ]
  },
  {
   "cell_type": "code",
   "execution_count": 10,
   "metadata": {},
   "outputs": [
    {
     "name": "stdout",
     "output_type": "stream",
     "text": [
      "Applying seed\n",
      "Split data for variation: without_sentences_higher_than_median/\n",
      "nan values: Series([], Name: txt, dtype: object)\n",
      "The total of sentences is: 5417\n",
      "The total of sentences after remove validation is: 5288\n",
      "Build Model...\n",
      "training model\n",
      "Save Model...\n",
      "get metrics\n",
      "{\n",
      "    \"accuracy\": 0.947069943289225,\n",
      "    \"simples_accuracy\": 0.947069943289225,\n",
      "    \"matthews_corrcoef\": 0.9186414167123246,\n",
      "    \"weighted\": {\n",
      "        \"precision\": 0.9472039629011918,\n",
      "        \"recall\": 0.947069943289225,\n",
      "        \"f1\": 0.9471045141765071\n",
      "    },\n",
      "    \"macro\": {\n",
      "        \"precision\": 0.9369381418147685,\n",
      "        \"recall\": 0.9400623131058532,\n",
      "        \"f1\": 0.9384541326630119\n",
      "    },\n",
      "    \"micro\": {\n",
      "        \"precision\": 0.947069943289225,\n",
      "        \"recall\": 0.947069943289225,\n",
      "        \"f1\": 0.947069943289225\n",
      "    }\n",
      "}\n"
     ]
    }
   ],
   "source": [
    "neural_model.run_pipeline()"
   ]
  },
  {
   "cell_type": "code",
   "execution_count": 32,
   "metadata": {},
   "outputs": [
    {
     "name": "stdout",
     "output_type": "stream",
     "text": [
      "Loading validation data....\n",
      "nan values: Series([], Name: txt, dtype: object)\n",
      "The embedding: bert_pt has a dimensionality of: 768\n",
      "Loading model....\n",
      "Running pridictions....\n"
     ]
    },
    {
     "data": {
      "text/plain": [
       "{'accuracy': 0.9595959595959596,\n",
       " 'simples_accuracy': 0.9595959595959596,\n",
       " 'matthews_corrcoef': 0.9292839551036831,\n",
       " 'weighted': {'precision': 0.9648991539829747,\n",
       "  'recall': 0.9595959595959596,\n",
       "  'f1': 0.9578176856621681},\n",
       " 'macro': {'precision': 0.9249512670565302,\n",
       "  'recall': 0.9302325581395349,\n",
       "  'f1': 0.9168636904485961},\n",
       " 'micro': {'precision': 0.9595959595959596,\n",
       "  'recall': 0.9595959595959596,\n",
       "  'f1': 0.9595959595959596}}"
      ]
     },
     "execution_count": 32,
     "metadata": {},
     "output_type": "execute_result"
    }
   ],
   "source": [
    "neural_model.run_validation_pipeline()"
   ]
  },
  {
   "cell_type": "markdown",
   "metadata": {},
   "source": []
  }
 ],
 "metadata": {
  "interpreter": {
   "hash": "da386d383b1a4f2ab977ab0cc371ee70ac9bd2160da3f0bf5cca7f94d497a6a3"
  },
  "kernelspec": {
   "display_name": "Python 3.9.7 ('venv': venv)",
   "language": "python",
   "name": "python3"
  },
  "language_info": {
   "codemirror_mode": {
    "name": "ipython",
    "version": 3
   },
   "file_extension": ".py",
   "mimetype": "text/x-python",
   "name": "python",
   "nbconvert_exporter": "python",
   "pygments_lexer": "ipython3",
   "version": "3.10.12"
  },
  "orig_nbformat": 4
 },
 "nbformat": 4,
 "nbformat_minor": 2
}

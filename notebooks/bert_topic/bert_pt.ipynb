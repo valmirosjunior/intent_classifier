{
 "cells": [
  {
   "cell_type": "code",
   "execution_count": 1,
   "metadata": {
    "pycharm": {
     "name": "#%%\n"
    }
   },
   "outputs": [],
   "source": [
    "%load_ext autoreload\n",
    "\n",
    "%autoreload 2"
   ]
  },
  {
   "cell_type": "code",
   "execution_count": null,
   "metadata": {},
   "outputs": [],
   "source": [
    "from src.bertopic.data_helper import DataHelper\n",
    "from src.bertopic.neural_model import NeuralModel\n",
    "from src.bertopic.word_cloud_helper import WordCloudHelper"
   ]
  },
  {
   "cell_type": "code",
   "execution_count": null,
   "metadata": {},
   "outputs": [],
   "source": [
    "embedding_name = 'flair_pt'"
   ]
  },
  {
   "cell_type": "code",
   "execution_count": 4,
   "metadata": {},
   "outputs": [],
   "source": [
    "wh = WordCloudHelper(embedding_name)\n",
    "# wh.generate_word_cloud(0)\n",
    "# wh.generate_word_cloud(1)\n",
    "# wh.generate_word_cloud(2)\n",
    "# wh.generate_word_cloud(3)\n",
    "# wh.generate_word_cloud(4)\n",
    "# wh.generate_word_cloud(5)\n",
    "# wh.generate_word_cloud(6)\n"
   ]
  },
  {
   "cell_type": "code",
   "execution_count": null,
   "metadata": {},
   "outputs": [],
   "source": [
    "len(wh.doc_info['label'].unique())"
   ]
  },
  {
   "cell_type": "code",
   "execution_count": null,
   "metadata": {},
   "outputs": [],
   "source": [
    "wh.anottate_intents()"
   ]
  },
  {
   "cell_type": "code",
   "execution_count": 16,
   "metadata": {},
   "outputs": [
    {
     "name": "stdout",
     "output_type": "stream",
     "text": [
      "intents: ['inform_symptoms' 'outliers' 'others' 'greeting' 'inform_medicine'\n",
      " 'request_inform']\n",
      "last indnex: 316\n"
     ]
    }
   ],
   "source": [
    "wh.check_intents()"
   ]
  },
  {
   "cell_type": "code",
   "execution_count": 7,
   "metadata": {},
   "outputs": [
    {
     "name": "stdout",
     "output_type": "stream",
     "text": [
      "         Unnamed: 0         Topic   Probability         label\n",
      "count  13330.000000  13330.000000  13330.000000  13330.000000\n",
      "mean   13317.974944     83.451613      0.804603     83.451613\n",
      "std     7754.069378     80.140671      0.237690     80.140671\n",
      "min        0.000000      0.000000      0.009386      0.000000\n",
      "25%     6636.750000     18.000000      0.644800     18.000000\n",
      "50%    13184.500000     57.000000      0.913776     57.000000\n",
      "75%    20119.750000    130.000000      1.000000    130.000000\n",
      "max    26752.000000    316.000000      1.000000    316.000000\n"
     ]
    },
    {
     "data": {
      "text/html": [
       "<div>\n",
       "<style scoped>\n",
       "    .dataframe tbody tr th:only-of-type {\n",
       "        vertical-align: middle;\n",
       "    }\n",
       "\n",
       "    .dataframe tbody tr th {\n",
       "        vertical-align: top;\n",
       "    }\n",
       "\n",
       "    .dataframe thead th {\n",
       "        text-align: right;\n",
       "    }\n",
       "</style>\n",
       "<table border=\"1\" class=\"dataframe\">\n",
       "  <thead>\n",
       "    <tr style=\"text-align: right;\">\n",
       "      <th></th>\n",
       "      <th>Unnamed: 0</th>\n",
       "      <th>Topic</th>\n",
       "      <th>Probability</th>\n",
       "      <th>label</th>\n",
       "    </tr>\n",
       "  </thead>\n",
       "  <tbody>\n",
       "    <tr>\n",
       "      <th>count</th>\n",
       "      <td>7797.000000</td>\n",
       "      <td>7797.000000</td>\n",
       "      <td>7797.000000</td>\n",
       "      <td>7797.000000</td>\n",
       "    </tr>\n",
       "    <tr>\n",
       "      <th>mean</th>\n",
       "      <td>13336.180582</td>\n",
       "      <td>88.215724</td>\n",
       "      <td>0.937540</td>\n",
       "      <td>88.215724</td>\n",
       "    </tr>\n",
       "    <tr>\n",
       "      <th>std</th>\n",
       "      <td>7790.905381</td>\n",
       "      <td>88.588961</td>\n",
       "      <td>0.124287</td>\n",
       "      <td>88.588961</td>\n",
       "    </tr>\n",
       "    <tr>\n",
       "      <th>min</th>\n",
       "      <td>2.000000</td>\n",
       "      <td>0.000000</td>\n",
       "      <td>0.283024</td>\n",
       "      <td>0.000000</td>\n",
       "    </tr>\n",
       "    <tr>\n",
       "      <th>25%</th>\n",
       "      <td>6543.000000</td>\n",
       "      <td>16.000000</td>\n",
       "      <td>0.946202</td>\n",
       "      <td>16.000000</td>\n",
       "    </tr>\n",
       "    <tr>\n",
       "      <th>50%</th>\n",
       "      <td>13214.000000</td>\n",
       "      <td>55.000000</td>\n",
       "      <td>1.000000</td>\n",
       "      <td>55.000000</td>\n",
       "    </tr>\n",
       "    <tr>\n",
       "      <th>75%</th>\n",
       "      <td>20155.000000</td>\n",
       "      <td>139.000000</td>\n",
       "      <td>1.000000</td>\n",
       "      <td>139.000000</td>\n",
       "    </tr>\n",
       "    <tr>\n",
       "      <th>max</th>\n",
       "      <td>26749.000000</td>\n",
       "      <td>316.000000</td>\n",
       "      <td>1.000000</td>\n",
       "      <td>316.000000</td>\n",
       "    </tr>\n",
       "  </tbody>\n",
       "</table>\n",
       "</div>"
      ],
      "text/plain": [
       "         Unnamed: 0        Topic  Probability        label\n",
       "count   7797.000000  7797.000000  7797.000000  7797.000000\n",
       "mean   13336.180582    88.215724     0.937540    88.215724\n",
       "std     7790.905381    88.588961     0.124287    88.588961\n",
       "min        2.000000     0.000000     0.283024     0.000000\n",
       "25%     6543.000000    16.000000     0.946202    16.000000\n",
       "50%    13214.000000    55.000000     1.000000    55.000000\n",
       "75%    20155.000000   139.000000     1.000000   139.000000\n",
       "max    26749.000000   316.000000     1.000000   316.000000"
      ]
     },
     "execution_count": 7,
     "metadata": {},
     "output_type": "execute_result"
    }
   ],
   "source": [
    "dh = DataHelper(embedding_name=embedding_name)\n",
    "\n",
    "print(dh.save_variation(variation='without_outliers', measure='lower_bound').describe())\n",
    "dh.save_variation(variation='without_sentences_higher_than_median', measure='med').describe()"
   ]
  },
  {
   "cell_type": "code",
   "execution_count": 37,
   "metadata": {},
   "outputs": [
    {
     "name": "stdout",
     "output_type": "stream",
     "text": [
      "Applying seed\n",
      "Split data for variation: \n",
      "Build Model...\n",
      "training model\n",
      "Save Model...\n",
      "get metrics\n",
      "{\n",
      "    \"accuracy\": 0.9421034600890716,\n",
      "    \"simples_accuracy\": 0.9421034600890716,\n",
      "    \"matthews_corrcoef\": 0.9092835662811363,\n",
      "    \"weighted\": {\n",
      "        \"precision\": 0.9419981166020531,\n",
      "        \"recall\": 0.9421034600890716,\n",
      "        \"f1\": 0.9420303920978587\n",
      "    },\n",
      "    \"macro\": {\n",
      "        \"precision\": 0.9354788509486609,\n",
      "        \"recall\": 0.9332774706014186,\n",
      "        \"f1\": 0.9343489731152773\n",
      "    },\n",
      "    \"micro\": {\n",
      "        \"precision\": 0.9421034600890716,\n",
      "        \"recall\": 0.9421034600890716,\n",
      "        \"f1\": 0.9421034600890716\n",
      "    }\n",
      "}\n",
      "Split data for variation: without_outliers/\n",
      "Build Model...\n",
      "training model\n",
      "Save Model...\n",
      "get metrics\n",
      "{\n",
      "    \"accuracy\": 0.9460992907801419,\n",
      "    \"simples_accuracy\": 0.9460992907801419,\n",
      "    \"matthews_corrcoef\": 0.9157331164996713,\n",
      "    \"weighted\": {\n",
      "        \"precision\": 0.946352294348302,\n",
      "        \"recall\": 0.9460992907801419,\n",
      "        \"f1\": 0.9461604631751335\n",
      "    },\n",
      "    \"macro\": {\n",
      "        \"precision\": 0.9357922286131531,\n",
      "        \"recall\": 0.9389754543927693,\n",
      "        \"f1\": 0.9372879284723237\n",
      "    },\n",
      "    \"micro\": {\n",
      "        \"precision\": 0.9460992907801419,\n",
      "        \"recall\": 0.9460992907801419,\n",
      "        \"f1\": 0.9460992907801419\n",
      "    }\n",
      "}\n",
      "Split data for variation: without_sentences_higher_than_median/\n",
      "Build Model...\n",
      "training model\n",
      "Save Model...\n",
      "get metrics\n",
      "{\n",
      "    \"accuracy\": 0.955719557195572,\n",
      "    \"simples_accuracy\": 0.955719557195572,\n",
      "    \"matthews_corrcoef\": 0.9306885860433247,\n",
      "    \"weighted\": {\n",
      "        \"precision\": 0.9563369926412844,\n",
      "        \"recall\": 0.955719557195572,\n",
      "        \"f1\": 0.9556564327406202\n",
      "    },\n",
      "    \"macro\": {\n",
      "        \"precision\": 0.9534121654089734,\n",
      "        \"recall\": 0.945496856282306,\n",
      "        \"f1\": 0.948872809289476\n",
      "    },\n",
      "    \"micro\": {\n",
      "        \"precision\": 0.955719557195572,\n",
      "        \"recall\": 0.955719557195572,\n",
      "        \"f1\": 0.955719557195572\n",
      "    }\n",
      "}\n"
     ]
    }
   ],
   "source": [
    "NeuralModel(embedding_name).run_pipeline()"
   ]
  }
 ],
 "metadata": {
  "interpreter": {
   "hash": "da386d383b1a4f2ab977ab0cc371ee70ac9bd2160da3f0bf5cca7f94d497a6a3"
  },
  "kernelspec": {
   "display_name": "Python 3.9.7 ('venv': venv)",
   "language": "python",
   "name": "python3"
  },
  "language_info": {
   "codemirror_mode": {
    "name": "ipython",
    "version": 3
   },
   "file_extension": ".py",
   "mimetype": "text/x-python",
   "name": "python",
   "nbconvert_exporter": "python",
   "pygments_lexer": "ipython3",
   "version": "3.10.12"
  },
  "orig_nbformat": 4
 },
 "nbformat": 4,
 "nbformat_minor": 2
}

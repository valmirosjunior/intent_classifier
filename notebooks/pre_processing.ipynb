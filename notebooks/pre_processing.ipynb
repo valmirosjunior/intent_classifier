{
 "cells": [
  {
   "cell_type": "code",
   "execution_count": 2,
   "metadata": {
    "collapsed": false,
    "pycharm": {
     "name": "#%%\n"
    }
   },
   "outputs": [],
   "source": [
    "import pandas as pd\n",
    "from src.core import file_manager as fm\n",
    "from src.pre_processing import pipeline_helper as ph"
   ]
  },
  {
   "cell_type": "code",
   "execution_count": 3,
   "metadata": {
    "collapsed": false,
    "pycharm": {
     "name": "#%%\n"
    }
   },
   "outputs": [],
   "source": [
    "pd.options.display.max_rows = 100000\n",
    "pd.set_option('display.max_colwidth', None)"
   ]
  },
  {
   "cell_type": "code",
   "execution_count": 9,
   "metadata": {
    "pycharm": {
     "name": "#%%\n"
    }
   },
   "outputs": [
    {
     "name": "stdout",
     "output_type": "stream",
     "text": [
      "reading the data...\n",
      "Getting the better conversations...\n",
      "Getting human interactions...\n"
     ]
    },
    {
     "name": "stderr",
     "output_type": "stream",
     "text": [
      "/home/valmir/dev/python/intent_classifier/src/pre_processing/pipeline_helper.py:27: SettingWithCopyWarning: \n",
      "A value is trying to be set on a copy of a slice from a DataFrame.\n",
      "Try using .loc[row_indexer,col_indexer] = value instead\n",
      "\n",
      "See the caveats in the documentation: https://pandas.pydata.org/pandas-docs/stable/user_guide/indexing.html#returning-a-view-versus-a-copy\n",
      "  conversations[['id', 'seq']] = conversations['_id'].str.split(\"-\", expand=True)\n",
      "/home/valmir/dev/python/intent_classifier/src/pre_processing/pipeline_helper.py:27: SettingWithCopyWarning: \n",
      "A value is trying to be set on a copy of a slice from a DataFrame.\n",
      "Try using .loc[row_indexer,col_indexer] = value instead\n",
      "\n",
      "See the caveats in the documentation: https://pandas.pydata.org/pandas-docs/stable/user_guide/indexing.html#returning-a-view-versus-a-copy\n",
      "  conversations[['id', 'seq']] = conversations['_id'].str.split(\"-\", expand=True)\n",
      "/home/valmir/dev/python/intent_classifier/src/pre_processing/pipeline_helper.py:28: SettingWithCopyWarning: \n",
      "A value is trying to be set on a copy of a slice from a DataFrame.\n",
      "Try using .loc[row_indexer,col_indexer] = value instead\n",
      "\n",
      "See the caveats in the documentation: https://pandas.pydata.org/pandas-docs/stable/user_guide/indexing.html#returning-a-view-versus-a-copy\n",
      "  conversations['seq'] = conversations['seq'].astype('int64')\n"
     ]
    },
    {
     "name": "stdout",
     "output_type": "stream",
     "text": [
      "Pre processing conversations...\n",
      "Saving original txt\n",
      "Removing emojis....\n",
      "Removing break lines....\n",
      "Dropping duplicates....\n",
      "Filtering number values....\n",
      "Filtering link values....\n",
      "Filtering loc or per values....\n",
      "replacing empty values...\n",
      "Dropping null values....\n",
      "Storing data...\n",
      "Describing data...\n",
      "\n",
      "=========================================\n",
      "Total de sentenças: 1768712\n",
      "Total de sentenças dos pacientes: 727525\n",
      "Total de sentenças dos atendentes: 142872\n",
      "Total de diálogos: 16418\n",
      "\n",
      "=========================================\n",
      "Total de sentenças: 53746\n",
      "Total de sentenças dos pacientes: 26754\n",
      "Total de sentenças dos atendentes: 26992\n",
      "Total de diálogos: 1237\n",
      "The pipeline has been fineshed!\n"
     ]
    }
   ],
   "source": [
    "original_df, processed_conversations = ph.run_pipeline(input_dir=fm.filename_from_data_dir('input/may'))"
   ]
  },
  {
   "cell_type": "code",
   "execution_count": 4,
   "metadata": {
    "collapsed": false,
    "pycharm": {
     "name": "#%%\n"
    }
   },
   "outputs": [
    {
     "data": {
      "text/html": [
       "<div>\n",
       "<style scoped>\n",
       "    .dataframe tbody tr th:only-of-type {\n",
       "        vertical-align: middle;\n",
       "    }\n",
       "\n",
       "    .dataframe tbody tr th {\n",
       "        vertical-align: top;\n",
       "    }\n",
       "\n",
       "    .dataframe thead th {\n",
       "        text-align: right;\n",
       "    }\n",
       "</style>\n",
       "<table border=\"1\" class=\"dataframe\">\n",
       "  <thead>\n",
       "    <tr style=\"text-align: right;\">\n",
       "      <th></th>\n",
       "      <th>_id</th>\n",
       "      <th>cri</th>\n",
       "      <th>atu</th>\n",
       "      <th>idp</th>\n",
       "      <th>ori</th>\n",
       "      <th>txt</th>\n",
       "      <th>created_at</th>\n",
       "    </tr>\n",
       "  </thead>\n",
       "  <tbody>\n",
       "    <tr>\n",
       "      <th>0</th>\n",
       "      <td>LqwjiqmneczgYtDpE-0</td>\n",
       "      <td>2020-04-30T23:44:08.017Z</td>\n",
       "      <td>2020-05-01T00:00:49:943Z</td>\n",
       "      <td>Nyyyfp6aXRnLxCLYt</td>\n",
       "      <td>patient</td>\n",
       "      <td>Ok</td>\n",
       "      <td>20-04-30T23:44</td>\n",
       "    </tr>\n",
       "    <tr>\n",
       "      <th>1</th>\n",
       "      <td>LqwjiqmneczgYtDpE-1</td>\n",
       "      <td>2020-04-30T23:46:16.986Z</td>\n",
       "      <td>2020-05-01T00:00:49:943Z</td>\n",
       "      <td>Nyyyfp6aXRnLxCLYt</td>\n",
       "      <td>human</td>\n",
       "      <td>Boa noite Ana Júlia, meu nome é Alice e vou te atender hoje</td>\n",
       "      <td>20-04-30T23:46</td>\n",
       "    </tr>\n",
       "    <tr>\n",
       "      <th>2</th>\n",
       "      <td>LqwjiqmneczgYtDpE-2</td>\n",
       "      <td>2020-04-30T23:46:30.118Z</td>\n",
       "      <td>2020-05-01T00:00:49:943Z</td>\n",
       "      <td>Nyyyfp6aXRnLxCLYt</td>\n",
       "      <td>human</td>\n",
       "      <td>Como posso ajudar hoje?</td>\n",
       "      <td>20-04-30T23:46</td>\n",
       "    </tr>\n",
       "    <tr>\n",
       "      <th>3</th>\n",
       "      <td>LqwjiqmneczgYtDpE-3</td>\n",
       "      <td>2020-04-30T23:46:45.156Z</td>\n",
       "      <td>2020-05-01T00:00:49:943Z</td>\n",
       "      <td>Nyyyfp6aXRnLxCLYt</td>\n",
       "      <td>human</td>\n",
       "      <td>Vejo que está com febre, falta de ar e tosse, certo?</td>\n",
       "      <td>20-04-30T23:46</td>\n",
       "    </tr>\n",
       "    <tr>\n",
       "      <th>4</th>\n",
       "      <td>LqwjiqmneczgYtDpE-4</td>\n",
       "      <td>2020-04-30T23:46:56.070Z</td>\n",
       "      <td>2020-05-01T00:00:49:943Z</td>\n",
       "      <td>Nyyyfp6aXRnLxCLYt</td>\n",
       "      <td>patient</td>\n",
       "      <td>sim</td>\n",
       "      <td>20-04-30T23:46</td>\n",
       "    </tr>\n",
       "  </tbody>\n",
       "</table>\n",
       "</div>"
      ],
      "text/plain": [
       "                   _id                       cri                       atu  \\\n",
       "0  LqwjiqmneczgYtDpE-0  2020-04-30T23:44:08.017Z  2020-05-01T00:00:49:943Z   \n",
       "1  LqwjiqmneczgYtDpE-1  2020-04-30T23:46:16.986Z  2020-05-01T00:00:49:943Z   \n",
       "2  LqwjiqmneczgYtDpE-2  2020-04-30T23:46:30.118Z  2020-05-01T00:00:49:943Z   \n",
       "3  LqwjiqmneczgYtDpE-3  2020-04-30T23:46:45.156Z  2020-05-01T00:00:49:943Z   \n",
       "4  LqwjiqmneczgYtDpE-4  2020-04-30T23:46:56.070Z  2020-05-01T00:00:49:943Z   \n",
       "\n",
       "                 idp      ori  \\\n",
       "0  Nyyyfp6aXRnLxCLYt  patient   \n",
       "1  Nyyyfp6aXRnLxCLYt    human   \n",
       "2  Nyyyfp6aXRnLxCLYt    human   \n",
       "3  Nyyyfp6aXRnLxCLYt    human   \n",
       "4  Nyyyfp6aXRnLxCLYt  patient   \n",
       "\n",
       "                                                           txt      created_at  \n",
       "0                                                           Ok  20-04-30T23:44  \n",
       "1  Boa noite Ana Júlia, meu nome é Alice e vou te atender hoje  20-04-30T23:46  \n",
       "2                                      Como posso ajudar hoje?  20-04-30T23:46  \n",
       "3         Vejo que está com febre, falta de ar e tosse, certo?  20-04-30T23:46  \n",
       "4                                                          sim  20-04-30T23:46  "
      ]
     },
     "execution_count": 4,
     "metadata": {},
     "output_type": "execute_result"
    }
   ],
   "source": [
    "original_df.head()"
   ]
  },
  {
   "cell_type": "code",
   "execution_count": 5,
   "metadata": {
    "collapsed": false,
    "pycharm": {
     "name": "#%%\n"
    }
   },
   "outputs": [
    {
     "data": {
      "text/html": [
       "<div>\n",
       "<style scoped>\n",
       "    .dataframe tbody tr th:only-of-type {\n",
       "        vertical-align: middle;\n",
       "    }\n",
       "\n",
       "    .dataframe tbody tr th {\n",
       "        vertical-align: top;\n",
       "    }\n",
       "\n",
       "    .dataframe thead th {\n",
       "        text-align: right;\n",
       "    }\n",
       "</style>\n",
       "<table border=\"1\" class=\"dataframe\">\n",
       "  <thead>\n",
       "    <tr style=\"text-align: right;\">\n",
       "      <th></th>\n",
       "      <th>_id</th>\n",
       "      <th>cri</th>\n",
       "      <th>atu</th>\n",
       "      <th>idp</th>\n",
       "      <th>ori</th>\n",
       "      <th>txt</th>\n",
       "      <th>created_at</th>\n",
       "      <th>id</th>\n",
       "      <th>seq</th>\n",
       "      <th>original_txt</th>\n",
       "    </tr>\n",
       "  </thead>\n",
       "  <tbody>\n",
       "    <tr>\n",
       "      <th>188298</th>\n",
       "      <td>7Nmt894SbdLamfwAo-0</td>\n",
       "      <td>2020-05-04T21:14:57.060Z</td>\n",
       "      <td>2020-05-04T21:53:06:605Z</td>\n",
       "      <td>2CNgApLrPbw5bsyxG</td>\n",
       "      <td>human</td>\n",
       "      <td>Olá Amanda, sou Marcela, Psicóloga, e poderei por aqui hoje lhe dar orientações em Saúde Mental. Em que posso lhe ajudar?</td>\n",
       "      <td>20-05-04T21:14</td>\n",
       "      <td>7Nmt894SbdLamfwAo</td>\n",
       "      <td>0</td>\n",
       "      <td>Olá Amanda, sou Marcela, Psicóloga, e poderei por aqui hoje lhe dar orientações em Saúde Mental. Em que posso lhe ajudar?</td>\n",
       "    </tr>\n",
       "    <tr>\n",
       "      <th>188299</th>\n",
       "      <td>7Nmt894SbdLamfwAo-1</td>\n",
       "      <td>2020-05-04T21:15:55.119Z</td>\n",
       "      <td>2020-05-04T21:53:06:605Z</td>\n",
       "      <td>2CNgApLrPbw5bsyxG</td>\n",
       "      <td>patient</td>\n",
       "      <td>Tô  muito nervosa Marcela com tudo isso</td>\n",
       "      <td>20-05-04T21:15</td>\n",
       "      <td>7Nmt894SbdLamfwAo</td>\n",
       "      <td>1</td>\n",
       "      <td>Tô  muito nervosa Marcela com tudo isso</td>\n",
       "    </tr>\n",
       "    <tr>\n",
       "      <th>188300</th>\n",
       "      <td>7Nmt894SbdLamfwAo-2</td>\n",
       "      <td>2020-05-04T21:16:21.726Z</td>\n",
       "      <td>2020-05-04T21:53:06:605Z</td>\n",
       "      <td>2CNgApLrPbw5bsyxG</td>\n",
       "      <td>patient</td>\n",
       "      <td>O meu problema  é  psicológico    nem dormi estou  conseguindo</td>\n",
       "      <td>20-05-04T21:16</td>\n",
       "      <td>7Nmt894SbdLamfwAo</td>\n",
       "      <td>2</td>\n",
       "      <td>O meu problema  é  psicológico    nem dormi estou  conseguindo</td>\n",
       "    </tr>\n",
       "    <tr>\n",
       "      <th>188301</th>\n",
       "      <td>7Nmt894SbdLamfwAo-3</td>\n",
       "      <td>2020-05-04T21:16:49.298Z</td>\n",
       "      <td>2020-05-04T21:53:06:605Z</td>\n",
       "      <td>2CNgApLrPbw5bsyxG</td>\n",
       "      <td>patient</td>\n",
       "      <td>Com muito medo</td>\n",
       "      <td>20-05-04T21:16</td>\n",
       "      <td>7Nmt894SbdLamfwAo</td>\n",
       "      <td>3</td>\n",
       "      <td>Com muito medo</td>\n",
       "    </tr>\n",
       "    <tr>\n",
       "      <th>188302</th>\n",
       "      <td>7Nmt894SbdLamfwAo-4</td>\n",
       "      <td>2020-05-04T21:17:12.833Z</td>\n",
       "      <td>2020-05-04T21:53:06:605Z</td>\n",
       "      <td>2CNgApLrPbw5bsyxG</td>\n",
       "      <td>human</td>\n",
       "      <td>Você já se sentiu assim antes Amanda?</td>\n",
       "      <td>20-05-04T21:17</td>\n",
       "      <td>7Nmt894SbdLamfwAo</td>\n",
       "      <td>4</td>\n",
       "      <td>Você já se sentiu assim antes Amanda?</td>\n",
       "    </tr>\n",
       "  </tbody>\n",
       "</table>\n",
       "</div>"
      ],
      "text/plain": [
       "                        _id                       cri  \\\n",
       "188298  7Nmt894SbdLamfwAo-0  2020-05-04T21:14:57.060Z   \n",
       "188299  7Nmt894SbdLamfwAo-1  2020-05-04T21:15:55.119Z   \n",
       "188300  7Nmt894SbdLamfwAo-2  2020-05-04T21:16:21.726Z   \n",
       "188301  7Nmt894SbdLamfwAo-3  2020-05-04T21:16:49.298Z   \n",
       "188302  7Nmt894SbdLamfwAo-4  2020-05-04T21:17:12.833Z   \n",
       "\n",
       "                             atu                idp      ori  \\\n",
       "188298  2020-05-04T21:53:06:605Z  2CNgApLrPbw5bsyxG    human   \n",
       "188299  2020-05-04T21:53:06:605Z  2CNgApLrPbw5bsyxG  patient   \n",
       "188300  2020-05-04T21:53:06:605Z  2CNgApLrPbw5bsyxG  patient   \n",
       "188301  2020-05-04T21:53:06:605Z  2CNgApLrPbw5bsyxG  patient   \n",
       "188302  2020-05-04T21:53:06:605Z  2CNgApLrPbw5bsyxG    human   \n",
       "\n",
       "                                                                                                                              txt  \\\n",
       "188298  Olá Amanda, sou Marcela, Psicóloga, e poderei por aqui hoje lhe dar orientações em Saúde Mental. Em que posso lhe ajudar?   \n",
       "188299                                                                                    Tô  muito nervosa Marcela com tudo isso   \n",
       "188300                                                             O meu problema  é  psicológico    nem dormi estou  conseguindo   \n",
       "188301                                                                                                             Com muito medo   \n",
       "188302                                                                                      Você já se sentiu assim antes Amanda?   \n",
       "\n",
       "            created_at                 id  seq  \\\n",
       "188298  20-05-04T21:14  7Nmt894SbdLamfwAo    0   \n",
       "188299  20-05-04T21:15  7Nmt894SbdLamfwAo    1   \n",
       "188300  20-05-04T21:16  7Nmt894SbdLamfwAo    2   \n",
       "188301  20-05-04T21:16  7Nmt894SbdLamfwAo    3   \n",
       "188302  20-05-04T21:17  7Nmt894SbdLamfwAo    4   \n",
       "\n",
       "                                                                                                                     original_txt  \n",
       "188298  Olá Amanda, sou Marcela, Psicóloga, e poderei por aqui hoje lhe dar orientações em Saúde Mental. Em que posso lhe ajudar?  \n",
       "188299                                                                                    Tô  muito nervosa Marcela com tudo isso  \n",
       "188300                                                             O meu problema  é  psicológico    nem dormi estou  conseguindo  \n",
       "188301                                                                                                             Com muito medo  \n",
       "188302                                                                                      Você já se sentiu assim antes Amanda?  "
      ]
     },
     "execution_count": 5,
     "metadata": {},
     "output_type": "execute_result"
    }
   ],
   "source": [
    "processed_conversations.head()"
   ]
  },
  {
   "cell_type": "markdown",
   "metadata": {
    "id": "y4SsXALhUSYp",
    "pycharm": {
     "name": "#%% md\n"
    }
   },
   "source": [
    "# Read filtered conversations"
   ]
  },
  {
   "cell_type": "code",
   "execution_count": 3,
   "metadata": {
    "colab": {
     "base_uri": "https://localhost:8080/",
     "height": 209
    },
    "id": "ZFdOqcqHDLtE",
    "outputId": "bab93f13-5be0-4429-a3fc-028412de6f6a",
    "pycharm": {
     "name": "#%%\n"
    }
   },
   "outputs": [
    {
     "data": {
      "text/plain": "                seq\ncount  53746.000000\nmean      28.305604\nstd       30.427593\nmin        0.000000\n25%        9.000000\n50%       19.000000\n75%       36.000000\nmax      255.000000",
      "text/html": "<div>\n<style scoped>\n    .dataframe tbody tr th:only-of-type {\n        vertical-align: middle;\n    }\n\n    .dataframe tbody tr th {\n        vertical-align: top;\n    }\n\n    .dataframe thead th {\n        text-align: right;\n    }\n</style>\n<table border=\"1\" class=\"dataframe\">\n  <thead>\n    <tr style=\"text-align: right;\">\n      <th></th>\n      <th>seq</th>\n    </tr>\n  </thead>\n  <tbody>\n    <tr>\n      <th>count</th>\n      <td>53746.000000</td>\n    </tr>\n    <tr>\n      <th>mean</th>\n      <td>28.305604</td>\n    </tr>\n    <tr>\n      <th>std</th>\n      <td>30.427593</td>\n    </tr>\n    <tr>\n      <th>min</th>\n      <td>0.000000</td>\n    </tr>\n    <tr>\n      <th>25%</th>\n      <td>9.000000</td>\n    </tr>\n    <tr>\n      <th>50%</th>\n      <td>19.000000</td>\n    </tr>\n    <tr>\n      <th>75%</th>\n      <td>36.000000</td>\n    </tr>\n    <tr>\n      <th>max</th>\n      <td>255.000000</td>\n    </tr>\n  </tbody>\n</table>\n</div>"
     },
     "execution_count": 3,
     "metadata": {},
     "output_type": "execute_result"
    }
   ],
   "source": [
    "conversations = pd.read_csv(fm.filename_from_data_dir('output/clean_conversations.csv'))\n",
    "\n",
    "conversations.describe()"
   ]
  },
  {
   "cell_type": "code",
   "execution_count": 16,
   "metadata": {
    "pycharm": {
     "name": "#%%\n"
    }
   },
   "outputs": [
    {
     "data": {
      "text/plain": "                seq\ncount  26754.000000\nmean      26.077745\nstd       29.680564\nmin        0.000000\n25%        7.000000\n50%       17.000000\n75%       33.000000\nmax      250.000000",
      "text/html": "<div>\n<style scoped>\n    .dataframe tbody tr th:only-of-type {\n        vertical-align: middle;\n    }\n\n    .dataframe tbody tr th {\n        vertical-align: top;\n    }\n\n    .dataframe thead th {\n        text-align: right;\n    }\n</style>\n<table border=\"1\" class=\"dataframe\">\n  <thead>\n    <tr style=\"text-align: right;\">\n      <th></th>\n      <th>seq</th>\n    </tr>\n  </thead>\n  <tbody>\n    <tr>\n      <th>count</th>\n      <td>26754.000000</td>\n    </tr>\n    <tr>\n      <th>mean</th>\n      <td>26.077745</td>\n    </tr>\n    <tr>\n      <th>std</th>\n      <td>29.680564</td>\n    </tr>\n    <tr>\n      <th>min</th>\n      <td>0.000000</td>\n    </tr>\n    <tr>\n      <th>25%</th>\n      <td>7.000000</td>\n    </tr>\n    <tr>\n      <th>50%</th>\n      <td>17.000000</td>\n    </tr>\n    <tr>\n      <th>75%</th>\n      <td>33.000000</td>\n    </tr>\n    <tr>\n      <th>max</th>\n      <td>250.000000</td>\n    </tr>\n  </tbody>\n</table>\n</div>"
     },
     "execution_count": 16,
     "metadata": {},
     "output_type": "execute_result"
    }
   ],
   "source": [
    "patient_conversations = pd.read_csv(fm.filename_from_data_dir('output/patient/clean_sentences.csv'))\n",
    "\n",
    "patient_conversations.describe()"
   ]
  },
  {
   "cell_type": "code",
   "execution_count": 17,
   "outputs": [
    {
     "data": {
      "text/plain": "                   _id                       cri                       atu  \\\n0  7Nmt894SbdLamfwAo-1  2020-05-04T21:15:55.119Z  2020-05-04T21:53:06:605Z   \n1  7Nmt894SbdLamfwAo-2  2020-05-04T21:16:21.726Z  2020-05-04T21:53:06:605Z   \n2  7Nmt894SbdLamfwAo-3  2020-05-04T21:16:49.298Z  2020-05-04T21:53:06:605Z   \n3  7Nmt894SbdLamfwAo-5  2020-05-04T21:17:23.211Z  2020-05-04T21:53:06:605Z   \n4  7Nmt894SbdLamfwAo-6  2020-05-04T21:17:43.786Z  2020-05-04T21:53:06:605Z   \n\n                 idp      ori  \\\n0  2CNgApLrPbw5bsyxG  patient   \n1  2CNgApLrPbw5bsyxG  patient   \n2  2CNgApLrPbw5bsyxG  patient   \n3  2CNgApLrPbw5bsyxG  patient   \n4  2CNgApLrPbw5bsyxG  patient   \n\n                                                              txt  \\\n0                         Tô  muito nervosa Marcela com tudo isso   \n1  O meu problema  é  psicológico    nem dormi estou  conseguindo   \n2                                                  Com muito medo   \n3                                                             Sim   \n4                    A 3 meses atrás  quando o meu esposo faleceu   \n\n       created_at                 id  seq  \\\n0  20-05-04T21:15  7Nmt894SbdLamfwAo    1   \n1  20-05-04T21:16  7Nmt894SbdLamfwAo    2   \n2  20-05-04T21:16  7Nmt894SbdLamfwAo    3   \n3  20-05-04T21:17  7Nmt894SbdLamfwAo    5   \n4  20-05-04T21:17  7Nmt894SbdLamfwAo    6   \n\n                                                     original_txt  \n0                         Tô  muito nervosa Marcela com tudo isso  \n1  O meu problema  é  psicológico    nem dormi estou  conseguindo  \n2                                                  Com muito medo  \n3                                                             Sim  \n4                    A 3 meses atrás  quando o meu esposo faleceu  ",
      "text/html": "<div>\n<style scoped>\n    .dataframe tbody tr th:only-of-type {\n        vertical-align: middle;\n    }\n\n    .dataframe tbody tr th {\n        vertical-align: top;\n    }\n\n    .dataframe thead th {\n        text-align: right;\n    }\n</style>\n<table border=\"1\" class=\"dataframe\">\n  <thead>\n    <tr style=\"text-align: right;\">\n      <th></th>\n      <th>_id</th>\n      <th>cri</th>\n      <th>atu</th>\n      <th>idp</th>\n      <th>ori</th>\n      <th>txt</th>\n      <th>created_at</th>\n      <th>id</th>\n      <th>seq</th>\n      <th>original_txt</th>\n    </tr>\n  </thead>\n  <tbody>\n    <tr>\n      <th>0</th>\n      <td>7Nmt894SbdLamfwAo-1</td>\n      <td>2020-05-04T21:15:55.119Z</td>\n      <td>2020-05-04T21:53:06:605Z</td>\n      <td>2CNgApLrPbw5bsyxG</td>\n      <td>patient</td>\n      <td>Tô  muito nervosa Marcela com tudo isso</td>\n      <td>20-05-04T21:15</td>\n      <td>7Nmt894SbdLamfwAo</td>\n      <td>1</td>\n      <td>Tô  muito nervosa Marcela com tudo isso</td>\n    </tr>\n    <tr>\n      <th>1</th>\n      <td>7Nmt894SbdLamfwAo-2</td>\n      <td>2020-05-04T21:16:21.726Z</td>\n      <td>2020-05-04T21:53:06:605Z</td>\n      <td>2CNgApLrPbw5bsyxG</td>\n      <td>patient</td>\n      <td>O meu problema  é  psicológico    nem dormi estou  conseguindo</td>\n      <td>20-05-04T21:16</td>\n      <td>7Nmt894SbdLamfwAo</td>\n      <td>2</td>\n      <td>O meu problema  é  psicológico    nem dormi estou  conseguindo</td>\n    </tr>\n    <tr>\n      <th>2</th>\n      <td>7Nmt894SbdLamfwAo-3</td>\n      <td>2020-05-04T21:16:49.298Z</td>\n      <td>2020-05-04T21:53:06:605Z</td>\n      <td>2CNgApLrPbw5bsyxG</td>\n      <td>patient</td>\n      <td>Com muito medo</td>\n      <td>20-05-04T21:16</td>\n      <td>7Nmt894SbdLamfwAo</td>\n      <td>3</td>\n      <td>Com muito medo</td>\n    </tr>\n    <tr>\n      <th>3</th>\n      <td>7Nmt894SbdLamfwAo-5</td>\n      <td>2020-05-04T21:17:23.211Z</td>\n      <td>2020-05-04T21:53:06:605Z</td>\n      <td>2CNgApLrPbw5bsyxG</td>\n      <td>patient</td>\n      <td>Sim</td>\n      <td>20-05-04T21:17</td>\n      <td>7Nmt894SbdLamfwAo</td>\n      <td>5</td>\n      <td>Sim</td>\n    </tr>\n    <tr>\n      <th>4</th>\n      <td>7Nmt894SbdLamfwAo-6</td>\n      <td>2020-05-04T21:17:43.786Z</td>\n      <td>2020-05-04T21:53:06:605Z</td>\n      <td>2CNgApLrPbw5bsyxG</td>\n      <td>patient</td>\n      <td>A 3 meses atrás  quando o meu esposo faleceu</td>\n      <td>20-05-04T21:17</td>\n      <td>7Nmt894SbdLamfwAo</td>\n      <td>6</td>\n      <td>A 3 meses atrás  quando o meu esposo faleceu</td>\n    </tr>\n  </tbody>\n</table>\n</div>"
     },
     "execution_count": 17,
     "metadata": {},
     "output_type": "execute_result"
    }
   ],
   "source": [
    "patient_conversations.head()"
   ],
   "metadata": {
    "collapsed": false,
    "pycharm": {
     "name": "#%%\n"
    }
   }
  },
  {
   "cell_type": "code",
   "execution_count": 39,
   "outputs": [
    {
     "data": {
      "text/plain": "                    id  seq      ori  \\\n109  MuftxMj43j3RtCm3h    0    human   \n110  MuftxMj43j3RtCm3h    1  patient   \n111  MuftxMj43j3RtCm3h    2    human   \n112  MuftxMj43j3RtCm3h    3  patient   \n113  MuftxMj43j3RtCm3h    5    human   \n114  MuftxMj43j3RtCm3h    6  patient   \n115  MuftxMj43j3RtCm3h    7  patient   \n116  MuftxMj43j3RtCm3h    8    human   \n117  MuftxMj43j3RtCm3h    9    human   \n118  MuftxMj43j3RtCm3h   10  patient   \n119  MuftxMj43j3RtCm3h   12    human   \n120  MuftxMj43j3RtCm3h   13    human   \n121  MuftxMj43j3RtCm3h   14    human   \n122  MuftxMj43j3RtCm3h   16    human   \n123  MuftxMj43j3RtCm3h   17  patient   \n124  MuftxMj43j3RtCm3h   18    human   \n125  MuftxMj43j3RtCm3h   19    human   \n126  MuftxMj43j3RtCm3h   20    human   \n127  MuftxMj43j3RtCm3h   21    human   \n128  MuftxMj43j3RtCm3h   22    human   \n129  MuftxMj43j3RtCm3h   23    human   \n130  MuftxMj43j3RtCm3h   24  patient   \n131  MuftxMj43j3RtCm3h   25  patient   \n132  MuftxMj43j3RtCm3h   26    human   \n133  MuftxMj43j3RtCm3h   27    human   \n134  MuftxMj43j3RtCm3h   28    human   \n135  MuftxMj43j3RtCm3h   29    human   \n136  MuftxMj43j3RtCm3h   30    human   \n\n                                                                                                                                                                                                              txt  \n109                                                                                                          Olá, boa noite. Meu nome é Natasha, sou médica, e farei seu atendimento hoje. Como posso lhe ajudar?  \n110                                                                                                                                               Estou a 03 dias com febre e tosse seca, muitas dores nas costas  \n111                                                                                                                                                                            VOcê chegou a medir a temperatura?  \n112                                                                                                                                                                                                          Sim.  \n113                                                                                                                                                                                         Está com falta de ar?  \n114                                                                                                                         Durante esse período de febre tomei Dipirona monoidratada, porém a febre vai e volta.  \n115                                                                                                                                                                         Um pouco, acho que por conta da tosse  \n116                                                                                                                                                                                                         certo  \n117                                                                                                                                                              Sente a falta de ar quando faz o quê exatamente?  \n118                                                                                                                                                                                               Só quando tusso  \n119  oriento entrar em contato com o posto de saúde mais próximo, pois você precisa de uma avaliação médica presencial. Você deve permanecer em isolamento domiciliar, e sair apenas para essa consulta no posto.  \n120                                                                      Lembre de entrar em contato com o posto antes para saber se haverá atendimento e como está funcionando. E de ir de máscara, se possível.  \n121                                                                                                                          Estarei enviando uma cartilha com maiores informações sobre o isolamento domiciliar.  \n122                                                                                                                                     Estarei encerrando seu atendimento agora. Alguma dúvida? Fique à vontade.  \n123                                                                                                                                                          O problema é encontrar um posto de Saúde funcionando  \n124                                                                                                                                                                                    Agora à noiote não te mais  \n125                                                                                                                                                                                       Você pode ir pela manhã  \n126                                                                                                                                                                                      Qual o posto da sua ára?  \n127                                                                                                                                                                                                          área  \n128                                                                                                                                                                                         me mande seu endereço  \n129                                                                                                                                                                                                      o bairro  \n130                                                                                                                                                                              Rua 922 casa 136 conjunto Ceará.  \n131                                                                                                                                                                                   Tô saindo procurar recursos  \n132                                                                                                                                                                                                    um momento  \n133                                                                                                                                                                                      que já irei lhe informar  \n134                                                                                                                                 Posto Maciel de Brito - Av A, s/n - 1ª etapa - COnj Ceará - 34522486/34522477  \n135                                                                                                                                      Posto Dr Pontes Neto - Rua 541, nº 150 - 2ª etapa- Conj Ceara - 32595414  \n136                                      Estarei encerrando seu atendimento agora. Qualquer dúvida, pode entrar em contato conosco novamente. Estamos disponíveis 24 horas para lhe ajudar. Boa noite e melhoras!  ",
      "text/html": "<div>\n<style scoped>\n    .dataframe tbody tr th:only-of-type {\n        vertical-align: middle;\n    }\n\n    .dataframe tbody tr th {\n        vertical-align: top;\n    }\n\n    .dataframe thead th {\n        text-align: right;\n    }\n</style>\n<table border=\"1\" class=\"dataframe\">\n  <thead>\n    <tr style=\"text-align: right;\">\n      <th></th>\n      <th>id</th>\n      <th>seq</th>\n      <th>ori</th>\n      <th>txt</th>\n    </tr>\n  </thead>\n  <tbody>\n    <tr>\n      <th>109</th>\n      <td>MuftxMj43j3RtCm3h</td>\n      <td>0</td>\n      <td>human</td>\n      <td>Olá, boa noite. Meu nome é Natasha, sou médica, e farei seu atendimento hoje. Como posso lhe ajudar?</td>\n    </tr>\n    <tr>\n      <th>110</th>\n      <td>MuftxMj43j3RtCm3h</td>\n      <td>1</td>\n      <td>patient</td>\n      <td>Estou a 03 dias com febre e tosse seca, muitas dores nas costas</td>\n    </tr>\n    <tr>\n      <th>111</th>\n      <td>MuftxMj43j3RtCm3h</td>\n      <td>2</td>\n      <td>human</td>\n      <td>VOcê chegou a medir a temperatura?</td>\n    </tr>\n    <tr>\n      <th>112</th>\n      <td>MuftxMj43j3RtCm3h</td>\n      <td>3</td>\n      <td>patient</td>\n      <td>Sim.</td>\n    </tr>\n    <tr>\n      <th>113</th>\n      <td>MuftxMj43j3RtCm3h</td>\n      <td>5</td>\n      <td>human</td>\n      <td>Está com falta de ar?</td>\n    </tr>\n    <tr>\n      <th>114</th>\n      <td>MuftxMj43j3RtCm3h</td>\n      <td>6</td>\n      <td>patient</td>\n      <td>Durante esse período de febre tomei Dipirona monoidratada, porém a febre vai e volta.</td>\n    </tr>\n    <tr>\n      <th>115</th>\n      <td>MuftxMj43j3RtCm3h</td>\n      <td>7</td>\n      <td>patient</td>\n      <td>Um pouco, acho que por conta da tosse</td>\n    </tr>\n    <tr>\n      <th>116</th>\n      <td>MuftxMj43j3RtCm3h</td>\n      <td>8</td>\n      <td>human</td>\n      <td>certo</td>\n    </tr>\n    <tr>\n      <th>117</th>\n      <td>MuftxMj43j3RtCm3h</td>\n      <td>9</td>\n      <td>human</td>\n      <td>Sente a falta de ar quando faz o quê exatamente?</td>\n    </tr>\n    <tr>\n      <th>118</th>\n      <td>MuftxMj43j3RtCm3h</td>\n      <td>10</td>\n      <td>patient</td>\n      <td>Só quando tusso</td>\n    </tr>\n    <tr>\n      <th>119</th>\n      <td>MuftxMj43j3RtCm3h</td>\n      <td>12</td>\n      <td>human</td>\n      <td>oriento entrar em contato com o posto de saúde mais próximo, pois você precisa de uma avaliação médica presencial. Você deve permanecer em isolamento domiciliar, e sair apenas para essa consulta no posto.</td>\n    </tr>\n    <tr>\n      <th>120</th>\n      <td>MuftxMj43j3RtCm3h</td>\n      <td>13</td>\n      <td>human</td>\n      <td>Lembre de entrar em contato com o posto antes para saber se haverá atendimento e como está funcionando. E de ir de máscara, se possível.</td>\n    </tr>\n    <tr>\n      <th>121</th>\n      <td>MuftxMj43j3RtCm3h</td>\n      <td>14</td>\n      <td>human</td>\n      <td>Estarei enviando uma cartilha com maiores informações sobre o isolamento domiciliar.</td>\n    </tr>\n    <tr>\n      <th>122</th>\n      <td>MuftxMj43j3RtCm3h</td>\n      <td>16</td>\n      <td>human</td>\n      <td>Estarei encerrando seu atendimento agora. Alguma dúvida? Fique à vontade.</td>\n    </tr>\n    <tr>\n      <th>123</th>\n      <td>MuftxMj43j3RtCm3h</td>\n      <td>17</td>\n      <td>patient</td>\n      <td>O problema é encontrar um posto de Saúde funcionando</td>\n    </tr>\n    <tr>\n      <th>124</th>\n      <td>MuftxMj43j3RtCm3h</td>\n      <td>18</td>\n      <td>human</td>\n      <td>Agora à noiote não te mais</td>\n    </tr>\n    <tr>\n      <th>125</th>\n      <td>MuftxMj43j3RtCm3h</td>\n      <td>19</td>\n      <td>human</td>\n      <td>Você pode ir pela manhã</td>\n    </tr>\n    <tr>\n      <th>126</th>\n      <td>MuftxMj43j3RtCm3h</td>\n      <td>20</td>\n      <td>human</td>\n      <td>Qual o posto da sua ára?</td>\n    </tr>\n    <tr>\n      <th>127</th>\n      <td>MuftxMj43j3RtCm3h</td>\n      <td>21</td>\n      <td>human</td>\n      <td>área</td>\n    </tr>\n    <tr>\n      <th>128</th>\n      <td>MuftxMj43j3RtCm3h</td>\n      <td>22</td>\n      <td>human</td>\n      <td>me mande seu endereço</td>\n    </tr>\n    <tr>\n      <th>129</th>\n      <td>MuftxMj43j3RtCm3h</td>\n      <td>23</td>\n      <td>human</td>\n      <td>o bairro</td>\n    </tr>\n    <tr>\n      <th>130</th>\n      <td>MuftxMj43j3RtCm3h</td>\n      <td>24</td>\n      <td>patient</td>\n      <td>Rua 922 casa 136 conjunto Ceará.</td>\n    </tr>\n    <tr>\n      <th>131</th>\n      <td>MuftxMj43j3RtCm3h</td>\n      <td>25</td>\n      <td>patient</td>\n      <td>Tô saindo procurar recursos</td>\n    </tr>\n    <tr>\n      <th>132</th>\n      <td>MuftxMj43j3RtCm3h</td>\n      <td>26</td>\n      <td>human</td>\n      <td>um momento</td>\n    </tr>\n    <tr>\n      <th>133</th>\n      <td>MuftxMj43j3RtCm3h</td>\n      <td>27</td>\n      <td>human</td>\n      <td>que já irei lhe informar</td>\n    </tr>\n    <tr>\n      <th>134</th>\n      <td>MuftxMj43j3RtCm3h</td>\n      <td>28</td>\n      <td>human</td>\n      <td>Posto Maciel de Brito - Av A, s/n - 1ª etapa - COnj Ceará - 34522486/34522477</td>\n    </tr>\n    <tr>\n      <th>135</th>\n      <td>MuftxMj43j3RtCm3h</td>\n      <td>29</td>\n      <td>human</td>\n      <td>Posto Dr Pontes Neto - Rua 541, nº 150 - 2ª etapa- Conj Ceara - 32595414</td>\n    </tr>\n    <tr>\n      <th>136</th>\n      <td>MuftxMj43j3RtCm3h</td>\n      <td>30</td>\n      <td>human</td>\n      <td>Estarei encerrando seu atendimento agora. Qualquer dúvida, pode entrar em contato conosco novamente. Estamos disponíveis 24 horas para lhe ajudar. Boa noite e melhoras!</td>\n    </tr>\n  </tbody>\n</table>\n</div>"
     },
     "execution_count": 39,
     "metadata": {},
     "output_type": "execute_result"
    }
   ],
   "source": [
    "dialogue_index = 2\n",
    "columns = ['id', 'seq', 'ori', 'txt']\n",
    "\n",
    "conversations[conversations['id'] == conversations['id'].unique()[dialogue_index]][columns]"
   ],
   "metadata": {
    "collapsed": false,
    "pycharm": {
     "name": "#%%\n"
    }
   }
  },
  {
   "cell_type": "code",
   "execution_count": 4,
   "outputs": [],
   "source": [
    "df = fm.read_json_of_dir(fm.filename_from_data_dir('input/may'))\n",
    "\n",
    "conversations = ph.__find_better_conversations(df)"
   ],
   "metadata": {
    "collapsed": false,
    "pycharm": {
     "name": "#%%\n"
    }
   }
  },
  {
   "cell_type": "code",
   "execution_count": 11,
   "outputs": [
    {
     "name": "stderr",
     "output_type": "stream",
     "text": [
      "/tmp/ipykernel_53438/2065148540.py:1: SettingWithCopyWarning: \n",
      "A value is trying to be set on a copy of a slice from a DataFrame.\n",
      "Try using .loc[row_indexer,col_indexer] = value instead\n",
      "\n",
      "See the caveats in the documentation: https://pandas.pydata.org/pandas-docs/stable/user_guide/indexing.html#returning-a-view-versus-a-copy\n",
      "  conversations.loc[:,['id', 'seq']] = conversations.loc[:, '_id'].str.split(\"-\", expand=True)\n"
     ]
    },
    {
     "data": {
      "text/plain": "                         _id                          cri  \\\n19       YCdvu9S3NxZb4xdyk-0  2020-05-01T00:00:20.955720Z   \n20       YCdvu9S3NxZb4xdyk-1  2020-05-01T00:00:19.886159Z   \n84       rQgQdKMLL8TBpYEye-0     2020-04-30T18:41:48.272Z   \n85       rQgQdKMLL8TBpYEye-1     2020-04-30T18:41:56.871Z   \n86       rQgQdKMLL8TBpYEye-2     2020-04-30T18:43:02.538Z   \n...                      ...                          ...   \n269293   GpjfBGN5L5acWNG5S-6     2020-05-06T22:52:17.975Z   \n269294   GpjfBGN5L5acWNG5S-7     2020-05-06T22:54:29.138Z   \n269295   GpjfBGN5L5acWNG5S-8     2020-05-06T23:13:03.176Z   \n269296   GpjfBGN5L5acWNG5S-9     2020-05-06T23:13:15.575Z   \n269297  GpjfBGN5L5acWNG5S-10     2020-05-06T23:56:45.443Z   \n\n                             atu                idp      ori  \\\n19      2020-05-01T00:01:06:350Z  oHRYCNHwBZKbyfBiL      bot   \n20      2020-05-01T00:01:06:350Z  oHRYCNHwBZKbyfBiL  patient   \n84      2020-05-01T00:02:00:834Z  KL4dD3Jqcv8ALQCe5    human   \n85      2020-05-01T00:02:00:834Z  KL4dD3Jqcv8ALQCe5    human   \n86      2020-05-01T00:02:00:834Z  KL4dD3Jqcv8ALQCe5  patient   \n...                          ...                ...      ...   \n269293  2020-05-06T23:59:58:468Z  tEKpAAvN5eHKsZucm  patient   \n269294  2020-05-06T23:59:58:468Z  tEKpAAvN5eHKsZucm    human   \n269295  2020-05-06T23:59:58:468Z  tEKpAAvN5eHKsZucm    human   \n269296  2020-05-06T23:59:58:468Z  tEKpAAvN5eHKsZucm    human   \n269297  2020-05-06T23:59:58:468Z  tEKpAAvN5eHKsZucm    human   \n\n                                                                                                                                                                                                                                txt  \\\n19                                                                                                                                                                                                          Qual seu nome completo?   \n20                                                                                                                                                                                                                   604.446.883-66   \n84                                                                                                                                                                                                              oi renan, tudo bem?   \n85                                                                                                                                                                                              como sua mae esta se sentindo hoje?   \n86                                                                                                                                                      Bem melhor, um pouco fraca e o um pequeno mal estar, desconforto na barriga   \n...                                                                                                                                                                                                                             ...   \n269293                                                                                                                          Eu só medi a temperatura hoje, ja faz mais de 2 horas e ainda não passou depois que eu dei dipirona   \n269294                                                                                                                                                                            Tem como você verificar a temperatura dela agora?   \n269295                                                                                                                                                                                                 Você acha que ela está pior?   \n269296                                                                                                                                                                                                Possui alguma doença crônica?   \n269297  Devido a inatividade, mesmo após nosso chamado, sua conversa será encerrada. Lembre-se estamos a disposição 24 horas para qualquer dúvida. Entre em contato novamente se precisar. Obrigada pelo contato, tenha um bom dia!   \n\n            created_at  id  seq  \n19      20-05-01T00:00 NaN  NaN  \n20      20-05-01T00:00 NaN  NaN  \n84      20-04-30T18:41 NaN  NaN  \n85      20-04-30T18:41 NaN  NaN  \n86      20-04-30T18:43 NaN  NaN  \n...                ...  ..  ...  \n269293  20-05-06T22:52 NaN  NaN  \n269294  20-05-06T22:54 NaN  NaN  \n269295  20-05-06T23:13 NaN  NaN  \n269296  20-05-06T23:13 NaN  NaN  \n269297  20-05-06T23:56 NaN  NaN  \n\n[569485 rows x 9 columns]",
      "text/html": "<div>\n<style scoped>\n    .dataframe tbody tr th:only-of-type {\n        vertical-align: middle;\n    }\n\n    .dataframe tbody tr th {\n        vertical-align: top;\n    }\n\n    .dataframe thead th {\n        text-align: right;\n    }\n</style>\n<table border=\"1\" class=\"dataframe\">\n  <thead>\n    <tr style=\"text-align: right;\">\n      <th></th>\n      <th>_id</th>\n      <th>cri</th>\n      <th>atu</th>\n      <th>idp</th>\n      <th>ori</th>\n      <th>txt</th>\n      <th>created_at</th>\n      <th>id</th>\n      <th>seq</th>\n    </tr>\n  </thead>\n  <tbody>\n    <tr>\n      <th>19</th>\n      <td>YCdvu9S3NxZb4xdyk-0</td>\n      <td>2020-05-01T00:00:20.955720Z</td>\n      <td>2020-05-01T00:01:06:350Z</td>\n      <td>oHRYCNHwBZKbyfBiL</td>\n      <td>bot</td>\n      <td>Qual seu nome completo?</td>\n      <td>20-05-01T00:00</td>\n      <td>NaN</td>\n      <td>NaN</td>\n    </tr>\n    <tr>\n      <th>20</th>\n      <td>YCdvu9S3NxZb4xdyk-1</td>\n      <td>2020-05-01T00:00:19.886159Z</td>\n      <td>2020-05-01T00:01:06:350Z</td>\n      <td>oHRYCNHwBZKbyfBiL</td>\n      <td>patient</td>\n      <td>604.446.883-66</td>\n      <td>20-05-01T00:00</td>\n      <td>NaN</td>\n      <td>NaN</td>\n    </tr>\n    <tr>\n      <th>84</th>\n      <td>rQgQdKMLL8TBpYEye-0</td>\n      <td>2020-04-30T18:41:48.272Z</td>\n      <td>2020-05-01T00:02:00:834Z</td>\n      <td>KL4dD3Jqcv8ALQCe5</td>\n      <td>human</td>\n      <td>oi renan, tudo bem?</td>\n      <td>20-04-30T18:41</td>\n      <td>NaN</td>\n      <td>NaN</td>\n    </tr>\n    <tr>\n      <th>85</th>\n      <td>rQgQdKMLL8TBpYEye-1</td>\n      <td>2020-04-30T18:41:56.871Z</td>\n      <td>2020-05-01T00:02:00:834Z</td>\n      <td>KL4dD3Jqcv8ALQCe5</td>\n      <td>human</td>\n      <td>como sua mae esta se sentindo hoje?</td>\n      <td>20-04-30T18:41</td>\n      <td>NaN</td>\n      <td>NaN</td>\n    </tr>\n    <tr>\n      <th>86</th>\n      <td>rQgQdKMLL8TBpYEye-2</td>\n      <td>2020-04-30T18:43:02.538Z</td>\n      <td>2020-05-01T00:02:00:834Z</td>\n      <td>KL4dD3Jqcv8ALQCe5</td>\n      <td>patient</td>\n      <td>Bem melhor, um pouco fraca e o um pequeno mal estar, desconforto na barriga</td>\n      <td>20-04-30T18:43</td>\n      <td>NaN</td>\n      <td>NaN</td>\n    </tr>\n    <tr>\n      <th>...</th>\n      <td>...</td>\n      <td>...</td>\n      <td>...</td>\n      <td>...</td>\n      <td>...</td>\n      <td>...</td>\n      <td>...</td>\n      <td>...</td>\n      <td>...</td>\n    </tr>\n    <tr>\n      <th>269293</th>\n      <td>GpjfBGN5L5acWNG5S-6</td>\n      <td>2020-05-06T22:52:17.975Z</td>\n      <td>2020-05-06T23:59:58:468Z</td>\n      <td>tEKpAAvN5eHKsZucm</td>\n      <td>patient</td>\n      <td>Eu só medi a temperatura hoje, ja faz mais de 2 horas e ainda não passou depois que eu dei dipirona</td>\n      <td>20-05-06T22:52</td>\n      <td>NaN</td>\n      <td>NaN</td>\n    </tr>\n    <tr>\n      <th>269294</th>\n      <td>GpjfBGN5L5acWNG5S-7</td>\n      <td>2020-05-06T22:54:29.138Z</td>\n      <td>2020-05-06T23:59:58:468Z</td>\n      <td>tEKpAAvN5eHKsZucm</td>\n      <td>human</td>\n      <td>Tem como você verificar a temperatura dela agora?</td>\n      <td>20-05-06T22:54</td>\n      <td>NaN</td>\n      <td>NaN</td>\n    </tr>\n    <tr>\n      <th>269295</th>\n      <td>GpjfBGN5L5acWNG5S-8</td>\n      <td>2020-05-06T23:13:03.176Z</td>\n      <td>2020-05-06T23:59:58:468Z</td>\n      <td>tEKpAAvN5eHKsZucm</td>\n      <td>human</td>\n      <td>Você acha que ela está pior?</td>\n      <td>20-05-06T23:13</td>\n      <td>NaN</td>\n      <td>NaN</td>\n    </tr>\n    <tr>\n      <th>269296</th>\n      <td>GpjfBGN5L5acWNG5S-9</td>\n      <td>2020-05-06T23:13:15.575Z</td>\n      <td>2020-05-06T23:59:58:468Z</td>\n      <td>tEKpAAvN5eHKsZucm</td>\n      <td>human</td>\n      <td>Possui alguma doença crônica?</td>\n      <td>20-05-06T23:13</td>\n      <td>NaN</td>\n      <td>NaN</td>\n    </tr>\n    <tr>\n      <th>269297</th>\n      <td>GpjfBGN5L5acWNG5S-10</td>\n      <td>2020-05-06T23:56:45.443Z</td>\n      <td>2020-05-06T23:59:58:468Z</td>\n      <td>tEKpAAvN5eHKsZucm</td>\n      <td>human</td>\n      <td>Devido a inatividade, mesmo após nosso chamado, sua conversa será encerrada. Lembre-se estamos a disposição 24 horas para qualquer dúvida. Entre em contato novamente se precisar. Obrigada pelo contato, tenha um bom dia!</td>\n      <td>20-05-06T23:56</td>\n      <td>NaN</td>\n      <td>NaN</td>\n    </tr>\n  </tbody>\n</table>\n<p>569485 rows × 9 columns</p>\n</div>"
     },
     "execution_count": 11,
     "metadata": {},
     "output_type": "execute_result"
    }
   ],
   "source": [
    "conversations.loc[:,['id', 'seq']] = conversations.loc[:, '_id'].str.split(\"-\", expand=True)\n",
    "\n",
    "# conversations['seq'] = conversations['seq'].astype('int64')\n",
    "\n",
    "conversations"
   ],
   "metadata": {
    "collapsed": false,
    "pycharm": {
     "name": "#%%\n"
    }
   }
  },
  {
   "cell_type": "code",
   "execution_count": 18,
   "outputs": [
    {
     "data": {
      "text/plain": "array(['oHRYCNHwBZKbyfBiL', 'KL4dD3Jqcv8ALQCe5', 'CpfyLKmjgxFqbz7LB', ...,\n       'wjHikL3AgmEA968jw', 'A3b8WdySGGQMHTDMH', 'WmtmvuytDYo8FzBRF'],\n      dtype=object)"
     },
     "execution_count": 18,
     "metadata": {},
     "output_type": "execute_result"
    }
   ],
   "source": [
    "conversations['idp'].unique()"
   ],
   "metadata": {
    "collapsed": false,
    "pycharm": {
     "name": "#%%\n"
    }
   }
  },
  {
   "cell_type": "code",
   "execution_count": 26,
   "outputs": [],
   "source": [
    "conversations[conversations['idp'] == 'vd5yki5pF2fLtAmcK'][['ori','_id','txt']].to_csv('tmp.csv')"
   ],
   "metadata": {
    "collapsed": false,
    "pycharm": {
     "name": "#%%\n"
    }
   }
  },
  {
   "cell_type": "code",
   "execution_count": null,
   "outputs": [],
   "source": [],
   "metadata": {
    "collapsed": false,
    "pycharm": {
     "name": "#%%\n"
    }
   }
  }
 ],
 "metadata": {
  "colab": {
   "collapsed_sections": [
    "SHnJPpQsikcN",
    "4E6Ebpyrir0I",
    "TYtTtJ3Ti1J9",
    "bv-QX-Xti0e1",
    "dFC9KfQxacNL",
    "nB5cvOyv2u0w",
    "zR8Hfj4123QF",
    "BWVqNIoi9bDh",
    "mPC8mRXHKfOh",
    "y4SsXALhUSYp",
    "3t5cnwyQkQeq"
   ],
   "name": "01_pre_processing.ipynb",
   "provenance": []
  },
  "kernelspec": {
   "display_name": "Python 3.10.4 ('venv': venv)",
   "language": "python",
   "name": "python3"
  },
  "language_info": {
   "codemirror_mode": {
    "name": "ipython",
    "version": 3
   },
   "file_extension": ".py",
   "mimetype": "text/x-python",
   "name": "python",
   "nbconvert_exporter": "python",
   "pygments_lexer": "ipython3",
   "version": "3.10.4"
  },
  "vscode": {
   "interpreter": {
    "hash": "da386d383b1a4f2ab977ab0cc371ee70ac9bd2160da3f0bf5cca7f94d497a6a3"
   }
  }
 },
 "nbformat": 4,
 "nbformat_minor": 0
}
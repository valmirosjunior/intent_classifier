{
 "cells": [
  {
   "cell_type": "code",
   "execution_count": 10,
   "metadata": {
    "colab": {
     "base_uri": "https://localhost:8080/"
    },
    "id": "2SdcvAYjildX",
    "outputId": "65c05073-7959-4924-8540-9124cbc1b185"
   },
   "outputs": [
    {
     "name": "stdout",
     "output_type": "stream",
     "text": [
      "The autoreload extension is already loaded. To reload it, use:\n",
      "  %reload_ext autoreload\n"
     ]
    }
   ],
   "source": [
    "% load_ext autoreload\n",
    "\n",
    "% autoreload 2"
   ]
  },
  {
   "cell_type": "code",
   "execution_count": 16,
   "outputs": [],
   "source": [
    "import pandas as pd\n",
    "from src.core import file_manager as fm\n",
    "from src.pre_processing import pipeline_helper as ph"
   ],
   "metadata": {
    "collapsed": false,
    "pycharm": {
     "name": "#%%\n"
    }
   }
  },
  {
   "cell_type": "code",
   "execution_count": 17,
   "outputs": [],
   "source": [
    "pd.options.display.max_rows = 100000\n",
    "pd.set_option('display.max_colwidth', None)"
   ],
   "metadata": {
    "collapsed": false,
    "pycharm": {
     "name": "#%%\n"
    }
   }
  },
  {
   "cell_type": "code",
   "execution_count": 18,
   "metadata": {},
   "outputs": [
    {
     "name": "stdout",
     "output_type": "stream",
     "text": [
      "reading the data...\n",
      "/home/valmir/dev/python/intent_classifier/data/input/may/Cópia de messages_covida_01mai.json\n",
      "/home/valmir/dev/python/intent_classifier/data/input/may/Cópia de messages_covida_02mai.json\n",
      "/home/valmir/dev/python/intent_classifier/data/input/may/Cópia de messages_covida_03mai.json\n",
      "/home/valmir/dev/python/intent_classifier/data/input/may/Cópia de messages_covida_04mai_part1.json\n",
      "/home/valmir/dev/python/intent_classifier/data/input/may/Cópia de messages_covida_04mai_part2.json\n",
      "/home/valmir/dev/python/intent_classifier/data/input/may/Cópia de messages_covida_05mai.json\n",
      "/home/valmir/dev/python/intent_classifier/data/input/may/Cópia de messages_covida_06mai_part1.json\n",
      "/home/valmir/dev/python/intent_classifier/data/input/may/Cópia de messages_covida_06mai_part2.json\n",
      "Getting the better conversations...\n",
      "Getting human interactions...\n"
     ]
    },
    {
     "name": "stderr",
     "output_type": "stream",
     "text": [
      "/home/valmir/dev/python/intent_classifier/src/pre_processing/pipeline_helper.py:27: SettingWithCopyWarning: \n",
      "A value is trying to be set on a copy of a slice from a DataFrame.\n",
      "Try using .loc[row_indexer,col_indexer] = value instead\n",
      "\n",
      "See the caveats in the documentation: https://pandas.pydata.org/pandas-docs/stable/user_guide/indexing.html#returning-a-view-versus-a-copy\n",
      "  conversations[['id', 'seq']] = conversations['_id'].str.split(\"-\", expand=True)\n",
      "/home/valmir/dev/python/intent_classifier/src/pre_processing/pipeline_helper.py:27: SettingWithCopyWarning: \n",
      "A value is trying to be set on a copy of a slice from a DataFrame.\n",
      "Try using .loc[row_indexer,col_indexer] = value instead\n",
      "\n",
      "See the caveats in the documentation: https://pandas.pydata.org/pandas-docs/stable/user_guide/indexing.html#returning-a-view-versus-a-copy\n",
      "  conversations[['id', 'seq']] = conversations['_id'].str.split(\"-\", expand=True)\n",
      "/home/valmir/dev/python/intent_classifier/src/pre_processing/pipeline_helper.py:28: SettingWithCopyWarning: \n",
      "A value is trying to be set on a copy of a slice from a DataFrame.\n",
      "Try using .loc[row_indexer,col_indexer] = value instead\n",
      "\n",
      "See the caveats in the documentation: https://pandas.pydata.org/pandas-docs/stable/user_guide/indexing.html#returning-a-view-versus-a-copy\n",
      "  conversations['seq'] = conversations['seq'].astype('int64')\n"
     ]
    },
    {
     "name": "stdout",
     "output_type": "stream",
     "text": [
      "Pre processing conversations...\n",
      "Saving original txt\n",
      "Removing emojis....\n",
      "Removing break lines....\n",
      "Dropping duplicates....\n",
      "Filtering number values....\n",
      "Filtering link values....\n",
      "Filtering loc or per values....\n",
      "replacing empty values...\n",
      "Dropping null values....\n",
      "Storing data...\n",
      "Describing data...\n",
      "\n",
      "=========================================\n",
      "Total de sentenças: 1768712\n",
      "Total de sentenças dos pacientes: 727525\n",
      "Total de sentenças dos atendentes: 142872\n",
      "Total de diálogos: 16418\n",
      "\n",
      "=========================================\n",
      "Total de sentenças: 53748\n",
      "Total de sentenças dos pacientes: 26741\n",
      "Total de sentenças dos atendentes: 27007\n",
      "Total de diálogos: 1237\n",
      "The pipeline has been fineshed!\n"
     ]
    }
   ],
   "source": [
    "original_df, processed_conversations = ph.run_pipeline(input_dir=fm.filename_from_data_dir('input/may/'))"
   ]
  },
  {
   "cell_type": "code",
   "execution_count": 19,
   "outputs": [
    {
     "data": {
      "text/plain": "                   _id                       cri                       atu  \\\n0  LqwjiqmneczgYtDpE-0  2020-04-30T23:44:08.017Z  2020-05-01T00:00:49:943Z   \n1  LqwjiqmneczgYtDpE-1  2020-04-30T23:46:16.986Z  2020-05-01T00:00:49:943Z   \n2  LqwjiqmneczgYtDpE-2  2020-04-30T23:46:30.118Z  2020-05-01T00:00:49:943Z   \n3  LqwjiqmneczgYtDpE-3  2020-04-30T23:46:45.156Z  2020-05-01T00:00:49:943Z   \n4  LqwjiqmneczgYtDpE-4  2020-04-30T23:46:56.070Z  2020-05-01T00:00:49:943Z   \n\n                 idp      ori  \\\n0  Nyyyfp6aXRnLxCLYt  patient   \n1  Nyyyfp6aXRnLxCLYt    human   \n2  Nyyyfp6aXRnLxCLYt    human   \n3  Nyyyfp6aXRnLxCLYt    human   \n4  Nyyyfp6aXRnLxCLYt  patient   \n\n                                                           txt      created_at  \n0                                                           Ok  20-04-30T23:44  \n1  Boa noite Ana Júlia, meu nome é Alice e vou te atender hoje  20-04-30T23:46  \n2                                      Como posso ajudar hoje?  20-04-30T23:46  \n3         Vejo que está com febre, falta de ar e tosse, certo?  20-04-30T23:46  \n4                                                          sim  20-04-30T23:46  ",
      "text/html": "<div>\n<style scoped>\n    .dataframe tbody tr th:only-of-type {\n        vertical-align: middle;\n    }\n\n    .dataframe tbody tr th {\n        vertical-align: top;\n    }\n\n    .dataframe thead th {\n        text-align: right;\n    }\n</style>\n<table border=\"1\" class=\"dataframe\">\n  <thead>\n    <tr style=\"text-align: right;\">\n      <th></th>\n      <th>_id</th>\n      <th>cri</th>\n      <th>atu</th>\n      <th>idp</th>\n      <th>ori</th>\n      <th>txt</th>\n      <th>created_at</th>\n    </tr>\n  </thead>\n  <tbody>\n    <tr>\n      <th>0</th>\n      <td>LqwjiqmneczgYtDpE-0</td>\n      <td>2020-04-30T23:44:08.017Z</td>\n      <td>2020-05-01T00:00:49:943Z</td>\n      <td>Nyyyfp6aXRnLxCLYt</td>\n      <td>patient</td>\n      <td>Ok</td>\n      <td>20-04-30T23:44</td>\n    </tr>\n    <tr>\n      <th>1</th>\n      <td>LqwjiqmneczgYtDpE-1</td>\n      <td>2020-04-30T23:46:16.986Z</td>\n      <td>2020-05-01T00:00:49:943Z</td>\n      <td>Nyyyfp6aXRnLxCLYt</td>\n      <td>human</td>\n      <td>Boa noite Ana Júlia, meu nome é Alice e vou te atender hoje</td>\n      <td>20-04-30T23:46</td>\n    </tr>\n    <tr>\n      <th>2</th>\n      <td>LqwjiqmneczgYtDpE-2</td>\n      <td>2020-04-30T23:46:30.118Z</td>\n      <td>2020-05-01T00:00:49:943Z</td>\n      <td>Nyyyfp6aXRnLxCLYt</td>\n      <td>human</td>\n      <td>Como posso ajudar hoje?</td>\n      <td>20-04-30T23:46</td>\n    </tr>\n    <tr>\n      <th>3</th>\n      <td>LqwjiqmneczgYtDpE-3</td>\n      <td>2020-04-30T23:46:45.156Z</td>\n      <td>2020-05-01T00:00:49:943Z</td>\n      <td>Nyyyfp6aXRnLxCLYt</td>\n      <td>human</td>\n      <td>Vejo que está com febre, falta de ar e tosse, certo?</td>\n      <td>20-04-30T23:46</td>\n    </tr>\n    <tr>\n      <th>4</th>\n      <td>LqwjiqmneczgYtDpE-4</td>\n      <td>2020-04-30T23:46:56.070Z</td>\n      <td>2020-05-01T00:00:49:943Z</td>\n      <td>Nyyyfp6aXRnLxCLYt</td>\n      <td>patient</td>\n      <td>sim</td>\n      <td>20-04-30T23:46</td>\n    </tr>\n  </tbody>\n</table>\n</div>"
     },
     "execution_count": 19,
     "metadata": {},
     "output_type": "execute_result"
    }
   ],
   "source": [
    "original_df.head()"
   ],
   "metadata": {
    "collapsed": false,
    "pycharm": {
     "name": "#%%\n"
    }
   }
  },
  {
   "cell_type": "code",
   "execution_count": 20,
   "outputs": [
    {
     "data": {
      "text/plain": "                        _id                       cri  \\\n188298  7Nmt894SbdLamfwAo-0  2020-05-04T21:14:57.060Z   \n188299  7Nmt894SbdLamfwAo-1  2020-05-04T21:15:55.119Z   \n188300  7Nmt894SbdLamfwAo-2  2020-05-04T21:16:21.726Z   \n188301  7Nmt894SbdLamfwAo-3  2020-05-04T21:16:49.298Z   \n188302  7Nmt894SbdLamfwAo-4  2020-05-04T21:17:12.833Z   \n\n                             atu                idp      ori  \\\n188298  2020-05-04T21:53:06:605Z  2CNgApLrPbw5bsyxG    human   \n188299  2020-05-04T21:53:06:605Z  2CNgApLrPbw5bsyxG  patient   \n188300  2020-05-04T21:53:06:605Z  2CNgApLrPbw5bsyxG  patient   \n188301  2020-05-04T21:53:06:605Z  2CNgApLrPbw5bsyxG  patient   \n188302  2020-05-04T21:53:06:605Z  2CNgApLrPbw5bsyxG    human   \n\n                                                                                                                              txt  \\\n188298  Olá Amanda, sou Marcela, Psicóloga, e poderei por aqui hoje lhe dar orientações em Saúde Mental. Em que posso lhe ajudar?   \n188299                                                                                    Tô  muito nervosa Marcela com tudo isso   \n188300                                                             O meu problema  é  psicológico    nem dormi estou  conseguindo   \n188301                                                                                                             Com muito medo   \n188302                                                                                      Você já se sentiu assim antes Amanda?   \n\n            created_at                 id  seq  \\\n188298  20-05-04T21:14  7Nmt894SbdLamfwAo    0   \n188299  20-05-04T21:15  7Nmt894SbdLamfwAo    1   \n188300  20-05-04T21:16  7Nmt894SbdLamfwAo    2   \n188301  20-05-04T21:16  7Nmt894SbdLamfwAo    3   \n188302  20-05-04T21:17  7Nmt894SbdLamfwAo    4   \n\n                                                                                                                     original_txt  \n188298  Olá Amanda, sou Marcela, Psicóloga, e poderei por aqui hoje lhe dar orientações em Saúde Mental. Em que posso lhe ajudar?  \n188299                                                                                    Tô  muito nervosa Marcela com tudo isso  \n188300                                                             O meu problema  é  psicológico    nem dormi estou  conseguindo  \n188301                                                                                                             Com muito medo  \n188302                                                                                      Você já se sentiu assim antes Amanda?  ",
      "text/html": "<div>\n<style scoped>\n    .dataframe tbody tr th:only-of-type {\n        vertical-align: middle;\n    }\n\n    .dataframe tbody tr th {\n        vertical-align: top;\n    }\n\n    .dataframe thead th {\n        text-align: right;\n    }\n</style>\n<table border=\"1\" class=\"dataframe\">\n  <thead>\n    <tr style=\"text-align: right;\">\n      <th></th>\n      <th>_id</th>\n      <th>cri</th>\n      <th>atu</th>\n      <th>idp</th>\n      <th>ori</th>\n      <th>txt</th>\n      <th>created_at</th>\n      <th>id</th>\n      <th>seq</th>\n      <th>original_txt</th>\n    </tr>\n  </thead>\n  <tbody>\n    <tr>\n      <th>188298</th>\n      <td>7Nmt894SbdLamfwAo-0</td>\n      <td>2020-05-04T21:14:57.060Z</td>\n      <td>2020-05-04T21:53:06:605Z</td>\n      <td>2CNgApLrPbw5bsyxG</td>\n      <td>human</td>\n      <td>Olá Amanda, sou Marcela, Psicóloga, e poderei por aqui hoje lhe dar orientações em Saúde Mental. Em que posso lhe ajudar?</td>\n      <td>20-05-04T21:14</td>\n      <td>7Nmt894SbdLamfwAo</td>\n      <td>0</td>\n      <td>Olá Amanda, sou Marcela, Psicóloga, e poderei por aqui hoje lhe dar orientações em Saúde Mental. Em que posso lhe ajudar?</td>\n    </tr>\n    <tr>\n      <th>188299</th>\n      <td>7Nmt894SbdLamfwAo-1</td>\n      <td>2020-05-04T21:15:55.119Z</td>\n      <td>2020-05-04T21:53:06:605Z</td>\n      <td>2CNgApLrPbw5bsyxG</td>\n      <td>patient</td>\n      <td>Tô  muito nervosa Marcela com tudo isso</td>\n      <td>20-05-04T21:15</td>\n      <td>7Nmt894SbdLamfwAo</td>\n      <td>1</td>\n      <td>Tô  muito nervosa Marcela com tudo isso</td>\n    </tr>\n    <tr>\n      <th>188300</th>\n      <td>7Nmt894SbdLamfwAo-2</td>\n      <td>2020-05-04T21:16:21.726Z</td>\n      <td>2020-05-04T21:53:06:605Z</td>\n      <td>2CNgApLrPbw5bsyxG</td>\n      <td>patient</td>\n      <td>O meu problema  é  psicológico    nem dormi estou  conseguindo</td>\n      <td>20-05-04T21:16</td>\n      <td>7Nmt894SbdLamfwAo</td>\n      <td>2</td>\n      <td>O meu problema  é  psicológico    nem dormi estou  conseguindo</td>\n    </tr>\n    <tr>\n      <th>188301</th>\n      <td>7Nmt894SbdLamfwAo-3</td>\n      <td>2020-05-04T21:16:49.298Z</td>\n      <td>2020-05-04T21:53:06:605Z</td>\n      <td>2CNgApLrPbw5bsyxG</td>\n      <td>patient</td>\n      <td>Com muito medo</td>\n      <td>20-05-04T21:16</td>\n      <td>7Nmt894SbdLamfwAo</td>\n      <td>3</td>\n      <td>Com muito medo</td>\n    </tr>\n    <tr>\n      <th>188302</th>\n      <td>7Nmt894SbdLamfwAo-4</td>\n      <td>2020-05-04T21:17:12.833Z</td>\n      <td>2020-05-04T21:53:06:605Z</td>\n      <td>2CNgApLrPbw5bsyxG</td>\n      <td>human</td>\n      <td>Você já se sentiu assim antes Amanda?</td>\n      <td>20-05-04T21:17</td>\n      <td>7Nmt894SbdLamfwAo</td>\n      <td>4</td>\n      <td>Você já se sentiu assim antes Amanda?</td>\n    </tr>\n  </tbody>\n</table>\n</div>"
     },
     "execution_count": 20,
     "metadata": {},
     "output_type": "execute_result"
    }
   ],
   "source": [
    "processed_conversations.head()"
   ],
   "metadata": {
    "collapsed": false,
    "pycharm": {
     "name": "#%%\n"
    }
   }
  },
  {
   "cell_type": "markdown",
   "metadata": {
    "id": "y4SsXALhUSYp"
   },
   "source": [
    "# Read filtered conversations"
   ]
  },
  {
   "cell_type": "code",
   "execution_count": 14,
   "metadata": {
    "colab": {
     "base_uri": "https://localhost:8080/",
     "height": 209
    },
    "id": "ZFdOqcqHDLtE",
    "outputId": "bab93f13-5be0-4429-a3fc-028412de6f6a",
    "pycharm": {
     "name": "#%%\n"
    }
   },
   "outputs": [
    {
     "data": {
      "text/plain": "                   _id                       cri                       atu  \\\n0  7Nmt894SbdLamfwAo-0  2020-05-04T21:14:57.060Z  2020-05-04T21:53:06:605Z   \n1  7Nmt894SbdLamfwAo-1  2020-05-04T21:15:55.119Z  2020-05-04T21:53:06:605Z   \n\n                 idp      ori  \\\n0  2CNgApLrPbw5bsyxG    human   \n1  2CNgApLrPbw5bsyxG  patient   \n\n                                                                                                                         txt  \\\n0  Olá Amanda, sou Marcela, Psicóloga, e poderei por aqui hoje lhe dar orientações em Saúde Mental. Em que posso lhe ajudar?   \n1                                                                                    Tô  muito nervosa Marcela com tudo isso   \n\n       created_at                 id  seq  \\\n0  20-05-04T21:14  7Nmt894SbdLamfwAo    0   \n1  20-05-04T21:15  7Nmt894SbdLamfwAo    1   \n\n                                                                                                                original_txt  \n0  Olá Amanda, sou Marcela, Psicóloga, e poderei por aqui hoje lhe dar orientações em Saúde Mental. Em que posso lhe ajudar?  \n1                                                                                    Tô  muito nervosa Marcela com tudo isso  ",
      "text/html": "<div>\n<style scoped>\n    .dataframe tbody tr th:only-of-type {\n        vertical-align: middle;\n    }\n\n    .dataframe tbody tr th {\n        vertical-align: top;\n    }\n\n    .dataframe thead th {\n        text-align: right;\n    }\n</style>\n<table border=\"1\" class=\"dataframe\">\n  <thead>\n    <tr style=\"text-align: right;\">\n      <th></th>\n      <th>_id</th>\n      <th>cri</th>\n      <th>atu</th>\n      <th>idp</th>\n      <th>ori</th>\n      <th>txt</th>\n      <th>created_at</th>\n      <th>id</th>\n      <th>seq</th>\n      <th>original_txt</th>\n    </tr>\n  </thead>\n  <tbody>\n    <tr>\n      <th>0</th>\n      <td>7Nmt894SbdLamfwAo-0</td>\n      <td>2020-05-04T21:14:57.060Z</td>\n      <td>2020-05-04T21:53:06:605Z</td>\n      <td>2CNgApLrPbw5bsyxG</td>\n      <td>human</td>\n      <td>Olá Amanda, sou Marcela, Psicóloga, e poderei por aqui hoje lhe dar orientações em Saúde Mental. Em que posso lhe ajudar?</td>\n      <td>20-05-04T21:14</td>\n      <td>7Nmt894SbdLamfwAo</td>\n      <td>0</td>\n      <td>Olá Amanda, sou Marcela, Psicóloga, e poderei por aqui hoje lhe dar orientações em Saúde Mental. Em que posso lhe ajudar?</td>\n    </tr>\n    <tr>\n      <th>1</th>\n      <td>7Nmt894SbdLamfwAo-1</td>\n      <td>2020-05-04T21:15:55.119Z</td>\n      <td>2020-05-04T21:53:06:605Z</td>\n      <td>2CNgApLrPbw5bsyxG</td>\n      <td>patient</td>\n      <td>Tô  muito nervosa Marcela com tudo isso</td>\n      <td>20-05-04T21:15</td>\n      <td>7Nmt894SbdLamfwAo</td>\n      <td>1</td>\n      <td>Tô  muito nervosa Marcela com tudo isso</td>\n    </tr>\n  </tbody>\n</table>\n</div>"
     },
     "execution_count": 14,
     "metadata": {},
     "output_type": "execute_result"
    }
   ],
   "source": [
    "conversations = pd.read_csv(fm.filename_from_data_dir('output/clean_conversations.csv'))\n",
    "\n",
    "conversations.head(2)"
   ]
  }
 ],
 "metadata": {
  "colab": {
   "collapsed_sections": [
    "SHnJPpQsikcN",
    "4E6Ebpyrir0I",
    "TYtTtJ3Ti1J9",
    "bv-QX-Xti0e1",
    "dFC9KfQxacNL",
    "nB5cvOyv2u0w",
    "zR8Hfj4123QF",
    "BWVqNIoi9bDh",
    "mPC8mRXHKfOh",
    "y4SsXALhUSYp",
    "3t5cnwyQkQeq"
   ],
   "name": "01_pre_processing.ipynb",
   "provenance": []
  },
  "kernelspec": {
   "display_name": "Python 3",
   "name": "python3"
  },
  "language_info": {
   "codemirror_mode": {
    "name": "ipython",
    "version": 3
   },
   "file_extension": ".py",
   "mimetype": "text/x-python",
   "name": "python",
   "nbconvert_exporter": "python",
   "pygments_lexer": "ipython3",
   "version": "3.9.7"
  }
 },
 "nbformat": 4,
 "nbformat_minor": 0
}
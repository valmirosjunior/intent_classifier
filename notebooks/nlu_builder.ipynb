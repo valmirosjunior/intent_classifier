{
 "cells": [
  {
   "cell_type": "code",
   "execution_count": 1,
   "outputs": [],
   "source": [
    "%load_ext autoreload\n",
    "\n",
    "%autoreload 2"
   ],
   "metadata": {
    "collapsed": false,
    "pycharm": {
     "name": "#%%\n"
    }
   }
  },
  {
   "cell_type": "code",
   "execution_count": 2,
   "outputs": [],
   "source": [
    "from src.nlu_builder.scripts import setup_data"
   ],
   "metadata": {
    "collapsed": false,
    "pycharm": {
     "name": "#%%\n"
    }
   }
  },
  {
   "cell_type": "code",
   "execution_count": 3,
   "outputs": [
    {
     "name": "stdout",
     "output_type": "stream",
     "text": [
      "generating /home/valmir/dev/python/intent_classifier/data/nlu_models/patient/k100/bert_pt/training_data.yml\n",
      "getting intents...\n",
      "The intent: greeting, has 1876 ecamples\n",
      "The intent: inform_medicine, has 1375 ecamples\n",
      "The intent: inform_symptoms, has 8828 ecamples\n",
      "The intent: others, has 7286 ecamples\n",
      "The intent: request_inform, has 2038 ecamples\n",
      "the content was saved in: /home/valmir/dev/python/intent_classifier/data/nlu_models/patient/k100/bert_pt/training_data.yml\n",
      "======================================================\n",
      "generating /home/valmir/dev/python/intent_classifier/data/nlu_models/patient/k100/bert_pt/test_data.yml\n",
      "getting intents...\n",
      "The intent: greeting, has 455 ecamples\n",
      "The intent: inform_medicine, has 401 ecamples\n",
      "The intent: inform_symptoms, has 2152 ecamples\n",
      "The intent: others, has 1831 ecamples\n",
      "The intent: request_inform, has 512 ecamples\n",
      "the content was saved in: /home/valmir/dev/python/intent_classifier/data/nlu_models/patient/k100/bert_pt/test_data.yml\n",
      "\n",
      "\n",
      "generating /home/valmir/dev/python/intent_classifier/data/nlu_models/patient/k100/flair_pt/training_data.yml\n",
      "getting intents...\n",
      "The intent: greeting, has 1687 ecamples\n",
      "The intent: inform_medicine, has 700 ecamples\n",
      "The intent: inform_symptoms, has 9949 ecamples\n",
      "The intent: others, has 7240 ecamples\n",
      "The intent: request_inform, has 1827 ecamples\n",
      "the content was saved in: /home/valmir/dev/python/intent_classifier/data/nlu_models/patient/k100/flair_pt/training_data.yml\n",
      "======================================================\n",
      "generating /home/valmir/dev/python/intent_classifier/data/nlu_models/patient/k100/flair_pt/test_data.yml\n",
      "getting intents...\n",
      "The intent: greeting, has 388 ecamples\n",
      "The intent: inform_medicine, has 156 ecamples\n",
      "The intent: inform_symptoms, has 2493 ecamples\n",
      "The intent: others, has 1859 ecamples\n",
      "The intent: request_inform, has 455 ecamples\n",
      "the content was saved in: /home/valmir/dev/python/intent_classifier/data/nlu_models/patient/k100/flair_pt/test_data.yml\n",
      "\n",
      "\n",
      "generating /home/valmir/dev/python/intent_classifier/data/nlu_models/patient/k100/glove/training_data.yml\n",
      "getting intents...\n",
      "The intent: greeting, has 1516 ecamples\n",
      "The intent: inform_medicine, has 528 ecamples\n",
      "The intent: inform_symptoms, has 11383 ecamples\n",
      "The intent: others, has 7186 ecamples\n",
      "The intent: request_inform, has 790 ecamples\n",
      "the content was saved in: /home/valmir/dev/python/intent_classifier/data/nlu_models/patient/k100/glove/training_data.yml\n",
      "======================================================\n",
      "generating /home/valmir/dev/python/intent_classifier/data/nlu_models/patient/k100/glove/test_data.yml\n",
      "getting intents...\n",
      "The intent: greeting, has 362 ecamples\n",
      "The intent: inform_medicine, has 148 ecamples\n",
      "The intent: inform_symptoms, has 2837 ecamples\n",
      "The intent: others, has 1813 ecamples\n",
      "The intent: request_inform, has 191 ecamples\n",
      "the content was saved in: /home/valmir/dev/python/intent_classifier/data/nlu_models/patient/k100/glove/test_data.yml\n",
      "\n",
      "\n",
      "generating /home/valmir/dev/python/intent_classifier/data/nlu_models/patient/k100/lasbe/training_data.yml\n",
      "getting intents...\n",
      "The intent: greeting, has 1656 ecamples\n",
      "The intent: inform_medicine, has 1597 ecamples\n",
      "The intent: inform_symptoms, has 7494 ecamples\n",
      "The intent: others, has 8540 ecamples\n",
      "The intent: request_inform, has 2116 ecamples\n",
      "the content was saved in: /home/valmir/dev/python/intent_classifier/data/nlu_models/patient/k100/lasbe/training_data.yml\n",
      "======================================================\n",
      "generating /home/valmir/dev/python/intent_classifier/data/nlu_models/patient/k100/lasbe/test_data.yml\n",
      "getting intents...\n",
      "The intent: greeting, has 363 ecamples\n",
      "The intent: inform_medicine, has 395 ecamples\n",
      "The intent: inform_symptoms, has 1858 ecamples\n",
      "The intent: others, has 2225 ecamples\n",
      "The intent: request_inform, has 510 ecamples\n",
      "the content was saved in: /home/valmir/dev/python/intent_classifier/data/nlu_models/patient/k100/lasbe/test_data.yml\n",
      "\n",
      "\n",
      "generating /home/valmir/dev/python/intent_classifier/data/nlu_models/patient/k100/use/training_data.yml\n",
      "getting intents...\n",
      "The intent: greeting, has 1177 ecamples\n",
      "The intent: inform_medicine, has 1492 ecamples\n",
      "The intent: inform_symptoms, has 6593 ecamples\n",
      "The intent: others, has 10296 ecamples\n",
      "The intent: request_inform, has 1845 ecamples\n",
      "the content was saved in: /home/valmir/dev/python/intent_classifier/data/nlu_models/patient/k100/use/training_data.yml\n",
      "======================================================\n",
      "generating /home/valmir/dev/python/intent_classifier/data/nlu_models/patient/k100/use/test_data.yml\n",
      "getting intents...\n",
      "The intent: greeting, has 271 ecamples\n",
      "The intent: inform_medicine, has 381 ecamples\n",
      "The intent: inform_symptoms, has 1625 ecamples\n",
      "The intent: others, has 2622 ecamples\n",
      "The intent: request_inform, has 452 ecamples\n",
      "the content was saved in: /home/valmir/dev/python/intent_classifier/data/nlu_models/patient/k100/use/test_data.yml\n",
      "\n",
      "\n"
     ]
    }
   ],
   "source": [
    "setup_data.run_pipeline(actor='patient', subfolder='k100')"
   ],
   "metadata": {
    "collapsed": false,
    "pycharm": {
     "name": "#%%\n"
    }
   }
  },
  {
   "cell_type": "code",
   "execution_count": null,
   "outputs": [],
   "source": [],
   "metadata": {
    "collapsed": false,
    "pycharm": {
     "name": "#%%\n"
    }
   }
  }
 ],
 "metadata": {
  "kernelspec": {
   "display_name": "Python 3",
   "language": "python",
   "name": "python3"
  },
  "language_info": {
   "codemirror_mode": {
    "name": "ipython",
    "version": 2
   },
   "file_extension": ".py",
   "mimetype": "text/x-python",
   "name": "python",
   "nbconvert_exporter": "python",
   "pygments_lexer": "ipython2",
   "version": "2.7.6"
  }
 },
 "nbformat": 4,
 "nbformat_minor": 0
}
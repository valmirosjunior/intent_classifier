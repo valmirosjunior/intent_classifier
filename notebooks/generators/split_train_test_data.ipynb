{
 "cells": [
  {
   "cell_type": "code",
   "execution_count": 1,
   "metadata": {
    "collapsed": false,
    "pycharm": {
     "name": "#%%\n"
    }
   },
   "outputs": [],
   "source": [
    "%load_ext autoreload\n",
    "\n",
    "%autoreload 2"
   ]
  },
  {
   "cell_type": "code",
   "execution_count": 2,
   "metadata": {
    "collapsed": false,
    "pycharm": {
     "name": "#%%\n"
    }
   },
   "outputs": [],
   "source": [
    "import pandas as pd\n",
    "from sklearn.model_selection import train_test_split\n",
    "\n",
    "\n",
    "from src.core import file_manager as fm\n",
    "from src.nlu_builder.scripts import setup_data"
   ]
  },
  {
   "cell_type": "code",
   "execution_count": null,
   "metadata": {},
   "outputs": [],
   "source": [
    "actor = 'patient'\n",
    "variation = 'without_others_intent/k100_without_sentences_higher_than_median'\n",
    "work_dir = fm.filename_from_data_dir( f'output/{actor}/{variation}')\n",
    "\n",
    "sentences_to_ignore = pd.read_csv(f'{work_dir}/intersection_300_sentences.csv')"
   ]
  },
  {
   "cell_type": "code",
   "execution_count": 4,
   "metadata": {},
   "outputs": [
    {
     "name": "stdout",
     "output_type": "stream",
     "text": [
      "generating /home/valmir/dev/python/intent_classifier/data/output/patient/without_others_intent/k100_without_sentences_higher_than_median/intersection_300_sentences_with_label.yml\n",
      "getting intents...\n",
      "The intent: greeting, has 58 examples\n",
      "The intent: inform_medicine, has 14 examples\n",
      "The intent: inform_symptoms, has 182 examples\n",
      "The intent: request_inform, has 43 examples\n",
      "the content was saved in: /home/valmir/dev/python/intent_classifier/data/output/patient/without_others_intent/k100_without_sentences_higher_than_median/intersection_300_sentences_with_label.yml\n"
     ]
    }
   ],
   "source": [
    "file = fm.filename_from_data_dir( f'output/patient/{variation}/intersection_300_sentences_with_label.csv')\n",
    "\n",
    "data_to_valid = pd.read_csv(file)\n",
    "\n",
    "data_to_valid = data_to_valid.loc[data_to_valid.intent != 'others']\n",
    "\n",
    "data_to_valid.intent.value_counts()\n",
    "\n",
    "setup_data.generate_nlu_file_from_df(data_to_valid, f'{work_dir}/intersection_300_sentences_with_label.yml')"
   ]
  },
  {
   "cell_type": "code",
   "execution_count": 3,
   "metadata": {},
   "outputs": [],
   "source": [
    "def create_train_test_data(embedding_name):\n",
    "  embedding_dir = f'{work_dir}/{embedding_name}'\n",
    "\n",
    "  df = fm.read_annotated_df_with_embeddings(embedding_name)\n",
    "\n",
    "  df_to_use = df.loc[~df['txt'].isin(sentences_to_ignore['txt'])]\n",
    "  df_train, df_test = train_test_split(df_to_use, test_size=0.3, random_state=42)\n",
    "\n",
    "  df_train.to_csv(f'{embedding_dir}/training_data.csv', index=False)\n",
    "  df_test.to_csv(f'{embedding_dir}/test_data.csv', index=False)\n",
    "\n",
    "  setup_data.generate_nlu_file_from_df(df_train, f'{embedding_dir}/training_data.yml')\n",
    "  setup_data.generate_nlu_file_from_df(df_test, f'{embedding_dir}/test_data.yml')\n",
    "  \n",
    "  return df_train.txt.shape, df_test.txt.shape"
   ]
  },
  {
   "cell_type": "code",
   "execution_count": 5,
   "metadata": {},
   "outputs": [
    {
     "name": "stdout",
     "output_type": "stream",
     "text": [
      "generating /home/valmir/dev/python/intent_classifier/data/output/patient/without_others_intent/k100_without_sentences_higher_than_median/bert_pt/training_data.yml\n",
      "getting intents...\n",
      "The intent: greeting, has 785 examples\n",
      "The intent: inform_medicine, has 623 examples\n",
      "The intent: inform_symptoms, has 3699 examples\n",
      "The intent: request_inform, has 868 examples\n",
      "the content was saved in: /home/valmir/dev/python/intent_classifier/data/output/patient/without_others_intent/k100_without_sentences_higher_than_median/bert_pt/training_data.yml\n",
      "generating /home/valmir/dev/python/intent_classifier/data/output/patient/without_others_intent/k100_without_sentences_higher_than_median/bert_pt/test_data.yml\n",
      "getting intents...\n",
      "The intent: greeting, has 332 examples\n",
      "The intent: inform_medicine, has 255 examples\n",
      "The intent: inform_symptoms, has 1599 examples\n",
      "The intent: request_inform, has 376 examples\n",
      "the content was saved in: /home/valmir/dev/python/intent_classifier/data/output/patient/without_others_intent/k100_without_sentences_higher_than_median/bert_pt/test_data.yml\n"
     ]
    },
    {
     "data": {
      "text/plain": [
       "((5975,), (2562,))"
      ]
     },
     "execution_count": 5,
     "metadata": {},
     "output_type": "execute_result"
    }
   ],
   "source": [
    "create_train_test_data('bert_pt')"
   ]
  },
  {
   "cell_type": "code",
   "execution_count": 6,
   "metadata": {},
   "outputs": [
    {
     "name": "stdout",
     "output_type": "stream",
     "text": [
      "generating /home/valmir/dev/python/intent_classifier/data/output/patient/without_others_intent/k100_without_sentences_higher_than_median/flair_pt/training_data.yml\n",
      "getting intents...\n",
      "The intent: greeting, has 685 examples\n",
      "The intent: inform_medicine, has 293 examples\n",
      "The intent: inform_symptoms, has 4232 examples\n",
      "The intent: request_inform, has 768 examples\n",
      "the content was saved in: /home/valmir/dev/python/intent_classifier/data/output/patient/without_others_intent/k100_without_sentences_higher_than_median/flair_pt/training_data.yml\n",
      "generating /home/valmir/dev/python/intent_classifier/data/output/patient/without_others_intent/k100_without_sentences_higher_than_median/flair_pt/test_data.yml\n",
      "getting intents...\n",
      "The intent: greeting, has 297 examples\n",
      "The intent: inform_medicine, has 123 examples\n",
      "The intent: inform_symptoms, has 1800 examples\n",
      "The intent: request_inform, has 342 examples\n",
      "the content was saved in: /home/valmir/dev/python/intent_classifier/data/output/patient/without_others_intent/k100_without_sentences_higher_than_median/flair_pt/test_data.yml\n"
     ]
    },
    {
     "data": {
      "text/plain": [
       "((5978,), (2562,))"
      ]
     },
     "execution_count": 6,
     "metadata": {},
     "output_type": "execute_result"
    }
   ],
   "source": [
    "create_train_test_data('flair_pt')"
   ]
  },
  {
   "cell_type": "code",
   "execution_count": 7,
   "metadata": {},
   "outputs": [
    {
     "name": "stdout",
     "output_type": "stream",
     "text": [
      "generating /home/valmir/dev/python/intent_classifier/data/output/patient/without_others_intent/k100_without_sentences_higher_than_median/glove/training_data.yml\n",
      "getting intents...\n",
      "The intent: greeting, has 621 examples\n",
      "The intent: inform_medicine, has 230 examples\n",
      "The intent: inform_symptoms, has 4839 examples\n",
      "The intent: request_inform, has 330 examples\n",
      "the content was saved in: /home/valmir/dev/python/intent_classifier/data/output/patient/without_others_intent/k100_without_sentences_higher_than_median/glove/training_data.yml\n",
      "generating /home/valmir/dev/python/intent_classifier/data/output/patient/without_others_intent/k100_without_sentences_higher_than_median/glove/test_data.yml\n",
      "getting intents...\n",
      "The intent: greeting, has 272 examples\n",
      "The intent: inform_medicine, has 100 examples\n",
      "The intent: inform_symptoms, has 2062 examples\n",
      "The intent: request_inform, has 146 examples\n",
      "the content was saved in: /home/valmir/dev/python/intent_classifier/data/output/patient/without_others_intent/k100_without_sentences_higher_than_median/glove/test_data.yml\n"
     ]
    },
    {
     "data": {
      "text/plain": [
       "((6020,), (2580,))"
      ]
     },
     "execution_count": 7,
     "metadata": {},
     "output_type": "execute_result"
    }
   ],
   "source": [
    "create_train_test_data('glove')"
   ]
  },
  {
   "cell_type": "code",
   "execution_count": 8,
   "metadata": {},
   "outputs": [
    {
     "name": "stdout",
     "output_type": "stream",
     "text": [
      "generating /home/valmir/dev/python/intent_classifier/data/output/patient/without_others_intent/k100_without_sentences_higher_than_median/lasbe/training_data.yml\n",
      "getting intents...\n",
      "The intent: greeting, has 677 examples\n",
      "The intent: inform_medicine, has 664 examples\n",
      "The intent: inform_symptoms, has 3138 examples\n",
      "The intent: request_inform, has 915 examples\n",
      "the content was saved in: /home/valmir/dev/python/intent_classifier/data/output/patient/without_others_intent/k100_without_sentences_higher_than_median/lasbe/training_data.yml\n",
      "generating /home/valmir/dev/python/intent_classifier/data/output/patient/without_others_intent/k100_without_sentences_higher_than_median/lasbe/test_data.yml\n",
      "getting intents...\n",
      "The intent: greeting, has 277 examples\n",
      "The intent: inform_medicine, has 317 examples\n",
      "The intent: inform_symptoms, has 1351 examples\n",
      "The intent: request_inform, has 368 examples\n",
      "the content was saved in: /home/valmir/dev/python/intent_classifier/data/output/patient/without_others_intent/k100_without_sentences_higher_than_median/lasbe/test_data.yml\n"
     ]
    },
    {
     "data": {
      "text/plain": [
       "((5394,), (2313,))"
      ]
     },
     "execution_count": 8,
     "metadata": {},
     "output_type": "execute_result"
    }
   ],
   "source": [
    "create_train_test_data('lasbe')"
   ]
  },
  {
   "cell_type": "code",
   "execution_count": 9,
   "metadata": {},
   "outputs": [
    {
     "name": "stdout",
     "output_type": "stream",
     "text": [
      "generating /home/valmir/dev/python/intent_classifier/data/output/patient/without_others_intent/k100_without_sentences_higher_than_median/use/training_data.yml\n",
      "getting intents...\n",
      "The intent: greeting, has 462 examples\n",
      "The intent: inform_medicine, has 646 examples\n",
      "The intent: inform_symptoms, has 2771 examples\n",
      "The intent: request_inform, has 760 examples\n",
      "the content was saved in: /home/valmir/dev/python/intent_classifier/data/output/patient/without_others_intent/k100_without_sentences_higher_than_median/use/training_data.yml\n",
      "generating /home/valmir/dev/python/intent_classifier/data/output/patient/without_others_intent/k100_without_sentences_higher_than_median/use/test_data.yml\n",
      "getting intents...\n",
      "The intent: greeting, has 206 examples\n",
      "The intent: inform_medicine, has 275 examples\n",
      "The intent: inform_symptoms, has 1149 examples\n",
      "The intent: request_inform, has 359 examples\n",
      "the content was saved in: /home/valmir/dev/python/intent_classifier/data/output/patient/without_others_intent/k100_without_sentences_higher_than_median/use/test_data.yml\n"
     ]
    },
    {
     "data": {
      "text/plain": [
       "((4639,), (1989,))"
      ]
     },
     "execution_count": 9,
     "metadata": {},
     "output_type": "execute_result"
    }
   ],
   "source": [
    "create_train_test_data('use')"
   ]
  },
  {
   "cell_type": "code",
   "execution_count": null,
   "metadata": {},
   "outputs": [],
   "source": []
  }
 ],
 "metadata": {
  "interpreter": {
   "hash": "da386d383b1a4f2ab977ab0cc371ee70ac9bd2160da3f0bf5cca7f94d497a6a3"
  },
  "kernelspec": {
   "display_name": "Python 3.10.4 ('venv': venv)",
   "language": "python",
   "name": "python3"
  },
  "language_info": {
   "codemirror_mode": {
    "name": "ipython",
    "version": 3
   },
   "file_extension": ".py",
   "mimetype": "text/x-python",
   "name": "python",
   "nbconvert_exporter": "python",
   "pygments_lexer": "ipython3",
   "version": "3.10.12"
  },
  "vscode": {
   "interpreter": {
    "hash": "da386d383b1a4f2ab977ab0cc371ee70ac9bd2160da3f0bf5cca7f94d497a6a3"
   }
  }
 },
 "nbformat": 4,
 "nbformat_minor": 0
}

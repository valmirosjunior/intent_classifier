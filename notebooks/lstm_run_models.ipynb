{
 "cells": [
  {
   "cell_type": "code",
   "execution_count": 3,
   "metadata": {
    "id": "zL6SjRcWyrkQ",
    "pycharm": {
     "name": "#%%\n"
    }
   },
   "outputs": [],
   "source": [
    "import json\n",
    "import keras\n",
    "from keras.preprocessing.sequence import pad_sequences\n",
    "import numpy as np\n",
    "import pandas as pd\n",
    "\n",
    "import sparknlp\n",
    "from sparknlp.annotator import Tokenizer as SparkTokenizer\n",
    "from sparknlp.base import DocumentAssembler\n",
    "\n",
    "from src.core import file_manager as fm"
   ]
  },
  {
   "cell_type": "code",
   "execution_count": 4,
   "metadata": {},
   "outputs": [],
   "source": [
    "spark = sparknlp.start(spark32=True)"
   ]
  },
  {
   "cell_type": "code",
   "execution_count": 5,
   "metadata": {},
   "outputs": [],
   "source": [
    "class Predictor:\n",
    "  def __init__(self, embedding_name):\n",
    "    self.embedding_name = embedding_name\n",
    "    self.working_dir = fm.filename_from_data_dir(f'output/lstm_models/patient/{self.embedding_name}')\n",
    "    self.model = self.load_lstm_model()\n",
    "    self.vocabullary = self.load_vocabullary()\n",
    "    self.metadata = self.load_metadata()\n",
    "    self.intents = self.metadata['intents']\n",
    "    self.vector_length = int(self.metadata['vector_length'])\n",
    "  \n",
    "\n",
    "  def load_lstm_model(self):\n",
    "    return keras.models.load_model(f'{self.working_dir}/model.h5')\n",
    "\n",
    "  def load_vocabullary(self):\n",
    "    file = open(f'{self.working_dir}/vocabullary.json',\"r\")\n",
    "\n",
    "    return json.load(file)\n",
    "  \n",
    "  def load_metadata(self):\n",
    "    file = open(f'{self.working_dir}/metadata.json',\"r\")\n",
    "\n",
    "    return json.load(file)\n",
    "  \n",
    "\n",
    "  def get_tokens(self, text):\n",
    "    spark_df = spark.createDataFrame([[text]]).toDF(\"text\")\n",
    "\n",
    "    doc_df = DocumentAssembler().setInputCol(\"text\").setOutputCol(\"document\").transform(spark_df)\n",
    "\n",
    "    token_df = SparkTokenizer().setInputCols([\"document\"]).setOutputCol(\"token\").fit(doc_df).transform(doc_df)\n",
    "\n",
    "    return token_df.select('token.result').toPandas().loc[0]['result']\n",
    "\n",
    "  def convert_text_to_input_model(self, tokens):\n",
    "    return [self.vocabullary[token] if token in self.vocabullary else 0 for token in tokens]\n",
    "\n",
    "  def print_intent_probabilities(self, prediction):\n",
    "    print('This is the distribuition of the prediction by intent:')\n",
    "    intent_probabilities = {intent: prediction[0][index] for index, intent in enumerate(self.intents)}\n",
    "\n",
    "    for item in sorted(intent_probabilities.items(), key=lambda item: -item[1]):\n",
    "      print(f'{item[0]} = {(item[1] *100):.4f}%')\n",
    "\n",
    "  def print_pred_real_label(self, text, print_probabilities=False):\n",
    "    tokens = self.get_tokens(text)\n",
    "\n",
    "    indexes_vector = self.convert_text_to_input_model(tokens)\n",
    "\n",
    "    padding_vector = pad_sequences(\n",
    "      maxlen=self.vector_length, sequences=[indexes_vector], value=0, padding='post', truncating='post'\n",
    "    )\n",
    "\n",
    "    prediction = self.model.predict(padding_vector)\n",
    "\n",
    "    index_label_predicted = np.argmax(prediction)\n",
    "    \n",
    "    predicted_label = self.intents[index_label_predicted]    \n",
    "    percentage = f'{(prediction[0][index_label_predicted] *100):.4f}'\n",
    "\n",
    "    print(f'The intent predicted was: {predicted_label} with: {percentage}%\\n')\n",
    "\n",
    "    if print_probabilities:\n",
    "      self.print_intent_probabilities(prediction)"
   ]
  },
  {
   "cell_type": "markdown",
   "metadata": {},
   "source": [
    "### Using Bert predictor"
   ]
  },
  {
   "cell_type": "code",
   "execution_count": 7,
   "metadata": {},
   "outputs": [],
   "source": [
    "predictor_glove = Predictor('glove')"
   ]
  },
  {
   "cell_type": "code",
   "execution_count": 17,
   "metadata": {},
   "outputs": [
    {
     "name": "stdout",
     "output_type": "stream",
     "text": [
      "The intent predicted was: inform_medicine with: 99.1653%\n",
      "\n",
      "The intent predicted was: inform_medicine with: 86.7540%\n",
      "\n"
     ]
    }
   ],
   "source": [
    "predictor_glove.print_pred_real_label('Estou tomando paracetamol')\n",
    "predictor_glove.print_pred_real_label('Estou tomando Tylenol')"
   ]
  },
  {
   "cell_type": "code",
   "execution_count": 10,
   "metadata": {},
   "outputs": [
    {
     "name": "stdout",
     "output_type": "stream",
     "text": [
      "The intent predicted was: inform_symptoms with: 99.9562%\n",
      "\n"
     ]
    }
   ],
   "source": [
    "predictor_glove.print_pred_real_label('Eu estou com febre e dor de cabeça')"
   ]
  },
  {
   "cell_type": "code",
   "execution_count": 11,
   "metadata": {},
   "outputs": [
    {
     "name": "stdout",
     "output_type": "stream",
     "text": [
      "The intent predicted was: greeting with: 99.9407%\n",
      "\n"
     ]
    }
   ],
   "source": [
    "predictor_glove.print_pred_real_label('Olá bom dia, muito obrigado!')"
   ]
  },
  {
   "cell_type": "code",
   "execution_count": 12,
   "metadata": {},
   "outputs": [
    {
     "name": "stdout",
     "output_type": "stream",
     "text": [
      "The intent predicted was: request_inform with: 81.4230%\n",
      "\n"
     ]
    }
   ],
   "source": [
    "predictor_glove.print_pred_real_label('Gostaria de saber qual remédio, eu devo tomar para fortes dores no peito?')"
   ]
  },
  {
   "cell_type": "code",
   "execution_count": 13,
   "metadata": {},
   "outputs": [
    {
     "name": "stdout",
     "output_type": "stream",
     "text": [
      "The intent predicted was: inform_medicine with: 99.4024%\n",
      "\n"
     ]
    }
   ],
   "source": [
    "predictor_glove.print_pred_real_label('Estou tomando Tylenol e paracetamol')"
   ]
  },
  {
   "cell_type": "markdown",
   "metadata": {},
   "source": [
    "### Using Bert predictor"
   ]
  },
  {
   "cell_type": "code",
   "execution_count": 18,
   "metadata": {},
   "outputs": [],
   "source": [
    "predictor_bert_pt = Predictor('bert_pt')"
   ]
  },
  {
   "cell_type": "code",
   "execution_count": 19,
   "metadata": {},
   "outputs": [
    {
     "name": "stdout",
     "output_type": "stream",
     "text": [
      "The intent predicted was: inform_symptoms with: 69.7415%\n",
      "\n",
      "The intent predicted was: inform_symptoms with: 96.5550%\n",
      "\n"
     ]
    }
   ],
   "source": [
    "predictor_bert_pt.print_pred_real_label('Estou tomando paracetamol')\n",
    "predictor_bert_pt.print_pred_real_label('Estou tomando Tylenol')"
   ]
  },
  {
   "cell_type": "code",
   "execution_count": 10,
   "metadata": {},
   "outputs": [
    {
     "name": "stdout",
     "output_type": "stream",
     "text": [
      "The intent predicted was: inform_symptoms with: 99.9995%\n",
      "\n"
     ]
    }
   ],
   "source": [
    "predictor_bert_pt.print_pred_real_label('Eu estou com febre e dor de cabeça')"
   ]
  },
  {
   "cell_type": "code",
   "execution_count": 11,
   "metadata": {},
   "outputs": [
    {
     "name": "stdout",
     "output_type": "stream",
     "text": [
      "The intent predicted was: greeting with: 99.9946%\n",
      "\n"
     ]
    }
   ],
   "source": [
    "predictor_bert_pt.print_pred_real_label('Olá bom dia, muito obrigado!')"
   ]
  },
  {
   "cell_type": "code",
   "execution_count": 12,
   "metadata": {},
   "outputs": [
    {
     "name": "stdout",
     "output_type": "stream",
     "text": [
      "The intent predicted was: request_inform with: 99.9879%\n",
      "\n"
     ]
    }
   ],
   "source": [
    "predictor_bert_pt.print_pred_real_label('Gostaria de saber qual remédio, eu devo tomar para fortes dores no peito?')"
   ]
  },
  {
   "cell_type": "code",
   "execution_count": 13,
   "metadata": {},
   "outputs": [
    {
     "name": "stdout",
     "output_type": "stream",
     "text": [
      "The intent predicted was: inform_symptoms with: 75.7815%\n",
      "\n"
     ]
    }
   ],
   "source": [
    "predictor_bert_pt.print_pred_real_label('Estou tomando Tylenol e paracetamol')"
   ]
  },
  {
   "cell_type": "code",
   "execution_count": 9,
   "metadata": {},
   "outputs": [
    {
     "data": {
      "text/html": [
       "<div>\n",
       "<style scoped>\n",
       "    .dataframe tbody tr th:only-of-type {\n",
       "        vertical-align: middle;\n",
       "    }\n",
       "\n",
       "    .dataframe tbody tr th {\n",
       "        vertical-align: top;\n",
       "    }\n",
       "\n",
       "    .dataframe thead th {\n",
       "        text-align: right;\n",
       "    }\n",
       "</style>\n",
       "<table border=\"1\" class=\"dataframe\">\n",
       "  <thead>\n",
       "    <tr style=\"text-align: right;\">\n",
       "      <th></th>\n",
       "      <th>txt</th>\n",
       "      <th>annotated_txt</th>\n",
       "      <th>intent</th>\n",
       "      <th>embeddings</th>\n",
       "      <th>tokens</th>\n",
       "      <th>word_embeddings</th>\n",
       "    </tr>\n",
       "  </thead>\n",
       "  <tbody>\n",
       "    <tr>\n",
       "      <th>12</th>\n",
       "      <td>Durante esse período de febre tomei Dipirona m...</td>\n",
       "      <td>Durante esse período de [febre](SINTOMA) tomei...</td>\n",
       "      <td>inform_medicine</td>\n",
       "      <td>[[0.16708213, -0.18079649, 0.22830229, 0.00992...</td>\n",
       "      <td>[Durante, esse, período, de, febre, tomei, Dip...</td>\n",
       "      <td>[[0.40036896, -0.46102285, 0.5211087, -0.43017...</td>\n",
       "    </tr>\n",
       "    <tr>\n",
       "      <th>14</th>\n",
       "      <td>Febre controlada com Dipirona 1g</td>\n",
       "      <td>[Febre](SINTOMA) controlada com Dipirona 1g</td>\n",
       "      <td>inform_medicine</td>\n",
       "      <td>[[0.27242714, -0.12426308500000001, 0.32287258...</td>\n",
       "      <td>[Febre, controlada, com, Dipirona, 1g]</td>\n",
       "      <td>[[0.08862357, -0.17657822, 0.06212966, -0.0467...</td>\n",
       "    </tr>\n",
       "    <tr>\n",
       "      <th>15</th>\n",
       "      <td>Não foi feito nenhum exame. O médico passou Di...</td>\n",
       "      <td>Não foi feito nenhum exame. O médico passou Di...</td>\n",
       "      <td>inform_medicine</td>\n",
       "      <td>[[0.14055879999999998, -0.24052137, 0.11373424...</td>\n",
       "      <td>[Não, foi, feito, nenhum, exame, ., O, médico,...</td>\n",
       "      <td>[[0.46928582, -0.60513246, -0.0158731040000000...</td>\n",
       "    </tr>\n",
       "    <tr>\n",
       "      <th>30</th>\n",
       "      <td>Hoje só tomei o antialérgico Alektos  Já vinha...</td>\n",
       "      <td>Hoje só tomei o antialérgico Alektos  Já vinha...</td>\n",
       "      <td>inform_medicine</td>\n",
       "      <td>[[0.2983539, -0.27068886000000003, 0.40885243,...</td>\n",
       "      <td>[Hoje, só, tomei, o, antialérgico, Alektos, Já...</td>\n",
       "      <td>[[0.47601914, -0.6982294, -0.26847202, -0.1179...</td>\n",
       "    </tr>\n",
       "    <tr>\n",
       "      <th>35</th>\n",
       "      <td>Tylenol ou paracetamol</td>\n",
       "      <td>Tylenol ou paracetamol</td>\n",
       "      <td>inform_medicine</td>\n",
       "      <td>[[0.36587963, -0.062025815000000005, 0.1732032...</td>\n",
       "      <td>[Tylenol, ou, paracetamol]</td>\n",
       "      <td>[[0.50390345, -0.0805911, 0.1411364, 0.1437646...</td>\n",
       "    </tr>\n",
       "    <tr>\n",
       "      <th>...</th>\n",
       "      <td>...</td>\n",
       "      <td>...</td>\n",
       "      <td>...</td>\n",
       "      <td>...</td>\n",
       "      <td>...</td>\n",
       "      <td>...</td>\n",
       "    </tr>\n",
       "    <tr>\n",
       "      <th>8796</th>\n",
       "      <td>Fui ao posto e nao tenho nada</td>\n",
       "      <td>Fui ao posto e nao tenho nada</td>\n",
       "      <td>inform_medicine</td>\n",
       "      <td>[[0.15760449, -0.48902049999999997, -0.1158888...</td>\n",
       "      <td>[Fui, ao, posto, e, nao, tenho, nada]</td>\n",
       "      <td>[[-0.07302006, -0.37603139999999996, -0.113624...</td>\n",
       "    </tr>\n",
       "    <tr>\n",
       "      <th>8801</th>\n",
       "      <td>Não tenho como medir tô sem termometro</td>\n",
       "      <td>Não tenho como medir tô sem termometro</td>\n",
       "      <td>inform_medicine</td>\n",
       "      <td>[[-0.08875085, -0.31451717, -0.2268491, 0.2497...</td>\n",
       "      <td>[Não, tenho, como, medir, tô, sem, termometro]</td>\n",
       "      <td>[[0.26180577, -0.4894693, 0.14541183, 0.372275...</td>\n",
       "    </tr>\n",
       "    <tr>\n",
       "      <th>8809</th>\n",
       "      <td>Eu não tenho nada além disso</td>\n",
       "      <td>Eu não tenho nada além disso</td>\n",
       "      <td>inform_medicine</td>\n",
       "      <td>[[0.23736839, -0.33511838, 0.049474504, 0.0154...</td>\n",
       "      <td>[Eu, não, tenho, nada, além, disso]</td>\n",
       "      <td>[[0.41178796, -0.38163227, 0.60377157, 0.05930...</td>\n",
       "    </tr>\n",
       "    <tr>\n",
       "      <th>8814</th>\n",
       "      <td>Nunca tomei nenhum remédio</td>\n",
       "      <td>Nunca tomei nenhum remédio</td>\n",
       "      <td>inform_medicine</td>\n",
       "      <td>[[0.40804726, -0.27598658, -0.18077752, -0.011...</td>\n",
       "      <td>[Nunca, tomei, nenhum, remédio]</td>\n",
       "      <td>[[0.46963206, -0.7163525, 0.11846268, 0.258692...</td>\n",
       "    </tr>\n",
       "    <tr>\n",
       "      <th>8829</th>\n",
       "      <td>Ok, eu só melhorei porque tomei o dipirona. Ti...</td>\n",
       "      <td>Ok, eu só melhorei porque tomei o dipirona. Ti...</td>\n",
       "      <td>inform_medicine</td>\n",
       "      <td>[[0.12496559, -0.27296916, 0.27139536000000003...</td>\n",
       "      <td>[Ok, ,, eu, só, melhorei, porque, tomei, o, di...</td>\n",
       "      <td>[[-0.37090752, -0.5559782999999999, 0.33755833...</td>\n",
       "    </tr>\n",
       "  </tbody>\n",
       "</table>\n",
       "<p>889 rows × 6 columns</p>\n",
       "</div>"
      ],
      "text/plain": [
       "                                                    txt  \\\n",
       "12    Durante esse período de febre tomei Dipirona m...   \n",
       "14                     Febre controlada com Dipirona 1g   \n",
       "15    Não foi feito nenhum exame. O médico passou Di...   \n",
       "30    Hoje só tomei o antialérgico Alektos  Já vinha...   \n",
       "35                               Tylenol ou paracetamol   \n",
       "...                                                 ...   \n",
       "8796                      Fui ao posto e nao tenho nada   \n",
       "8801             Não tenho como medir tô sem termometro   \n",
       "8809                       Eu não tenho nada além disso   \n",
       "8814                         Nunca tomei nenhum remédio   \n",
       "8829  Ok, eu só melhorei porque tomei o dipirona. Ti...   \n",
       "\n",
       "                                          annotated_txt           intent  \\\n",
       "12    Durante esse período de [febre](SINTOMA) tomei...  inform_medicine   \n",
       "14          [Febre](SINTOMA) controlada com Dipirona 1g  inform_medicine   \n",
       "15    Não foi feito nenhum exame. O médico passou Di...  inform_medicine   \n",
       "30    Hoje só tomei o antialérgico Alektos  Já vinha...  inform_medicine   \n",
       "35                               Tylenol ou paracetamol  inform_medicine   \n",
       "...                                                 ...              ...   \n",
       "8796                      Fui ao posto e nao tenho nada  inform_medicine   \n",
       "8801             Não tenho como medir tô sem termometro  inform_medicine   \n",
       "8809                       Eu não tenho nada além disso  inform_medicine   \n",
       "8814                         Nunca tomei nenhum remédio  inform_medicine   \n",
       "8829  Ok, eu só melhorei porque tomei o dipirona. Ti...  inform_medicine   \n",
       "\n",
       "                                             embeddings  \\\n",
       "12    [[0.16708213, -0.18079649, 0.22830229, 0.00992...   \n",
       "14    [[0.27242714, -0.12426308500000001, 0.32287258...   \n",
       "15    [[0.14055879999999998, -0.24052137, 0.11373424...   \n",
       "30    [[0.2983539, -0.27068886000000003, 0.40885243,...   \n",
       "35    [[0.36587963, -0.062025815000000005, 0.1732032...   \n",
       "...                                                 ...   \n",
       "8796  [[0.15760449, -0.48902049999999997, -0.1158888...   \n",
       "8801  [[-0.08875085, -0.31451717, -0.2268491, 0.2497...   \n",
       "8809  [[0.23736839, -0.33511838, 0.049474504, 0.0154...   \n",
       "8814  [[0.40804726, -0.27598658, -0.18077752, -0.011...   \n",
       "8829  [[0.12496559, -0.27296916, 0.27139536000000003...   \n",
       "\n",
       "                                                 tokens  \\\n",
       "12    [Durante, esse, período, de, febre, tomei, Dip...   \n",
       "14               [Febre, controlada, com, Dipirona, 1g]   \n",
       "15    [Não, foi, feito, nenhum, exame, ., O, médico,...   \n",
       "30    [Hoje, só, tomei, o, antialérgico, Alektos, Já...   \n",
       "35                           [Tylenol, ou, paracetamol]   \n",
       "...                                                 ...   \n",
       "8796              [Fui, ao, posto, e, nao, tenho, nada]   \n",
       "8801     [Não, tenho, como, medir, tô, sem, termometro]   \n",
       "8809                [Eu, não, tenho, nada, além, disso]   \n",
       "8814                    [Nunca, tomei, nenhum, remédio]   \n",
       "8829  [Ok, ,, eu, só, melhorei, porque, tomei, o, di...   \n",
       "\n",
       "                                        word_embeddings  \n",
       "12    [[0.40036896, -0.46102285, 0.5211087, -0.43017...  \n",
       "14    [[0.08862357, -0.17657822, 0.06212966, -0.0467...  \n",
       "15    [[0.46928582, -0.60513246, -0.0158731040000000...  \n",
       "30    [[0.47601914, -0.6982294, -0.26847202, -0.1179...  \n",
       "35    [[0.50390345, -0.0805911, 0.1411364, 0.1437646...  \n",
       "...                                                 ...  \n",
       "8796  [[-0.07302006, -0.37603139999999996, -0.113624...  \n",
       "8801  [[0.26180577, -0.4894693, 0.14541183, 0.372275...  \n",
       "8809  [[0.41178796, -0.38163227, 0.60377157, 0.05930...  \n",
       "8814  [[0.46963206, -0.7163525, 0.11846268, 0.258692...  \n",
       "8829  [[-0.37090752, -0.5559782999999999, 0.33755833...  \n",
       "\n",
       "[889 rows x 6 columns]"
      ]
     },
     "execution_count": 9,
     "metadata": {},
     "output_type": "execute_result"
    }
   ],
   "source": [
    "df = fm.read_annotated_df_with_embeddings('bert_pt')\n",
    "\n",
    "df[df['intent'] == 'inform_medicine']"
   ]
  },
  {
   "cell_type": "code",
   "execution_count": null,
   "metadata": {},
   "outputs": [],
   "source": []
  }
 ],
 "metadata": {
  "accelerator": "GPU",
  "colab": {
   "collapsed_sections": [],
   "name": "[Pará State]Text_Classification.ipynb",
   "provenance": []
  },
  "kernelspec": {
   "display_name": "Python 3",
   "name": "python3"
  },
  "language_info": {
   "codemirror_mode": {
    "name": "ipython",
    "version": 3
   },
   "file_extension": ".py",
   "mimetype": "text/x-python",
   "name": "python",
   "nbconvert_exporter": "python",
   "pygments_lexer": "ipython3",
   "version": "3.10.4"
  }
 },
 "nbformat": 4,
 "nbformat_minor": 0
}

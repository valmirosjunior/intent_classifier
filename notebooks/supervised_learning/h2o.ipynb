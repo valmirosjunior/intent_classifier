{
 "cells": [
  {
   "cell_type": "code",
   "execution_count": 1,
   "outputs": [],
   "source": [
    "%load_ext autoreload\n",
    "\n",
    "%autoreload 2"
   ],
   "metadata": {
    "collapsed": false,
    "pycharm": {
     "name": "#%%\n"
    }
   }
  },
  {
   "cell_type": "code",
   "execution_count": 57,
   "metadata": {
    "pycharm": {
     "name": "#%%\n"
    }
   },
   "outputs": [],
   "source": [
    "from sklearn.model_selection import train_test_split\n",
    "\n",
    "import numpy as np\n",
    "\n",
    "from src.ml import pipeline\n",
    "from src.core import file_manager"
   ]
  },
  {
   "cell_type": "code",
   "execution_count": 3,
   "metadata": {
    "pycharm": {
     "name": "#%%\n"
    }
   },
   "outputs": [],
   "source": [
    "df_annotated = pipeline.get_annotated_df('use')"
   ]
  },
  {
   "cell_type": "code",
   "execution_count": 4,
   "metadata": {
    "pycharm": {
     "name": "#%%\n"
    }
   },
   "outputs": [],
   "source": [
    "df_embeddings = pipeline.get_embedding_dfs('use')\n",
    "\n",
    "dict_embeddings = pipeline.generate_dict_embedding_text(df_embeddings)"
   ]
  },
  {
   "cell_type": "code",
   "execution_count": 5,
   "metadata": {
    "pycharm": {
     "name": "#%%\n"
    }
   },
   "outputs": [
    {
     "name": "stdout",
     "output_type": "stream",
     "text": [
      "{'inform': 1, 'inform_symptoms': 2, 'inform_medicine': 3, 'greeting': 4, 'request_inform': 5}\n"
     ]
    }
   ],
   "source": [
    "print(pipeline.dict_labels)"
   ]
  },
  {
   "cell_type": "code",
   "execution_count": 6,
   "metadata": {
    "pycharm": {
     "name": "#%%\n"
    }
   },
   "outputs": [
    {
     "data": {
      "text/plain": "                                       txt  label  distance           intent  \\\n0   Há dois tias estou com dor na garganta     15  0.232881  inform_symptoms   \n3                                      Sim     12  0.099960           inform   \n7                                      Não     18  0.191976           inform   \n12                                      Ok      4  0.151040           inform   \n14                                Tá certo      4  0.159767           inform   \n\n                                        annotated_txt  \n0   Há dois tias estou com [dor](SINTOMA) na [garg...  \n3                                                 Sim  \n7                                                 Não  \n12                                                 Ok  \n14                                           Tá certo  ",
      "text/html": "<div>\n<style scoped>\n    .dataframe tbody tr th:only-of-type {\n        vertical-align: middle;\n    }\n\n    .dataframe tbody tr th {\n        vertical-align: top;\n    }\n\n    .dataframe thead th {\n        text-align: right;\n    }\n</style>\n<table border=\"1\" class=\"dataframe\">\n  <thead>\n    <tr style=\"text-align: right;\">\n      <th></th>\n      <th>txt</th>\n      <th>label</th>\n      <th>distance</th>\n      <th>intent</th>\n      <th>annotated_txt</th>\n    </tr>\n  </thead>\n  <tbody>\n    <tr>\n      <th>0</th>\n      <td>Há dois tias estou com dor na garganta</td>\n      <td>15</td>\n      <td>0.232881</td>\n      <td>inform_symptoms</td>\n      <td>Há dois tias estou com [dor](SINTOMA) na [garg...</td>\n    </tr>\n    <tr>\n      <th>3</th>\n      <td>Sim</td>\n      <td>12</td>\n      <td>0.099960</td>\n      <td>inform</td>\n      <td>Sim</td>\n    </tr>\n    <tr>\n      <th>7</th>\n      <td>Não</td>\n      <td>18</td>\n      <td>0.191976</td>\n      <td>inform</td>\n      <td>Não</td>\n    </tr>\n    <tr>\n      <th>12</th>\n      <td>Ok</td>\n      <td>4</td>\n      <td>0.151040</td>\n      <td>inform</td>\n      <td>Ok</td>\n    </tr>\n    <tr>\n      <th>14</th>\n      <td>Tá certo</td>\n      <td>4</td>\n      <td>0.159767</td>\n      <td>inform</td>\n      <td>Tá certo</td>\n    </tr>\n  </tbody>\n</table>\n</div>"
     },
     "execution_count": 6,
     "metadata": {},
     "output_type": "execute_result"
    }
   ],
   "source": [
    "df_closer_sentences = df_annotated[df_annotated['distance'] <= 0.25]\n",
    "\n",
    "df_closer_sentences.head()"
   ]
  },
  {
   "cell_type": "code",
   "execution_count": 7,
   "metadata": {
    "pycharm": {
     "name": "#%%\n"
    }
   },
   "outputs": [
    {
     "name": "stderr",
     "output_type": "stream",
     "text": [
      "/tmp/ipykernel_94757/2551216481.py:1: SettingWithCopyWarning: \n",
      "A value is trying to be set on a copy of a slice from a DataFrame.\n",
      "Try using .loc[row_indexer,col_indexer] = value instead\n",
      "\n",
      "See the caveats in the documentation: https://pandas.pydata.org/pandas-docs/stable/user_guide/indexing.html#returning-a-view-versus-a-copy\n",
      "  df_closer_sentences['embeddings'] = df_closer_sentences['txt'].map(dict_embeddings)\n",
      "/tmp/ipykernel_94757/2551216481.py:3: SettingWithCopyWarning: \n",
      "A value is trying to be set on a copy of a slice from a DataFrame.\n",
      "Try using .loc[row_indexer,col_indexer] = value instead\n",
      "\n",
      "See the caveats in the documentation: https://pandas.pydata.org/pandas-docs/stable/user_guide/indexing.html#returning-a-view-versus-a-copy\n",
      "  df_closer_sentences['label_index'] = df_closer_sentences['intent'].map(pipeline.dict_labels)\n"
     ]
    },
    {
     "data": {
      "text/plain": "                                       txt  label  distance           intent  \\\n0   Há dois tias estou com dor na garganta     15  0.232881  inform_symptoms   \n3                                      Sim     12  0.099960           inform   \n7                                      Não     18  0.191976           inform   \n12                                      Ok      4  0.151040           inform   \n14                                Tá certo      4  0.159767           inform   \n\n                                        annotated_txt  \\\n0   Há dois tias estou com [dor](SINTOMA) na [garg...   \n3                                                 Sim   \n7                                                 Não   \n12                                                 Ok   \n14                                           Tá certo   \n\n                                           embeddings  label_index  \n0   [-0.05788306, 0.042827144000000004, -0.0357614...            2  \n3   [0.11549624, -0.010514308, 0.02550796800000000...            1  \n7   [0.10408107, -0.02228124, 0.00076653576, -0.01...            1  \n12  [0.1262432, -0.01299934, 0.064029716, -0.00782...            1  \n14  [0.12865065, -0.020153655000000003, 0.03307859...            1  ",
      "text/html": "<div>\n<style scoped>\n    .dataframe tbody tr th:only-of-type {\n        vertical-align: middle;\n    }\n\n    .dataframe tbody tr th {\n        vertical-align: top;\n    }\n\n    .dataframe thead th {\n        text-align: right;\n    }\n</style>\n<table border=\"1\" class=\"dataframe\">\n  <thead>\n    <tr style=\"text-align: right;\">\n      <th></th>\n      <th>txt</th>\n      <th>label</th>\n      <th>distance</th>\n      <th>intent</th>\n      <th>annotated_txt</th>\n      <th>embeddings</th>\n      <th>label_index</th>\n    </tr>\n  </thead>\n  <tbody>\n    <tr>\n      <th>0</th>\n      <td>Há dois tias estou com dor na garganta</td>\n      <td>15</td>\n      <td>0.232881</td>\n      <td>inform_symptoms</td>\n      <td>Há dois tias estou com [dor](SINTOMA) na [garg...</td>\n      <td>[-0.05788306, 0.042827144000000004, -0.0357614...</td>\n      <td>2</td>\n    </tr>\n    <tr>\n      <th>3</th>\n      <td>Sim</td>\n      <td>12</td>\n      <td>0.099960</td>\n      <td>inform</td>\n      <td>Sim</td>\n      <td>[0.11549624, -0.010514308, 0.02550796800000000...</td>\n      <td>1</td>\n    </tr>\n    <tr>\n      <th>7</th>\n      <td>Não</td>\n      <td>18</td>\n      <td>0.191976</td>\n      <td>inform</td>\n      <td>Não</td>\n      <td>[0.10408107, -0.02228124, 0.00076653576, -0.01...</td>\n      <td>1</td>\n    </tr>\n    <tr>\n      <th>12</th>\n      <td>Ok</td>\n      <td>4</td>\n      <td>0.151040</td>\n      <td>inform</td>\n      <td>Ok</td>\n      <td>[0.1262432, -0.01299934, 0.064029716, -0.00782...</td>\n      <td>1</td>\n    </tr>\n    <tr>\n      <th>14</th>\n      <td>Tá certo</td>\n      <td>4</td>\n      <td>0.159767</td>\n      <td>inform</td>\n      <td>Tá certo</td>\n      <td>[0.12865065, -0.020153655000000003, 0.03307859...</td>\n      <td>1</td>\n    </tr>\n  </tbody>\n</table>\n</div>"
     },
     "execution_count": 7,
     "metadata": {},
     "output_type": "execute_result"
    }
   ],
   "source": [
    "df_closer_sentences['embeddings'] = df_closer_sentences['txt'].map(dict_embeddings)\n",
    "\n",
    "df_closer_sentences['label_index'] = df_closer_sentences['intent'].map(pipeline.dict_labels)\n",
    "\n",
    "df_closer_sentences.head()"
   ]
  },
  {
   "cell_type": "code",
   "execution_count": 8,
   "metadata": {
    "pycharm": {
     "name": "#%%\n"
    }
   },
   "outputs": [],
   "source": [
    "X = df_closer_sentences['embeddings'].to_numpy()\n",
    "y = df_closer_sentences['label_index'].to_numpy()"
   ]
  },
  {
   "cell_type": "code",
   "execution_count": 9,
   "metadata": {
    "pycharm": {
     "name": "#%%\n"
    }
   },
   "outputs": [
    {
     "name": "stdout",
     "output_type": "stream",
     "text": [
      "2917\n"
     ]
    },
    {
     "data": {
      "text/plain": "{1: 469, 2: 1725, 3: 117, 4: 401, 5: 205}"
     },
     "execution_count": 9,
     "metadata": {},
     "output_type": "execute_result"
    }
   ],
   "source": [
    "X_train, X_test, y_train, y_test = train_test_split(X, y, test_size=0.3, random_state=42)\n",
    "\n",
    "print(len(X_train))\n",
    "\n",
    "{label: (y_train == label).sum() for label in set(y_train)}"
   ]
  },
  {
   "cell_type": "code",
   "execution_count": 10,
   "metadata": {
    "pycharm": {
     "name": "#%%\n"
    }
   },
   "outputs": [
    {
     "name": "stdout",
     "output_type": "stream",
     "text": [
      "1251\n"
     ]
    },
    {
     "data": {
      "text/plain": "{1: 175, 2: 764, 3: 36, 4: 189, 5: 87}"
     },
     "execution_count": 10,
     "metadata": {},
     "output_type": "execute_result"
    }
   ],
   "source": [
    "print(len(y_test))\n",
    "\n",
    "{label: (y_test == label).sum() for label in set(y_test)}"
   ]
  },
  {
   "cell_type": "code",
   "execution_count": 11,
   "metadata": {
    "pycharm": {
     "name": "#%%\n"
    }
   },
   "outputs": [],
   "source": [
    "df_train = pipeline.generate_df_from_x_y(X_train, y_train)\n",
    "df_test = pipeline.generate_df_from_x_y(X_test, y_test)\n",
    "\n",
    "df_test = df_test.drop(['label'], axis=1)"
   ]
  },
  {
   "cell_type": "code",
   "execution_count": 35,
   "metadata": {
    "pycharm": {
     "name": "#%%\n"
    }
   },
   "outputs": [
    {
     "name": "stdout",
     "output_type": "stream",
     "text": [
      "Checking whether there is an H2O instance running at http://localhost:54321 ..... not found.\n",
      "Attempting to start a local H2O server...\n",
      "  Java Version: openjdk version \"11.0.15\" 2022-04-19; OpenJDK Runtime Environment (build 11.0.15+10-Ubuntu-0ubuntu0.22.04.1); OpenJDK 64-Bit Server VM (build 11.0.15+10-Ubuntu-0ubuntu0.22.04.1, mixed mode, sharing)\n",
      "  Starting server from /home/valmir/dev/python/intent_classifier/venv/lib/python3.9/site-packages/h2o/backend/bin/h2o.jar\n",
      "  Ice root: /tmp/tmp83c2rw32\n",
      "  JVM stdout: /tmp/tmp83c2rw32/h2o_valmir_started_from_python.out\n",
      "  JVM stderr: /tmp/tmp83c2rw32/h2o_valmir_started_from_python.err\n",
      "  Server is running at http://127.0.0.1:54321\n",
      "Connecting to H2O server at http://127.0.0.1:54321 ... successful.\n"
     ]
    }
   ],
   "source": [
    "import h2o\n",
    "from h2o.automl import H2OAutoML\n",
    "\n",
    "# Start the H2O cluster (locally)\n",
    "h2o.init()"
   ]
  },
  {
   "cell_type": "code",
   "execution_count": 36,
   "outputs": [
    {
     "name": "stdout",
     "output_type": "stream",
     "text": [
      "Parse progress: |████████████████████████████████████████████████████████████████| (done) 100%\n"
     ]
    }
   ],
   "source": [
    "hf_train = h2o.H2OFrame(df_train)\n",
    "\n",
    "x = hf_train.columns\n",
    "y = \"label\"\n",
    "x.remove(y)"
   ],
   "metadata": {
    "collapsed": false,
    "pycharm": {
     "name": "#%%\n"
    }
   }
  },
  {
   "cell_type": "code",
   "execution_count": 37,
   "metadata": {
    "pycharm": {
     "name": "#%%\n"
    }
   },
   "outputs": [
    {
     "name": "stdout",
     "output_type": "stream",
     "text": [
      "AutoML progress: |███████████████████████████████████████████████████████████████| (done) 100%\n"
     ]
    },
    {
     "data": {
      "text/plain": ""
     },
     "execution_count": 37,
     "metadata": {},
     "output_type": "execute_result"
    }
   ],
   "source": [
    "# For binary classification, response should be a factor\n",
    "hf_train[y] = hf_train[y].asfactor()\n",
    "# hf_test[y] = hf_test[y].asfactor()\n",
    "\n",
    "# Run AutoML for 20 base models\n",
    "aml = H2OAutoML(max_models=20, seed=1)\n",
    "aml.train(x=x, y=y, training_frame=hf_train)\n",
    "\n",
    "# View the AutoML Leaderboard\n",
    "lb = aml.leaderboard\n",
    "lb.head(rows=lb.nrows)"
   ]
  },
  {
   "cell_type": "code",
   "execution_count": 60,
   "outputs": [
    {
     "name": "stdout",
     "output_type": "stream",
     "text": [
      "Model Details\n",
      "=============\n",
      "H2OStackedEnsembleEstimator :  Stacked Ensemble\n",
      "Model Key:  StackedEnsemble_AllModels_1_AutoML_1_20220428_200646\n",
      "\n",
      "No model summary for this model\n",
      "\n",
      "ModelMetricsMultinomialGLM: stackedensemble\n",
      "** Reported on train data. **\n",
      "\n",
      "MSE: 3.082669827511523e-06\n",
      "RMSE: 0.001755753350420133\n",
      "\n",
      "ModelMetricsMultinomialGLM: stackedensemble\n",
      "** Reported on cross-validation data. **\n",
      "\n",
      "MSE: 0.003141757357402852\n",
      "RMSE: 0.05605138140494712\n",
      "\n",
      "Cross-Validation Metrics Summary: \n"
     ]
    },
    {
     "data": {
      "text/plain": ""
     },
     "execution_count": 60,
     "metadata": {},
     "output_type": "execute_result"
    }
   ],
   "source": [
    "model = aml.leader\n",
    "\n",
    "model"
   ],
   "metadata": {
    "collapsed": false,
    "pycharm": {
     "name": "#%%\n"
    }
   }
  },
  {
   "cell_type": "code",
   "execution_count": 61,
   "outputs": [
    {
     "data": {
      "text/plain": "'/home/valmir/dev/python/intent_classifier/data/output/h2o/models/StackedEnsemble_AllModels_1_AutoML_1_20220428_200646'"
     },
     "execution_count": 61,
     "metadata": {},
     "output_type": "execute_result"
    }
   ],
   "source": [
    "path = file_manager.filename_from_data_dir('output/h2o/models')\n",
    "\n",
    "h2o.save_model(model=model, path=path, force=True)"
   ],
   "metadata": {
    "collapsed": false,
    "pycharm": {
     "name": "#%%\n"
    }
   }
  },
  {
   "cell_type": "code",
   "execution_count": 38,
   "outputs": [
    {
     "name": "stdout",
     "output_type": "stream",
     "text": [
      "Parse progress: |████████████████████████████████████████████████████████████████| (done) 100%\n"
     ]
    }
   ],
   "source": [
    "hf_test = h2o.H2OFrame(df_test)"
   ],
   "metadata": {
    "collapsed": false,
    "pycharm": {
     "name": "#%%\n"
    }
   }
  },
  {
   "cell_type": "code",
   "execution_count": 39,
   "metadata": {
    "pycharm": {
     "name": "#%%\n"
    }
   },
   "outputs": [
    {
     "name": "stdout",
     "output_type": "stream",
     "text": [
      "stackedensemble prediction progress: |███████████████████████████████████████████| (done) 100%\n"
     ]
    },
    {
     "data": {
      "text/plain": ""
     },
     "execution_count": 39,
     "metadata": {},
     "output_type": "execute_result"
    }
   ],
   "source": [
    "hf_preds = aml.predict(hf_test)\n",
    "\n",
    "hf_preds"
   ]
  },
  {
   "cell_type": "code",
   "execution_count": 41,
   "metadata": {
    "pycharm": {
     "name": "#%%\n"
    }
   },
   "outputs": [
    {
     "name": "stdout",
     "output_type": "stream",
     "text": [
      "[1 1 1 ... 2 2 1]\n"
     ]
    }
   ],
   "source": [
    "preds = hf_preds.as_data_frame().predict.to_numpy()\n",
    "\n",
    "print(preds)"
   ]
  },
  {
   "cell_type": "code",
   "execution_count": 42,
   "metadata": {
    "pycharm": {
     "name": "#%%\n"
    }
   },
   "outputs": [
    {
     "data": {
      "text/plain": "1247"
     },
     "execution_count": 42,
     "metadata": {},
     "output_type": "execute_result"
    }
   ],
   "source": [
    "correct_predict = np.equal(preds, y_test).sum()\n",
    "\n",
    "correct_predict"
   ]
  },
  {
   "cell_type": "code",
   "execution_count": 43,
   "metadata": {
    "pycharm": {
     "name": "#%%\n"
    }
   },
   "outputs": [
    {
     "data": {
      "text/plain": "0.996802557953637"
     },
     "execution_count": 43,
     "metadata": {},
     "output_type": "execute_result"
    }
   ],
   "source": [
    "correct_predict / len(y_test)"
   ]
  },
  {
   "cell_type": "code",
   "execution_count": 45,
   "outputs": [
    {
     "data": {
      "text/plain": ""
     },
     "execution_count": 45,
     "metadata": {},
     "output_type": "execute_result"
    }
   ],
   "source": [
    "lb"
   ],
   "metadata": {
    "collapsed": false,
    "pycharm": {
     "name": "#%%\n"
    }
   }
  },
  {
   "cell_type": "code",
   "execution_count": 46,
   "outputs": [
    {
     "data": {
      "text/plain": "{'model_id': {'default': None,\n  'actual': {'__meta': {'schema_version': 3,\n    'schema_name': 'ModelKeyV3',\n    'schema_type': 'Key<Model>'},\n   'name': 'StackedEnsemble_AllModels_1_AutoML_1_20220428_200646',\n   'type': 'Key<Model>',\n   'URL': '/3/Models/StackedEnsemble_AllModels_1_AutoML_1_20220428_200646'},\n  'input': None},\n 'training_frame': {'default': None,\n  'actual': {'__meta': {'schema_version': 3,\n    'schema_name': 'FrameKeyV3',\n    'schema_type': 'Key<Frame>'},\n   'name': 'AutoML_1_20220428_200646_training_py_9_sid_a0e1',\n   'type': 'Key<Frame>',\n   'URL': '/3/Frames/AutoML_1_20220428_200646_training_py_9_sid_a0e1'},\n  'input': {'__meta': {'schema_version': 3,\n    'schema_name': 'FrameKeyV3',\n    'schema_type': 'Key<Frame>'},\n   'name': 'AutoML_1_20220428_200646_training_py_9_sid_a0e1',\n   'type': 'Key<Frame>',\n   'URL': '/3/Frames/AutoML_1_20220428_200646_training_py_9_sid_a0e1'}},\n 'response_column': {'default': None,\n  'actual': {'__meta': {'schema_version': 3,\n    'schema_name': 'ColSpecifierV3',\n    'schema_type': 'VecSpecifier'},\n   'column_name': 'label',\n   'is_member_of_frames': None},\n  'input': {'__meta': {'schema_version': 3,\n    'schema_name': 'ColSpecifierV3',\n    'schema_type': 'VecSpecifier'},\n   'column_name': 'label',\n   'is_member_of_frames': None}},\n 'validation_frame': {'default': None, 'actual': None, 'input': None},\n 'blending_frame': {'default': None, 'actual': None, 'input': None},\n 'base_models': {'default': [],\n  'actual': [{'__meta': {'schema_version': 3,\n     'schema_name': 'KeyV3',\n     'schema_type': 'Key<Keyed>'},\n    'name': 'DeepLearning_grid_3_AutoML_1_20220428_200646_model_1',\n    'type': 'Key<Keyed>',\n    'URL': None},\n   {'__meta': {'schema_version': 3,\n     'schema_name': 'KeyV3',\n     'schema_type': 'Key<Keyed>'},\n    'name': 'DeepLearning_grid_2_AutoML_1_20220428_200646_model_1',\n    'type': 'Key<Keyed>',\n    'URL': None},\n   {'__meta': {'schema_version': 3,\n     'schema_name': 'KeyV3',\n     'schema_type': 'Key<Keyed>'},\n    'name': 'DeepLearning_grid_1_AutoML_1_20220428_200646_model_1',\n    'type': 'Key<Keyed>',\n    'URL': None},\n   {'__meta': {'schema_version': 3,\n     'schema_name': 'KeyV3',\n     'schema_type': 'Key<Keyed>'},\n    'name': 'GLM_1_AutoML_1_20220428_200646',\n    'type': 'Key<Keyed>',\n    'URL': None},\n   {'__meta': {'schema_version': 3,\n     'schema_name': 'KeyV3',\n     'schema_type': 'Key<Keyed>'},\n    'name': 'DeepLearning_1_AutoML_1_20220428_200646',\n    'type': 'Key<Keyed>',\n    'URL': None},\n   {'__meta': {'schema_version': 3,\n     'schema_name': 'KeyV3',\n     'schema_type': 'Key<Keyed>'},\n    'name': 'GBM_3_AutoML_1_20220428_200646',\n    'type': 'Key<Keyed>',\n    'URL': None},\n   {'__meta': {'schema_version': 3,\n     'schema_name': 'KeyV3',\n     'schema_type': 'Key<Keyed>'},\n    'name': 'GBM_grid_1_AutoML_1_20220428_200646_model_1',\n    'type': 'Key<Keyed>',\n    'URL': None},\n   {'__meta': {'schema_version': 3,\n     'schema_name': 'KeyV3',\n     'schema_type': 'Key<Keyed>'},\n    'name': 'GBM_4_AutoML_1_20220428_200646',\n    'type': 'Key<Keyed>',\n    'URL': None},\n   {'__meta': {'schema_version': 3,\n     'schema_name': 'KeyV3',\n     'schema_type': 'Key<Keyed>'},\n    'name': 'GBM_5_AutoML_1_20220428_200646',\n    'type': 'Key<Keyed>',\n    'URL': None},\n   {'__meta': {'schema_version': 3,\n     'schema_name': 'KeyV3',\n     'schema_type': 'Key<Keyed>'},\n    'name': 'GBM_1_AutoML_1_20220428_200646',\n    'type': 'Key<Keyed>',\n    'URL': None},\n   {'__meta': {'schema_version': 3,\n     'schema_name': 'KeyV3',\n     'schema_type': 'Key<Keyed>'},\n    'name': 'GBM_grid_1_AutoML_1_20220428_200646_model_2',\n    'type': 'Key<Keyed>',\n    'URL': None},\n   {'__meta': {'schema_version': 3,\n     'schema_name': 'KeyV3',\n     'schema_type': 'Key<Keyed>'},\n    'name': 'XGBoost_2_AutoML_1_20220428_200646',\n    'type': 'Key<Keyed>',\n    'URL': None},\n   {'__meta': {'schema_version': 3,\n     'schema_name': 'KeyV3',\n     'schema_type': 'Key<Keyed>'},\n    'name': 'GBM_2_AutoML_1_20220428_200646',\n    'type': 'Key<Keyed>',\n    'URL': None},\n   {'__meta': {'schema_version': 3,\n     'schema_name': 'KeyV3',\n     'schema_type': 'Key<Keyed>'},\n    'name': 'XGBoost_3_AutoML_1_20220428_200646',\n    'type': 'Key<Keyed>',\n    'URL': None},\n   {'__meta': {'schema_version': 3,\n     'schema_name': 'KeyV3',\n     'schema_type': 'Key<Keyed>'},\n    'name': 'XGBoost_grid_1_AutoML_1_20220428_200646_model_1',\n    'type': 'Key<Keyed>',\n    'URL': None},\n   {'__meta': {'schema_version': 3,\n     'schema_name': 'KeyV3',\n     'schema_type': 'Key<Keyed>'},\n    'name': 'XGBoost_grid_1_AutoML_1_20220428_200646_model_2',\n    'type': 'Key<Keyed>',\n    'URL': None},\n   {'__meta': {'schema_version': 3,\n     'schema_name': 'KeyV3',\n     'schema_type': 'Key<Keyed>'},\n    'name': 'XGBoost_1_AutoML_1_20220428_200646',\n    'type': 'Key<Keyed>',\n    'URL': None},\n   {'__meta': {'schema_version': 3,\n     'schema_name': 'KeyV3',\n     'schema_type': 'Key<Keyed>'},\n    'name': 'XGBoost_grid_1_AutoML_1_20220428_200646_model_3',\n    'type': 'Key<Keyed>',\n    'URL': None},\n   {'__meta': {'schema_version': 3,\n     'schema_name': 'KeyV3',\n     'schema_type': 'Key<Keyed>'},\n    'name': 'XRT_1_AutoML_1_20220428_200646',\n    'type': 'Key<Keyed>',\n    'URL': None},\n   {'__meta': {'schema_version': 3,\n     'schema_name': 'KeyV3',\n     'schema_type': 'Key<Keyed>'},\n    'name': 'DRF_1_AutoML_1_20220428_200646',\n    'type': 'Key<Keyed>',\n    'URL': None}],\n  'input': [{'__meta': {'schema_version': 3,\n     'schema_name': 'KeyV3',\n     'schema_type': 'Key<Keyed>'},\n    'name': 'DeepLearning_grid_3_AutoML_1_20220428_200646_model_1',\n    'type': 'Key<Keyed>',\n    'URL': None},\n   {'__meta': {'schema_version': 3,\n     'schema_name': 'KeyV3',\n     'schema_type': 'Key<Keyed>'},\n    'name': 'DeepLearning_grid_2_AutoML_1_20220428_200646_model_1',\n    'type': 'Key<Keyed>',\n    'URL': None},\n   {'__meta': {'schema_version': 3,\n     'schema_name': 'KeyV3',\n     'schema_type': 'Key<Keyed>'},\n    'name': 'DeepLearning_grid_1_AutoML_1_20220428_200646_model_1',\n    'type': 'Key<Keyed>',\n    'URL': None},\n   {'__meta': {'schema_version': 3,\n     'schema_name': 'KeyV3',\n     'schema_type': 'Key<Keyed>'},\n    'name': 'GLM_1_AutoML_1_20220428_200646',\n    'type': 'Key<Keyed>',\n    'URL': None},\n   {'__meta': {'schema_version': 3,\n     'schema_name': 'KeyV3',\n     'schema_type': 'Key<Keyed>'},\n    'name': 'DeepLearning_1_AutoML_1_20220428_200646',\n    'type': 'Key<Keyed>',\n    'URL': None},\n   {'__meta': {'schema_version': 3,\n     'schema_name': 'KeyV3',\n     'schema_type': 'Key<Keyed>'},\n    'name': 'GBM_3_AutoML_1_20220428_200646',\n    'type': 'Key<Keyed>',\n    'URL': None},\n   {'__meta': {'schema_version': 3,\n     'schema_name': 'KeyV3',\n     'schema_type': 'Key<Keyed>'},\n    'name': 'GBM_grid_1_AutoML_1_20220428_200646_model_1',\n    'type': 'Key<Keyed>',\n    'URL': None},\n   {'__meta': {'schema_version': 3,\n     'schema_name': 'KeyV3',\n     'schema_type': 'Key<Keyed>'},\n    'name': 'GBM_4_AutoML_1_20220428_200646',\n    'type': 'Key<Keyed>',\n    'URL': None},\n   {'__meta': {'schema_version': 3,\n     'schema_name': 'KeyV3',\n     'schema_type': 'Key<Keyed>'},\n    'name': 'GBM_5_AutoML_1_20220428_200646',\n    'type': 'Key<Keyed>',\n    'URL': None},\n   {'__meta': {'schema_version': 3,\n     'schema_name': 'KeyV3',\n     'schema_type': 'Key<Keyed>'},\n    'name': 'GBM_1_AutoML_1_20220428_200646',\n    'type': 'Key<Keyed>',\n    'URL': None},\n   {'__meta': {'schema_version': 3,\n     'schema_name': 'KeyV3',\n     'schema_type': 'Key<Keyed>'},\n    'name': 'GBM_grid_1_AutoML_1_20220428_200646_model_2',\n    'type': 'Key<Keyed>',\n    'URL': None},\n   {'__meta': {'schema_version': 3,\n     'schema_name': 'KeyV3',\n     'schema_type': 'Key<Keyed>'},\n    'name': 'XGBoost_2_AutoML_1_20220428_200646',\n    'type': 'Key<Keyed>',\n    'URL': None},\n   {'__meta': {'schema_version': 3,\n     'schema_name': 'KeyV3',\n     'schema_type': 'Key<Keyed>'},\n    'name': 'GBM_2_AutoML_1_20220428_200646',\n    'type': 'Key<Keyed>',\n    'URL': None},\n   {'__meta': {'schema_version': 3,\n     'schema_name': 'KeyV3',\n     'schema_type': 'Key<Keyed>'},\n    'name': 'XGBoost_3_AutoML_1_20220428_200646',\n    'type': 'Key<Keyed>',\n    'URL': None},\n   {'__meta': {'schema_version': 3,\n     'schema_name': 'KeyV3',\n     'schema_type': 'Key<Keyed>'},\n    'name': 'XGBoost_grid_1_AutoML_1_20220428_200646_model_1',\n    'type': 'Key<Keyed>',\n    'URL': None},\n   {'__meta': {'schema_version': 3,\n     'schema_name': 'KeyV3',\n     'schema_type': 'Key<Keyed>'},\n    'name': 'XGBoost_grid_1_AutoML_1_20220428_200646_model_2',\n    'type': 'Key<Keyed>',\n    'URL': None},\n   {'__meta': {'schema_version': 3,\n     'schema_name': 'KeyV3',\n     'schema_type': 'Key<Keyed>'},\n    'name': 'XGBoost_1_AutoML_1_20220428_200646',\n    'type': 'Key<Keyed>',\n    'URL': None},\n   {'__meta': {'schema_version': 3,\n     'schema_name': 'KeyV3',\n     'schema_type': 'Key<Keyed>'},\n    'name': 'XGBoost_grid_1_AutoML_1_20220428_200646_model_3',\n    'type': 'Key<Keyed>',\n    'URL': None},\n   {'__meta': {'schema_version': 3,\n     'schema_name': 'KeyV3',\n     'schema_type': 'Key<Keyed>'},\n    'name': 'XRT_1_AutoML_1_20220428_200646',\n    'type': 'Key<Keyed>',\n    'URL': None},\n   {'__meta': {'schema_version': 3,\n     'schema_name': 'KeyV3',\n     'schema_type': 'Key<Keyed>'},\n    'name': 'DRF_1_AutoML_1_20220428_200646',\n    'type': 'Key<Keyed>',\n    'URL': None}]},\n 'metalearner_algorithm': {'default': 'AUTO',\n  'actual': 'glm',\n  'input': 'AUTO'},\n 'metalearner_nfolds': {'default': 0, 'actual': 5, 'input': 5},\n 'metalearner_fold_assignment': {'default': None,\n  'actual': None,\n  'input': None},\n 'metalearner_fold_column': {'default': None, 'actual': None, 'input': None},\n 'metalearner_params': {'default': '', 'actual': '', 'input': ''},\n 'metalearner_transform': {'default': 'NONE',\n  'actual': 'Logit',\n  'input': 'Logit'},\n 'max_runtime_secs': {'default': 0.0, 'actual': 0.0, 'input': 0.0},\n 'weights_column': {'default': None, 'actual': None, 'input': None},\n 'offset_column': {'default': None, 'actual': None, 'input': None},\n 'seed': {'default': -1, 'actual': 14, 'input': 14},\n 'score_training_samples': {'default': 10000, 'actual': 10000, 'input': 10000},\n 'keep_levelone_frame': {'default': False, 'actual': True, 'input': True},\n 'export_checkpoints_dir': {'default': None, 'actual': None, 'input': None},\n 'auc_type': {'default': 'AUTO', 'actual': 'AUTO', 'input': 'AUTO'}}"
     },
     "execution_count": 46,
     "metadata": {},
     "output_type": "execute_result"
    }
   ],
   "source": [
    "aml.leader.params"
   ],
   "metadata": {
    "collapsed": false,
    "pycharm": {
     "name": "#%%\n"
    }
   }
  },
  {
   "cell_type": "code",
   "execution_count": 47,
   "outputs": [
    {
     "name": "stderr",
     "output_type": "stream",
     "text": [
      "/home/valmir/dev/python/intent_classifier/venv/lib/python3.9/site-packages/h2o/estimators/stackedensemble.py:925: H2ODeprecationWarning: The usage of stacked_ensemble.metalearner()['name'] will be deprecated. Metalearner now returns the metalearner object. If you need to get the 'name' please use stacked_ensemble.metalearner().model_id\n",
      "  warnings.warn(\n"
     ]
    },
    {
     "data": {
      "text/plain": "'metalearner_AUTO_StackedEnsemble_AllModels_1_AutoML_1_20220428_200646'"
     },
     "execution_count": 47,
     "metadata": {},
     "output_type": "execute_result"
    }
   ],
   "source": [
    "aml.leader.metalearner()['name']"
   ],
   "metadata": {
    "collapsed": false,
    "pycharm": {
     "name": "#%%\n"
    }
   }
  },
  {
   "cell_type": "code",
   "execution_count": 48,
   "outputs": [
    {
     "data": {
      "text/plain": "'metalearner_AUTO_StackedEnsemble_AllModels_1_AutoML_1_20220428_200646'"
     },
     "execution_count": 48,
     "metadata": {},
     "output_type": "execute_result"
    }
   ],
   "source": [
    "aml.leader.metalearner().model_id"
   ],
   "metadata": {
    "collapsed": false,
    "pycharm": {
     "name": "#%%\n"
    }
   }
  },
  {
   "cell_type": "code",
   "execution_count": 49,
   "outputs": [
    {
     "name": "stderr",
     "output_type": "stream",
     "text": [
      "/tmp/ipykernel_94757/4260018418.py:3: SettingWithCopyWarning: \n",
      "A value is trying to be set on a copy of a slice from a DataFrame.\n",
      "Try using .loc[row_indexer,col_indexer] = value instead\n",
      "\n",
      "See the caveats in the documentation: https://pandas.pydata.org/pandas-docs/stable/user_guide/indexing.html#returning-a-view-versus-a-copy\n",
      "  df_higher_sentences['embeddings'] = df_higher_sentences['txt'].map(dict_embeddings)\n",
      "/tmp/ipykernel_94757/4260018418.py:4: SettingWithCopyWarning: \n",
      "A value is trying to be set on a copy of a slice from a DataFrame.\n",
      "Try using .loc[row_indexer,col_indexer] = value instead\n",
      "\n",
      "See the caveats in the documentation: https://pandas.pydata.org/pandas-docs/stable/user_guide/indexing.html#returning-a-view-versus-a-copy\n",
      "  df_higher_sentences['label_index'] = df_higher_sentences['intent'].map(pipeline.dict_labels)\n"
     ]
    },
    {
     "data": {
      "text/plain": "              label      distance   label_index\ncount  21627.000000  21627.000000  21627.000000\nmean      31.385999      0.422186      2.258889\nstd       17.675638      0.107617      1.409358\nmin        0.000000      0.250006      1.000000\n25%       17.000000      0.334341      1.000000\n50%       32.000000      0.411661      2.000000\n75%       47.000000      0.498158      3.000000\nmax       59.000000      0.834035      5.000000",
      "text/html": "<div>\n<style scoped>\n    .dataframe tbody tr th:only-of-type {\n        vertical-align: middle;\n    }\n\n    .dataframe tbody tr th {\n        vertical-align: top;\n    }\n\n    .dataframe thead th {\n        text-align: right;\n    }\n</style>\n<table border=\"1\" class=\"dataframe\">\n  <thead>\n    <tr style=\"text-align: right;\">\n      <th></th>\n      <th>label</th>\n      <th>distance</th>\n      <th>label_index</th>\n    </tr>\n  </thead>\n  <tbody>\n    <tr>\n      <th>count</th>\n      <td>21627.000000</td>\n      <td>21627.000000</td>\n      <td>21627.000000</td>\n    </tr>\n    <tr>\n      <th>mean</th>\n      <td>31.385999</td>\n      <td>0.422186</td>\n      <td>2.258889</td>\n    </tr>\n    <tr>\n      <th>std</th>\n      <td>17.675638</td>\n      <td>0.107617</td>\n      <td>1.409358</td>\n    </tr>\n    <tr>\n      <th>min</th>\n      <td>0.000000</td>\n      <td>0.250006</td>\n      <td>1.000000</td>\n    </tr>\n    <tr>\n      <th>25%</th>\n      <td>17.000000</td>\n      <td>0.334341</td>\n      <td>1.000000</td>\n    </tr>\n    <tr>\n      <th>50%</th>\n      <td>32.000000</td>\n      <td>0.411661</td>\n      <td>2.000000</td>\n    </tr>\n    <tr>\n      <th>75%</th>\n      <td>47.000000</td>\n      <td>0.498158</td>\n      <td>3.000000</td>\n    </tr>\n    <tr>\n      <th>max</th>\n      <td>59.000000</td>\n      <td>0.834035</td>\n      <td>5.000000</td>\n    </tr>\n  </tbody>\n</table>\n</div>"
     },
     "execution_count": 49,
     "metadata": {},
     "output_type": "execute_result"
    }
   ],
   "source": [
    "df_higher_sentences = df_annotated[df_annotated['distance'] > 0.25]\n",
    "\n",
    "df_higher_sentences['embeddings'] = df_higher_sentences['txt'].map(dict_embeddings)\n",
    "df_higher_sentences['label_index'] = df_higher_sentences['intent'].map(pipeline.dict_labels)\n",
    "\n",
    "df_higher_sentences.describe()"
   ],
   "metadata": {
    "collapsed": false,
    "pycharm": {
     "name": "#%%\n"
    }
   }
  },
  {
   "cell_type": "code",
   "execution_count": 51,
   "outputs": [
    {
     "data": {
      "text/plain": "      V_000     V_001     V_002     V_003     V_004     V_005     V_006  \\\n0 -0.008343  0.033368 -0.046442 -0.052166 -0.091297 -0.001843  0.033507   \n1  0.067861 -0.056069 -0.001313 -0.030145 -0.092034 -0.000798  0.052008   \n2  0.018875  0.024117  0.035090 -0.112785 -0.055182  0.048042  0.011638   \n3  0.050650 -0.018382  0.015175 -0.008381 -0.067400  0.014663 -0.012952   \n4  0.049683 -0.024636 -0.020439 -0.010502 -0.151096  0.027749  0.034429   \n\n      V_007     V_008     V_009  ...     V_503     V_504     V_505     V_506  \\\n0  0.027626 -0.082742  0.012627  ... -0.069063  0.066489  0.016825  0.019510   \n1  0.061108 -0.091092 -0.012032  ... -0.049187  0.080142  0.014424  0.043665   \n2 -0.006258 -0.033919  0.035440  ... -0.024105  0.022007  0.080454 -0.077422   \n3 -0.030758 -0.084573  0.020417  ... -0.015316  0.047480  0.010318 -0.033296   \n4  0.048915 -0.072280 -0.030891  ... -0.060599  0.040682 -0.005987 -0.037960   \n\n      V_507     V_508     V_509     V_510     V_511  label  \n0  0.005963  0.065603 -0.042441  0.007935  0.070579      2  \n1 -0.016288  0.010631 -0.091025  0.029442 -0.074986      1  \n2 -0.025580 -0.028778 -0.025105 -0.043184  0.004809      3  \n3 -0.040025 -0.044433  0.038009  0.058241 -0.065861      1  \n4  0.071119  0.019034 -0.126513  0.064421 -0.061999      1  \n\n[5 rows x 513 columns]",
      "text/html": "<div>\n<style scoped>\n    .dataframe tbody tr th:only-of-type {\n        vertical-align: middle;\n    }\n\n    .dataframe tbody tr th {\n        vertical-align: top;\n    }\n\n    .dataframe thead th {\n        text-align: right;\n    }\n</style>\n<table border=\"1\" class=\"dataframe\">\n  <thead>\n    <tr style=\"text-align: right;\">\n      <th></th>\n      <th>V_000</th>\n      <th>V_001</th>\n      <th>V_002</th>\n      <th>V_003</th>\n      <th>V_004</th>\n      <th>V_005</th>\n      <th>V_006</th>\n      <th>V_007</th>\n      <th>V_008</th>\n      <th>V_009</th>\n      <th>...</th>\n      <th>V_503</th>\n      <th>V_504</th>\n      <th>V_505</th>\n      <th>V_506</th>\n      <th>V_507</th>\n      <th>V_508</th>\n      <th>V_509</th>\n      <th>V_510</th>\n      <th>V_511</th>\n      <th>label</th>\n    </tr>\n  </thead>\n  <tbody>\n    <tr>\n      <th>0</th>\n      <td>-0.008343</td>\n      <td>0.033368</td>\n      <td>-0.046442</td>\n      <td>-0.052166</td>\n      <td>-0.091297</td>\n      <td>-0.001843</td>\n      <td>0.033507</td>\n      <td>0.027626</td>\n      <td>-0.082742</td>\n      <td>0.012627</td>\n      <td>...</td>\n      <td>-0.069063</td>\n      <td>0.066489</td>\n      <td>0.016825</td>\n      <td>0.019510</td>\n      <td>0.005963</td>\n      <td>0.065603</td>\n      <td>-0.042441</td>\n      <td>0.007935</td>\n      <td>0.070579</td>\n      <td>2</td>\n    </tr>\n    <tr>\n      <th>1</th>\n      <td>0.067861</td>\n      <td>-0.056069</td>\n      <td>-0.001313</td>\n      <td>-0.030145</td>\n      <td>-0.092034</td>\n      <td>-0.000798</td>\n      <td>0.052008</td>\n      <td>0.061108</td>\n      <td>-0.091092</td>\n      <td>-0.012032</td>\n      <td>...</td>\n      <td>-0.049187</td>\n      <td>0.080142</td>\n      <td>0.014424</td>\n      <td>0.043665</td>\n      <td>-0.016288</td>\n      <td>0.010631</td>\n      <td>-0.091025</td>\n      <td>0.029442</td>\n      <td>-0.074986</td>\n      <td>1</td>\n    </tr>\n    <tr>\n      <th>2</th>\n      <td>0.018875</td>\n      <td>0.024117</td>\n      <td>0.035090</td>\n      <td>-0.112785</td>\n      <td>-0.055182</td>\n      <td>0.048042</td>\n      <td>0.011638</td>\n      <td>-0.006258</td>\n      <td>-0.033919</td>\n      <td>0.035440</td>\n      <td>...</td>\n      <td>-0.024105</td>\n      <td>0.022007</td>\n      <td>0.080454</td>\n      <td>-0.077422</td>\n      <td>-0.025580</td>\n      <td>-0.028778</td>\n      <td>-0.025105</td>\n      <td>-0.043184</td>\n      <td>0.004809</td>\n      <td>3</td>\n    </tr>\n    <tr>\n      <th>3</th>\n      <td>0.050650</td>\n      <td>-0.018382</td>\n      <td>0.015175</td>\n      <td>-0.008381</td>\n      <td>-0.067400</td>\n      <td>0.014663</td>\n      <td>-0.012952</td>\n      <td>-0.030758</td>\n      <td>-0.084573</td>\n      <td>0.020417</td>\n      <td>...</td>\n      <td>-0.015316</td>\n      <td>0.047480</td>\n      <td>0.010318</td>\n      <td>-0.033296</td>\n      <td>-0.040025</td>\n      <td>-0.044433</td>\n      <td>0.038009</td>\n      <td>0.058241</td>\n      <td>-0.065861</td>\n      <td>1</td>\n    </tr>\n    <tr>\n      <th>4</th>\n      <td>0.049683</td>\n      <td>-0.024636</td>\n      <td>-0.020439</td>\n      <td>-0.010502</td>\n      <td>-0.151096</td>\n      <td>0.027749</td>\n      <td>0.034429</td>\n      <td>0.048915</td>\n      <td>-0.072280</td>\n      <td>-0.030891</td>\n      <td>...</td>\n      <td>-0.060599</td>\n      <td>0.040682</td>\n      <td>-0.005987</td>\n      <td>-0.037960</td>\n      <td>0.071119</td>\n      <td>0.019034</td>\n      <td>-0.126513</td>\n      <td>0.064421</td>\n      <td>-0.061999</td>\n      <td>1</td>\n    </tr>\n  </tbody>\n</table>\n<p>5 rows × 513 columns</p>\n</div>"
     },
     "execution_count": 51,
     "metadata": {},
     "output_type": "execute_result"
    }
   ],
   "source": [
    "df_to_predict =  pipeline.generate_df_from_x_y(\n",
    "    x_data=df_higher_sentences['embeddings'].to_numpy(),\n",
    "    y_data=df_higher_sentences['label_index'].to_numpy()\n",
    ")\n",
    "\n",
    "df_to_predict.head()"
   ],
   "metadata": {
    "collapsed": false,
    "pycharm": {
     "name": "#%%\n"
    }
   }
  },
  {
   "cell_type": "code",
   "execution_count": 52,
   "outputs": [
    {
     "name": "stdout",
     "output_type": "stream",
     "text": [
      "Parse progress: |████████████████████████████████████████████████████████████████| (done) 100%\n",
      "stackedensemble prediction progress: |███████████████████████████████████████████| (done) 100%\n"
     ]
    },
    {
     "data": {
      "text/plain": ""
     },
     "execution_count": 52,
     "metadata": {},
     "output_type": "execute_result"
    }
   ],
   "source": [
    "hf_to_predict = h2o.H2OFrame(df_to_predict)\n",
    "\n",
    "hf_preds = aml.predict(hf_to_predict)\n",
    "\n",
    "hf_preds"
   ],
   "metadata": {
    "collapsed": false,
    "pycharm": {
     "name": "#%%\n"
    }
   }
  },
  {
   "cell_type": "code",
   "execution_count": 54,
   "outputs": [
    {
     "data": {
      "text/plain": "0.7781014472649929"
     },
     "execution_count": 54,
     "metadata": {},
     "output_type": "execute_result"
    }
   ],
   "source": [
    "predicts = hf_preds.as_data_frame().predict.to_numpy()\n",
    "\n",
    "correct_label = df_to_predict.label.to_numpy()\n",
    "\n",
    "correct_predict = np.equal(predicts, correct_label).sum()\n",
    "\n",
    "correct_predict / len(correct_label)"
   ],
   "metadata": {
    "collapsed": false,
    "pycharm": {
     "name": "#%%\n"
    }
   }
  },
  {
   "cell_type": "code",
   "execution_count": null,
   "outputs": [],
   "source": [],
   "metadata": {
    "collapsed": false,
    "pycharm": {
     "name": "#%%\n"
    }
   }
  }
 ],
 "metadata": {
  "interpreter": {
   "hash": "da386d383b1a4f2ab977ab0cc371ee70ac9bd2160da3f0bf5cca7f94d497a6a3"
  },
  "kernelspec": {
   "display_name": "Python 3.9.7 ('venv': venv)",
   "language": "python",
   "name": "python3"
  },
  "language_info": {
   "codemirror_mode": {
    "name": "ipython",
    "version": 3
   },
   "file_extension": ".py",
   "mimetype": "text/x-python",
   "name": "python",
   "nbconvert_exporter": "python",
   "pygments_lexer": "ipython3",
   "version": "3.9.7"
  },
  "orig_nbformat": 4
 },
 "nbformat": 4,
 "nbformat_minor": 2
}
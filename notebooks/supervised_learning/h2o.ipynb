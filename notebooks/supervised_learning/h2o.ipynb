{
 "cells": [
  {
   "cell_type": "code",
   "execution_count": 1,
   "outputs": [],
   "source": [
    "%load_ext autoreload\n",
    "\n",
    "%autoreload 2"
   ],
   "metadata": {
    "collapsed": false,
    "pycharm": {
     "name": "#%%\n"
    }
   }
  },
  {
   "cell_type": "code",
   "execution_count": 2,
   "metadata": {
    "pycharm": {
     "name": "#%%\n"
    }
   },
   "outputs": [],
   "source": [
    "from sklearn.model_selection import train_test_split\n",
    "\n",
    "import numpy as np\n",
    "\n",
    "from src.ml import pipeline\n",
    "from src.core import file_manager"
   ]
  },
  {
   "cell_type": "code",
   "execution_count": 3,
   "metadata": {
    "pycharm": {
     "name": "#%%\n"
    }
   },
   "outputs": [],
   "source": [
    "df_annotated = pipeline.get_annotated_df('use')"
   ]
  },
  {
   "cell_type": "code",
   "execution_count": 4,
   "metadata": {
    "pycharm": {
     "name": "#%%\n"
    }
   },
   "outputs": [],
   "source": [
    "df_embeddings = pipeline.get_embedding_dfs('use')\n",
    "\n",
    "dict_embeddings = pipeline.generate_dict_embedding_text(df_embeddings)"
   ]
  },
  {
   "cell_type": "code",
   "execution_count": 5,
   "metadata": {
    "pycharm": {
     "name": "#%%\n"
    }
   },
   "outputs": [
    {
     "name": "stdout",
     "output_type": "stream",
     "text": [
      "{'inform': 1, 'inform_symptoms': 2, 'inform_medicine': 3, 'greeting': 4, 'request_inform': 5}\n"
     ]
    }
   ],
   "source": [
    "print(pipeline.dict_labels)"
   ]
  },
  {
   "cell_type": "code",
   "execution_count": 6,
   "metadata": {
    "pycharm": {
     "name": "#%%\n"
    }
   },
   "outputs": [
    {
     "data": {
      "text/plain": "                                       txt  label  distance           intent  \\\n0   Há dois tias estou com dor na garganta     15  0.232881  inform_symptoms   \n3                                      Sim     12  0.099960           inform   \n7                                      Não     18  0.191976           inform   \n12                                      Ok      4  0.151040           inform   \n14                                Tá certo      4  0.159767           inform   \n\n                                        annotated_txt  \n0   Há dois tias estou com [dor](SINTOMA) na [garg...  \n3                                                 Sim  \n7                                                 Não  \n12                                                 Ok  \n14                                           Tá certo  ",
      "text/html": "<div>\n<style scoped>\n    .dataframe tbody tr th:only-of-type {\n        vertical-align: middle;\n    }\n\n    .dataframe tbody tr th {\n        vertical-align: top;\n    }\n\n    .dataframe thead th {\n        text-align: right;\n    }\n</style>\n<table border=\"1\" class=\"dataframe\">\n  <thead>\n    <tr style=\"text-align: right;\">\n      <th></th>\n      <th>txt</th>\n      <th>label</th>\n      <th>distance</th>\n      <th>intent</th>\n      <th>annotated_txt</th>\n    </tr>\n  </thead>\n  <tbody>\n    <tr>\n      <th>0</th>\n      <td>Há dois tias estou com dor na garganta</td>\n      <td>15</td>\n      <td>0.232881</td>\n      <td>inform_symptoms</td>\n      <td>Há dois tias estou com [dor](SINTOMA) na [garg...</td>\n    </tr>\n    <tr>\n      <th>3</th>\n      <td>Sim</td>\n      <td>12</td>\n      <td>0.099960</td>\n      <td>inform</td>\n      <td>Sim</td>\n    </tr>\n    <tr>\n      <th>7</th>\n      <td>Não</td>\n      <td>18</td>\n      <td>0.191976</td>\n      <td>inform</td>\n      <td>Não</td>\n    </tr>\n    <tr>\n      <th>12</th>\n      <td>Ok</td>\n      <td>4</td>\n      <td>0.151040</td>\n      <td>inform</td>\n      <td>Ok</td>\n    </tr>\n    <tr>\n      <th>14</th>\n      <td>Tá certo</td>\n      <td>4</td>\n      <td>0.159767</td>\n      <td>inform</td>\n      <td>Tá certo</td>\n    </tr>\n  </tbody>\n</table>\n</div>"
     },
     "execution_count": 6,
     "metadata": {},
     "output_type": "execute_result"
    }
   ],
   "source": [
    "df_closer_sentences = df_annotated[df_annotated['distance'] <= 0.25]\n",
    "\n",
    "df_closer_sentences.head()"
   ]
  },
  {
   "cell_type": "code",
   "execution_count": 7,
   "metadata": {
    "pycharm": {
     "name": "#%%\n"
    }
   },
   "outputs": [
    {
     "name": "stderr",
     "output_type": "stream",
     "text": [
      "/tmp/ipykernel_89470/2551216481.py:1: SettingWithCopyWarning: \n",
      "A value is trying to be set on a copy of a slice from a DataFrame.\n",
      "Try using .loc[row_indexer,col_indexer] = value instead\n",
      "\n",
      "See the caveats in the documentation: https://pandas.pydata.org/pandas-docs/stable/user_guide/indexing.html#returning-a-view-versus-a-copy\n",
      "  df_closer_sentences['embeddings'] = df_closer_sentences['txt'].map(dict_embeddings)\n",
      "/tmp/ipykernel_89470/2551216481.py:3: SettingWithCopyWarning: \n",
      "A value is trying to be set on a copy of a slice from a DataFrame.\n",
      "Try using .loc[row_indexer,col_indexer] = value instead\n",
      "\n",
      "See the caveats in the documentation: https://pandas.pydata.org/pandas-docs/stable/user_guide/indexing.html#returning-a-view-versus-a-copy\n",
      "  df_closer_sentences['label_index'] = df_closer_sentences['intent'].map(pipeline.dict_labels)\n"
     ]
    },
    {
     "data": {
      "text/plain": "                                       txt  label  distance           intent  \\\n0   Há dois tias estou com dor na garganta     15  0.232881  inform_symptoms   \n3                                      Sim     12  0.099960           inform   \n7                                      Não     18  0.191976           inform   \n12                                      Ok      4  0.151040           inform   \n14                                Tá certo      4  0.159767           inform   \n\n                                        annotated_txt  \\\n0   Há dois tias estou com [dor](SINTOMA) na [garg...   \n3                                                 Sim   \n7                                                 Não   \n12                                                 Ok   \n14                                           Tá certo   \n\n                                           embeddings  label_index  \n0   [-0.05788306, 0.042827144000000004, -0.0357614...            2  \n3   [0.11549624, -0.010514308, 0.02550796800000000...            1  \n7   [0.10408107, -0.02228124, 0.00076653576, -0.01...            1  \n12  [0.1262432, -0.01299934, 0.064029716, -0.00782...            1  \n14  [0.12865065, -0.020153655000000003, 0.03307859...            1  ",
      "text/html": "<div>\n<style scoped>\n    .dataframe tbody tr th:only-of-type {\n        vertical-align: middle;\n    }\n\n    .dataframe tbody tr th {\n        vertical-align: top;\n    }\n\n    .dataframe thead th {\n        text-align: right;\n    }\n</style>\n<table border=\"1\" class=\"dataframe\">\n  <thead>\n    <tr style=\"text-align: right;\">\n      <th></th>\n      <th>txt</th>\n      <th>label</th>\n      <th>distance</th>\n      <th>intent</th>\n      <th>annotated_txt</th>\n      <th>embeddings</th>\n      <th>label_index</th>\n    </tr>\n  </thead>\n  <tbody>\n    <tr>\n      <th>0</th>\n      <td>Há dois tias estou com dor na garganta</td>\n      <td>15</td>\n      <td>0.232881</td>\n      <td>inform_symptoms</td>\n      <td>Há dois tias estou com [dor](SINTOMA) na [garg...</td>\n      <td>[-0.05788306, 0.042827144000000004, -0.0357614...</td>\n      <td>2</td>\n    </tr>\n    <tr>\n      <th>3</th>\n      <td>Sim</td>\n      <td>12</td>\n      <td>0.099960</td>\n      <td>inform</td>\n      <td>Sim</td>\n      <td>[0.11549624, -0.010514308, 0.02550796800000000...</td>\n      <td>1</td>\n    </tr>\n    <tr>\n      <th>7</th>\n      <td>Não</td>\n      <td>18</td>\n      <td>0.191976</td>\n      <td>inform</td>\n      <td>Não</td>\n      <td>[0.10408107, -0.02228124, 0.00076653576, -0.01...</td>\n      <td>1</td>\n    </tr>\n    <tr>\n      <th>12</th>\n      <td>Ok</td>\n      <td>4</td>\n      <td>0.151040</td>\n      <td>inform</td>\n      <td>Ok</td>\n      <td>[0.1262432, -0.01299934, 0.064029716, -0.00782...</td>\n      <td>1</td>\n    </tr>\n    <tr>\n      <th>14</th>\n      <td>Tá certo</td>\n      <td>4</td>\n      <td>0.159767</td>\n      <td>inform</td>\n      <td>Tá certo</td>\n      <td>[0.12865065, -0.020153655000000003, 0.03307859...</td>\n      <td>1</td>\n    </tr>\n  </tbody>\n</table>\n</div>"
     },
     "execution_count": 7,
     "metadata": {},
     "output_type": "execute_result"
    }
   ],
   "source": [
    "df_closer_sentences['embeddings'] = df_closer_sentences['txt'].map(dict_embeddings)\n",
    "\n",
    "df_closer_sentences['label_index'] = df_closer_sentences['intent'].map(pipeline.dict_labels)\n",
    "\n",
    "df_closer_sentences.head()"
   ]
  },
  {
   "cell_type": "code",
   "execution_count": 8,
   "metadata": {
    "pycharm": {
     "name": "#%%\n"
    }
   },
   "outputs": [],
   "source": [
    "X = df_closer_sentences['embeddings'].to_numpy()\n",
    "y = df_closer_sentences['label_index'].to_numpy()"
   ]
  },
  {
   "cell_type": "code",
   "execution_count": 9,
   "metadata": {
    "pycharm": {
     "name": "#%%\n"
    }
   },
   "outputs": [
    {
     "name": "stdout",
     "output_type": "stream",
     "text": [
      "2917\n"
     ]
    },
    {
     "data": {
      "text/plain": "{1: 469, 2: 1725, 3: 117, 4: 401, 5: 205}"
     },
     "execution_count": 9,
     "metadata": {},
     "output_type": "execute_result"
    }
   ],
   "source": [
    "X_train, X_test, y_train, y_test = train_test_split(X, y, test_size=0.3, random_state=42)\n",
    "\n",
    "print(len(X_train))\n",
    "\n",
    "{label: (y_train == label).sum() for label in set(y_train)}"
   ]
  },
  {
   "cell_type": "code",
   "execution_count": 10,
   "metadata": {
    "pycharm": {
     "name": "#%%\n"
    }
   },
   "outputs": [
    {
     "name": "stdout",
     "output_type": "stream",
     "text": [
      "1251\n"
     ]
    },
    {
     "data": {
      "text/plain": "{1: 175, 2: 764, 3: 36, 4: 189, 5: 87}"
     },
     "execution_count": 10,
     "metadata": {},
     "output_type": "execute_result"
    }
   ],
   "source": [
    "print(len(y_test))\n",
    "\n",
    "{label: (y_test == label).sum() for label in set(y_test)}"
   ]
  },
  {
   "cell_type": "code",
   "execution_count": 11,
   "metadata": {
    "pycharm": {
     "name": "#%%\n"
    }
   },
   "outputs": [],
   "source": [
    "df_train = pipeline.generate_df_from_x_y(X_train, y_train)\n",
    "df_test = pipeline.generate_df_from_x_y(X_test, y_test)\n",
    "\n",
    "df_test = df_test.drop(['label'], axis=1)"
   ]
  },
  {
   "cell_type": "code",
   "execution_count": 12,
   "metadata": {
    "pycharm": {
     "name": "#%%\n"
    }
   },
   "outputs": [
    {
     "name": "stdout",
     "output_type": "stream",
     "text": [
      "Checking whether there is an H2O instance running at http://localhost:54321 ..... not found.\n",
      "Attempting to start a local H2O server...\n",
      "  Java Version: openjdk version \"11.0.15\" 2022-04-19; OpenJDK Runtime Environment (build 11.0.15+10-Ubuntu-0ubuntu0.22.04.1); OpenJDK 64-Bit Server VM (build 11.0.15+10-Ubuntu-0ubuntu0.22.04.1, mixed mode, sharing)\n",
      "  Starting server from /home/valmir/dev/python/intent_classifier/venv/lib/python3.9/site-packages/h2o/backend/bin/h2o.jar\n",
      "  Ice root: /tmp/tmpr6vcch9l\n",
      "  JVM stdout: /tmp/tmpr6vcch9l/h2o_valmir_started_from_python.out\n",
      "  JVM stderr: /tmp/tmpr6vcch9l/h2o_valmir_started_from_python.err\n",
      "  Server is running at http://127.0.0.1:54321\n",
      "Connecting to H2O server at http://127.0.0.1:54321 ... successful.\n"
     ]
    },
    {
     "data": {
      "text/plain": "--------------------------  -----------------------------\nH2O_cluster_uptime:         01 secs\nH2O_cluster_timezone:       America/Fortaleza\nH2O_data_parsing_timezone:  UTC\nH2O_cluster_version:        3.36.1.1\nH2O_cluster_version_age:    16 days\nH2O_cluster_name:           H2O_from_python_valmir_don3uv\nH2O_cluster_total_nodes:    1\nH2O_cluster_free_memory:    7.777 Gb\nH2O_cluster_total_cores:    16\nH2O_cluster_allowed_cores:  16\nH2O_cluster_status:         locked, healthy\nH2O_connection_url:         http://127.0.0.1:54321\nH2O_connection_proxy:       {\"http\": null, \"https\": null}\nH2O_internal_security:      False\nPython_version:             3.9.12 final\n--------------------------  -----------------------------",
      "text/html": "<div style=\"overflow:auto\"><table style=\"width:50%\"><tr><td>H2O_cluster_uptime:</td>\n<td>01 secs</td></tr>\n<tr><td>H2O_cluster_timezone:</td>\n<td>America/Fortaleza</td></tr>\n<tr><td>H2O_data_parsing_timezone:</td>\n<td>UTC</td></tr>\n<tr><td>H2O_cluster_version:</td>\n<td>3.36.1.1</td></tr>\n<tr><td>H2O_cluster_version_age:</td>\n<td>16 days </td></tr>\n<tr><td>H2O_cluster_name:</td>\n<td>H2O_from_python_valmir_don3uv</td></tr>\n<tr><td>H2O_cluster_total_nodes:</td>\n<td>1</td></tr>\n<tr><td>H2O_cluster_free_memory:</td>\n<td>7.777 Gb</td></tr>\n<tr><td>H2O_cluster_total_cores:</td>\n<td>16</td></tr>\n<tr><td>H2O_cluster_allowed_cores:</td>\n<td>16</td></tr>\n<tr><td>H2O_cluster_status:</td>\n<td>locked, healthy</td></tr>\n<tr><td>H2O_connection_url:</td>\n<td>http://127.0.0.1:54321</td></tr>\n<tr><td>H2O_connection_proxy:</td>\n<td>{\"http\": null, \"https\": null}</td></tr>\n<tr><td>H2O_internal_security:</td>\n<td>False</td></tr>\n<tr><td>Python_version:</td>\n<td>3.9.12 final</td></tr></table></div>"
     },
     "metadata": {},
     "output_type": "display_data"
    }
   ],
   "source": [
    "import h2o\n",
    "from h2o.automl import H2OAutoML\n",
    "\n",
    "# Start the H2O cluster (locally)\n",
    "h2o.init()"
   ]
  },
  {
   "cell_type": "code",
   "execution_count": 13,
   "outputs": [
    {
     "name": "stdout",
     "output_type": "stream",
     "text": [
      "Parse progress: |████████████████████████████████████████████████████████████████| (done) 100%\n"
     ]
    }
   ],
   "source": [
    "hf_train = h2o.H2OFrame(df_train)\n",
    "\n",
    "x = hf_train.columns\n",
    "y = \"label\"\n",
    "x.remove(y)"
   ],
   "metadata": {
    "collapsed": false,
    "pycharm": {
     "name": "#%%\n"
    }
   }
  },
  {
   "cell_type": "code",
   "execution_count": 14,
   "metadata": {
    "pycharm": {
     "name": "#%%\n"
    }
   },
   "outputs": [
    {
     "name": "stdout",
     "output_type": "stream",
     "text": [
      "AutoML progress: |███████████████████████████████████████████████████████████████| (done) 100%\n"
     ]
    },
    {
     "data": {
      "text/html": "<table>\n<thead>\n<tr><th>model_id                                               </th><th style=\"text-align: right;\">  mean_per_class_error</th><th style=\"text-align: right;\">  logloss</th><th style=\"text-align: right;\">     rmse</th><th style=\"text-align: right;\">       mse</th></tr>\n</thead>\n<tbody>\n<tr><td>StackedEnsemble_AllModels_1_AutoML_1_20220429_155157   </td><td style=\"text-align: right;\">            0.00781321</td><td style=\"text-align: right;\">0.0142299</td><td style=\"text-align: right;\">0.0534371</td><td style=\"text-align: right;\">0.00285552</td></tr>\n<tr><td>DeepLearning_grid_1_AutoML_1_20220429_155157_model_1   </td><td style=\"text-align: right;\">            0.0087384 </td><td style=\"text-align: right;\">0.0196248</td><td style=\"text-align: right;\">0.0558055</td><td style=\"text-align: right;\">0.00311425</td></tr>\n<tr><td>StackedEnsemble_BestOfFamily_1_AutoML_1_20220429_155157</td><td style=\"text-align: right;\">            0.00904575</td><td style=\"text-align: right;\">0.0140448</td><td style=\"text-align: right;\">0.0540539</td><td style=\"text-align: right;\">0.00292183</td></tr>\n<tr><td>DeepLearning_grid_2_AutoML_1_20220429_155157_model_1   </td><td style=\"text-align: right;\">            0.00907443</td><td style=\"text-align: right;\">0.0278224</td><td style=\"text-align: right;\">0.0632846</td><td style=\"text-align: right;\">0.00400494</td></tr>\n<tr><td>GLM_1_AutoML_1_20220429_155157                         </td><td style=\"text-align: right;\">            0.00978632</td><td style=\"text-align: right;\">0.0159005</td><td style=\"text-align: right;\">0.0595617</td><td style=\"text-align: right;\">0.00354759</td></tr>\n<tr><td>DeepLearning_grid_3_AutoML_1_20220429_155157_model_1   </td><td style=\"text-align: right;\">            0.0105705 </td><td style=\"text-align: right;\">0.0374155</td><td style=\"text-align: right;\">0.0663098</td><td style=\"text-align: right;\">0.00439699</td></tr>\n<tr><td>DeepLearning_1_AutoML_1_20220429_155157                </td><td style=\"text-align: right;\">            0.0175362 </td><td style=\"text-align: right;\">0.0349525</td><td style=\"text-align: right;\">0.0914218</td><td style=\"text-align: right;\">0.00835795</td></tr>\n<tr><td>GBM_3_AutoML_1_20220429_155157                         </td><td style=\"text-align: right;\">            0.0189324 </td><td style=\"text-align: right;\">0.0293009</td><td style=\"text-align: right;\">0.0786759</td><td style=\"text-align: right;\">0.00618989</td></tr>\n<tr><td>GBM_grid_1_AutoML_1_20220429_155157_model_1            </td><td style=\"text-align: right;\">            0.0206423 </td><td style=\"text-align: right;\">0.0252334</td><td style=\"text-align: right;\">0.0763242</td><td style=\"text-align: right;\">0.00582539</td></tr>\n<tr><td>GBM_4_AutoML_1_20220429_155157                         </td><td style=\"text-align: right;\">            0.0210719 </td><td style=\"text-align: right;\">0.0293167</td><td style=\"text-align: right;\">0.0842514</td><td style=\"text-align: right;\">0.0070983 </td></tr>\n<tr><td>GBM_5_AutoML_1_20220429_155157                         </td><td style=\"text-align: right;\">            0.0236561 </td><td style=\"text-align: right;\">0.0354491</td><td style=\"text-align: right;\">0.0904041</td><td style=\"text-align: right;\">0.0081729 </td></tr>\n<tr><td>GBM_1_AutoML_1_20220429_155157                         </td><td style=\"text-align: right;\">            0.0238073 </td><td style=\"text-align: right;\">0.0204992</td><td style=\"text-align: right;\">0.0757515</td><td style=\"text-align: right;\">0.00573828</td></tr>\n<tr><td>GBM_grid_1_AutoML_1_20220429_155157_model_2            </td><td style=\"text-align: right;\">            0.0254695 </td><td style=\"text-align: right;\">0.0370258</td><td style=\"text-align: right;\">0.0926556</td><td style=\"text-align: right;\">0.00858507</td></tr>\n<tr><td>XGBoost_2_AutoML_1_20220429_155157                     </td><td style=\"text-align: right;\">            0.0255854 </td><td style=\"text-align: right;\">0.039331 </td><td style=\"text-align: right;\">0.10079  </td><td style=\"text-align: right;\">0.0101587 </td></tr>\n<tr><td>GBM_2_AutoML_1_20220429_155157                         </td><td style=\"text-align: right;\">            0.0261278 </td><td style=\"text-align: right;\">0.0312953</td><td style=\"text-align: right;\">0.0867707</td><td style=\"text-align: right;\">0.00752915</td></tr>\n<tr><td>XGBoost_3_AutoML_1_20220429_155157                     </td><td style=\"text-align: right;\">            0.0280286 </td><td style=\"text-align: right;\">0.0320207</td><td style=\"text-align: right;\">0.0912228</td><td style=\"text-align: right;\">0.0083216 </td></tr>\n<tr><td>XGBoost_grid_1_AutoML_1_20220429_155157_model_1        </td><td style=\"text-align: right;\">            0.0283578 </td><td style=\"text-align: right;\">0.0407589</td><td style=\"text-align: right;\">0.102611 </td><td style=\"text-align: right;\">0.010529  </td></tr>\n<tr><td>XGBoost_grid_1_AutoML_1_20220429_155157_model_2        </td><td style=\"text-align: right;\">            0.0284618 </td><td style=\"text-align: right;\">0.0358177</td><td style=\"text-align: right;\">0.0959825</td><td style=\"text-align: right;\">0.00921264</td></tr>\n<tr><td>XGBoost_1_AutoML_1_20220429_155157                     </td><td style=\"text-align: right;\">            0.0298322 </td><td style=\"text-align: right;\">0.0481649</td><td style=\"text-align: right;\">0.110031 </td><td style=\"text-align: right;\">0.0121068 </td></tr>\n<tr><td>XGBoost_grid_1_AutoML_1_20220429_155157_model_3        </td><td style=\"text-align: right;\">            0.0319461 </td><td style=\"text-align: right;\">0.0387342</td><td style=\"text-align: right;\">0.101165 </td><td style=\"text-align: right;\">0.0102344 </td></tr>\n<tr><td>XRT_1_AutoML_1_20220429_155157                         </td><td style=\"text-align: right;\">            0.0341642 </td><td style=\"text-align: right;\">0.128396 </td><td style=\"text-align: right;\">0.163113 </td><td style=\"text-align: right;\">0.0266059 </td></tr>\n<tr><td>DRF_1_AutoML_1_20220429_155157                         </td><td style=\"text-align: right;\">            0.0374603 </td><td style=\"text-align: right;\">0.115457 </td><td style=\"text-align: right;\">0.161768 </td><td style=\"text-align: right;\">0.0261689 </td></tr>\n</tbody>\n</table>"
     },
     "metadata": {},
     "output_type": "display_data"
    },
    {
     "data": {
      "text/plain": ""
     },
     "execution_count": 14,
     "metadata": {},
     "output_type": "execute_result"
    }
   ],
   "source": [
    "# For binary classification, response should be a factor\n",
    "hf_train[y] = hf_train[y].asfactor()\n",
    "# hf_test[y] = hf_test[y].asfactor()\n",
    "\n",
    "# Run AutoML for 20 base models\n",
    "aml = H2OAutoML(max_models=20, seed=1)\n",
    "aml.train(x=x, y=y, training_frame=hf_train)\n",
    "\n",
    "# View the AutoML Leaderboard\n",
    "lb = aml.leaderboard\n",
    "lb.head(rows=lb.nrows)"
   ]
  },
  {
   "cell_type": "code",
   "execution_count": 15,
   "outputs": [
    {
     "name": "stdout",
     "output_type": "stream",
     "text": [
      "Model Details\n",
      "=============\n",
      "H2OStackedEnsembleEstimator :  Stacked Ensemble\n",
      "Model Key:  StackedEnsemble_AllModels_1_AutoML_1_20220429_155157\n",
      "\n",
      "No model summary for this model\n",
      "\n",
      "ModelMetricsMultinomialGLM: stackedensemble\n",
      "** Reported on train data. **\n",
      "\n",
      "MSE: 1.3270033511069588e-06\n",
      "RMSE: 0.0011519563147563187\n",
      "\n",
      "ModelMetricsMultinomialGLM: stackedensemble\n",
      "** Reported on cross-validation data. **\n",
      "\n",
      "MSE: 0.0028555212834940015\n",
      "RMSE: 0.053437077797106394\n",
      "\n",
      "Cross-Validation Metrics Summary: \n"
     ]
    },
    {
     "data": {
      "text/plain": "                                    mean         sd   cv_1_valid   cv_2_valid  \\\n0                  accuracy     0.996927   0.002833     0.994889     0.998352   \n1                       auc          NaN   0.000000          NaN          NaN   \n2                       err     0.003073   0.002833     0.005111     0.001647   \n3                 err_count     1.800000   1.643168     3.000000     1.000000   \n4                   logloss     0.013622   0.008000     0.011158     0.015290   \n5       max_per_class_error     0.023417   0.019846     0.050000     0.023256   \n6   mean_per_class_accuracy     0.992395   0.007634     0.983556     0.995349   \n7      mean_per_class_error     0.007605   0.007634     0.016444     0.004651   \n8                       mse     0.002800   0.002094     0.003255     0.001886   \n9             null_deviance  1393.299300  61.210255  1407.155900  1467.154200   \n10                   pr_auc          NaN   0.000000          NaN          NaN   \n11                       r2     0.997744   0.001759     0.997575     0.998499   \n12        residual_deviance    15.995805   9.362101    13.098919    18.562222   \n13                     rmse     0.049489   0.020934     0.057057     0.043430   \n\n     cv_3_valid   cv_4_valid   cv_5_valid  \n0      0.998291     0.993103     1.000000  \n1           NaN          NaN          NaN  \n2      0.001709     0.006897     0.000000  \n3      1.000000     4.000000     0.000000  \n4      0.013085     0.025379     0.003198  \n5      0.009346     0.034483     0.000000  \n6      0.998131     0.984941     1.000000  \n7      0.001869     0.015059     0.000000  \n8      0.002391     0.006057     0.000410  \n9   1398.317700  1397.012600  1296.856300  \n10          NaN          NaN          NaN  \n11     0.998066     0.994917     0.999662  \n12    15.309396    29.439255     3.569231  \n13     0.048895     0.077825     0.020237  ",
      "text/html": "<div>\n<style scoped>\n    .dataframe tbody tr th:only-of-type {\n        vertical-align: middle;\n    }\n\n    .dataframe tbody tr th {\n        vertical-align: top;\n    }\n\n    .dataframe thead th {\n        text-align: right;\n    }\n</style>\n<table border=\"1\" class=\"dataframe\">\n  <thead>\n    <tr style=\"text-align: right;\">\n      <th></th>\n      <th></th>\n      <th>mean</th>\n      <th>sd</th>\n      <th>cv_1_valid</th>\n      <th>cv_2_valid</th>\n      <th>cv_3_valid</th>\n      <th>cv_4_valid</th>\n      <th>cv_5_valid</th>\n    </tr>\n  </thead>\n  <tbody>\n    <tr>\n      <th>0</th>\n      <td>accuracy</td>\n      <td>0.996927</td>\n      <td>0.002833</td>\n      <td>0.994889</td>\n      <td>0.998352</td>\n      <td>0.998291</td>\n      <td>0.993103</td>\n      <td>1.000000</td>\n    </tr>\n    <tr>\n      <th>1</th>\n      <td>auc</td>\n      <td>NaN</td>\n      <td>0.000000</td>\n      <td>NaN</td>\n      <td>NaN</td>\n      <td>NaN</td>\n      <td>NaN</td>\n      <td>NaN</td>\n    </tr>\n    <tr>\n      <th>2</th>\n      <td>err</td>\n      <td>0.003073</td>\n      <td>0.002833</td>\n      <td>0.005111</td>\n      <td>0.001647</td>\n      <td>0.001709</td>\n      <td>0.006897</td>\n      <td>0.000000</td>\n    </tr>\n    <tr>\n      <th>3</th>\n      <td>err_count</td>\n      <td>1.800000</td>\n      <td>1.643168</td>\n      <td>3.000000</td>\n      <td>1.000000</td>\n      <td>1.000000</td>\n      <td>4.000000</td>\n      <td>0.000000</td>\n    </tr>\n    <tr>\n      <th>4</th>\n      <td>logloss</td>\n      <td>0.013622</td>\n      <td>0.008000</td>\n      <td>0.011158</td>\n      <td>0.015290</td>\n      <td>0.013085</td>\n      <td>0.025379</td>\n      <td>0.003198</td>\n    </tr>\n    <tr>\n      <th>5</th>\n      <td>max_per_class_error</td>\n      <td>0.023417</td>\n      <td>0.019846</td>\n      <td>0.050000</td>\n      <td>0.023256</td>\n      <td>0.009346</td>\n      <td>0.034483</td>\n      <td>0.000000</td>\n    </tr>\n    <tr>\n      <th>6</th>\n      <td>mean_per_class_accuracy</td>\n      <td>0.992395</td>\n      <td>0.007634</td>\n      <td>0.983556</td>\n      <td>0.995349</td>\n      <td>0.998131</td>\n      <td>0.984941</td>\n      <td>1.000000</td>\n    </tr>\n    <tr>\n      <th>7</th>\n      <td>mean_per_class_error</td>\n      <td>0.007605</td>\n      <td>0.007634</td>\n      <td>0.016444</td>\n      <td>0.004651</td>\n      <td>0.001869</td>\n      <td>0.015059</td>\n      <td>0.000000</td>\n    </tr>\n    <tr>\n      <th>8</th>\n      <td>mse</td>\n      <td>0.002800</td>\n      <td>0.002094</td>\n      <td>0.003255</td>\n      <td>0.001886</td>\n      <td>0.002391</td>\n      <td>0.006057</td>\n      <td>0.000410</td>\n    </tr>\n    <tr>\n      <th>9</th>\n      <td>null_deviance</td>\n      <td>1393.299300</td>\n      <td>61.210255</td>\n      <td>1407.155900</td>\n      <td>1467.154200</td>\n      <td>1398.317700</td>\n      <td>1397.012600</td>\n      <td>1296.856300</td>\n    </tr>\n    <tr>\n      <th>10</th>\n      <td>pr_auc</td>\n      <td>NaN</td>\n      <td>0.000000</td>\n      <td>NaN</td>\n      <td>NaN</td>\n      <td>NaN</td>\n      <td>NaN</td>\n      <td>NaN</td>\n    </tr>\n    <tr>\n      <th>11</th>\n      <td>r2</td>\n      <td>0.997744</td>\n      <td>0.001759</td>\n      <td>0.997575</td>\n      <td>0.998499</td>\n      <td>0.998066</td>\n      <td>0.994917</td>\n      <td>0.999662</td>\n    </tr>\n    <tr>\n      <th>12</th>\n      <td>residual_deviance</td>\n      <td>15.995805</td>\n      <td>9.362101</td>\n      <td>13.098919</td>\n      <td>18.562222</td>\n      <td>15.309396</td>\n      <td>29.439255</td>\n      <td>3.569231</td>\n    </tr>\n    <tr>\n      <th>13</th>\n      <td>rmse</td>\n      <td>0.049489</td>\n      <td>0.020934</td>\n      <td>0.057057</td>\n      <td>0.043430</td>\n      <td>0.048895</td>\n      <td>0.077825</td>\n      <td>0.020237</td>\n    </tr>\n  </tbody>\n</table>\n</div>"
     },
     "metadata": {},
     "output_type": "display_data"
    },
    {
     "data": {
      "text/plain": ""
     },
     "execution_count": 15,
     "metadata": {},
     "output_type": "execute_result"
    }
   ],
   "source": [
    "model = aml.leader\n",
    "\n",
    "model"
   ],
   "metadata": {
    "collapsed": false,
    "pycharm": {
     "name": "#%%\n"
    }
   }
  },
  {
   "cell_type": "code",
   "execution_count": 16,
   "outputs": [
    {
     "data": {
      "text/plain": "'/home/valmir/dev/python/intent_classifier/data/output/h2o/models/StackedEnsemble_AllModels_1_AutoML_1_20220429_155157'"
     },
     "execution_count": 16,
     "metadata": {},
     "output_type": "execute_result"
    }
   ],
   "source": [
    "path = file_manager.filename_from_data_dir('output/h2o/models')\n",
    "\n",
    "h2o.save_model(model=model, path=path, force=True)"
   ],
   "metadata": {
    "collapsed": false,
    "pycharm": {
     "name": "#%%\n"
    }
   }
  },
  {
   "cell_type": "code",
   "execution_count": 20,
   "outputs": [],
   "source": [
    "model_path = file_manager.filename_from_data_dir('output/h2o/models/StackedEnsemble_AllModels_1_AutoML_1_20220428_200646')\n",
    "\n",
    "older_leader_model = h2o.load_model(model_path)"
   ],
   "metadata": {
    "collapsed": false,
    "pycharm": {
     "name": "#%%\n"
    }
   }
  },
  {
   "cell_type": "code",
   "execution_count": 25,
   "outputs": [
    {
     "data": {
      "text/plain": "{'model_id': {'__meta': {'schema_version': 3,\n   'schema_name': 'ModelParameterSchemaV3',\n   'schema_type': 'Iced'},\n  'name': 'model_id',\n  'label': 'model_id',\n  'help': 'Destination id for this model; auto-generated if not specified.',\n  'required': False,\n  'type': 'Key<Model>',\n  'default_value': None,\n  'actual_value': {'__meta': {'schema_version': 3,\n    'schema_name': 'ModelKeyV3',\n    'schema_type': 'Key<Model>'},\n   'name': 'StackedEnsemble_AllModels_1_AutoML_1_20220428_200646',\n   'type': 'Key<Model>',\n   'URL': '/3/Models/StackedEnsemble_AllModels_1_AutoML_1_20220428_200646'},\n  'input_value': None,\n  'level': 'critical',\n  'values': [],\n  'is_member_of_frames': [],\n  'is_mutually_exclusive_with': [],\n  'gridable': False},\n 'training_frame': {'__meta': {'schema_version': 3,\n   'schema_name': 'ModelParameterSchemaV3',\n   'schema_type': 'Iced'},\n  'name': 'training_frame',\n  'label': 'training_frame',\n  'help': 'Id of the training data frame.',\n  'required': False,\n  'type': 'Key<Frame>',\n  'default_value': None,\n  'actual_value': None,\n  'input_value': None,\n  'level': 'critical',\n  'values': [],\n  'is_member_of_frames': [],\n  'is_mutually_exclusive_with': [],\n  'gridable': False},\n 'response_column': {'__meta': {'schema_version': 3,\n   'schema_name': 'ModelParameterSchemaV3',\n   'schema_type': 'Iced'},\n  'name': 'response_column',\n  'label': 'response_column',\n  'help': 'Response variable column.',\n  'required': False,\n  'type': 'VecSpecifier',\n  'default_value': None,\n  'actual_value': {'__meta': {'schema_version': 3,\n    'schema_name': 'ColSpecifierV3',\n    'schema_type': 'VecSpecifier'},\n   'column_name': 'label',\n   'is_member_of_frames': None},\n  'input_value': {'__meta': {'schema_version': 3,\n    'schema_name': 'ColSpecifierV3',\n    'schema_type': 'VecSpecifier'},\n   'column_name': 'label',\n   'is_member_of_frames': None},\n  'level': 'critical',\n  'values': [],\n  'is_member_of_frames': ['training_frame', 'validation_frame'],\n  'is_mutually_exclusive_with': ['weights_column',\n   'ignored_columns',\n   'offset_column',\n   'metalearner_fold_column'],\n  'gridable': True},\n 'validation_frame': {'__meta': {'schema_version': 3,\n   'schema_name': 'ModelParameterSchemaV3',\n   'schema_type': 'Iced'},\n  'name': 'validation_frame',\n  'label': 'validation_frame',\n  'help': 'Id of the validation data frame.',\n  'required': False,\n  'type': 'Key<Frame>',\n  'default_value': None,\n  'actual_value': None,\n  'input_value': None,\n  'level': 'critical',\n  'values': [],\n  'is_member_of_frames': [],\n  'is_mutually_exclusive_with': [],\n  'gridable': True},\n 'blending_frame': {'__meta': {'schema_version': 3,\n   'schema_name': 'ModelParameterSchemaV3',\n   'schema_type': 'Iced'},\n  'name': 'blending_frame',\n  'label': 'blending_frame',\n  'help': 'Frame used to compute the predictions that serve as the training frame for the metalearner (triggers blending mode if provided)',\n  'required': False,\n  'type': 'Key<Frame>',\n  'default_value': None,\n  'actual_value': None,\n  'input_value': None,\n  'level': 'critical',\n  'values': [],\n  'is_member_of_frames': [],\n  'is_mutually_exclusive_with': [],\n  'gridable': False},\n 'base_models': {'__meta': {'schema_version': 3,\n   'schema_name': 'ModelParameterSchemaV3',\n   'schema_type': 'Iced'},\n  'name': 'base_models',\n  'label': 'base_models',\n  'help': 'List of models or grids (or their ids) to ensemble/stack together. Grids are expanded to individual models. If not using blending frame, then models must have been cross-validated using nfolds > 1, and folds must be identical across models.',\n  'required': True,\n  'type': 'Key<Keyed>[]',\n  'default_value': [],\n  'actual_value': [{'__meta': {'schema_version': 3,\n     'schema_name': 'KeyV3',\n     'schema_type': 'Key<Keyed>'},\n    'name': 'DeepLearning_grid_3_AutoML_1_20220428_200646_model_1',\n    'type': 'Key<Keyed>',\n    'URL': None},\n   {'__meta': {'schema_version': 3,\n     'schema_name': 'KeyV3',\n     'schema_type': 'Key<Keyed>'},\n    'name': 'DeepLearning_grid_2_AutoML_1_20220428_200646_model_1',\n    'type': 'Key<Keyed>',\n    'URL': None},\n   {'__meta': {'schema_version': 3,\n     'schema_name': 'KeyV3',\n     'schema_type': 'Key<Keyed>'},\n    'name': 'DeepLearning_grid_1_AutoML_1_20220428_200646_model_1',\n    'type': 'Key<Keyed>',\n    'URL': None},\n   {'__meta': {'schema_version': 3,\n     'schema_name': 'KeyV3',\n     'schema_type': 'Key<Keyed>'},\n    'name': 'GLM_1_AutoML_1_20220428_200646',\n    'type': 'Key<Keyed>',\n    'URL': None},\n   {'__meta': {'schema_version': 3,\n     'schema_name': 'KeyV3',\n     'schema_type': 'Key<Keyed>'},\n    'name': 'DeepLearning_1_AutoML_1_20220428_200646',\n    'type': 'Key<Keyed>',\n    'URL': None},\n   {'__meta': {'schema_version': 3,\n     'schema_name': 'KeyV3',\n     'schema_type': 'Key<Keyed>'},\n    'name': 'GBM_3_AutoML_1_20220428_200646',\n    'type': 'Key<Keyed>',\n    'URL': None},\n   {'__meta': {'schema_version': 3,\n     'schema_name': 'KeyV3',\n     'schema_type': 'Key<Keyed>'},\n    'name': 'GBM_grid_1_AutoML_1_20220428_200646_model_1',\n    'type': 'Key<Keyed>',\n    'URL': None},\n   {'__meta': {'schema_version': 3,\n     'schema_name': 'KeyV3',\n     'schema_type': 'Key<Keyed>'},\n    'name': 'GBM_4_AutoML_1_20220428_200646',\n    'type': 'Key<Keyed>',\n    'URL': None},\n   {'__meta': {'schema_version': 3,\n     'schema_name': 'KeyV3',\n     'schema_type': 'Key<Keyed>'},\n    'name': 'GBM_5_AutoML_1_20220428_200646',\n    'type': 'Key<Keyed>',\n    'URL': None},\n   {'__meta': {'schema_version': 3,\n     'schema_name': 'KeyV3',\n     'schema_type': 'Key<Keyed>'},\n    'name': 'GBM_1_AutoML_1_20220428_200646',\n    'type': 'Key<Keyed>',\n    'URL': None},\n   {'__meta': {'schema_version': 3,\n     'schema_name': 'KeyV3',\n     'schema_type': 'Key<Keyed>'},\n    'name': 'GBM_grid_1_AutoML_1_20220428_200646_model_2',\n    'type': 'Key<Keyed>',\n    'URL': None},\n   {'__meta': {'schema_version': 3,\n     'schema_name': 'KeyV3',\n     'schema_type': 'Key<Keyed>'},\n    'name': 'XGBoost_2_AutoML_1_20220428_200646',\n    'type': 'Key<Keyed>',\n    'URL': None},\n   {'__meta': {'schema_version': 3,\n     'schema_name': 'KeyV3',\n     'schema_type': 'Key<Keyed>'},\n    'name': 'GBM_2_AutoML_1_20220428_200646',\n    'type': 'Key<Keyed>',\n    'URL': None},\n   {'__meta': {'schema_version': 3,\n     'schema_name': 'KeyV3',\n     'schema_type': 'Key<Keyed>'},\n    'name': 'XGBoost_3_AutoML_1_20220428_200646',\n    'type': 'Key<Keyed>',\n    'URL': None},\n   {'__meta': {'schema_version': 3,\n     'schema_name': 'KeyV3',\n     'schema_type': 'Key<Keyed>'},\n    'name': 'XGBoost_grid_1_AutoML_1_20220428_200646_model_1',\n    'type': 'Key<Keyed>',\n    'URL': None},\n   {'__meta': {'schema_version': 3,\n     'schema_name': 'KeyV3',\n     'schema_type': 'Key<Keyed>'},\n    'name': 'XGBoost_grid_1_AutoML_1_20220428_200646_model_2',\n    'type': 'Key<Keyed>',\n    'URL': None},\n   {'__meta': {'schema_version': 3,\n     'schema_name': 'KeyV3',\n     'schema_type': 'Key<Keyed>'},\n    'name': 'XGBoost_1_AutoML_1_20220428_200646',\n    'type': 'Key<Keyed>',\n    'URL': None},\n   {'__meta': {'schema_version': 3,\n     'schema_name': 'KeyV3',\n     'schema_type': 'Key<Keyed>'},\n    'name': 'XGBoost_grid_1_AutoML_1_20220428_200646_model_3',\n    'type': 'Key<Keyed>',\n    'URL': None},\n   {'__meta': {'schema_version': 3,\n     'schema_name': 'KeyV3',\n     'schema_type': 'Key<Keyed>'},\n    'name': 'XRT_1_AutoML_1_20220428_200646',\n    'type': 'Key<Keyed>',\n    'URL': None},\n   {'__meta': {'schema_version': 3,\n     'schema_name': 'KeyV3',\n     'schema_type': 'Key<Keyed>'},\n    'name': 'DRF_1_AutoML_1_20220428_200646',\n    'type': 'Key<Keyed>',\n    'URL': None}],\n  'input_value': [{'__meta': {'schema_version': 3,\n     'schema_name': 'KeyV3',\n     'schema_type': 'Key<Keyed>'},\n    'name': 'DeepLearning_grid_3_AutoML_1_20220428_200646_model_1',\n    'type': 'Key<Keyed>',\n    'URL': None},\n   {'__meta': {'schema_version': 3,\n     'schema_name': 'KeyV3',\n     'schema_type': 'Key<Keyed>'},\n    'name': 'DeepLearning_grid_2_AutoML_1_20220428_200646_model_1',\n    'type': 'Key<Keyed>',\n    'URL': None},\n   {'__meta': {'schema_version': 3,\n     'schema_name': 'KeyV3',\n     'schema_type': 'Key<Keyed>'},\n    'name': 'DeepLearning_grid_1_AutoML_1_20220428_200646_model_1',\n    'type': 'Key<Keyed>',\n    'URL': None},\n   {'__meta': {'schema_version': 3,\n     'schema_name': 'KeyV3',\n     'schema_type': 'Key<Keyed>'},\n    'name': 'GLM_1_AutoML_1_20220428_200646',\n    'type': 'Key<Keyed>',\n    'URL': None},\n   {'__meta': {'schema_version': 3,\n     'schema_name': 'KeyV3',\n     'schema_type': 'Key<Keyed>'},\n    'name': 'DeepLearning_1_AutoML_1_20220428_200646',\n    'type': 'Key<Keyed>',\n    'URL': None},\n   {'__meta': {'schema_version': 3,\n     'schema_name': 'KeyV3',\n     'schema_type': 'Key<Keyed>'},\n    'name': 'GBM_3_AutoML_1_20220428_200646',\n    'type': 'Key<Keyed>',\n    'URL': None},\n   {'__meta': {'schema_version': 3,\n     'schema_name': 'KeyV3',\n     'schema_type': 'Key<Keyed>'},\n    'name': 'GBM_grid_1_AutoML_1_20220428_200646_model_1',\n    'type': 'Key<Keyed>',\n    'URL': None},\n   {'__meta': {'schema_version': 3,\n     'schema_name': 'KeyV3',\n     'schema_type': 'Key<Keyed>'},\n    'name': 'GBM_4_AutoML_1_20220428_200646',\n    'type': 'Key<Keyed>',\n    'URL': None},\n   {'__meta': {'schema_version': 3,\n     'schema_name': 'KeyV3',\n     'schema_type': 'Key<Keyed>'},\n    'name': 'GBM_5_AutoML_1_20220428_200646',\n    'type': 'Key<Keyed>',\n    'URL': None},\n   {'__meta': {'schema_version': 3,\n     'schema_name': 'KeyV3',\n     'schema_type': 'Key<Keyed>'},\n    'name': 'GBM_1_AutoML_1_20220428_200646',\n    'type': 'Key<Keyed>',\n    'URL': None},\n   {'__meta': {'schema_version': 3,\n     'schema_name': 'KeyV3',\n     'schema_type': 'Key<Keyed>'},\n    'name': 'GBM_grid_1_AutoML_1_20220428_200646_model_2',\n    'type': 'Key<Keyed>',\n    'URL': None},\n   {'__meta': {'schema_version': 3,\n     'schema_name': 'KeyV3',\n     'schema_type': 'Key<Keyed>'},\n    'name': 'XGBoost_2_AutoML_1_20220428_200646',\n    'type': 'Key<Keyed>',\n    'URL': None},\n   {'__meta': {'schema_version': 3,\n     'schema_name': 'KeyV3',\n     'schema_type': 'Key<Keyed>'},\n    'name': 'GBM_2_AutoML_1_20220428_200646',\n    'type': 'Key<Keyed>',\n    'URL': None},\n   {'__meta': {'schema_version': 3,\n     'schema_name': 'KeyV3',\n     'schema_type': 'Key<Keyed>'},\n    'name': 'XGBoost_3_AutoML_1_20220428_200646',\n    'type': 'Key<Keyed>',\n    'URL': None},\n   {'__meta': {'schema_version': 3,\n     'schema_name': 'KeyV3',\n     'schema_type': 'Key<Keyed>'},\n    'name': 'XGBoost_grid_1_AutoML_1_20220428_200646_model_1',\n    'type': 'Key<Keyed>',\n    'URL': None},\n   {'__meta': {'schema_version': 3,\n     'schema_name': 'KeyV3',\n     'schema_type': 'Key<Keyed>'},\n    'name': 'XGBoost_grid_1_AutoML_1_20220428_200646_model_2',\n    'type': 'Key<Keyed>',\n    'URL': None},\n   {'__meta': {'schema_version': 3,\n     'schema_name': 'KeyV3',\n     'schema_type': 'Key<Keyed>'},\n    'name': 'XGBoost_1_AutoML_1_20220428_200646',\n    'type': 'Key<Keyed>',\n    'URL': None},\n   {'__meta': {'schema_version': 3,\n     'schema_name': 'KeyV3',\n     'schema_type': 'Key<Keyed>'},\n    'name': 'XGBoost_grid_1_AutoML_1_20220428_200646_model_3',\n    'type': 'Key<Keyed>',\n    'URL': None},\n   {'__meta': {'schema_version': 3,\n     'schema_name': 'KeyV3',\n     'schema_type': 'Key<Keyed>'},\n    'name': 'XRT_1_AutoML_1_20220428_200646',\n    'type': 'Key<Keyed>',\n    'URL': None},\n   {'__meta': {'schema_version': 3,\n     'schema_name': 'KeyV3',\n     'schema_type': 'Key<Keyed>'},\n    'name': 'DRF_1_AutoML_1_20220428_200646',\n    'type': 'Key<Keyed>',\n    'URL': None}],\n  'level': 'critical',\n  'values': [],\n  'is_member_of_frames': [],\n  'is_mutually_exclusive_with': [],\n  'gridable': False},\n 'metalearner_algorithm': {'__meta': {'schema_version': 3,\n   'schema_name': 'ModelParameterSchemaV3',\n   'schema_type': 'Iced'},\n  'name': 'metalearner_algorithm',\n  'label': 'metalearner_algorithm',\n  'help': \"Type of algorithm to use as the metalearner. Options include 'AUTO' (GLM with non negative weights; if validation_frame is present, a lambda search is performed), 'deeplearning' (Deep Learning with default parameters), 'drf' (Random Forest with default parameters), 'gbm' (GBM with default parameters), 'glm' (GLM with default parameters), 'naivebayes' (NaiveBayes with default parameters), or 'xgboost' (if available, XGBoost with default parameters).\",\n  'required': False,\n  'type': 'enum',\n  'default_value': 'AUTO',\n  'actual_value': 'glm',\n  'input_value': 'AUTO',\n  'level': 'critical',\n  'values': ['AUTO',\n   'deeplearning',\n   'drf',\n   'gbm',\n   'glm',\n   'naivebayes',\n   'xgboost'],\n  'is_member_of_frames': [],\n  'is_mutually_exclusive_with': [],\n  'gridable': False},\n 'metalearner_nfolds': {'__meta': {'schema_version': 3,\n   'schema_name': 'ModelParameterSchemaV3',\n   'schema_type': 'Iced'},\n  'name': 'metalearner_nfolds',\n  'label': 'metalearner_nfolds',\n  'help': 'Number of folds for K-fold cross-validation of the metalearner algorithm (0 to disable or >= 2).',\n  'required': False,\n  'type': 'int',\n  'default_value': 0,\n  'actual_value': 5,\n  'input_value': 5,\n  'level': 'critical',\n  'values': [],\n  'is_member_of_frames': [],\n  'is_mutually_exclusive_with': [],\n  'gridable': False},\n 'metalearner_fold_assignment': {'__meta': {'schema_version': 3,\n   'schema_name': 'ModelParameterSchemaV3',\n   'schema_type': 'Iced'},\n  'name': 'metalearner_fold_assignment',\n  'label': 'metalearner_fold_assignment',\n  'help': \"Cross-validation fold assignment scheme for metalearner cross-validation.  Defaults to AUTO (which is currently set to Random). The 'Stratified' option will stratify the folds based on the response variable, for classification problems.\",\n  'required': False,\n  'type': 'enum',\n  'default_value': None,\n  'actual_value': None,\n  'input_value': None,\n  'level': 'secondary',\n  'values': ['AUTO', 'Random', 'Modulo', 'Stratified'],\n  'is_member_of_frames': [],\n  'is_mutually_exclusive_with': [],\n  'gridable': False},\n 'metalearner_fold_column': {'__meta': {'schema_version': 3,\n   'schema_name': 'ModelParameterSchemaV3',\n   'schema_type': 'Iced'},\n  'name': 'metalearner_fold_column',\n  'label': 'metalearner_fold_column',\n  'help': 'Column with cross-validation fold index assignment per observation for cross-validation of the metalearner.',\n  'required': False,\n  'type': 'VecSpecifier',\n  'default_value': None,\n  'actual_value': None,\n  'input_value': None,\n  'level': 'secondary',\n  'values': [],\n  'is_member_of_frames': ['training_frame'],\n  'is_mutually_exclusive_with': ['response_column', 'ignored_columns'],\n  'gridable': False},\n 'metalearner_params': {'__meta': {'schema_version': 3,\n   'schema_name': 'ModelParameterSchemaV3',\n   'schema_type': 'Iced'},\n  'name': 'metalearner_params',\n  'label': 'metalearner_params',\n  'help': 'Parameters for metalearner algorithm',\n  'required': False,\n  'type': 'string',\n  'default_value': '',\n  'actual_value': '',\n  'input_value': '',\n  'level': 'critical',\n  'values': [],\n  'is_member_of_frames': [],\n  'is_mutually_exclusive_with': [],\n  'gridable': False},\n 'metalearner_transform': {'__meta': {'schema_version': 3,\n   'schema_name': 'ModelParameterSchemaV3',\n   'schema_type': 'Iced'},\n  'name': 'metalearner_transform',\n  'label': 'metalearner_transform',\n  'help': 'Transformation used for the level one frame.',\n  'required': False,\n  'type': 'enum',\n  'default_value': 'NONE',\n  'actual_value': 'Logit',\n  'input_value': 'Logit',\n  'level': 'critical',\n  'values': ['NONE', 'Logit'],\n  'is_member_of_frames': [],\n  'is_mutually_exclusive_with': [],\n  'gridable': False},\n 'max_runtime_secs': {'__meta': {'schema_version': 3,\n   'schema_name': 'ModelParameterSchemaV3',\n   'schema_type': 'Iced'},\n  'name': 'max_runtime_secs',\n  'label': 'max_runtime_secs',\n  'help': 'Maximum allowed runtime in seconds for model training. Use 0 to disable.',\n  'required': False,\n  'type': 'double',\n  'default_value': 0.0,\n  'actual_value': 0.0,\n  'input_value': 0.0,\n  'level': 'secondary',\n  'values': [],\n  'is_member_of_frames': [],\n  'is_mutually_exclusive_with': [],\n  'gridable': True},\n 'weights_column': {'__meta': {'schema_version': 3,\n   'schema_name': 'ModelParameterSchemaV3',\n   'schema_type': 'Iced'},\n  'name': 'weights_column',\n  'label': 'weights_column',\n  'help': 'Column with observation weights. Giving some observation a weight of zero is equivalent to excluding it from the dataset; giving an observation a relative weight of 2 is equivalent to repeating that row twice. Negative weights are not allowed. Note: Weights are per-row observation weights and do not increase the size of the data frame. This is typically the number of times a row is repeated, but non-integer values are supported as well. During training, rows with higher weights matter more, due to the larger loss function pre-factor. If you set weight = 0 for a row, the returned prediction frame at that row is zero and this is incorrect. To get an accurate prediction, remove all rows with weight == 0.',\n  'required': False,\n  'type': 'VecSpecifier',\n  'default_value': None,\n  'actual_value': None,\n  'input_value': None,\n  'level': 'secondary',\n  'values': [],\n  'is_member_of_frames': ['training_frame', 'validation_frame'],\n  'is_mutually_exclusive_with': ['response_column',\n   'ignored_columns',\n   'offset_column',\n   'metalearner_fold_column'],\n  'gridable': True},\n 'offset_column': {'__meta': {'schema_version': 3,\n   'schema_name': 'ModelParameterSchemaV3',\n   'schema_type': 'Iced'},\n  'name': 'offset_column',\n  'label': 'offset_column',\n  'help': 'Offset column. This will be added to the combination of columns before applying the link function.',\n  'required': False,\n  'type': 'VecSpecifier',\n  'default_value': None,\n  'actual_value': None,\n  'input_value': None,\n  'level': 'secondary',\n  'values': [],\n  'is_member_of_frames': ['training_frame', 'validation_frame'],\n  'is_mutually_exclusive_with': ['response_column',\n   'weights_column',\n   'ignored_columns',\n   'metalearner_fold_column'],\n  'gridable': True},\n 'seed': {'__meta': {'schema_version': 3,\n   'schema_name': 'ModelParameterSchemaV3',\n   'schema_type': 'Iced'},\n  'name': 'seed',\n  'label': 'seed',\n  'help': 'Seed for random numbers; passed through to the metalearner algorithm. Defaults to -1 (time-based random number)',\n  'required': False,\n  'type': 'long',\n  'default_value': -1,\n  'actual_value': 14,\n  'input_value': 14,\n  'level': 'critical',\n  'values': [],\n  'is_member_of_frames': [],\n  'is_mutually_exclusive_with': [],\n  'gridable': True},\n 'score_training_samples': {'__meta': {'schema_version': 3,\n   'schema_name': 'ModelParameterSchemaV3',\n   'schema_type': 'Iced'},\n  'name': 'score_training_samples',\n  'label': 'score_training_samples',\n  'help': 'Specify the number of training set samples for scoring. The value must be >= 0. To use all training samples, enter 0.',\n  'required': False,\n  'type': 'long',\n  'default_value': 10000,\n  'actual_value': 10000,\n  'input_value': 10000,\n  'level': 'secondary',\n  'values': [],\n  'is_member_of_frames': [],\n  'is_mutually_exclusive_with': [],\n  'gridable': False},\n 'keep_levelone_frame': {'__meta': {'schema_version': 3,\n   'schema_name': 'ModelParameterSchemaV3',\n   'schema_type': 'Iced'},\n  'name': 'keep_levelone_frame',\n  'label': 'keep_levelone_frame',\n  'help': 'Keep level one frame used for metalearner training.',\n  'required': False,\n  'type': 'boolean',\n  'default_value': False,\n  'actual_value': True,\n  'input_value': True,\n  'level': 'secondary',\n  'values': [],\n  'is_member_of_frames': [],\n  'is_mutually_exclusive_with': [],\n  'gridable': False},\n 'export_checkpoints_dir': {'__meta': {'schema_version': 3,\n   'schema_name': 'ModelParameterSchemaV3',\n   'schema_type': 'Iced'},\n  'name': 'export_checkpoints_dir',\n  'label': 'export_checkpoints_dir',\n  'help': 'Automatically export generated models to this directory.',\n  'required': False,\n  'type': 'string',\n  'default_value': None,\n  'actual_value': None,\n  'input_value': None,\n  'level': 'secondary',\n  'values': [],\n  'is_member_of_frames': [],\n  'is_mutually_exclusive_with': [],\n  'gridable': False},\n 'auc_type': {'__meta': {'schema_version': 3,\n   'schema_name': 'ModelParameterSchemaV3',\n   'schema_type': 'Iced'},\n  'name': 'auc_type',\n  'label': 'auc_type',\n  'help': 'Set default multinomial AUC type.',\n  'required': False,\n  'type': 'enum',\n  'default_value': 'AUTO',\n  'actual_value': 'AUTO',\n  'input_value': 'AUTO',\n  'level': 'secondary',\n  'values': ['AUTO',\n   'NONE',\n   'MACRO_OVR',\n   'WEIGHTED_OVR',\n   'MACRO_OVO',\n   'WEIGHTED_OVO'],\n  'is_member_of_frames': [],\n  'is_mutually_exclusive_with': [],\n  'gridable': True}}"
     },
     "execution_count": 25,
     "metadata": {},
     "output_type": "execute_result"
    }
   ],
   "source": [
    "older_leader_model.full_parameters"
   ],
   "metadata": {
    "collapsed": false,
    "pycharm": {
     "name": "#%%\n"
    }
   }
  },
  {
   "cell_type": "code",
   "execution_count": 22,
   "outputs": [
    {
     "data": {
      "text/plain": "['DeepLearning_grid_1_AutoML_1_20220429_155157_model_1',\n 'DeepLearning_grid_2_AutoML_1_20220429_155157_model_1',\n 'GLM_1_AutoML_1_20220429_155157',\n 'DeepLearning_grid_3_AutoML_1_20220429_155157_model_1',\n 'DeepLearning_1_AutoML_1_20220429_155157',\n 'GBM_3_AutoML_1_20220429_155157',\n 'GBM_grid_1_AutoML_1_20220429_155157_model_1',\n 'GBM_4_AutoML_1_20220429_155157',\n 'GBM_5_AutoML_1_20220429_155157',\n 'GBM_1_AutoML_1_20220429_155157',\n 'GBM_grid_1_AutoML_1_20220429_155157_model_2',\n 'XGBoost_2_AutoML_1_20220429_155157',\n 'GBM_2_AutoML_1_20220429_155157',\n 'XGBoost_3_AutoML_1_20220429_155157',\n 'XGBoost_grid_1_AutoML_1_20220429_155157_model_1',\n 'XGBoost_grid_1_AutoML_1_20220429_155157_model_2',\n 'XGBoost_1_AutoML_1_20220429_155157',\n 'XGBoost_grid_1_AutoML_1_20220429_155157_model_3',\n 'XRT_1_AutoML_1_20220429_155157',\n 'DRF_1_AutoML_1_20220429_155157']"
     },
     "execution_count": 22,
     "metadata": {},
     "output_type": "execute_result"
    }
   ],
   "source": [
    "model.base_models"
   ],
   "metadata": {
    "collapsed": false,
    "pycharm": {
     "name": "#%%\n"
    }
   }
  },
  {
   "cell_type": "code",
   "execution_count": 38,
   "outputs": [
    {
     "name": "stdout",
     "output_type": "stream",
     "text": [
      "Parse progress: |████████████████████████████████████████████████████████████████| (done) 100%\n"
     ]
    }
   ],
   "source": [
    "hf_test = h2o.H2OFrame(df_test)"
   ],
   "metadata": {
    "collapsed": false,
    "pycharm": {
     "name": "#%%\n"
    }
   }
  },
  {
   "cell_type": "code",
   "execution_count": 39,
   "metadata": {
    "pycharm": {
     "name": "#%%\n"
    }
   },
   "outputs": [
    {
     "name": "stdout",
     "output_type": "stream",
     "text": [
      "stackedensemble prediction progress: |███████████████████████████████████████████| (done) 100%\n"
     ]
    },
    {
     "data": {
      "text/plain": ""
     },
     "execution_count": 39,
     "metadata": {},
     "output_type": "execute_result"
    }
   ],
   "source": [
    "hf_preds = aml.predict(hf_test)\n",
    "\n",
    "hf_preds"
   ]
  },
  {
   "cell_type": "code",
   "execution_count": 41,
   "metadata": {
    "pycharm": {
     "name": "#%%\n"
    }
   },
   "outputs": [
    {
     "name": "stdout",
     "output_type": "stream",
     "text": [
      "[1 1 1 ... 2 2 1]\n"
     ]
    }
   ],
   "source": [
    "preds = hf_preds.as_data_frame().predict.to_numpy()\n",
    "\n",
    "print(preds)"
   ]
  },
  {
   "cell_type": "code",
   "execution_count": 42,
   "metadata": {
    "pycharm": {
     "name": "#%%\n"
    }
   },
   "outputs": [
    {
     "data": {
      "text/plain": "1247"
     },
     "execution_count": 42,
     "metadata": {},
     "output_type": "execute_result"
    }
   ],
   "source": [
    "correct_predict = np.equal(preds, y_test).sum()\n",
    "\n",
    "correct_predict"
   ]
  },
  {
   "cell_type": "code",
   "execution_count": 43,
   "metadata": {
    "pycharm": {
     "name": "#%%\n"
    }
   },
   "outputs": [
    {
     "data": {
      "text/plain": "0.996802557953637"
     },
     "execution_count": 43,
     "metadata": {},
     "output_type": "execute_result"
    }
   ],
   "source": [
    "correct_predict / len(y_test)"
   ]
  },
  {
   "cell_type": "code",
   "execution_count": 45,
   "outputs": [
    {
     "data": {
      "text/plain": ""
     },
     "execution_count": 45,
     "metadata": {},
     "output_type": "execute_result"
    }
   ],
   "source": [
    "lb"
   ],
   "metadata": {
    "collapsed": false,
    "pycharm": {
     "name": "#%%\n"
    }
   }
  },
  {
   "cell_type": "code",
   "execution_count": 46,
   "outputs": [
    {
     "data": {
      "text/plain": "{'model_id': {'default': None,\n  'actual': {'__meta': {'schema_version': 3,\n    'schema_name': 'ModelKeyV3',\n    'schema_type': 'Key<Model>'},\n   'name': 'StackedEnsemble_AllModels_1_AutoML_1_20220428_200646',\n   'type': 'Key<Model>',\n   'URL': '/3/Models/StackedEnsemble_AllModels_1_AutoML_1_20220428_200646'},\n  'input': None},\n 'training_frame': {'default': None,\n  'actual': {'__meta': {'schema_version': 3,\n    'schema_name': 'FrameKeyV3',\n    'schema_type': 'Key<Frame>'},\n   'name': 'AutoML_1_20220428_200646_training_py_9_sid_a0e1',\n   'type': 'Key<Frame>',\n   'URL': '/3/Frames/AutoML_1_20220428_200646_training_py_9_sid_a0e1'},\n  'input': {'__meta': {'schema_version': 3,\n    'schema_name': 'FrameKeyV3',\n    'schema_type': 'Key<Frame>'},\n   'name': 'AutoML_1_20220428_200646_training_py_9_sid_a0e1',\n   'type': 'Key<Frame>',\n   'URL': '/3/Frames/AutoML_1_20220428_200646_training_py_9_sid_a0e1'}},\n 'response_column': {'default': None,\n  'actual': {'__meta': {'schema_version': 3,\n    'schema_name': 'ColSpecifierV3',\n    'schema_type': 'VecSpecifier'},\n   'column_name': 'label',\n   'is_member_of_frames': None},\n  'input': {'__meta': {'schema_version': 3,\n    'schema_name': 'ColSpecifierV3',\n    'schema_type': 'VecSpecifier'},\n   'column_name': 'label',\n   'is_member_of_frames': None}},\n 'validation_frame': {'default': None, 'actual': None, 'input': None},\n 'blending_frame': {'default': None, 'actual': None, 'input': None},\n 'base_models': {'default': [],\n  'actual': [{'__meta': {'schema_version': 3,\n     'schema_name': 'KeyV3',\n     'schema_type': 'Key<Keyed>'},\n    'name': 'DeepLearning_grid_3_AutoML_1_20220428_200646_model_1',\n    'type': 'Key<Keyed>',\n    'URL': None},\n   {'__meta': {'schema_version': 3,\n     'schema_name': 'KeyV3',\n     'schema_type': 'Key<Keyed>'},\n    'name': 'DeepLearning_grid_2_AutoML_1_20220428_200646_model_1',\n    'type': 'Key<Keyed>',\n    'URL': None},\n   {'__meta': {'schema_version': 3,\n     'schema_name': 'KeyV3',\n     'schema_type': 'Key<Keyed>'},\n    'name': 'DeepLearning_grid_1_AutoML_1_20220428_200646_model_1',\n    'type': 'Key<Keyed>',\n    'URL': None},\n   {'__meta': {'schema_version': 3,\n     'schema_name': 'KeyV3',\n     'schema_type': 'Key<Keyed>'},\n    'name': 'GLM_1_AutoML_1_20220428_200646',\n    'type': 'Key<Keyed>',\n    'URL': None},\n   {'__meta': {'schema_version': 3,\n     'schema_name': 'KeyV3',\n     'schema_type': 'Key<Keyed>'},\n    'name': 'DeepLearning_1_AutoML_1_20220428_200646',\n    'type': 'Key<Keyed>',\n    'URL': None},\n   {'__meta': {'schema_version': 3,\n     'schema_name': 'KeyV3',\n     'schema_type': 'Key<Keyed>'},\n    'name': 'GBM_3_AutoML_1_20220428_200646',\n    'type': 'Key<Keyed>',\n    'URL': None},\n   {'__meta': {'schema_version': 3,\n     'schema_name': 'KeyV3',\n     'schema_type': 'Key<Keyed>'},\n    'name': 'GBM_grid_1_AutoML_1_20220428_200646_model_1',\n    'type': 'Key<Keyed>',\n    'URL': None},\n   {'__meta': {'schema_version': 3,\n     'schema_name': 'KeyV3',\n     'schema_type': 'Key<Keyed>'},\n    'name': 'GBM_4_AutoML_1_20220428_200646',\n    'type': 'Key<Keyed>',\n    'URL': None},\n   {'__meta': {'schema_version': 3,\n     'schema_name': 'KeyV3',\n     'schema_type': 'Key<Keyed>'},\n    'name': 'GBM_5_AutoML_1_20220428_200646',\n    'type': 'Key<Keyed>',\n    'URL': None},\n   {'__meta': {'schema_version': 3,\n     'schema_name': 'KeyV3',\n     'schema_type': 'Key<Keyed>'},\n    'name': 'GBM_1_AutoML_1_20220428_200646',\n    'type': 'Key<Keyed>',\n    'URL': None},\n   {'__meta': {'schema_version': 3,\n     'schema_name': 'KeyV3',\n     'schema_type': 'Key<Keyed>'},\n    'name': 'GBM_grid_1_AutoML_1_20220428_200646_model_2',\n    'type': 'Key<Keyed>',\n    'URL': None},\n   {'__meta': {'schema_version': 3,\n     'schema_name': 'KeyV3',\n     'schema_type': 'Key<Keyed>'},\n    'name': 'XGBoost_2_AutoML_1_20220428_200646',\n    'type': 'Key<Keyed>',\n    'URL': None},\n   {'__meta': {'schema_version': 3,\n     'schema_name': 'KeyV3',\n     'schema_type': 'Key<Keyed>'},\n    'name': 'GBM_2_AutoML_1_20220428_200646',\n    'type': 'Key<Keyed>',\n    'URL': None},\n   {'__meta': {'schema_version': 3,\n     'schema_name': 'KeyV3',\n     'schema_type': 'Key<Keyed>'},\n    'name': 'XGBoost_3_AutoML_1_20220428_200646',\n    'type': 'Key<Keyed>',\n    'URL': None},\n   {'__meta': {'schema_version': 3,\n     'schema_name': 'KeyV3',\n     'schema_type': 'Key<Keyed>'},\n    'name': 'XGBoost_grid_1_AutoML_1_20220428_200646_model_1',\n    'type': 'Key<Keyed>',\n    'URL': None},\n   {'__meta': {'schema_version': 3,\n     'schema_name': 'KeyV3',\n     'schema_type': 'Key<Keyed>'},\n    'name': 'XGBoost_grid_1_AutoML_1_20220428_200646_model_2',\n    'type': 'Key<Keyed>',\n    'URL': None},\n   {'__meta': {'schema_version': 3,\n     'schema_name': 'KeyV3',\n     'schema_type': 'Key<Keyed>'},\n    'name': 'XGBoost_1_AutoML_1_20220428_200646',\n    'type': 'Key<Keyed>',\n    'URL': None},\n   {'__meta': {'schema_version': 3,\n     'schema_name': 'KeyV3',\n     'schema_type': 'Key<Keyed>'},\n    'name': 'XGBoost_grid_1_AutoML_1_20220428_200646_model_3',\n    'type': 'Key<Keyed>',\n    'URL': None},\n   {'__meta': {'schema_version': 3,\n     'schema_name': 'KeyV3',\n     'schema_type': 'Key<Keyed>'},\n    'name': 'XRT_1_AutoML_1_20220428_200646',\n    'type': 'Key<Keyed>',\n    'URL': None},\n   {'__meta': {'schema_version': 3,\n     'schema_name': 'KeyV3',\n     'schema_type': 'Key<Keyed>'},\n    'name': 'DRF_1_AutoML_1_20220428_200646',\n    'type': 'Key<Keyed>',\n    'URL': None}],\n  'input': [{'__meta': {'schema_version': 3,\n     'schema_name': 'KeyV3',\n     'schema_type': 'Key<Keyed>'},\n    'name': 'DeepLearning_grid_3_AutoML_1_20220428_200646_model_1',\n    'type': 'Key<Keyed>',\n    'URL': None},\n   {'__meta': {'schema_version': 3,\n     'schema_name': 'KeyV3',\n     'schema_type': 'Key<Keyed>'},\n    'name': 'DeepLearning_grid_2_AutoML_1_20220428_200646_model_1',\n    'type': 'Key<Keyed>',\n    'URL': None},\n   {'__meta': {'schema_version': 3,\n     'schema_name': 'KeyV3',\n     'schema_type': 'Key<Keyed>'},\n    'name': 'DeepLearning_grid_1_AutoML_1_20220428_200646_model_1',\n    'type': 'Key<Keyed>',\n    'URL': None},\n   {'__meta': {'schema_version': 3,\n     'schema_name': 'KeyV3',\n     'schema_type': 'Key<Keyed>'},\n    'name': 'GLM_1_AutoML_1_20220428_200646',\n    'type': 'Key<Keyed>',\n    'URL': None},\n   {'__meta': {'schema_version': 3,\n     'schema_name': 'KeyV3',\n     'schema_type': 'Key<Keyed>'},\n    'name': 'DeepLearning_1_AutoML_1_20220428_200646',\n    'type': 'Key<Keyed>',\n    'URL': None},\n   {'__meta': {'schema_version': 3,\n     'schema_name': 'KeyV3',\n     'schema_type': 'Key<Keyed>'},\n    'name': 'GBM_3_AutoML_1_20220428_200646',\n    'type': 'Key<Keyed>',\n    'URL': None},\n   {'__meta': {'schema_version': 3,\n     'schema_name': 'KeyV3',\n     'schema_type': 'Key<Keyed>'},\n    'name': 'GBM_grid_1_AutoML_1_20220428_200646_model_1',\n    'type': 'Key<Keyed>',\n    'URL': None},\n   {'__meta': {'schema_version': 3,\n     'schema_name': 'KeyV3',\n     'schema_type': 'Key<Keyed>'},\n    'name': 'GBM_4_AutoML_1_20220428_200646',\n    'type': 'Key<Keyed>',\n    'URL': None},\n   {'__meta': {'schema_version': 3,\n     'schema_name': 'KeyV3',\n     'schema_type': 'Key<Keyed>'},\n    'name': 'GBM_5_AutoML_1_20220428_200646',\n    'type': 'Key<Keyed>',\n    'URL': None},\n   {'__meta': {'schema_version': 3,\n     'schema_name': 'KeyV3',\n     'schema_type': 'Key<Keyed>'},\n    'name': 'GBM_1_AutoML_1_20220428_200646',\n    'type': 'Key<Keyed>',\n    'URL': None},\n   {'__meta': {'schema_version': 3,\n     'schema_name': 'KeyV3',\n     'schema_type': 'Key<Keyed>'},\n    'name': 'GBM_grid_1_AutoML_1_20220428_200646_model_2',\n    'type': 'Key<Keyed>',\n    'URL': None},\n   {'__meta': {'schema_version': 3,\n     'schema_name': 'KeyV3',\n     'schema_type': 'Key<Keyed>'},\n    'name': 'XGBoost_2_AutoML_1_20220428_200646',\n    'type': 'Key<Keyed>',\n    'URL': None},\n   {'__meta': {'schema_version': 3,\n     'schema_name': 'KeyV3',\n     'schema_type': 'Key<Keyed>'},\n    'name': 'GBM_2_AutoML_1_20220428_200646',\n    'type': 'Key<Keyed>',\n    'URL': None},\n   {'__meta': {'schema_version': 3,\n     'schema_name': 'KeyV3',\n     'schema_type': 'Key<Keyed>'},\n    'name': 'XGBoost_3_AutoML_1_20220428_200646',\n    'type': 'Key<Keyed>',\n    'URL': None},\n   {'__meta': {'schema_version': 3,\n     'schema_name': 'KeyV3',\n     'schema_type': 'Key<Keyed>'},\n    'name': 'XGBoost_grid_1_AutoML_1_20220428_200646_model_1',\n    'type': 'Key<Keyed>',\n    'URL': None},\n   {'__meta': {'schema_version': 3,\n     'schema_name': 'KeyV3',\n     'schema_type': 'Key<Keyed>'},\n    'name': 'XGBoost_grid_1_AutoML_1_20220428_200646_model_2',\n    'type': 'Key<Keyed>',\n    'URL': None},\n   {'__meta': {'schema_version': 3,\n     'schema_name': 'KeyV3',\n     'schema_type': 'Key<Keyed>'},\n    'name': 'XGBoost_1_AutoML_1_20220428_200646',\n    'type': 'Key<Keyed>',\n    'URL': None},\n   {'__meta': {'schema_version': 3,\n     'schema_name': 'KeyV3',\n     'schema_type': 'Key<Keyed>'},\n    'name': 'XGBoost_grid_1_AutoML_1_20220428_200646_model_3',\n    'type': 'Key<Keyed>',\n    'URL': None},\n   {'__meta': {'schema_version': 3,\n     'schema_name': 'KeyV3',\n     'schema_type': 'Key<Keyed>'},\n    'name': 'XRT_1_AutoML_1_20220428_200646',\n    'type': 'Key<Keyed>',\n    'URL': None},\n   {'__meta': {'schema_version': 3,\n     'schema_name': 'KeyV3',\n     'schema_type': 'Key<Keyed>'},\n    'name': 'DRF_1_AutoML_1_20220428_200646',\n    'type': 'Key<Keyed>',\n    'URL': None}]},\n 'metalearner_algorithm': {'default': 'AUTO',\n  'actual': 'glm',\n  'input': 'AUTO'},\n 'metalearner_nfolds': {'default': 0, 'actual': 5, 'input': 5},\n 'metalearner_fold_assignment': {'default': None,\n  'actual': None,\n  'input': None},\n 'metalearner_fold_column': {'default': None, 'actual': None, 'input': None},\n 'metalearner_params': {'default': '', 'actual': '', 'input': ''},\n 'metalearner_transform': {'default': 'NONE',\n  'actual': 'Logit',\n  'input': 'Logit'},\n 'max_runtime_secs': {'default': 0.0, 'actual': 0.0, 'input': 0.0},\n 'weights_column': {'default': None, 'actual': None, 'input': None},\n 'offset_column': {'default': None, 'actual': None, 'input': None},\n 'seed': {'default': -1, 'actual': 14, 'input': 14},\n 'score_training_samples': {'default': 10000, 'actual': 10000, 'input': 10000},\n 'keep_levelone_frame': {'default': False, 'actual': True, 'input': True},\n 'export_checkpoints_dir': {'default': None, 'actual': None, 'input': None},\n 'auc_type': {'default': 'AUTO', 'actual': 'AUTO', 'input': 'AUTO'}}"
     },
     "execution_count": 46,
     "metadata": {},
     "output_type": "execute_result"
    }
   ],
   "source": [
    "aml.leader.params"
   ],
   "metadata": {
    "collapsed": false,
    "pycharm": {
     "name": "#%%\n"
    }
   }
  },
  {
   "cell_type": "code",
   "execution_count": 47,
   "outputs": [
    {
     "name": "stderr",
     "output_type": "stream",
     "text": [
      "/home/valmir/dev/python/intent_classifier/venv/lib/python3.9/site-packages/h2o/estimators/stackedensemble.py:925: H2ODeprecationWarning: The usage of stacked_ensemble.metalearner()['name'] will be deprecated. Metalearner now returns the metalearner object. If you need to get the 'name' please use stacked_ensemble.metalearner().model_id\n",
      "  warnings.warn(\n"
     ]
    },
    {
     "data": {
      "text/plain": "'metalearner_AUTO_StackedEnsemble_AllModels_1_AutoML_1_20220428_200646'"
     },
     "execution_count": 47,
     "metadata": {},
     "output_type": "execute_result"
    }
   ],
   "source": [
    "aml.leader.metalearner()['name']"
   ],
   "metadata": {
    "collapsed": false,
    "pycharm": {
     "name": "#%%\n"
    }
   }
  },
  {
   "cell_type": "code",
   "execution_count": 48,
   "outputs": [
    {
     "data": {
      "text/plain": "'metalearner_AUTO_StackedEnsemble_AllModels_1_AutoML_1_20220428_200646'"
     },
     "execution_count": 48,
     "metadata": {},
     "output_type": "execute_result"
    }
   ],
   "source": [
    "aml.leader.metalearner().model_id"
   ],
   "metadata": {
    "collapsed": false,
    "pycharm": {
     "name": "#%%\n"
    }
   }
  },
  {
   "cell_type": "code",
   "execution_count": 49,
   "outputs": [
    {
     "name": "stderr",
     "output_type": "stream",
     "text": [
      "/tmp/ipykernel_94757/4260018418.py:3: SettingWithCopyWarning: \n",
      "A value is trying to be set on a copy of a slice from a DataFrame.\n",
      "Try using .loc[row_indexer,col_indexer] = value instead\n",
      "\n",
      "See the caveats in the documentation: https://pandas.pydata.org/pandas-docs/stable/user_guide/indexing.html#returning-a-view-versus-a-copy\n",
      "  df_higher_sentences['embeddings'] = df_higher_sentences['txt'].map(dict_embeddings)\n",
      "/tmp/ipykernel_94757/4260018418.py:4: SettingWithCopyWarning: \n",
      "A value is trying to be set on a copy of a slice from a DataFrame.\n",
      "Try using .loc[row_indexer,col_indexer] = value instead\n",
      "\n",
      "See the caveats in the documentation: https://pandas.pydata.org/pandas-docs/stable/user_guide/indexing.html#returning-a-view-versus-a-copy\n",
      "  df_higher_sentences['label_index'] = df_higher_sentences['intent'].map(pipeline.dict_labels)\n"
     ]
    },
    {
     "data": {
      "text/plain": "              label      distance   label_index\ncount  21627.000000  21627.000000  21627.000000\nmean      31.385999      0.422186      2.258889\nstd       17.675638      0.107617      1.409358\nmin        0.000000      0.250006      1.000000\n25%       17.000000      0.334341      1.000000\n50%       32.000000      0.411661      2.000000\n75%       47.000000      0.498158      3.000000\nmax       59.000000      0.834035      5.000000",
      "text/html": "<div>\n<style scoped>\n    .dataframe tbody tr th:only-of-type {\n        vertical-align: middle;\n    }\n\n    .dataframe tbody tr th {\n        vertical-align: top;\n    }\n\n    .dataframe thead th {\n        text-align: right;\n    }\n</style>\n<table border=\"1\" class=\"dataframe\">\n  <thead>\n    <tr style=\"text-align: right;\">\n      <th></th>\n      <th>label</th>\n      <th>distance</th>\n      <th>label_index</th>\n    </tr>\n  </thead>\n  <tbody>\n    <tr>\n      <th>count</th>\n      <td>21627.000000</td>\n      <td>21627.000000</td>\n      <td>21627.000000</td>\n    </tr>\n    <tr>\n      <th>mean</th>\n      <td>31.385999</td>\n      <td>0.422186</td>\n      <td>2.258889</td>\n    </tr>\n    <tr>\n      <th>std</th>\n      <td>17.675638</td>\n      <td>0.107617</td>\n      <td>1.409358</td>\n    </tr>\n    <tr>\n      <th>min</th>\n      <td>0.000000</td>\n      <td>0.250006</td>\n      <td>1.000000</td>\n    </tr>\n    <tr>\n      <th>25%</th>\n      <td>17.000000</td>\n      <td>0.334341</td>\n      <td>1.000000</td>\n    </tr>\n    <tr>\n      <th>50%</th>\n      <td>32.000000</td>\n      <td>0.411661</td>\n      <td>2.000000</td>\n    </tr>\n    <tr>\n      <th>75%</th>\n      <td>47.000000</td>\n      <td>0.498158</td>\n      <td>3.000000</td>\n    </tr>\n    <tr>\n      <th>max</th>\n      <td>59.000000</td>\n      <td>0.834035</td>\n      <td>5.000000</td>\n    </tr>\n  </tbody>\n</table>\n</div>"
     },
     "execution_count": 49,
     "metadata": {},
     "output_type": "execute_result"
    }
   ],
   "source": [
    "df_higher_sentences = df_annotated[df_annotated['distance'] > 0.25]\n",
    "\n",
    "df_higher_sentences['embeddings'] = df_higher_sentences['txt'].map(dict_embeddings)\n",
    "df_higher_sentences['label_index'] = df_higher_sentences['intent'].map(pipeline.dict_labels)\n",
    "\n",
    "df_higher_sentences.describe()"
   ],
   "metadata": {
    "collapsed": false,
    "pycharm": {
     "name": "#%%\n"
    }
   }
  },
  {
   "cell_type": "code",
   "execution_count": 51,
   "outputs": [
    {
     "data": {
      "text/plain": "      V_000     V_001     V_002     V_003     V_004     V_005     V_006  \\\n0 -0.008343  0.033368 -0.046442 -0.052166 -0.091297 -0.001843  0.033507   \n1  0.067861 -0.056069 -0.001313 -0.030145 -0.092034 -0.000798  0.052008   \n2  0.018875  0.024117  0.035090 -0.112785 -0.055182  0.048042  0.011638   \n3  0.050650 -0.018382  0.015175 -0.008381 -0.067400  0.014663 -0.012952   \n4  0.049683 -0.024636 -0.020439 -0.010502 -0.151096  0.027749  0.034429   \n\n      V_007     V_008     V_009  ...     V_503     V_504     V_505     V_506  \\\n0  0.027626 -0.082742  0.012627  ... -0.069063  0.066489  0.016825  0.019510   \n1  0.061108 -0.091092 -0.012032  ... -0.049187  0.080142  0.014424  0.043665   \n2 -0.006258 -0.033919  0.035440  ... -0.024105  0.022007  0.080454 -0.077422   \n3 -0.030758 -0.084573  0.020417  ... -0.015316  0.047480  0.010318 -0.033296   \n4  0.048915 -0.072280 -0.030891  ... -0.060599  0.040682 -0.005987 -0.037960   \n\n      V_507     V_508     V_509     V_510     V_511  label  \n0  0.005963  0.065603 -0.042441  0.007935  0.070579      2  \n1 -0.016288  0.010631 -0.091025  0.029442 -0.074986      1  \n2 -0.025580 -0.028778 -0.025105 -0.043184  0.004809      3  \n3 -0.040025 -0.044433  0.038009  0.058241 -0.065861      1  \n4  0.071119  0.019034 -0.126513  0.064421 -0.061999      1  \n\n[5 rows x 513 columns]",
      "text/html": "<div>\n<style scoped>\n    .dataframe tbody tr th:only-of-type {\n        vertical-align: middle;\n    }\n\n    .dataframe tbody tr th {\n        vertical-align: top;\n    }\n\n    .dataframe thead th {\n        text-align: right;\n    }\n</style>\n<table border=\"1\" class=\"dataframe\">\n  <thead>\n    <tr style=\"text-align: right;\">\n      <th></th>\n      <th>V_000</th>\n      <th>V_001</th>\n      <th>V_002</th>\n      <th>V_003</th>\n      <th>V_004</th>\n      <th>V_005</th>\n      <th>V_006</th>\n      <th>V_007</th>\n      <th>V_008</th>\n      <th>V_009</th>\n      <th>...</th>\n      <th>V_503</th>\n      <th>V_504</th>\n      <th>V_505</th>\n      <th>V_506</th>\n      <th>V_507</th>\n      <th>V_508</th>\n      <th>V_509</th>\n      <th>V_510</th>\n      <th>V_511</th>\n      <th>label</th>\n    </tr>\n  </thead>\n  <tbody>\n    <tr>\n      <th>0</th>\n      <td>-0.008343</td>\n      <td>0.033368</td>\n      <td>-0.046442</td>\n      <td>-0.052166</td>\n      <td>-0.091297</td>\n      <td>-0.001843</td>\n      <td>0.033507</td>\n      <td>0.027626</td>\n      <td>-0.082742</td>\n      <td>0.012627</td>\n      <td>...</td>\n      <td>-0.069063</td>\n      <td>0.066489</td>\n      <td>0.016825</td>\n      <td>0.019510</td>\n      <td>0.005963</td>\n      <td>0.065603</td>\n      <td>-0.042441</td>\n      <td>0.007935</td>\n      <td>0.070579</td>\n      <td>2</td>\n    </tr>\n    <tr>\n      <th>1</th>\n      <td>0.067861</td>\n      <td>-0.056069</td>\n      <td>-0.001313</td>\n      <td>-0.030145</td>\n      <td>-0.092034</td>\n      <td>-0.000798</td>\n      <td>0.052008</td>\n      <td>0.061108</td>\n      <td>-0.091092</td>\n      <td>-0.012032</td>\n      <td>...</td>\n      <td>-0.049187</td>\n      <td>0.080142</td>\n      <td>0.014424</td>\n      <td>0.043665</td>\n      <td>-0.016288</td>\n      <td>0.010631</td>\n      <td>-0.091025</td>\n      <td>0.029442</td>\n      <td>-0.074986</td>\n      <td>1</td>\n    </tr>\n    <tr>\n      <th>2</th>\n      <td>0.018875</td>\n      <td>0.024117</td>\n      <td>0.035090</td>\n      <td>-0.112785</td>\n      <td>-0.055182</td>\n      <td>0.048042</td>\n      <td>0.011638</td>\n      <td>-0.006258</td>\n      <td>-0.033919</td>\n      <td>0.035440</td>\n      <td>...</td>\n      <td>-0.024105</td>\n      <td>0.022007</td>\n      <td>0.080454</td>\n      <td>-0.077422</td>\n      <td>-0.025580</td>\n      <td>-0.028778</td>\n      <td>-0.025105</td>\n      <td>-0.043184</td>\n      <td>0.004809</td>\n      <td>3</td>\n    </tr>\n    <tr>\n      <th>3</th>\n      <td>0.050650</td>\n      <td>-0.018382</td>\n      <td>0.015175</td>\n      <td>-0.008381</td>\n      <td>-0.067400</td>\n      <td>0.014663</td>\n      <td>-0.012952</td>\n      <td>-0.030758</td>\n      <td>-0.084573</td>\n      <td>0.020417</td>\n      <td>...</td>\n      <td>-0.015316</td>\n      <td>0.047480</td>\n      <td>0.010318</td>\n      <td>-0.033296</td>\n      <td>-0.040025</td>\n      <td>-0.044433</td>\n      <td>0.038009</td>\n      <td>0.058241</td>\n      <td>-0.065861</td>\n      <td>1</td>\n    </tr>\n    <tr>\n      <th>4</th>\n      <td>0.049683</td>\n      <td>-0.024636</td>\n      <td>-0.020439</td>\n      <td>-0.010502</td>\n      <td>-0.151096</td>\n      <td>0.027749</td>\n      <td>0.034429</td>\n      <td>0.048915</td>\n      <td>-0.072280</td>\n      <td>-0.030891</td>\n      <td>...</td>\n      <td>-0.060599</td>\n      <td>0.040682</td>\n      <td>-0.005987</td>\n      <td>-0.037960</td>\n      <td>0.071119</td>\n      <td>0.019034</td>\n      <td>-0.126513</td>\n      <td>0.064421</td>\n      <td>-0.061999</td>\n      <td>1</td>\n    </tr>\n  </tbody>\n</table>\n<p>5 rows × 513 columns</p>\n</div>"
     },
     "execution_count": 51,
     "metadata": {},
     "output_type": "execute_result"
    }
   ],
   "source": [
    "df_to_predict =  pipeline.generate_df_from_x_y(\n",
    "    x_data=df_higher_sentences['embeddings'].to_numpy(),\n",
    "    y_data=df_higher_sentences['label_index'].to_numpy()\n",
    ")\n",
    "\n",
    "df_to_predict.head()"
   ],
   "metadata": {
    "collapsed": false,
    "pycharm": {
     "name": "#%%\n"
    }
   }
  },
  {
   "cell_type": "code",
   "execution_count": 52,
   "outputs": [
    {
     "name": "stdout",
     "output_type": "stream",
     "text": [
      "Parse progress: |████████████████████████████████████████████████████████████████| (done) 100%\n",
      "stackedensemble prediction progress: |███████████████████████████████████████████| (done) 100%\n"
     ]
    },
    {
     "data": {
      "text/plain": ""
     },
     "execution_count": 52,
     "metadata": {},
     "output_type": "execute_result"
    }
   ],
   "source": [
    "hf_to_predict = h2o.H2OFrame(df_to_predict)\n",
    "\n",
    "hf_preds = aml.predict(hf_to_predict)\n",
    "\n",
    "hf_preds"
   ],
   "metadata": {
    "collapsed": false,
    "pycharm": {
     "name": "#%%\n"
    }
   }
  },
  {
   "cell_type": "code",
   "execution_count": 54,
   "outputs": [
    {
     "data": {
      "text/plain": "0.7781014472649929"
     },
     "execution_count": 54,
     "metadata": {},
     "output_type": "execute_result"
    }
   ],
   "source": [
    "predicts = hf_preds.as_data_frame().predict.to_numpy()\n",
    "\n",
    "correct_label = df_to_predict.label.to_numpy()\n",
    "\n",
    "correct_predict = np.equal(predicts, correct_label).sum()\n",
    "\n",
    "correct_predict / len(correct_label)"
   ],
   "metadata": {
    "collapsed": false,
    "pycharm": {
     "name": "#%%\n"
    }
   }
  },
  {
   "cell_type": "code",
   "execution_count": null,
   "outputs": [],
   "source": [],
   "metadata": {
    "collapsed": false,
    "pycharm": {
     "name": "#%%\n"
    }
   }
  }
 ],
 "metadata": {
  "interpreter": {
   "hash": "da386d383b1a4f2ab977ab0cc371ee70ac9bd2160da3f0bf5cca7f94d497a6a3"
  },
  "kernelspec": {
   "display_name": "Python 3.9.7 ('venv': venv)",
   "language": "python",
   "name": "python3"
  },
  "language_info": {
   "codemirror_mode": {
    "name": "ipython",
    "version": 3
   },
   "file_extension": ".py",
   "mimetype": "text/x-python",
   "name": "python",
   "nbconvert_exporter": "python",
   "pygments_lexer": "ipython3",
   "version": "3.9.7"
  },
  "orig_nbformat": 4
 },
 "nbformat": 4,
 "nbformat_minor": 2
}
{
 "cells": [
  {
   "cell_type": "code",
   "execution_count": 1,
   "metadata": {
    "pycharm": {
     "name": "#%%\n"
    }
   },
   "outputs": [],
   "source": [
    "from sklearn.model_selection import train_test_split\n",
    "\n",
    "from sklearn import svm\n",
    "from sklearn.metrics import accuracy_score\n",
    "from sklearn.metrics import f1_score\n",
    "\n",
    "import pandas as pd\n",
    "import numpy as np\n",
    "from glob import glob\n",
    "from src.data_helper import DataHelper\n",
    "from src.data_helper import DataHelper"
   ]
  },
  {
   "cell_type": "code",
   "execution_count": 2,
   "metadata": {
    "pycharm": {
     "name": "#%%\n"
    }
   },
   "outputs": [],
   "source": [
    "annotatted_filename = DataHelper.generate_filename_from_data_dir(f'output/patient/k100/use/annotated_sentences.csv')\n",
    "\n",
    "embedding_filename = DataHelper.generate_filename_from_data_dir(f'output/patient/k100/use/annotated_sentences.csv')\n",
    "\n",
    "paths = glob(f'{DataHelper.generate_filename_from_data_dir(\"models/use/text_emb_patient.json\")}/*.json')\n",
    "\n",
    "df_embeddings = DataHelper.read_multiple_files(paths)\n",
    "\n",
    "df_annotated = pd.read_csv(annotatted_filename)"
   ]
  },
  {
   "cell_type": "code",
   "execution_count": 3,
   "metadata": {
    "pycharm": {
     "name": "#%%\n"
    }
   },
   "outputs": [
    {
     "data": {
      "text/plain": "26647"
     },
     "execution_count": 3,
     "metadata": {},
     "output_type": "execute_result"
    }
   ],
   "source": [
    "dict_embeddings = pd.Series(df_embeddings.embeddings.map(lambda x: np.array(x[0])).to_list(),index=df_embeddings.txt).to_dict()\n",
    "\n",
    "len(dict_embeddings.keys())"
   ]
  },
  {
   "cell_type": "code",
   "execution_count": 4,
   "metadata": {
    "pycharm": {
     "name": "#%%\n"
    }
   },
   "outputs": [],
   "source": [
    "dict_labels = {\n",
    "  'inform' : 1,\n",
    "  'inform_symptoms': 2,\n",
    "  'inform_medicine': 3,\n",
    "  'greeting': 4,\n",
    "  'request_inform': 5\n",
    "}"
   ]
  },
  {
   "cell_type": "code",
   "execution_count": 5,
   "metadata": {
    "pycharm": {
     "name": "#%%\n"
    }
   },
   "outputs": [
    {
     "data": {
      "text/plain": "txt              4168\nlabel            4168\ndistance         4168\nintent           4168\nannotated_txt    4168\ndtype: int64"
     },
     "execution_count": 5,
     "metadata": {},
     "output_type": "execute_result"
    }
   ],
   "source": [
    "df_temp = df_annotated[df_annotated['distance'] <= 0.25]\n",
    "\n",
    "df_temp.count()"
   ]
  },
  {
   "cell_type": "code",
   "execution_count": 45,
   "outputs": [
    {
     "data": {
      "text/plain": "453                          Sobre a febre quero entender\n7389                       Mais isso já faz um mês e meio\n10612                                        E pra tosse?\n998      Quando eu viro para o outro lado da cama acelera\n11519                     Quero saber o que devemos tomar\nName: txt, dtype: object"
     },
     "execution_count": 45,
     "metadata": {},
     "output_type": "execute_result"
    }
   ],
   "source": [
    "distant_sentences = df_annotated[df_annotated['distance'] > 0.25]\n",
    "\n",
    "selected_distant_sentences  = distant_sentences['txt'].sample(n=1000, random_state=42)\n",
    "\n",
    "selected_distant_sentences.head()"
   ],
   "metadata": {
    "collapsed": false,
    "pycharm": {
     "name": "#%%\n"
    }
   }
  },
  {
   "cell_type": "code",
   "execution_count": 48,
   "outputs": [],
   "source": [
    "selected_distant_sentences.to_csv(DataHelper.generate_filename_from_data_dir('output/sentences_to_classify.csv'), index=False)"
   ],
   "metadata": {
    "collapsed": false,
    "pycharm": {
     "name": "#%%\n"
    }
   }
  },
  {
   "cell_type": "code",
   "execution_count": 62,
   "outputs": [
    {
     "data": {
      "text/plain": "                                                txt           label  \\\n0                      Sobre a febre quero entender  request_inform   \n1                    Mais isso já faz um mês e meio          inform   \n2                                      E pra tosse?  request_inform   \n3  Quando eu viro para o outro lado da cama acelera  request_inform   \n4                   Quero saber o que devemos tomar  request_inform   \n\n   label_index                                         embeddings  \n0            5  [-0.022668906000000003, -0.061208144000000006,...  \n1            1  [-0.03546224, -0.008965515, -0.018063422000000...  \n2            5  [0.022191908, -0.029259719000000003, -0.019401...  \n3            5  [-0.072670385, -0.039203867, -0.04282206, -0.0...  \n4            5  [0.027665587000000002, -0.0006697571, 0.022551...  ",
      "text/html": "<div>\n<style scoped>\n    .dataframe tbody tr th:only-of-type {\n        vertical-align: middle;\n    }\n\n    .dataframe tbody tr th {\n        vertical-align: top;\n    }\n\n    .dataframe thead th {\n        text-align: right;\n    }\n</style>\n<table border=\"1\" class=\"dataframe\">\n  <thead>\n    <tr style=\"text-align: right;\">\n      <th></th>\n      <th>txt</th>\n      <th>label</th>\n      <th>label_index</th>\n      <th>embeddings</th>\n    </tr>\n  </thead>\n  <tbody>\n    <tr>\n      <th>0</th>\n      <td>Sobre a febre quero entender</td>\n      <td>request_inform</td>\n      <td>5</td>\n      <td>[-0.022668906000000003, -0.061208144000000006,...</td>\n    </tr>\n    <tr>\n      <th>1</th>\n      <td>Mais isso já faz um mês e meio</td>\n      <td>inform</td>\n      <td>1</td>\n      <td>[-0.03546224, -0.008965515, -0.018063422000000...</td>\n    </tr>\n    <tr>\n      <th>2</th>\n      <td>E pra tosse?</td>\n      <td>request_inform</td>\n      <td>5</td>\n      <td>[0.022191908, -0.029259719000000003, -0.019401...</td>\n    </tr>\n    <tr>\n      <th>3</th>\n      <td>Quando eu viro para o outro lado da cama acelera</td>\n      <td>request_inform</td>\n      <td>5</td>\n      <td>[-0.072670385, -0.039203867, -0.04282206, -0.0...</td>\n    </tr>\n    <tr>\n      <th>4</th>\n      <td>Quero saber o que devemos tomar</td>\n      <td>request_inform</td>\n      <td>5</td>\n      <td>[0.027665587000000002, -0.0006697571, 0.022551...</td>\n    </tr>\n  </tbody>\n</table>\n</div>"
     },
     "execution_count": 62,
     "metadata": {},
     "output_type": "execute_result"
    }
   ],
   "source": [
    "df_classified_manual = pd.read_csv(DataHelper.generate_filename_from_data_dir('output/sentences_classified.csv'))\n",
    "\n",
    "df_classified_manual['label_index'] = df_classified_manual['label'].map(dict_labels)\n",
    "\n",
    "df_classified_manual['embeddings'] = df_classified_manual['txt'].map(dict_embeddings)\n",
    "\n",
    "df_classified_manual.drop(['correct_label', 'used_intents', 'intents'], axis=1).head()"
   ],
   "metadata": {
    "collapsed": false,
    "pycharm": {
     "name": "#%%\n"
    }
   }
  },
  {
   "cell_type": "code",
   "execution_count": 63,
   "outputs": [
    {
     "name": "stdout",
     "output_type": "stream",
     "text": [
      "{'inform', 'inform_symptoms', 'inform_medicine', 'greeting', 'request_inform'} {'inform', 'inform_symptoms', 'inform_medicine', 'greeting', 'request_inform'}\n"
     ]
    },
    {
     "data": {
      "text/plain": "True"
     },
     "execution_count": 63,
     "metadata": {},
     "output_type": "execute_result"
    }
   ],
   "source": [
    "print(set(dict_labels.keys()), set(df_classified_manual.label.unique()))\n",
    "\n",
    "set(dict_labels.keys()) == set(df_classified_manual.label.unique())"
   ],
   "metadata": {
    "collapsed": false,
    "pycharm": {
     "name": "#%%\n"
    }
   }
  },
  {
   "cell_type": "code",
   "execution_count": 64,
   "outputs": [
    {
     "data": {
      "text/plain": "array([5, 1, 2, 4, 3])"
     },
     "execution_count": 64,
     "metadata": {},
     "output_type": "execute_result"
    }
   ],
   "source": [
    "df_classified_manual.label_index.unique()"
   ],
   "metadata": {
    "collapsed": false,
    "pycharm": {
     "name": "#%%\n"
    }
   }
  },
  {
   "cell_type": "code",
   "execution_count": 65,
   "outputs": [
    {
     "data": {
      "text/plain": "                                                txt           label  \\\n0                      Sobre a febre quero entender  request_inform   \n1                    Mais isso já faz um mês e meio          inform   \n2                                      E pra tosse?  request_inform   \n3  Quando eu viro para o outro lado da cama acelera  request_inform   \n4                   Quero saber o que devemos tomar  request_inform   \n\n  correct_label     used_intents          intents  label_index  \\\n0           NaN           inform           inform            5   \n1           NaN  inform_symptoms  inform_symptoms            1   \n2           NaN  inform_medicine  inform_medicine            5   \n3           NaN         greeting         greeting            5   \n4           NaN   request_inform   request_inform            5   \n\n                                          embeddings  \n0  [-0.022668906000000003, -0.061208144000000006,...  \n1  [-0.03546224, -0.008965515, -0.018063422000000...  \n2  [0.022191908, -0.029259719000000003, -0.019401...  \n3  [-0.072670385, -0.039203867, -0.04282206, -0.0...  \n4  [0.027665587000000002, -0.0006697571, 0.022551...  ",
      "text/html": "<div>\n<style scoped>\n    .dataframe tbody tr th:only-of-type {\n        vertical-align: middle;\n    }\n\n    .dataframe tbody tr th {\n        vertical-align: top;\n    }\n\n    .dataframe thead th {\n        text-align: right;\n    }\n</style>\n<table border=\"1\" class=\"dataframe\">\n  <thead>\n    <tr style=\"text-align: right;\">\n      <th></th>\n      <th>txt</th>\n      <th>label</th>\n      <th>correct_label</th>\n      <th>used_intents</th>\n      <th>intents</th>\n      <th>label_index</th>\n      <th>embeddings</th>\n    </tr>\n  </thead>\n  <tbody>\n    <tr>\n      <th>0</th>\n      <td>Sobre a febre quero entender</td>\n      <td>request_inform</td>\n      <td>NaN</td>\n      <td>inform</td>\n      <td>inform</td>\n      <td>5</td>\n      <td>[-0.022668906000000003, -0.061208144000000006,...</td>\n    </tr>\n    <tr>\n      <th>1</th>\n      <td>Mais isso já faz um mês e meio</td>\n      <td>inform</td>\n      <td>NaN</td>\n      <td>inform_symptoms</td>\n      <td>inform_symptoms</td>\n      <td>1</td>\n      <td>[-0.03546224, -0.008965515, -0.018063422000000...</td>\n    </tr>\n    <tr>\n      <th>2</th>\n      <td>E pra tosse?</td>\n      <td>request_inform</td>\n      <td>NaN</td>\n      <td>inform_medicine</td>\n      <td>inform_medicine</td>\n      <td>5</td>\n      <td>[0.022191908, -0.029259719000000003, -0.019401...</td>\n    </tr>\n    <tr>\n      <th>3</th>\n      <td>Quando eu viro para o outro lado da cama acelera</td>\n      <td>request_inform</td>\n      <td>NaN</td>\n      <td>greeting</td>\n      <td>greeting</td>\n      <td>5</td>\n      <td>[-0.072670385, -0.039203867, -0.04282206, -0.0...</td>\n    </tr>\n    <tr>\n      <th>4</th>\n      <td>Quero saber o que devemos tomar</td>\n      <td>request_inform</td>\n      <td>NaN</td>\n      <td>request_inform</td>\n      <td>request_inform</td>\n      <td>5</td>\n      <td>[0.027665587000000002, -0.0006697571, 0.022551...</td>\n    </tr>\n  </tbody>\n</table>\n</div>"
     },
     "execution_count": 65,
     "metadata": {},
     "output_type": "execute_result"
    }
   ],
   "source": [
    "df_classified_manual.head()"
   ],
   "metadata": {
    "collapsed": false,
    "pycharm": {
     "name": "#%%\n"
    }
   }
  },
  {
   "cell_type": "code",
   "execution_count": 23,
   "metadata": {
    "pycharm": {
     "name": "#%%\n"
    }
   },
   "outputs": [
    {
     "name": "stderr",
     "output_type": "stream",
     "text": [
      "/tmp/ipykernel_9731/856388522.py:1: SettingWithCopyWarning: \n",
      "A value is trying to be set on a copy of a slice from a DataFrame.\n",
      "Try using .loc[row_indexer,col_indexer] = value instead\n",
      "\n",
      "See the caveats in the documentation: https://pandas.pydata.org/pandas-docs/stable/user_guide/indexing.html#returning-a-view-versus-a-copy\n",
      "  df_temp['embeddings'] = df_temp['txt'].map(dict_embeddings)\n",
      "/tmp/ipykernel_9731/856388522.py:3: SettingWithCopyWarning: \n",
      "A value is trying to be set on a copy of a slice from a DataFrame.\n",
      "Try using .loc[row_indexer,col_indexer] = value instead\n",
      "\n",
      "See the caveats in the documentation: https://pandas.pydata.org/pandas-docs/stable/user_guide/indexing.html#returning-a-view-versus-a-copy\n",
      "  df_temp['label_index'] = df_temp['intent'].map(dict_labels)\n"
     ]
    },
    {
     "data": {
      "text/plain": "                                       txt  label  distance           intent  \\\n0   Há dois tias estou com dor na garganta     15  0.232881  inform_symptoms   \n3                                      Sim     12  0.099960           inform   \n7                                      Não     18  0.191976           inform   \n12                                      Ok      4  0.151040           inform   \n14                                Tá certo      4  0.159767           inform   \n\n                                        annotated_txt  \\\n0   Há dois tias estou com [dor](SINTOMA) na [garg...   \n3                                                 Sim   \n7                                                 Não   \n12                                                 Ok   \n14                                           Tá certo   \n\n                                           embeddings  label_index  \n0   [-0.05788306, 0.042827144000000004, -0.0357614...            2  \n3   [0.11549624, -0.010514308, 0.02550796800000000...            1  \n7   [0.10408107, -0.02228124, 0.00076653576, -0.01...            1  \n12  [0.1262432, -0.01299934, 0.064029716, -0.00782...            1  \n14  [0.12865065, -0.020153655000000003, 0.03307859...            1  ",
      "text/html": "<div>\n<style scoped>\n    .dataframe tbody tr th:only-of-type {\n        vertical-align: middle;\n    }\n\n    .dataframe tbody tr th {\n        vertical-align: top;\n    }\n\n    .dataframe thead th {\n        text-align: right;\n    }\n</style>\n<table border=\"1\" class=\"dataframe\">\n  <thead>\n    <tr style=\"text-align: right;\">\n      <th></th>\n      <th>txt</th>\n      <th>label</th>\n      <th>distance</th>\n      <th>intent</th>\n      <th>annotated_txt</th>\n      <th>embeddings</th>\n      <th>label_index</th>\n    </tr>\n  </thead>\n  <tbody>\n    <tr>\n      <th>0</th>\n      <td>Há dois tias estou com dor na garganta</td>\n      <td>15</td>\n      <td>0.232881</td>\n      <td>inform_symptoms</td>\n      <td>Há dois tias estou com [dor](SINTOMA) na [garg...</td>\n      <td>[-0.05788306, 0.042827144000000004, -0.0357614...</td>\n      <td>2</td>\n    </tr>\n    <tr>\n      <th>3</th>\n      <td>Sim</td>\n      <td>12</td>\n      <td>0.099960</td>\n      <td>inform</td>\n      <td>Sim</td>\n      <td>[0.11549624, -0.010514308, 0.02550796800000000...</td>\n      <td>1</td>\n    </tr>\n    <tr>\n      <th>7</th>\n      <td>Não</td>\n      <td>18</td>\n      <td>0.191976</td>\n      <td>inform</td>\n      <td>Não</td>\n      <td>[0.10408107, -0.02228124, 0.00076653576, -0.01...</td>\n      <td>1</td>\n    </tr>\n    <tr>\n      <th>12</th>\n      <td>Ok</td>\n      <td>4</td>\n      <td>0.151040</td>\n      <td>inform</td>\n      <td>Ok</td>\n      <td>[0.1262432, -0.01299934, 0.064029716, -0.00782...</td>\n      <td>1</td>\n    </tr>\n    <tr>\n      <th>14</th>\n      <td>Tá certo</td>\n      <td>4</td>\n      <td>0.159767</td>\n      <td>inform</td>\n      <td>Tá certo</td>\n      <td>[0.12865065, -0.020153655000000003, 0.03307859...</td>\n      <td>1</td>\n    </tr>\n  </tbody>\n</table>\n</div>"
     },
     "execution_count": 23,
     "metadata": {},
     "output_type": "execute_result"
    }
   ],
   "source": [
    "df_temp['embeddings'] = df_temp['txt'].map(dict_embeddings)\n",
    "\n",
    "df_temp['label_index'] = df_temp['intent'].map(dict_labels)\n",
    "\n",
    "df_temp.head()"
   ]
  },
  {
   "cell_type": "code",
   "execution_count": 24,
   "metadata": {
    "pycharm": {
     "name": "#%%\n"
    }
   },
   "outputs": [],
   "source": [
    "X = df_temp['embeddings'].to_numpy()\n",
    "y = df_temp['label_index'].to_numpy()"
   ]
  },
  {
   "cell_type": "code",
   "execution_count": 25,
   "metadata": {
    "pycharm": {
     "name": "#%%\n"
    }
   },
   "outputs": [],
   "source": [
    "def generate_df_from_X_y(X_data, y_data):\n",
    "    vectors = [{f'V_{index:03d}': value for index, value in enumerate(embedding)} for embedding in X_data]\n",
    "\n",
    "    df_data = pd.DataFrame(data=vectors)\n",
    "\n",
    "    df_data['label'] = y_data\n",
    "\n",
    "    return df_data\n"
   ]
  },
  {
   "cell_type": "code",
   "execution_count": 26,
   "metadata": {
    "pycharm": {
     "name": "#%%\n"
    }
   },
   "outputs": [
    {
     "name": "stdout",
     "output_type": "stream",
     "text": [
      "2917\n"
     ]
    },
    {
     "data": {
      "text/plain": "{1: 469, 2: 1725, 3: 117, 4: 401, 5: 205}"
     },
     "execution_count": 26,
     "metadata": {},
     "output_type": "execute_result"
    }
   ],
   "source": [
    "X_train, X_test, y_train, y_test = train_test_split(X, y, test_size=0.3, random_state=42)\n",
    "\n",
    "print(len(X_train))\n",
    "\n",
    "{label: (y_train == label).sum() for label in set(y_train)}"
   ]
  },
  {
   "cell_type": "code",
   "execution_count": 27,
   "metadata": {
    "pycharm": {
     "name": "#%%\n"
    }
   },
   "outputs": [
    {
     "name": "stdout",
     "output_type": "stream",
     "text": [
      "1251\n"
     ]
    },
    {
     "data": {
      "text/plain": "{1: 175, 2: 764, 3: 36, 4: 189, 5: 87}"
     },
     "execution_count": 27,
     "metadata": {},
     "output_type": "execute_result"
    }
   ],
   "source": [
    "print(len(y_test))\n",
    "\n",
    "{label: (y_test == label).sum() for label in set(y_test)}"
   ]
  },
  {
   "cell_type": "code",
   "execution_count": 28,
   "metadata": {
    "pycharm": {
     "name": "#%%\n"
    }
   },
   "outputs": [],
   "source": [
    "df_train = generate_df_from_X_y(X_train, y_train)\n",
    "df_test = generate_df_from_X_y(X_test, y_test)\n",
    "\n",
    "df_test = df_test.drop(['label'], axis=1)"
   ]
  },
  {
   "cell_type": "code",
   "execution_count": 29,
   "metadata": {
    "pycharm": {
     "name": "#%%\n"
    }
   },
   "outputs": [
    {
     "name": "stdout",
     "output_type": "stream",
     "text": [
      "Checking whether there is an H2O instance running at http://localhost:54321 ..... not found.\n",
      "Attempting to start a local H2O server...\n",
      "  Java Version: openjdk version \"11.0.14.1\" 2022-02-08; OpenJDK Runtime Environment (build 11.0.14.1+1-Ubuntu-0ubuntu1.21.10); OpenJDK 64-Bit Server VM (build 11.0.14.1+1-Ubuntu-0ubuntu1.21.10, mixed mode, sharing)\n",
      "  Starting server from /home/valmir/dev/python/intent_classifier/venv/lib/python3.9/site-packages/h2o/backend/bin/h2o.jar\n",
      "  Ice root: /tmp/tmp9s331jj0\n",
      "  JVM stdout: /tmp/tmp9s331jj0/h2o_valmir_started_from_python.out\n",
      "  JVM stderr: /tmp/tmp9s331jj0/h2o_valmir_started_from_python.err\n",
      "  Server is running at http://127.0.0.1:54321\n",
      "Connecting to H2O server at http://127.0.0.1:54321 ... successful.\n"
     ]
    },
    {
     "data": {
      "text/plain": "--------------------------  -----------------------------\nH2O_cluster_uptime:         01 secs\nH2O_cluster_timezone:       America/Fortaleza\nH2O_data_parsing_timezone:  UTC\nH2O_cluster_version:        3.36.0.4\nH2O_cluster_version_age:    20 days\nH2O_cluster_name:           H2O_from_python_valmir_xt79c7\nH2O_cluster_total_nodes:    1\nH2O_cluster_free_memory:    7.777 Gb\nH2O_cluster_total_cores:    16\nH2O_cluster_allowed_cores:  16\nH2O_cluster_status:         locked, healthy\nH2O_connection_url:         http://127.0.0.1:54321\nH2O_connection_proxy:       {\"http\": null, \"https\": null}\nH2O_internal_security:      False\nPython_version:             3.9.7 final\n--------------------------  -----------------------------",
      "text/html": "<div style=\"overflow:auto\"><table style=\"width:50%\"><tr><td>H2O_cluster_uptime:</td>\n<td>01 secs</td></tr>\n<tr><td>H2O_cluster_timezone:</td>\n<td>America/Fortaleza</td></tr>\n<tr><td>H2O_data_parsing_timezone:</td>\n<td>UTC</td></tr>\n<tr><td>H2O_cluster_version:</td>\n<td>3.36.0.4</td></tr>\n<tr><td>H2O_cluster_version_age:</td>\n<td>20 days </td></tr>\n<tr><td>H2O_cluster_name:</td>\n<td>H2O_from_python_valmir_xt79c7</td></tr>\n<tr><td>H2O_cluster_total_nodes:</td>\n<td>1</td></tr>\n<tr><td>H2O_cluster_free_memory:</td>\n<td>7.777 Gb</td></tr>\n<tr><td>H2O_cluster_total_cores:</td>\n<td>16</td></tr>\n<tr><td>H2O_cluster_allowed_cores:</td>\n<td>16</td></tr>\n<tr><td>H2O_cluster_status:</td>\n<td>locked, healthy</td></tr>\n<tr><td>H2O_connection_url:</td>\n<td>http://127.0.0.1:54321</td></tr>\n<tr><td>H2O_connection_proxy:</td>\n<td>{\"http\": null, \"https\": null}</td></tr>\n<tr><td>H2O_internal_security:</td>\n<td>False</td></tr>\n<tr><td>Python_version:</td>\n<td>3.9.7 final</td></tr></table></div>"
     },
     "metadata": {},
     "output_type": "display_data"
    }
   ],
   "source": [
    "import h2o\n",
    "from h2o.automl import H2OAutoML\n",
    "\n",
    "# Start the H2O cluster (locally)\n",
    "h2o.init()"
   ]
  },
  {
   "cell_type": "code",
   "execution_count": 30,
   "outputs": [
    {
     "name": "stdout",
     "output_type": "stream",
     "text": [
      "Parse progress: |████████████████████████████████████████████████████████████████| (done) 100%\n"
     ]
    }
   ],
   "source": [
    "hf_train = h2o.H2OFrame(df_train)\n",
    "\n",
    "x = hf_train.columns\n",
    "y = \"label\"\n",
    "x.remove(y)"
   ],
   "metadata": {
    "collapsed": false,
    "pycharm": {
     "name": "#%%\n"
    }
   }
  },
  {
   "cell_type": "code",
   "execution_count": 31,
   "metadata": {
    "pycharm": {
     "name": "#%%\n"
    }
   },
   "outputs": [
    {
     "name": "stdout",
     "output_type": "stream",
     "text": [
      "AutoML progress: |███████████████████████████████████████████████████████████████| (done) 100%\n"
     ]
    },
    {
     "data": {
      "text/html": "<table>\n<thead>\n<tr><th>model_id                                              </th><th style=\"text-align: right;\">  mean_per_class_error</th><th style=\"text-align: right;\">  logloss</th><th style=\"text-align: right;\">     rmse</th><th style=\"text-align: right;\">       mse</th></tr>\n</thead>\n<tbody>\n<tr><td>StackedEnsemble_BestOfFamily_5_AutoML_1_20220420_93537</td><td style=\"text-align: right;\">            0.00616933</td><td style=\"text-align: right;\">0.0165079</td><td style=\"text-align: right;\">0.0578427</td><td style=\"text-align: right;\">0.00334577</td></tr>\n<tr><td>StackedEnsemble_BestOfFamily_8_AutoML_1_20220420_93537</td><td style=\"text-align: right;\">            0.00714494</td><td style=\"text-align: right;\">0.0166253</td><td style=\"text-align: right;\">0.0589281</td><td style=\"text-align: right;\">0.00347252</td></tr>\n<tr><td>DeepLearning_grid_3_AutoML_1_20220420_93537_model_1   </td><td style=\"text-align: right;\">            0.00714494</td><td style=\"text-align: right;\">0.027339 </td><td style=\"text-align: right;\">0.0586968</td><td style=\"text-align: right;\">0.00344532</td></tr>\n<tr><td>DeepLearning_grid_2_AutoML_1_20220420_93537_model_1   </td><td style=\"text-align: right;\">            0.00717362</td><td style=\"text-align: right;\">0.0272746</td><td style=\"text-align: right;\">0.0560298</td><td style=\"text-align: right;\">0.00313933</td></tr>\n<tr><td>StackedEnsemble_AllModels_7_AutoML_1_20220420_93537   </td><td style=\"text-align: right;\">            0.00757817</td><td style=\"text-align: right;\">0.0153178</td><td style=\"text-align: right;\">0.055127 </td><td style=\"text-align: right;\">0.00303899</td></tr>\n<tr><td>StackedEnsemble_AllModels_4_AutoML_1_20220420_93537   </td><td style=\"text-align: right;\">            0.00757817</td><td style=\"text-align: right;\">0.0160628</td><td style=\"text-align: right;\">0.0570544</td><td style=\"text-align: right;\">0.00325521</td></tr>\n<tr><td>DeepLearning_grid_1_AutoML_1_20220420_93537_model_1   </td><td style=\"text-align: right;\">            0.00757817</td><td style=\"text-align: right;\">0.023915 </td><td style=\"text-align: right;\">0.0550651</td><td style=\"text-align: right;\">0.00303217</td></tr>\n<tr><td>StackedEnsemble_BestOfFamily_7_AutoML_1_20220420_93537</td><td style=\"text-align: right;\">            0.00780642</td><td style=\"text-align: right;\">0.0195802</td><td style=\"text-align: right;\">0.0580466</td><td style=\"text-align: right;\">0.0033694 </td></tr>\n<tr><td>StackedEnsemble_AllModels_5_AutoML_1_20220420_93537   </td><td style=\"text-align: right;\">            0.0084279 </td><td style=\"text-align: right;\">0.0195522</td><td style=\"text-align: right;\">0.0594211</td><td style=\"text-align: right;\">0.00353086</td></tr>\n<tr><td>StackedEnsemble_AllModels_2_AutoML_1_20220420_93537   </td><td style=\"text-align: right;\">            0.00847153</td><td style=\"text-align: right;\">0.0190885</td><td style=\"text-align: right;\">0.0670299</td><td style=\"text-align: right;\">0.00449301</td></tr>\n<tr><td>StackedEnsemble_BestOfFamily_4_AutoML_1_20220420_93537</td><td style=\"text-align: right;\">            0.00928757</td><td style=\"text-align: right;\">0.0154566</td><td style=\"text-align: right;\">0.0571895</td><td style=\"text-align: right;\">0.00327063</td></tr>\n<tr><td>StackedEnsemble_AllModels_3_AutoML_1_20220420_93537   </td><td style=\"text-align: right;\">            0.00928757</td><td style=\"text-align: right;\">0.0143722</td><td style=\"text-align: right;\">0.0551226</td><td style=\"text-align: right;\">0.0030385 </td></tr>\n<tr><td>GLM_1_AutoML_1_20220420_93537                         </td><td style=\"text-align: right;\">            0.00978632</td><td style=\"text-align: right;\">0.0171321</td><td style=\"text-align: right;\">0.0611247</td><td style=\"text-align: right;\">0.00373623</td></tr>\n<tr><td>StackedEnsemble_AllModels_1_AutoML_1_20220420_93537   </td><td style=\"text-align: right;\">            0.0104982 </td><td style=\"text-align: right;\">0.0169927</td><td style=\"text-align: right;\">0.0624266</td><td style=\"text-align: right;\">0.00389708</td></tr>\n<tr><td>StackedEnsemble_BestOfFamily_6_AutoML_1_20220420_93537</td><td style=\"text-align: right;\">            0.0112221 </td><td style=\"text-align: right;\">0.0236567</td><td style=\"text-align: right;\">0.0682742</td><td style=\"text-align: right;\">0.00466137</td></tr>\n<tr><td>StackedEnsemble_AllModels_6_AutoML_1_20220420_93537   </td><td style=\"text-align: right;\">            0.011232  </td><td style=\"text-align: right;\">0.0164987</td><td style=\"text-align: right;\">0.0569428</td><td style=\"text-align: right;\">0.00324249</td></tr>\n<tr><td>StackedEnsemble_BestOfFamily_2_AutoML_1_20220420_93537</td><td style=\"text-align: right;\">            0.0114957 </td><td style=\"text-align: right;\">0.0173471</td><td style=\"text-align: right;\">0.0640101</td><td style=\"text-align: right;\">0.0040973 </td></tr>\n<tr><td>StackedEnsemble_BestOfFamily_3_AutoML_1_20220420_93537</td><td style=\"text-align: right;\">            0.0115362 </td><td style=\"text-align: right;\">0.0201516</td><td style=\"text-align: right;\">0.0695176</td><td style=\"text-align: right;\">0.00483269</td></tr>\n<tr><td>StackedEnsemble_BestOfFamily_1_AutoML_1_20220420_93537</td><td style=\"text-align: right;\">            0.0119222 </td><td style=\"text-align: right;\">0.0177757</td><td style=\"text-align: right;\">0.0651565</td><td style=\"text-align: right;\">0.00424537</td></tr>\n<tr><td>DeepLearning_1_AutoML_1_20220420_93537                </td><td style=\"text-align: right;\">            0.013051  </td><td style=\"text-align: right;\">0.0354717</td><td style=\"text-align: right;\">0.0797541</td><td style=\"text-align: right;\">0.00636071</td></tr>\n<tr><td>DRF_1_AutoML_1_20220420_93537                         </td><td style=\"text-align: right;\">            0.0223076 </td><td style=\"text-align: right;\">0.114775 </td><td style=\"text-align: right;\">0.15834  </td><td style=\"text-align: right;\">0.0250717 </td></tr>\n<tr><td>XGBoost_3_AutoML_1_20220420_93537                     </td><td style=\"text-align: right;\">            0.0239956 </td><td style=\"text-align: right;\">0.0332027</td><td style=\"text-align: right;\">0.0933846</td><td style=\"text-align: right;\">0.00872068</td></tr>\n<tr><td>GBM_1_AutoML_1_20220420_93537                         </td><td style=\"text-align: right;\">            0.0255386 </td><td style=\"text-align: right;\">0.0251365</td><td style=\"text-align: right;\">0.0821184</td><td style=\"text-align: right;\">0.00674344</td></tr>\n<tr><td>GBM_3_AutoML_1_20220420_93537                         </td><td style=\"text-align: right;\">            0.0256541 </td><td style=\"text-align: right;\">0.0331056</td><td style=\"text-align: right;\">0.0905214</td><td style=\"text-align: right;\">0.00819412</td></tr>\n<tr><td>GBM_grid_1_AutoML_1_20220420_93537_model_1            </td><td style=\"text-align: right;\">            0.025705  </td><td style=\"text-align: right;\">0.027769 </td><td style=\"text-align: right;\">0.0828632</td><td style=\"text-align: right;\">0.00686631</td></tr>\n<tr><td>GBM_4_AutoML_1_20220420_93537                         </td><td style=\"text-align: right;\">            0.0265574 </td><td style=\"text-align: right;\">0.0311346</td><td style=\"text-align: right;\">0.0882971</td><td style=\"text-align: right;\">0.00779637</td></tr>\n<tr><td>XRT_1_AutoML_1_20220420_93537                         </td><td style=\"text-align: right;\">            0.0268466 </td><td style=\"text-align: right;\">0.119386 </td><td style=\"text-align: right;\">0.162555 </td><td style=\"text-align: right;\">0.0264241 </td></tr>\n<tr><td>GBM_2_AutoML_1_20220420_93537                         </td><td style=\"text-align: right;\">            0.0274794 </td><td style=\"text-align: right;\">0.0318449</td><td style=\"text-align: right;\">0.0874472</td><td style=\"text-align: right;\">0.00764701</td></tr>\n<tr><td>XGBoost_grid_1_AutoML_1_20220420_93537_model_1        </td><td style=\"text-align: right;\">            0.0283578 </td><td style=\"text-align: right;\">0.0431556</td><td style=\"text-align: right;\">0.105092 </td><td style=\"text-align: right;\">0.0110443 </td></tr>\n<tr><td>GBM_5_AutoML_1_20220420_93537                         </td><td style=\"text-align: right;\">            0.0293938 </td><td style=\"text-align: right;\">0.0445543</td><td style=\"text-align: right;\">0.103441 </td><td style=\"text-align: right;\">0.0107    </td></tr>\n<tr><td>XGBoost_grid_1_AutoML_1_20220420_93537_model_2        </td><td style=\"text-align: right;\">            0.0294593 </td><td style=\"text-align: right;\">0.0406014</td><td style=\"text-align: right;\">0.101505 </td><td style=\"text-align: right;\">0.0103032 </td></tr>\n<tr><td>XGBoost_1_AutoML_1_20220420_93537                     </td><td style=\"text-align: right;\">            0.0298322 </td><td style=\"text-align: right;\">0.0481649</td><td style=\"text-align: right;\">0.110031 </td><td style=\"text-align: right;\">0.0121068 </td></tr>\n<tr><td>XGBoost_2_AutoML_1_20220420_93537                     </td><td style=\"text-align: right;\">            0.0304817 </td><td style=\"text-align: right;\">0.0392259</td><td style=\"text-align: right;\">0.099516 </td><td style=\"text-align: right;\">0.00990344</td></tr>\n<tr><td>GBM_grid_1_AutoML_1_20220420_93537_model_2            </td><td style=\"text-align: right;\">            0.03158   </td><td style=\"text-align: right;\">0.045001 </td><td style=\"text-align: right;\">0.0994345</td><td style=\"text-align: right;\">0.00988722</td></tr>\n<tr><td>XGBoost_grid_1_AutoML_1_20220420_93537_model_3        </td><td style=\"text-align: right;\">            0.0319461 </td><td style=\"text-align: right;\">0.0389513</td><td style=\"text-align: right;\">0.101429 </td><td style=\"text-align: right;\">0.0102878 </td></tr>\n</tbody>\n</table>"
     },
     "metadata": {},
     "output_type": "display_data"
    },
    {
     "data": {
      "text/plain": ""
     },
     "execution_count": 31,
     "metadata": {},
     "output_type": "execute_result"
    }
   ],
   "source": [
    "# For binary classification, response should be a factor\n",
    "hf_train[y] = hf_train[y].asfactor()\n",
    "# hf_test[y] = hf_test[y].asfactor()\n",
    "\n",
    "# Run AutoML for 20 base models\n",
    "aml = H2OAutoML(max_models=20, seed=1)\n",
    "aml.train(x=x, y=y, training_frame=hf_train)\n",
    "\n",
    "# View the AutoML Leaderboard\n",
    "lb = aml.leaderboard\n",
    "lb.head(rows=lb.nrows)"
   ]
  },
  {
   "cell_type": "code",
   "execution_count": 32,
   "outputs": [
    {
     "data": {
      "text/plain": "      V_000     V_001     V_002     V_003     V_004     V_005     V_006  \\\n0  0.128188  0.023643  0.054551 -0.025600 -0.083810  0.062776  0.042874   \n1  0.112307  0.006911 -0.039880 -0.014899 -0.080023  0.061922  0.069085   \n2  0.124153 -0.042930 -0.002698  0.006890 -0.128321  0.049727  0.046278   \n3 -0.019081  0.006883 -0.036536 -0.042907 -0.037945  0.008759  0.026516   \n4 -0.031653 -0.003482 -0.021699  0.002539 -0.099389 -0.005727  0.080924   \n\n      V_007     V_008     V_009  ...     V_502     V_503     V_504     V_505  \\\n0  0.008592 -0.092103  0.037006  ... -0.048022 -0.001864 -0.003460  0.016848   \n1 -0.001377 -0.055079 -0.014418  ... -0.066611 -0.050252 -0.016871 -0.015402   \n2  0.052569 -0.066167  0.048772  ... -0.091975 -0.052914  0.038186  0.038575   \n3 -0.054927 -0.069322  0.024437  ... -0.064943 -0.077694  0.079303  0.037798   \n4  0.028786 -0.092800 -0.044258  ... -0.076190  0.034061  0.050258  0.039479   \n\n      V_506     V_507     V_508     V_509     V_510     V_511  \n0  0.025093 -0.033908  0.039552  0.085565  0.020285  0.082097  \n1  0.003370 -0.014091  0.030076  0.051044  0.023399 -0.034249  \n2  0.027861  0.024273  0.020635  0.101188  0.005618  0.013726  \n3 -0.029797 -0.017276  0.027369  0.023527  0.061263  0.058431  \n4  0.042790 -0.009819  0.000736  0.022744  0.030173  0.083213  \n\n[5 rows x 512 columns]",
      "text/html": "<div>\n<style scoped>\n    .dataframe tbody tr th:only-of-type {\n        vertical-align: middle;\n    }\n\n    .dataframe tbody tr th {\n        vertical-align: top;\n    }\n\n    .dataframe thead th {\n        text-align: right;\n    }\n</style>\n<table border=\"1\" class=\"dataframe\">\n  <thead>\n    <tr style=\"text-align: right;\">\n      <th></th>\n      <th>V_000</th>\n      <th>V_001</th>\n      <th>V_002</th>\n      <th>V_003</th>\n      <th>V_004</th>\n      <th>V_005</th>\n      <th>V_006</th>\n      <th>V_007</th>\n      <th>V_008</th>\n      <th>V_009</th>\n      <th>...</th>\n      <th>V_502</th>\n      <th>V_503</th>\n      <th>V_504</th>\n      <th>V_505</th>\n      <th>V_506</th>\n      <th>V_507</th>\n      <th>V_508</th>\n      <th>V_509</th>\n      <th>V_510</th>\n      <th>V_511</th>\n    </tr>\n  </thead>\n  <tbody>\n    <tr>\n      <th>0</th>\n      <td>0.128188</td>\n      <td>0.023643</td>\n      <td>0.054551</td>\n      <td>-0.025600</td>\n      <td>-0.083810</td>\n      <td>0.062776</td>\n      <td>0.042874</td>\n      <td>0.008592</td>\n      <td>-0.092103</td>\n      <td>0.037006</td>\n      <td>...</td>\n      <td>-0.048022</td>\n      <td>-0.001864</td>\n      <td>-0.003460</td>\n      <td>0.016848</td>\n      <td>0.025093</td>\n      <td>-0.033908</td>\n      <td>0.039552</td>\n      <td>0.085565</td>\n      <td>0.020285</td>\n      <td>0.082097</td>\n    </tr>\n    <tr>\n      <th>1</th>\n      <td>0.112307</td>\n      <td>0.006911</td>\n      <td>-0.039880</td>\n      <td>-0.014899</td>\n      <td>-0.080023</td>\n      <td>0.061922</td>\n      <td>0.069085</td>\n      <td>-0.001377</td>\n      <td>-0.055079</td>\n      <td>-0.014418</td>\n      <td>...</td>\n      <td>-0.066611</td>\n      <td>-0.050252</td>\n      <td>-0.016871</td>\n      <td>-0.015402</td>\n      <td>0.003370</td>\n      <td>-0.014091</td>\n      <td>0.030076</td>\n      <td>0.051044</td>\n      <td>0.023399</td>\n      <td>-0.034249</td>\n    </tr>\n    <tr>\n      <th>2</th>\n      <td>0.124153</td>\n      <td>-0.042930</td>\n      <td>-0.002698</td>\n      <td>0.006890</td>\n      <td>-0.128321</td>\n      <td>0.049727</td>\n      <td>0.046278</td>\n      <td>0.052569</td>\n      <td>-0.066167</td>\n      <td>0.048772</td>\n      <td>...</td>\n      <td>-0.091975</td>\n      <td>-0.052914</td>\n      <td>0.038186</td>\n      <td>0.038575</td>\n      <td>0.027861</td>\n      <td>0.024273</td>\n      <td>0.020635</td>\n      <td>0.101188</td>\n      <td>0.005618</td>\n      <td>0.013726</td>\n    </tr>\n    <tr>\n      <th>3</th>\n      <td>-0.019081</td>\n      <td>0.006883</td>\n      <td>-0.036536</td>\n      <td>-0.042907</td>\n      <td>-0.037945</td>\n      <td>0.008759</td>\n      <td>0.026516</td>\n      <td>-0.054927</td>\n      <td>-0.069322</td>\n      <td>0.024437</td>\n      <td>...</td>\n      <td>-0.064943</td>\n      <td>-0.077694</td>\n      <td>0.079303</td>\n      <td>0.037798</td>\n      <td>-0.029797</td>\n      <td>-0.017276</td>\n      <td>0.027369</td>\n      <td>0.023527</td>\n      <td>0.061263</td>\n      <td>0.058431</td>\n    </tr>\n    <tr>\n      <th>4</th>\n      <td>-0.031653</td>\n      <td>-0.003482</td>\n      <td>-0.021699</td>\n      <td>0.002539</td>\n      <td>-0.099389</td>\n      <td>-0.005727</td>\n      <td>0.080924</td>\n      <td>0.028786</td>\n      <td>-0.092800</td>\n      <td>-0.044258</td>\n      <td>...</td>\n      <td>-0.076190</td>\n      <td>0.034061</td>\n      <td>0.050258</td>\n      <td>0.039479</td>\n      <td>0.042790</td>\n      <td>-0.009819</td>\n      <td>0.000736</td>\n      <td>0.022744</td>\n      <td>0.030173</td>\n      <td>0.083213</td>\n    </tr>\n  </tbody>\n</table>\n<p>5 rows × 512 columns</p>\n</div>"
     },
     "execution_count": 32,
     "metadata": {},
     "output_type": "execute_result"
    }
   ],
   "source": [
    "df_test.head()"
   ],
   "metadata": {
    "collapsed": false,
    "pycharm": {
     "name": "#%%\n"
    }
   }
  },
  {
   "cell_type": "code",
   "execution_count": 33,
   "outputs": [
    {
     "name": "stdout",
     "output_type": "stream",
     "text": [
      "Parse progress: |████████████████████████████████████████████████████████████████| (done) 100%\n"
     ]
    }
   ],
   "source": [
    "hf_test = h2o.H2OFrame(df_test)"
   ],
   "metadata": {
    "collapsed": false,
    "pycharm": {
     "name": "#%%\n"
    }
   }
  },
  {
   "cell_type": "code",
   "execution_count": 34,
   "metadata": {
    "pycharm": {
     "name": "#%%\n"
    }
   },
   "outputs": [
    {
     "name": "stdout",
     "output_type": "stream",
     "text": [
      "stackedensemble prediction progress: |███████████████████████████████████████████| (done) 100%\n"
     ]
    },
    {
     "data": {
      "text/html": "<table>\n<thead>\n<tr><th style=\"text-align: right;\">  predict</th><th style=\"text-align: right;\">         p1</th><th style=\"text-align: right;\">         p2</th><th style=\"text-align: right;\">         p3</th><th style=\"text-align: right;\">         p4</th><th style=\"text-align: right;\">         p5</th></tr>\n</thead>\n<tbody>\n<tr><td style=\"text-align: right;\">        1</td><td style=\"text-align: right;\">0.997466   </td><td style=\"text-align: right;\">0.000420563</td><td style=\"text-align: right;\">0.000554762</td><td style=\"text-align: right;\">0.000836424</td><td style=\"text-align: right;\">0.00072201 </td></tr>\n<tr><td style=\"text-align: right;\">        1</td><td style=\"text-align: right;\">0.997664   </td><td style=\"text-align: right;\">0.000414748</td><td style=\"text-align: right;\">0.000547091</td><td style=\"text-align: right;\">0.000662185</td><td style=\"text-align: right;\">0.000712027</td></tr>\n<tr><td style=\"text-align: right;\">        1</td><td style=\"text-align: right;\">0.99752    </td><td style=\"text-align: right;\">0.000415778</td><td style=\"text-align: right;\">0.00054845 </td><td style=\"text-align: right;\">0.000802289</td><td style=\"text-align: right;\">0.000713796</td></tr>\n<tr><td style=\"text-align: right;\">        2</td><td style=\"text-align: right;\">0.000397664</td><td style=\"text-align: right;\">0.998554   </td><td style=\"text-align: right;\">0.000298588</td><td style=\"text-align: right;\">0.00036152 </td><td style=\"text-align: right;\">0.000388606</td></tr>\n<tr><td style=\"text-align: right;\">        4</td><td style=\"text-align: right;\">0.000382544</td><td style=\"text-align: right;\">0.000218737</td><td style=\"text-align: right;\">0.000288535</td><td style=\"text-align: right;\">0.998735   </td><td style=\"text-align: right;\">0.000375522</td></tr>\n<tr><td style=\"text-align: right;\">        2</td><td style=\"text-align: right;\">0.00040266 </td><td style=\"text-align: right;\">0.998585   </td><td style=\"text-align: right;\">0.000298598</td><td style=\"text-align: right;\">0.000325393</td><td style=\"text-align: right;\">0.000388618</td></tr>\n<tr><td style=\"text-align: right;\">        3</td><td style=\"text-align: right;\">0.0025055  </td><td style=\"text-align: right;\">0.00140841 </td><td style=\"text-align: right;\">0.991644   </td><td style=\"text-align: right;\">0.00202454 </td><td style=\"text-align: right;\">0.00241792 </td></tr>\n<tr><td style=\"text-align: right;\">        2</td><td style=\"text-align: right;\">0.00039928 </td><td style=\"text-align: right;\">0.998588   </td><td style=\"text-align: right;\">0.000298599</td><td style=\"text-align: right;\">0.000325395</td><td style=\"text-align: right;\">0.00038862 </td></tr>\n<tr><td style=\"text-align: right;\">        4</td><td style=\"text-align: right;\">0.000470506</td><td style=\"text-align: right;\">0.000264912</td><td style=\"text-align: right;\">0.000349443</td><td style=\"text-align: right;\">0.99846    </td><td style=\"text-align: right;\">0.000454793</td></tr>\n<tr><td style=\"text-align: right;\">        2</td><td style=\"text-align: right;\">0.000395472</td><td style=\"text-align: right;\">0.998592   </td><td style=\"text-align: right;\">0.0002986  </td><td style=\"text-align: right;\">0.000325396</td><td style=\"text-align: right;\">0.000388621</td></tr>\n</tbody>\n</table>"
     },
     "metadata": {},
     "output_type": "display_data"
    },
    {
     "data": {
      "text/plain": ""
     },
     "execution_count": 34,
     "metadata": {},
     "output_type": "execute_result"
    }
   ],
   "source": [
    "hf_preds = aml.predict(hf_test)\n",
    "\n",
    "hf_preds"
   ]
  },
  {
   "cell_type": "code",
   "execution_count": 35,
   "metadata": {
    "pycharm": {
     "name": "#%%\n"
    }
   },
   "outputs": [
    {
     "data": {
      "text/plain": "array([1, 1, 1, ..., 2, 2, 1])"
     },
     "execution_count": 35,
     "metadata": {},
     "output_type": "execute_result"
    }
   ],
   "source": [
    "preds = hf_preds.as_data_frame().predict.to_numpy()\n",
    "\n",
    "preds"
   ]
  },
  {
   "cell_type": "code",
   "execution_count": 36,
   "metadata": {
    "pycharm": {
     "name": "#%%\n"
    }
   },
   "outputs": [
    {
     "data": {
      "text/plain": "(1251, 1251)"
     },
     "execution_count": 36,
     "metadata": {},
     "output_type": "execute_result"
    }
   ],
   "source": [
    "len(preds), len(y_test)"
   ]
  },
  {
   "cell_type": "code",
   "execution_count": 37,
   "metadata": {
    "pycharm": {
     "name": "#%%\n"
    }
   },
   "outputs": [
    {
     "data": {
      "text/plain": "1246"
     },
     "execution_count": 37,
     "metadata": {},
     "output_type": "execute_result"
    }
   ],
   "source": [
    "correct_predict = np.equal(preds, y_test).sum()\n",
    "\n",
    "correct_predict"
   ]
  },
  {
   "cell_type": "code",
   "execution_count": 38,
   "metadata": {
    "pycharm": {
     "name": "#%%\n"
    }
   },
   "outputs": [
    {
     "data": {
      "text/plain": "0.9960031974420464"
     },
     "execution_count": 38,
     "metadata": {},
     "output_type": "execute_result"
    }
   ],
   "source": [
    "correct_predict / len(y_test)"
   ]
  },
  {
   "cell_type": "code",
   "execution_count": 39,
   "outputs": [
    {
     "data": {
      "text/html": "<table>\n<thead>\n<tr><th>model_id                                              </th><th style=\"text-align: right;\">  mean_per_class_error</th><th style=\"text-align: right;\">  logloss</th><th style=\"text-align: right;\">     rmse</th><th style=\"text-align: right;\">       mse</th></tr>\n</thead>\n<tbody>\n<tr><td>StackedEnsemble_BestOfFamily_5_AutoML_1_20220420_93537</td><td style=\"text-align: right;\">            0.00616933</td><td style=\"text-align: right;\">0.0165079</td><td style=\"text-align: right;\">0.0578427</td><td style=\"text-align: right;\">0.00334577</td></tr>\n<tr><td>StackedEnsemble_BestOfFamily_8_AutoML_1_20220420_93537</td><td style=\"text-align: right;\">            0.00714494</td><td style=\"text-align: right;\">0.0166253</td><td style=\"text-align: right;\">0.0589281</td><td style=\"text-align: right;\">0.00347252</td></tr>\n<tr><td>DeepLearning_grid_3_AutoML_1_20220420_93537_model_1   </td><td style=\"text-align: right;\">            0.00714494</td><td style=\"text-align: right;\">0.027339 </td><td style=\"text-align: right;\">0.0586968</td><td style=\"text-align: right;\">0.00344532</td></tr>\n<tr><td>DeepLearning_grid_2_AutoML_1_20220420_93537_model_1   </td><td style=\"text-align: right;\">            0.00717362</td><td style=\"text-align: right;\">0.0272746</td><td style=\"text-align: right;\">0.0560298</td><td style=\"text-align: right;\">0.00313933</td></tr>\n<tr><td>StackedEnsemble_AllModels_7_AutoML_1_20220420_93537   </td><td style=\"text-align: right;\">            0.00757817</td><td style=\"text-align: right;\">0.0153178</td><td style=\"text-align: right;\">0.055127 </td><td style=\"text-align: right;\">0.00303899</td></tr>\n<tr><td>StackedEnsemble_AllModels_4_AutoML_1_20220420_93537   </td><td style=\"text-align: right;\">            0.00757817</td><td style=\"text-align: right;\">0.0160628</td><td style=\"text-align: right;\">0.0570544</td><td style=\"text-align: right;\">0.00325521</td></tr>\n<tr><td>DeepLearning_grid_1_AutoML_1_20220420_93537_model_1   </td><td style=\"text-align: right;\">            0.00757817</td><td style=\"text-align: right;\">0.023915 </td><td style=\"text-align: right;\">0.0550651</td><td style=\"text-align: right;\">0.00303217</td></tr>\n<tr><td>StackedEnsemble_BestOfFamily_7_AutoML_1_20220420_93537</td><td style=\"text-align: right;\">            0.00780642</td><td style=\"text-align: right;\">0.0195802</td><td style=\"text-align: right;\">0.0580466</td><td style=\"text-align: right;\">0.0033694 </td></tr>\n<tr><td>StackedEnsemble_AllModels_5_AutoML_1_20220420_93537   </td><td style=\"text-align: right;\">            0.0084279 </td><td style=\"text-align: right;\">0.0195522</td><td style=\"text-align: right;\">0.0594211</td><td style=\"text-align: right;\">0.00353086</td></tr>\n<tr><td>StackedEnsemble_AllModels_2_AutoML_1_20220420_93537   </td><td style=\"text-align: right;\">            0.00847153</td><td style=\"text-align: right;\">0.0190885</td><td style=\"text-align: right;\">0.0670299</td><td style=\"text-align: right;\">0.00449301</td></tr>\n<tr><td>StackedEnsemble_BestOfFamily_4_AutoML_1_20220420_93537</td><td style=\"text-align: right;\">            0.00928757</td><td style=\"text-align: right;\">0.0154566</td><td style=\"text-align: right;\">0.0571895</td><td style=\"text-align: right;\">0.00327063</td></tr>\n<tr><td>StackedEnsemble_AllModels_3_AutoML_1_20220420_93537   </td><td style=\"text-align: right;\">            0.00928757</td><td style=\"text-align: right;\">0.0143722</td><td style=\"text-align: right;\">0.0551226</td><td style=\"text-align: right;\">0.0030385 </td></tr>\n<tr><td>GLM_1_AutoML_1_20220420_93537                         </td><td style=\"text-align: right;\">            0.00978632</td><td style=\"text-align: right;\">0.0171321</td><td style=\"text-align: right;\">0.0611247</td><td style=\"text-align: right;\">0.00373623</td></tr>\n<tr><td>StackedEnsemble_AllModels_1_AutoML_1_20220420_93537   </td><td style=\"text-align: right;\">            0.0104982 </td><td style=\"text-align: right;\">0.0169927</td><td style=\"text-align: right;\">0.0624266</td><td style=\"text-align: right;\">0.00389708</td></tr>\n<tr><td>StackedEnsemble_BestOfFamily_6_AutoML_1_20220420_93537</td><td style=\"text-align: right;\">            0.0112221 </td><td style=\"text-align: right;\">0.0236567</td><td style=\"text-align: right;\">0.0682742</td><td style=\"text-align: right;\">0.00466137</td></tr>\n<tr><td>StackedEnsemble_AllModels_6_AutoML_1_20220420_93537   </td><td style=\"text-align: right;\">            0.011232  </td><td style=\"text-align: right;\">0.0164987</td><td style=\"text-align: right;\">0.0569428</td><td style=\"text-align: right;\">0.00324249</td></tr>\n<tr><td>StackedEnsemble_BestOfFamily_2_AutoML_1_20220420_93537</td><td style=\"text-align: right;\">            0.0114957 </td><td style=\"text-align: right;\">0.0173471</td><td style=\"text-align: right;\">0.0640101</td><td style=\"text-align: right;\">0.0040973 </td></tr>\n<tr><td>StackedEnsemble_BestOfFamily_3_AutoML_1_20220420_93537</td><td style=\"text-align: right;\">            0.0115362 </td><td style=\"text-align: right;\">0.0201516</td><td style=\"text-align: right;\">0.0695176</td><td style=\"text-align: right;\">0.00483269</td></tr>\n<tr><td>StackedEnsemble_BestOfFamily_1_AutoML_1_20220420_93537</td><td style=\"text-align: right;\">            0.0119222 </td><td style=\"text-align: right;\">0.0177757</td><td style=\"text-align: right;\">0.0651565</td><td style=\"text-align: right;\">0.00424537</td></tr>\n<tr><td>DeepLearning_1_AutoML_1_20220420_93537                </td><td style=\"text-align: right;\">            0.013051  </td><td style=\"text-align: right;\">0.0354717</td><td style=\"text-align: right;\">0.0797541</td><td style=\"text-align: right;\">0.00636071</td></tr>\n<tr><td>DRF_1_AutoML_1_20220420_93537                         </td><td style=\"text-align: right;\">            0.0223076 </td><td style=\"text-align: right;\">0.114775 </td><td style=\"text-align: right;\">0.15834  </td><td style=\"text-align: right;\">0.0250717 </td></tr>\n<tr><td>XGBoost_3_AutoML_1_20220420_93537                     </td><td style=\"text-align: right;\">            0.0239956 </td><td style=\"text-align: right;\">0.0332027</td><td style=\"text-align: right;\">0.0933846</td><td style=\"text-align: right;\">0.00872068</td></tr>\n<tr><td>GBM_1_AutoML_1_20220420_93537                         </td><td style=\"text-align: right;\">            0.0255386 </td><td style=\"text-align: right;\">0.0251365</td><td style=\"text-align: right;\">0.0821184</td><td style=\"text-align: right;\">0.00674344</td></tr>\n<tr><td>GBM_3_AutoML_1_20220420_93537                         </td><td style=\"text-align: right;\">            0.0256541 </td><td style=\"text-align: right;\">0.0331056</td><td style=\"text-align: right;\">0.0905214</td><td style=\"text-align: right;\">0.00819412</td></tr>\n<tr><td>GBM_grid_1_AutoML_1_20220420_93537_model_1            </td><td style=\"text-align: right;\">            0.025705  </td><td style=\"text-align: right;\">0.027769 </td><td style=\"text-align: right;\">0.0828632</td><td style=\"text-align: right;\">0.00686631</td></tr>\n<tr><td>GBM_4_AutoML_1_20220420_93537                         </td><td style=\"text-align: right;\">            0.0265574 </td><td style=\"text-align: right;\">0.0311346</td><td style=\"text-align: right;\">0.0882971</td><td style=\"text-align: right;\">0.00779637</td></tr>\n<tr><td>XRT_1_AutoML_1_20220420_93537                         </td><td style=\"text-align: right;\">            0.0268466 </td><td style=\"text-align: right;\">0.119386 </td><td style=\"text-align: right;\">0.162555 </td><td style=\"text-align: right;\">0.0264241 </td></tr>\n<tr><td>GBM_2_AutoML_1_20220420_93537                         </td><td style=\"text-align: right;\">            0.0274794 </td><td style=\"text-align: right;\">0.0318449</td><td style=\"text-align: right;\">0.0874472</td><td style=\"text-align: right;\">0.00764701</td></tr>\n<tr><td>XGBoost_grid_1_AutoML_1_20220420_93537_model_1        </td><td style=\"text-align: right;\">            0.0283578 </td><td style=\"text-align: right;\">0.0431556</td><td style=\"text-align: right;\">0.105092 </td><td style=\"text-align: right;\">0.0110443 </td></tr>\n<tr><td>GBM_5_AutoML_1_20220420_93537                         </td><td style=\"text-align: right;\">            0.0293938 </td><td style=\"text-align: right;\">0.0445543</td><td style=\"text-align: right;\">0.103441 </td><td style=\"text-align: right;\">0.0107    </td></tr>\n<tr><td>XGBoost_grid_1_AutoML_1_20220420_93537_model_2        </td><td style=\"text-align: right;\">            0.0294593 </td><td style=\"text-align: right;\">0.0406014</td><td style=\"text-align: right;\">0.101505 </td><td style=\"text-align: right;\">0.0103032 </td></tr>\n<tr><td>XGBoost_1_AutoML_1_20220420_93537                     </td><td style=\"text-align: right;\">            0.0298322 </td><td style=\"text-align: right;\">0.0481649</td><td style=\"text-align: right;\">0.110031 </td><td style=\"text-align: right;\">0.0121068 </td></tr>\n<tr><td>XGBoost_2_AutoML_1_20220420_93537                     </td><td style=\"text-align: right;\">            0.0304817 </td><td style=\"text-align: right;\">0.0392259</td><td style=\"text-align: right;\">0.099516 </td><td style=\"text-align: right;\">0.00990344</td></tr>\n<tr><td>GBM_grid_1_AutoML_1_20220420_93537_model_2            </td><td style=\"text-align: right;\">            0.03158   </td><td style=\"text-align: right;\">0.045001 </td><td style=\"text-align: right;\">0.0994345</td><td style=\"text-align: right;\">0.00988722</td></tr>\n<tr><td>XGBoost_grid_1_AutoML_1_20220420_93537_model_3        </td><td style=\"text-align: right;\">            0.0319461 </td><td style=\"text-align: right;\">0.0389513</td><td style=\"text-align: right;\">0.101429 </td><td style=\"text-align: right;\">0.0102878 </td></tr>\n</tbody>\n</table>"
     },
     "metadata": {},
     "output_type": "display_data"
    },
    {
     "data": {
      "text/plain": ""
     },
     "execution_count": 39,
     "metadata": {},
     "output_type": "execute_result"
    }
   ],
   "source": [
    "lb"
   ],
   "metadata": {
    "collapsed": false,
    "pycharm": {
     "name": "#%%\n"
    }
   }
  },
  {
   "cell_type": "code",
   "execution_count": 40,
   "outputs": [
    {
     "data": {
      "text/plain": "{'model_id': {'default': None,\n  'actual': {'__meta': {'schema_version': 3,\n    'schema_name': 'ModelKeyV3',\n    'schema_type': 'Key<Model>'},\n   'name': 'StackedEnsemble_BestOfFamily_5_AutoML_1_20220420_93537',\n   'type': 'Key<Model>',\n   'URL': '/3/Models/StackedEnsemble_BestOfFamily_5_AutoML_1_20220420_93537'},\n  'input': None},\n 'training_frame': {'default': None,\n  'actual': {'__meta': {'schema_version': 3,\n    'schema_name': 'FrameKeyV3',\n    'schema_type': 'Key<Frame>'},\n   'name': 'AutoML_1_20220420_93537_training_py_1_sid_b577',\n   'type': 'Key<Frame>',\n   'URL': '/3/Frames/AutoML_1_20220420_93537_training_py_1_sid_b577'},\n  'input': {'__meta': {'schema_version': 3,\n    'schema_name': 'FrameKeyV3',\n    'schema_type': 'Key<Frame>'},\n   'name': 'AutoML_1_20220420_93537_training_py_1_sid_b577',\n   'type': 'Key<Frame>',\n   'URL': '/3/Frames/AutoML_1_20220420_93537_training_py_1_sid_b577'}},\n 'response_column': {'default': None,\n  'actual': {'__meta': {'schema_version': 3,\n    'schema_name': 'ColSpecifierV3',\n    'schema_type': 'VecSpecifier'},\n   'column_name': 'label',\n   'is_member_of_frames': None},\n  'input': {'__meta': {'schema_version': 3,\n    'schema_name': 'ColSpecifierV3',\n    'schema_type': 'VecSpecifier'},\n   'column_name': 'label',\n   'is_member_of_frames': None}},\n 'validation_frame': {'default': None, 'actual': None, 'input': None},\n 'blending_frame': {'default': None, 'actual': None, 'input': None},\n 'base_models': {'default': [],\n  'actual': [{'__meta': {'schema_version': 3,\n     'schema_name': 'KeyV3',\n     'schema_type': 'Key<Keyed>'},\n    'name': 'DeepLearning_grid_3_AutoML_1_20220420_93537_model_1',\n    'type': 'Key<Keyed>',\n    'URL': None},\n   {'__meta': {'schema_version': 3,\n     'schema_name': 'KeyV3',\n     'schema_type': 'Key<Keyed>'},\n    'name': 'GLM_1_AutoML_1_20220420_93537',\n    'type': 'Key<Keyed>',\n    'URL': None},\n   {'__meta': {'schema_version': 3,\n     'schema_name': 'KeyV3',\n     'schema_type': 'Key<Keyed>'},\n    'name': 'DRF_1_AutoML_1_20220420_93537',\n    'type': 'Key<Keyed>',\n    'URL': None},\n   {'__meta': {'schema_version': 3,\n     'schema_name': 'KeyV3',\n     'schema_type': 'Key<Keyed>'},\n    'name': 'XGBoost_3_AutoML_1_20220420_93537',\n    'type': 'Key<Keyed>',\n    'URL': None},\n   {'__meta': {'schema_version': 3,\n     'schema_name': 'KeyV3',\n     'schema_type': 'Key<Keyed>'},\n    'name': 'GBM_1_AutoML_1_20220420_93537',\n    'type': 'Key<Keyed>',\n    'URL': None},\n   {'__meta': {'schema_version': 3,\n     'schema_name': 'KeyV3',\n     'schema_type': 'Key<Keyed>'},\n    'name': 'XRT_1_AutoML_1_20220420_93537',\n    'type': 'Key<Keyed>',\n    'URL': None}],\n  'input': [{'__meta': {'schema_version': 3,\n     'schema_name': 'KeyV3',\n     'schema_type': 'Key<Keyed>'},\n    'name': 'DeepLearning_grid_3_AutoML_1_20220420_93537_model_1',\n    'type': 'Key<Keyed>',\n    'URL': None},\n   {'__meta': {'schema_version': 3,\n     'schema_name': 'KeyV3',\n     'schema_type': 'Key<Keyed>'},\n    'name': 'GLM_1_AutoML_1_20220420_93537',\n    'type': 'Key<Keyed>',\n    'URL': None},\n   {'__meta': {'schema_version': 3,\n     'schema_name': 'KeyV3',\n     'schema_type': 'Key<Keyed>'},\n    'name': 'DRF_1_AutoML_1_20220420_93537',\n    'type': 'Key<Keyed>',\n    'URL': None},\n   {'__meta': {'schema_version': 3,\n     'schema_name': 'KeyV3',\n     'schema_type': 'Key<Keyed>'},\n    'name': 'XGBoost_3_AutoML_1_20220420_93537',\n    'type': 'Key<Keyed>',\n    'URL': None},\n   {'__meta': {'schema_version': 3,\n     'schema_name': 'KeyV3',\n     'schema_type': 'Key<Keyed>'},\n    'name': 'GBM_1_AutoML_1_20220420_93537',\n    'type': 'Key<Keyed>',\n    'URL': None},\n   {'__meta': {'schema_version': 3,\n     'schema_name': 'KeyV3',\n     'schema_type': 'Key<Keyed>'},\n    'name': 'XRT_1_AutoML_1_20220420_93537',\n    'type': 'Key<Keyed>',\n    'URL': None}]},\n 'metalearner_algorithm': {'default': 'AUTO',\n  'actual': 'glm',\n  'input': 'AUTO'},\n 'metalearner_nfolds': {'default': 0, 'actual': 5, 'input': 5},\n 'metalearner_fold_assignment': {'default': None,\n  'actual': None,\n  'input': None},\n 'metalearner_fold_column': {'default': None, 'actual': None, 'input': None},\n 'metalearner_params': {'default': '', 'actual': '', 'input': ''},\n 'metalearner_transform': {'default': 'NONE',\n  'actual': 'Logit',\n  'input': 'Logit'},\n 'max_runtime_secs': {'default': 0.0,\n  'actual': 3074457437244227.5,\n  'input': 3074457437244227.5},\n 'weights_column': {'default': None, 'actual': None, 'input': None},\n 'offset_column': {'default': None, 'actual': None, 'input': None},\n 'seed': {'default': -1, 'actual': 20, 'input': 20},\n 'score_training_samples': {'default': 10000, 'actual': 10000, 'input': 10000},\n 'keep_levelone_frame': {'default': False, 'actual': True, 'input': True},\n 'export_checkpoints_dir': {'default': None, 'actual': None, 'input': None},\n 'auc_type': {'default': 'AUTO', 'actual': 'AUTO', 'input': 'AUTO'}}"
     },
     "execution_count": 40,
     "metadata": {},
     "output_type": "execute_result"
    }
   ],
   "source": [
    "aml.leader.params"
   ],
   "metadata": {
    "collapsed": false,
    "pycharm": {
     "name": "#%%\n"
    }
   }
  },
  {
   "cell_type": "code",
   "execution_count": 41,
   "outputs": [
    {
     "name": "stderr",
     "output_type": "stream",
     "text": [
      "/home/valmir/dev/python/intent_classifier/venv/lib/python3.9/site-packages/h2o/estimators/stackedensemble.py:925: H2ODeprecationWarning: The usage of stacked_ensemble.metalearner()['name'] will be deprecated. Metalearner now returns the metalearner object. If you need to get the 'name' please use stacked_ensemble.metalearner().model_id\n",
      "  warnings.warn(\n"
     ]
    },
    {
     "data": {
      "text/plain": "'metalearner_AUTO_StackedEnsemble_BestOfFamily_5_AutoML_1_20220420_93537'"
     },
     "execution_count": 41,
     "metadata": {},
     "output_type": "execute_result"
    }
   ],
   "source": [
    "aml.leader.metalearner()['name']"
   ],
   "metadata": {
    "collapsed": false,
    "pycharm": {
     "name": "#%%\n"
    }
   }
  },
  {
   "cell_type": "code",
   "execution_count": 42,
   "outputs": [
    {
     "data": {
      "text/plain": "'metalearner_AUTO_StackedEnsemble_BestOfFamily_5_AutoML_1_20220420_93537'"
     },
     "execution_count": 42,
     "metadata": {},
     "output_type": "execute_result"
    }
   ],
   "source": [
    "aml.leader.metalearner().model_id"
   ],
   "metadata": {
    "collapsed": false,
    "pycharm": {
     "name": "#%%\n"
    }
   }
  },
  {
   "cell_type": "code",
   "execution_count": 45,
   "outputs": [
    {
     "name": "stderr",
     "output_type": "stream",
     "text": [
      "/tmp/ipykernel_9731/2222590373.py:3: SettingWithCopyWarning: \n",
      "A value is trying to be set on a copy of a slice from a DataFrame.\n",
      "Try using .loc[row_indexer,col_indexer] = value instead\n",
      "\n",
      "See the caveats in the documentation: https://pandas.pydata.org/pandas-docs/stable/user_guide/indexing.html#returning-a-view-versus-a-copy\n",
      "  df_higher_sentences['embeddings'] = df_higher_sentences['txt'].map(dict_embeddings)\n",
      "/tmp/ipykernel_9731/2222590373.py:4: SettingWithCopyWarning: \n",
      "A value is trying to be set on a copy of a slice from a DataFrame.\n",
      "Try using .loc[row_indexer,col_indexer] = value instead\n",
      "\n",
      "See the caveats in the documentation: https://pandas.pydata.org/pandas-docs/stable/user_guide/indexing.html#returning-a-view-versus-a-copy\n",
      "  df_higher_sentences['label_index'] = df_higher_sentences['intent'].map(dict_labels)\n"
     ]
    },
    {
     "data": {
      "text/plain": "              label      distance   label_index\ncount  21627.000000  21627.000000  21627.000000\nmean      31.385999      0.422186      2.258889\nstd       17.675638      0.107617      1.409358\nmin        0.000000      0.250006      1.000000\n25%       17.000000      0.334341      1.000000\n50%       32.000000      0.411661      2.000000\n75%       47.000000      0.498158      3.000000\nmax       59.000000      0.834035      5.000000",
      "text/html": "<div>\n<style scoped>\n    .dataframe tbody tr th:only-of-type {\n        vertical-align: middle;\n    }\n\n    .dataframe tbody tr th {\n        vertical-align: top;\n    }\n\n    .dataframe thead th {\n        text-align: right;\n    }\n</style>\n<table border=\"1\" class=\"dataframe\">\n  <thead>\n    <tr style=\"text-align: right;\">\n      <th></th>\n      <th>label</th>\n      <th>distance</th>\n      <th>label_index</th>\n    </tr>\n  </thead>\n  <tbody>\n    <tr>\n      <th>count</th>\n      <td>21627.000000</td>\n      <td>21627.000000</td>\n      <td>21627.000000</td>\n    </tr>\n    <tr>\n      <th>mean</th>\n      <td>31.385999</td>\n      <td>0.422186</td>\n      <td>2.258889</td>\n    </tr>\n    <tr>\n      <th>std</th>\n      <td>17.675638</td>\n      <td>0.107617</td>\n      <td>1.409358</td>\n    </tr>\n    <tr>\n      <th>min</th>\n      <td>0.000000</td>\n      <td>0.250006</td>\n      <td>1.000000</td>\n    </tr>\n    <tr>\n      <th>25%</th>\n      <td>17.000000</td>\n      <td>0.334341</td>\n      <td>1.000000</td>\n    </tr>\n    <tr>\n      <th>50%</th>\n      <td>32.000000</td>\n      <td>0.411661</td>\n      <td>2.000000</td>\n    </tr>\n    <tr>\n      <th>75%</th>\n      <td>47.000000</td>\n      <td>0.498158</td>\n      <td>3.000000</td>\n    </tr>\n    <tr>\n      <th>max</th>\n      <td>59.000000</td>\n      <td>0.834035</td>\n      <td>5.000000</td>\n    </tr>\n  </tbody>\n</table>\n</div>"
     },
     "execution_count": 43,
     "metadata": {},
     "output_type": "execute_result"
    },
    {
     "name": "stderr",
     "output_type": "stream",
     "text": [
      "/tmp/ipykernel_9731/2222590373.py:3: SettingWithCopyWarning: \n",
      "A value is trying to be set on a copy of a slice from a DataFrame.\n",
      "Try using .loc[row_indexer,col_indexer] = value instead\n",
      "\n",
      "See the caveats in the documentation: https://pandas.pydata.org/pandas-docs/stable/user_guide/indexing.html#returning-a-view-versus-a-copy\n",
      "  df_higher_sentences['embeddings'] = df_higher_sentences['txt'].map(dict_embeddings)\n",
      "/tmp/ipykernel_9731/2222590373.py:4: SettingWithCopyWarning: \n",
      "A value is trying to be set on a copy of a slice from a DataFrame.\n",
      "Try using .loc[row_indexer,col_indexer] = value instead\n",
      "\n",
      "See the caveats in the documentation: https://pandas.pydata.org/pandas-docs/stable/user_guide/indexing.html#returning-a-view-versus-a-copy\n",
      "  df_higher_sentences['label_index'] = df_higher_sentences['intent'].map(dict_labels)\n"
     ]
    },
    {
     "data": {
      "text/plain": "              label      distance   label_index\ncount  21627.000000  21627.000000  21627.000000\nmean      31.385999      0.422186      2.258889\nstd       17.675638      0.107617      1.409358\nmin        0.000000      0.250006      1.000000\n25%       17.000000      0.334341      1.000000\n50%       32.000000      0.411661      2.000000\n75%       47.000000      0.498158      3.000000\nmax       59.000000      0.834035      5.000000",
      "text/html": "<div>\n<style scoped>\n    .dataframe tbody tr th:only-of-type {\n        vertical-align: middle;\n    }\n\n    .dataframe tbody tr th {\n        vertical-align: top;\n    }\n\n    .dataframe thead th {\n        text-align: right;\n    }\n</style>\n<table border=\"1\" class=\"dataframe\">\n  <thead>\n    <tr style=\"text-align: right;\">\n      <th></th>\n      <th>label</th>\n      <th>distance</th>\n      <th>label_index</th>\n    </tr>\n  </thead>\n  <tbody>\n    <tr>\n      <th>count</th>\n      <td>21627.000000</td>\n      <td>21627.000000</td>\n      <td>21627.000000</td>\n    </tr>\n    <tr>\n      <th>mean</th>\n      <td>31.385999</td>\n      <td>0.422186</td>\n      <td>2.258889</td>\n    </tr>\n    <tr>\n      <th>std</th>\n      <td>17.675638</td>\n      <td>0.107617</td>\n      <td>1.409358</td>\n    </tr>\n    <tr>\n      <th>min</th>\n      <td>0.000000</td>\n      <td>0.250006</td>\n      <td>1.000000</td>\n    </tr>\n    <tr>\n      <th>25%</th>\n      <td>17.000000</td>\n      <td>0.334341</td>\n      <td>1.000000</td>\n    </tr>\n    <tr>\n      <th>50%</th>\n      <td>32.000000</td>\n      <td>0.411661</td>\n      <td>2.000000</td>\n    </tr>\n    <tr>\n      <th>75%</th>\n      <td>47.000000</td>\n      <td>0.498158</td>\n      <td>3.000000</td>\n    </tr>\n    <tr>\n      <th>max</th>\n      <td>59.000000</td>\n      <td>0.834035</td>\n      <td>5.000000</td>\n    </tr>\n  </tbody>\n</table>\n</div>"
     },
     "execution_count": 44,
     "metadata": {},
     "output_type": "execute_result"
    },
    {
     "name": "stderr",
     "output_type": "stream",
     "text": [
      "/tmp/ipykernel_9731/2222590373.py:3: SettingWithCopyWarning: \n",
      "A value is trying to be set on a copy of a slice from a DataFrame.\n",
      "Try using .loc[row_indexer,col_indexer] = value instead\n",
      "\n",
      "See the caveats in the documentation: https://pandas.pydata.org/pandas-docs/stable/user_guide/indexing.html#returning-a-view-versus-a-copy\n",
      "  df_higher_sentences['embeddings'] = df_higher_sentences['txt'].map(dict_embeddings)\n",
      "/tmp/ipykernel_9731/2222590373.py:4: SettingWithCopyWarning: \n",
      "A value is trying to be set on a copy of a slice from a DataFrame.\n",
      "Try using .loc[row_indexer,col_indexer] = value instead\n",
      "\n",
      "See the caveats in the documentation: https://pandas.pydata.org/pandas-docs/stable/user_guide/indexing.html#returning-a-view-versus-a-copy\n",
      "  df_higher_sentences['label_index'] = df_higher_sentences['intent'].map(dict_labels)\n"
     ]
    },
    {
     "data": {
      "text/plain": "              label      distance   label_index\ncount  21627.000000  21627.000000  21627.000000\nmean      31.385999      0.422186      2.258889\nstd       17.675638      0.107617      1.409358\nmin        0.000000      0.250006      1.000000\n25%       17.000000      0.334341      1.000000\n50%       32.000000      0.411661      2.000000\n75%       47.000000      0.498158      3.000000\nmax       59.000000      0.834035      5.000000",
      "text/html": "<div>\n<style scoped>\n    .dataframe tbody tr th:only-of-type {\n        vertical-align: middle;\n    }\n\n    .dataframe tbody tr th {\n        vertical-align: top;\n    }\n\n    .dataframe thead th {\n        text-align: right;\n    }\n</style>\n<table border=\"1\" class=\"dataframe\">\n  <thead>\n    <tr style=\"text-align: right;\">\n      <th></th>\n      <th>label</th>\n      <th>distance</th>\n      <th>label_index</th>\n    </tr>\n  </thead>\n  <tbody>\n    <tr>\n      <th>count</th>\n      <td>21627.000000</td>\n      <td>21627.000000</td>\n      <td>21627.000000</td>\n    </tr>\n    <tr>\n      <th>mean</th>\n      <td>31.385999</td>\n      <td>0.422186</td>\n      <td>2.258889</td>\n    </tr>\n    <tr>\n      <th>std</th>\n      <td>17.675638</td>\n      <td>0.107617</td>\n      <td>1.409358</td>\n    </tr>\n    <tr>\n      <th>min</th>\n      <td>0.000000</td>\n      <td>0.250006</td>\n      <td>1.000000</td>\n    </tr>\n    <tr>\n      <th>25%</th>\n      <td>17.000000</td>\n      <td>0.334341</td>\n      <td>1.000000</td>\n    </tr>\n    <tr>\n      <th>50%</th>\n      <td>32.000000</td>\n      <td>0.411661</td>\n      <td>2.000000</td>\n    </tr>\n    <tr>\n      <th>75%</th>\n      <td>47.000000</td>\n      <td>0.498158</td>\n      <td>3.000000</td>\n    </tr>\n    <tr>\n      <th>max</th>\n      <td>59.000000</td>\n      <td>0.834035</td>\n      <td>5.000000</td>\n    </tr>\n  </tbody>\n</table>\n</div>"
     },
     "execution_count": 45,
     "metadata": {},
     "output_type": "execute_result"
    }
   ],
   "source": [
    "df_higher_sentences = df_annotated[df_annotated['distance'] > 0.25]\n",
    "\n",
    "df_higher_sentences['embeddings'] = df_higher_sentences['txt'].map(dict_embeddings)\n",
    "df_higher_sentences['label_index'] = df_higher_sentences['intent'].map(dict_labels)\n",
    "\n",
    "df_higher_sentences.describe()"
   ],
   "metadata": {
    "collapsed": false,
    "pycharm": {
     "name": "#%%\n"
    }
   }
  },
  {
   "cell_type": "code",
   "execution_count": 46,
   "outputs": [
    {
     "data": {
      "text/plain": "array([2, 1, 3, 4, 5])"
     },
     "execution_count": 46,
     "metadata": {},
     "output_type": "execute_result"
    }
   ],
   "source": [
    "df_higher_sentences.label_index.unique()"
   ],
   "metadata": {
    "collapsed": false,
    "pycharm": {
     "name": "#%%\n"
    }
   }
  },
  {
   "cell_type": "code",
   "execution_count": 67,
   "outputs": [
    {
     "name": "stdout",
     "output_type": "stream",
     "text": [
      "V_000    21627\n",
      "V_001    21627\n",
      "V_002    21627\n",
      "V_003    21627\n",
      "V_004    21627\n",
      "         ...  \n",
      "V_508    21627\n",
      "V_509    21627\n",
      "V_510    21627\n",
      "V_511    21627\n",
      "label    21627\n",
      "Length: 513, dtype: int64\n"
     ]
    },
    {
     "data": {
      "text/plain": "      V_000     V_001     V_002     V_003     V_004     V_005     V_006  \\\n0 -0.008343  0.033368 -0.046442 -0.052166 -0.091297 -0.001843  0.033507   \n1  0.067861 -0.056069 -0.001313 -0.030145 -0.092034 -0.000798  0.052008   \n2  0.018875  0.024117  0.035090 -0.112785 -0.055182  0.048042  0.011638   \n3  0.050650 -0.018382  0.015175 -0.008381 -0.067400  0.014663 -0.012952   \n4  0.049683 -0.024636 -0.020439 -0.010502 -0.151096  0.027749  0.034429   \n\n      V_007     V_008     V_009  ...     V_503     V_504     V_505     V_506  \\\n0  0.027626 -0.082742  0.012627  ... -0.069063  0.066489  0.016825  0.019510   \n1  0.061108 -0.091092 -0.012032  ... -0.049187  0.080142  0.014424  0.043665   \n2 -0.006258 -0.033919  0.035440  ... -0.024105  0.022007  0.080454 -0.077422   \n3 -0.030758 -0.084573  0.020417  ... -0.015316  0.047480  0.010318 -0.033296   \n4  0.048915 -0.072280 -0.030891  ... -0.060599  0.040682 -0.005987 -0.037960   \n\n      V_507     V_508     V_509     V_510     V_511  label  \n0  0.005963  0.065603 -0.042441  0.007935  0.070579      2  \n1 -0.016288  0.010631 -0.091025  0.029442 -0.074986      1  \n2 -0.025580 -0.028778 -0.025105 -0.043184  0.004809      3  \n3 -0.040025 -0.044433  0.038009  0.058241 -0.065861      1  \n4  0.071119  0.019034 -0.126513  0.064421 -0.061999      1  \n\n[5 rows x 513 columns]",
      "text/html": "<div>\n<style scoped>\n    .dataframe tbody tr th:only-of-type {\n        vertical-align: middle;\n    }\n\n    .dataframe tbody tr th {\n        vertical-align: top;\n    }\n\n    .dataframe thead th {\n        text-align: right;\n    }\n</style>\n<table border=\"1\" class=\"dataframe\">\n  <thead>\n    <tr style=\"text-align: right;\">\n      <th></th>\n      <th>V_000</th>\n      <th>V_001</th>\n      <th>V_002</th>\n      <th>V_003</th>\n      <th>V_004</th>\n      <th>V_005</th>\n      <th>V_006</th>\n      <th>V_007</th>\n      <th>V_008</th>\n      <th>V_009</th>\n      <th>...</th>\n      <th>V_503</th>\n      <th>V_504</th>\n      <th>V_505</th>\n      <th>V_506</th>\n      <th>V_507</th>\n      <th>V_508</th>\n      <th>V_509</th>\n      <th>V_510</th>\n      <th>V_511</th>\n      <th>label</th>\n    </tr>\n  </thead>\n  <tbody>\n    <tr>\n      <th>0</th>\n      <td>-0.008343</td>\n      <td>0.033368</td>\n      <td>-0.046442</td>\n      <td>-0.052166</td>\n      <td>-0.091297</td>\n      <td>-0.001843</td>\n      <td>0.033507</td>\n      <td>0.027626</td>\n      <td>-0.082742</td>\n      <td>0.012627</td>\n      <td>...</td>\n      <td>-0.069063</td>\n      <td>0.066489</td>\n      <td>0.016825</td>\n      <td>0.019510</td>\n      <td>0.005963</td>\n      <td>0.065603</td>\n      <td>-0.042441</td>\n      <td>0.007935</td>\n      <td>0.070579</td>\n      <td>2</td>\n    </tr>\n    <tr>\n      <th>1</th>\n      <td>0.067861</td>\n      <td>-0.056069</td>\n      <td>-0.001313</td>\n      <td>-0.030145</td>\n      <td>-0.092034</td>\n      <td>-0.000798</td>\n      <td>0.052008</td>\n      <td>0.061108</td>\n      <td>-0.091092</td>\n      <td>-0.012032</td>\n      <td>...</td>\n      <td>-0.049187</td>\n      <td>0.080142</td>\n      <td>0.014424</td>\n      <td>0.043665</td>\n      <td>-0.016288</td>\n      <td>0.010631</td>\n      <td>-0.091025</td>\n      <td>0.029442</td>\n      <td>-0.074986</td>\n      <td>1</td>\n    </tr>\n    <tr>\n      <th>2</th>\n      <td>0.018875</td>\n      <td>0.024117</td>\n      <td>0.035090</td>\n      <td>-0.112785</td>\n      <td>-0.055182</td>\n      <td>0.048042</td>\n      <td>0.011638</td>\n      <td>-0.006258</td>\n      <td>-0.033919</td>\n      <td>0.035440</td>\n      <td>...</td>\n      <td>-0.024105</td>\n      <td>0.022007</td>\n      <td>0.080454</td>\n      <td>-0.077422</td>\n      <td>-0.025580</td>\n      <td>-0.028778</td>\n      <td>-0.025105</td>\n      <td>-0.043184</td>\n      <td>0.004809</td>\n      <td>3</td>\n    </tr>\n    <tr>\n      <th>3</th>\n      <td>0.050650</td>\n      <td>-0.018382</td>\n      <td>0.015175</td>\n      <td>-0.008381</td>\n      <td>-0.067400</td>\n      <td>0.014663</td>\n      <td>-0.012952</td>\n      <td>-0.030758</td>\n      <td>-0.084573</td>\n      <td>0.020417</td>\n      <td>...</td>\n      <td>-0.015316</td>\n      <td>0.047480</td>\n      <td>0.010318</td>\n      <td>-0.033296</td>\n      <td>-0.040025</td>\n      <td>-0.044433</td>\n      <td>0.038009</td>\n      <td>0.058241</td>\n      <td>-0.065861</td>\n      <td>1</td>\n    </tr>\n    <tr>\n      <th>4</th>\n      <td>0.049683</td>\n      <td>-0.024636</td>\n      <td>-0.020439</td>\n      <td>-0.010502</td>\n      <td>-0.151096</td>\n      <td>0.027749</td>\n      <td>0.034429</td>\n      <td>0.048915</td>\n      <td>-0.072280</td>\n      <td>-0.030891</td>\n      <td>...</td>\n      <td>-0.060599</td>\n      <td>0.040682</td>\n      <td>-0.005987</td>\n      <td>-0.037960</td>\n      <td>0.071119</td>\n      <td>0.019034</td>\n      <td>-0.126513</td>\n      <td>0.064421</td>\n      <td>-0.061999</td>\n      <td>1</td>\n    </tr>\n  </tbody>\n</table>\n<p>5 rows × 513 columns</p>\n</div>"
     },
     "execution_count": 67,
     "metadata": {},
     "output_type": "execute_result"
    }
   ],
   "source": [
    "data_to_gerante_df = df_higher_sentences\n",
    "\n",
    "df_to_predict = generate_df_from_X_y(X_data=data_to_gerante_df['embeddings'].to_numpy(), y_data=data_to_gerante_df['label_index'].to_numpy())\n",
    "\n",
    "print(df_to_predict.count())\n",
    "\n",
    "df_to_predict.head()"
   ],
   "metadata": {
    "collapsed": false,
    "pycharm": {
     "name": "#%%\n"
    }
   }
  },
  {
   "cell_type": "code",
   "execution_count": 68,
   "outputs": [
    {
     "name": "stdout",
     "output_type": "stream",
     "text": [
      "V_000    1000\n",
      "V_001    1000\n",
      "V_002    1000\n",
      "V_003    1000\n",
      "V_004    1000\n",
      "         ... \n",
      "V_508    1000\n",
      "V_509    1000\n",
      "V_510    1000\n",
      "V_511    1000\n",
      "label    1000\n",
      "Length: 513, dtype: int64\n"
     ]
    },
    {
     "data": {
      "text/plain": "      V_000     V_001     V_002     V_003     V_004     V_005     V_006  \\\n0 -0.022669 -0.061208  0.003736  0.007147 -0.082954  0.050146 -0.002650   \n1 -0.035462 -0.008966 -0.018063  0.010098 -0.010659 -0.001407 -0.000123   \n2  0.022192 -0.029260 -0.019401 -0.029497  0.032366  0.046809  0.027017   \n3 -0.072670 -0.039204 -0.042822 -0.032342 -0.113388 -0.012360  0.022496   \n4  0.027666 -0.000670  0.022552 -0.010471 -0.061674  0.009946  0.003083   \n\n      V_007     V_008     V_009  ...     V_503     V_504     V_505     V_506  \\\n0  0.031844 -0.054984  0.034181  ... -0.028898  0.012946  0.003666 -0.037578   \n1 -0.000145 -0.044095  0.040530  ... -0.029890 -0.016296  0.071277 -0.046813   \n2 -0.063078 -0.065650 -0.003921  ... -0.054714 -0.006916  0.045183 -0.023252   \n3  0.048088 -0.064497 -0.056840  ... -0.002986  0.087587 -0.016486 -0.059934   \n4  0.042823 -0.019612 -0.050977  ...  0.035239 -0.130840 -0.062465 -0.034523   \n\n      V_507     V_508     V_509     V_510     V_511  label  \n0 -0.031985  0.037607 -0.044444 -0.021451  0.090896      5  \n1  0.001874  0.001296 -0.100866  0.077414 -0.056887      1  \n2  0.000828  0.013870  0.022861  0.038083  0.102305      5  \n3 -0.070585 -0.029925 -0.003761 -0.000960 -0.066411      5  \n4  0.032786 -0.000173  0.001779  0.041951  0.135100      5  \n\n[5 rows x 513 columns]",
      "text/html": "<div>\n<style scoped>\n    .dataframe tbody tr th:only-of-type {\n        vertical-align: middle;\n    }\n\n    .dataframe tbody tr th {\n        vertical-align: top;\n    }\n\n    .dataframe thead th {\n        text-align: right;\n    }\n</style>\n<table border=\"1\" class=\"dataframe\">\n  <thead>\n    <tr style=\"text-align: right;\">\n      <th></th>\n      <th>V_000</th>\n      <th>V_001</th>\n      <th>V_002</th>\n      <th>V_003</th>\n      <th>V_004</th>\n      <th>V_005</th>\n      <th>V_006</th>\n      <th>V_007</th>\n      <th>V_008</th>\n      <th>V_009</th>\n      <th>...</th>\n      <th>V_503</th>\n      <th>V_504</th>\n      <th>V_505</th>\n      <th>V_506</th>\n      <th>V_507</th>\n      <th>V_508</th>\n      <th>V_509</th>\n      <th>V_510</th>\n      <th>V_511</th>\n      <th>label</th>\n    </tr>\n  </thead>\n  <tbody>\n    <tr>\n      <th>0</th>\n      <td>-0.022669</td>\n      <td>-0.061208</td>\n      <td>0.003736</td>\n      <td>0.007147</td>\n      <td>-0.082954</td>\n      <td>0.050146</td>\n      <td>-0.002650</td>\n      <td>0.031844</td>\n      <td>-0.054984</td>\n      <td>0.034181</td>\n      <td>...</td>\n      <td>-0.028898</td>\n      <td>0.012946</td>\n      <td>0.003666</td>\n      <td>-0.037578</td>\n      <td>-0.031985</td>\n      <td>0.037607</td>\n      <td>-0.044444</td>\n      <td>-0.021451</td>\n      <td>0.090896</td>\n      <td>5</td>\n    </tr>\n    <tr>\n      <th>1</th>\n      <td>-0.035462</td>\n      <td>-0.008966</td>\n      <td>-0.018063</td>\n      <td>0.010098</td>\n      <td>-0.010659</td>\n      <td>-0.001407</td>\n      <td>-0.000123</td>\n      <td>-0.000145</td>\n      <td>-0.044095</td>\n      <td>0.040530</td>\n      <td>...</td>\n      <td>-0.029890</td>\n      <td>-0.016296</td>\n      <td>0.071277</td>\n      <td>-0.046813</td>\n      <td>0.001874</td>\n      <td>0.001296</td>\n      <td>-0.100866</td>\n      <td>0.077414</td>\n      <td>-0.056887</td>\n      <td>1</td>\n    </tr>\n    <tr>\n      <th>2</th>\n      <td>0.022192</td>\n      <td>-0.029260</td>\n      <td>-0.019401</td>\n      <td>-0.029497</td>\n      <td>0.032366</td>\n      <td>0.046809</td>\n      <td>0.027017</td>\n      <td>-0.063078</td>\n      <td>-0.065650</td>\n      <td>-0.003921</td>\n      <td>...</td>\n      <td>-0.054714</td>\n      <td>-0.006916</td>\n      <td>0.045183</td>\n      <td>-0.023252</td>\n      <td>0.000828</td>\n      <td>0.013870</td>\n      <td>0.022861</td>\n      <td>0.038083</td>\n      <td>0.102305</td>\n      <td>5</td>\n    </tr>\n    <tr>\n      <th>3</th>\n      <td>-0.072670</td>\n      <td>-0.039204</td>\n      <td>-0.042822</td>\n      <td>-0.032342</td>\n      <td>-0.113388</td>\n      <td>-0.012360</td>\n      <td>0.022496</td>\n      <td>0.048088</td>\n      <td>-0.064497</td>\n      <td>-0.056840</td>\n      <td>...</td>\n      <td>-0.002986</td>\n      <td>0.087587</td>\n      <td>-0.016486</td>\n      <td>-0.059934</td>\n      <td>-0.070585</td>\n      <td>-0.029925</td>\n      <td>-0.003761</td>\n      <td>-0.000960</td>\n      <td>-0.066411</td>\n      <td>5</td>\n    </tr>\n    <tr>\n      <th>4</th>\n      <td>0.027666</td>\n      <td>-0.000670</td>\n      <td>0.022552</td>\n      <td>-0.010471</td>\n      <td>-0.061674</td>\n      <td>0.009946</td>\n      <td>0.003083</td>\n      <td>0.042823</td>\n      <td>-0.019612</td>\n      <td>-0.050977</td>\n      <td>...</td>\n      <td>0.035239</td>\n      <td>-0.130840</td>\n      <td>-0.062465</td>\n      <td>-0.034523</td>\n      <td>0.032786</td>\n      <td>-0.000173</td>\n      <td>0.001779</td>\n      <td>0.041951</td>\n      <td>0.135100</td>\n      <td>5</td>\n    </tr>\n  </tbody>\n</table>\n<p>5 rows × 513 columns</p>\n</div>"
     },
     "execution_count": 68,
     "metadata": {},
     "output_type": "execute_result"
    }
   ],
   "source": [
    "df_to_predict_manual = generate_df_from_X_y(X_data=df_classified_manual['embeddings'].to_numpy(), y_data=df_classified_manual['label_index'].to_numpy())\n",
    "\n",
    "print(df_to_predict_manual.count())\n",
    "\n",
    "df_to_predict_manual.head()"
   ],
   "metadata": {
    "collapsed": false,
    "pycharm": {
     "name": "#%%\n"
    }
   }
  },
  {
   "cell_type": "code",
   "execution_count": 48,
   "outputs": [
    {
     "data": {
      "text/plain": "21627"
     },
     "execution_count": 48,
     "metadata": {},
     "output_type": "execute_result"
    }
   ],
   "source": [
    "data_to_gerante_df['label_index'].count()"
   ],
   "metadata": {
    "collapsed": false,
    "pycharm": {
     "name": "#%%\n"
    }
   }
  },
  {
   "cell_type": "code",
   "execution_count": 49,
   "outputs": [
    {
     "data": {
      "text/plain": "21627"
     },
     "execution_count": 49,
     "metadata": {},
     "output_type": "execute_result"
    }
   ],
   "source": [
    "df_to_predict.label.count()"
   ],
   "metadata": {
    "collapsed": false,
    "pycharm": {
     "name": "#%%\n"
    }
   }
  },
  {
   "cell_type": "code",
   "execution_count": 50,
   "outputs": [
    {
     "data": {
      "text/plain": "array([2, 1, 3, 4, 5])"
     },
     "execution_count": 50,
     "metadata": {},
     "output_type": "execute_result"
    }
   ],
   "source": [
    "df_to_predict.label.unique()"
   ],
   "metadata": {
    "collapsed": false,
    "pycharm": {
     "name": "#%%\n"
    }
   }
  },
  {
   "cell_type": "code",
   "execution_count": 51,
   "outputs": [
    {
     "name": "stdout",
     "output_type": "stream",
     "text": [
      "Parse progress: |████████████████████████████████████████████████████████████████| (done) 100%\n",
      "stackedensemble prediction progress: |███████████████████████████████████████████| (done) 100%\n"
     ]
    },
    {
     "data": {
      "text/html": "<table>\n<thead>\n<tr><th style=\"text-align: right;\">  predict</th><th style=\"text-align: right;\">         p1</th><th style=\"text-align: right;\">         p2</th><th style=\"text-align: right;\">         p3</th><th style=\"text-align: right;\">         p4</th><th style=\"text-align: right;\">         p5</th></tr>\n</thead>\n<tbody>\n<tr><td style=\"text-align: right;\">        2</td><td style=\"text-align: right;\">0.000958942</td><td style=\"text-align: right;\">0.996942   </td><td style=\"text-align: right;\">0.000559078</td><td style=\"text-align: right;\">0.000812507</td><td style=\"text-align: right;\">0.000727628</td></tr>\n<tr><td style=\"text-align: right;\">        1</td><td style=\"text-align: right;\">0.997555   </td><td style=\"text-align: right;\">0.000411365</td><td style=\"text-align: right;\">0.000542629</td><td style=\"text-align: right;\">0.000784658</td><td style=\"text-align: right;\">0.00070622 </td></tr>\n<tr><td style=\"text-align: right;\">        2</td><td style=\"text-align: right;\">0.000414755</td><td style=\"text-align: right;\">0.998461   </td><td style=\"text-align: right;\">0.00029856 </td><td style=\"text-align: right;\">0.000437181</td><td style=\"text-align: right;\">0.00038857 </td></tr>\n<tr><td style=\"text-align: right;\">        1</td><td style=\"text-align: right;\">0.997507   </td><td style=\"text-align: right;\">0.00041891 </td><td style=\"text-align: right;\">0.000552581</td><td style=\"text-align: right;\">0.000802675</td><td style=\"text-align: right;\">0.000719172</td></tr>\n<tr><td style=\"text-align: right;\">        1</td><td style=\"text-align: right;\">0.9975     </td><td style=\"text-align: right;\">0.000419117</td><td style=\"text-align: right;\">0.000552855</td><td style=\"text-align: right;\">0.000808978</td><td style=\"text-align: right;\">0.000719529</td></tr>\n<tr><td style=\"text-align: right;\">        1</td><td style=\"text-align: right;\">0.997537   </td><td style=\"text-align: right;\">0.000413032</td><td style=\"text-align: right;\">0.000544827</td><td style=\"text-align: right;\">0.000795956</td><td style=\"text-align: right;\">0.000709081</td></tr>\n<tr><td style=\"text-align: right;\">        1</td><td style=\"text-align: right;\">0.997484   </td><td style=\"text-align: right;\">0.000424318</td><td style=\"text-align: right;\">0.000559716</td><td style=\"text-align: right;\">0.000803242</td><td style=\"text-align: right;\">0.000728458</td></tr>\n<tr><td style=\"text-align: right;\">        1</td><td style=\"text-align: right;\">0.577188   </td><td style=\"text-align: right;\">0.377869   </td><td style=\"text-align: right;\">0.0143015  </td><td style=\"text-align: right;\">0.0161818  </td><td style=\"text-align: right;\">0.0144595  </td></tr>\n<tr><td style=\"text-align: right;\">        1</td><td style=\"text-align: right;\">0.997492   </td><td style=\"text-align: right;\">0.000421507</td><td style=\"text-align: right;\">0.000556007</td><td style=\"text-align: right;\">0.000806805</td><td style=\"text-align: right;\">0.000723631</td></tr>\n<tr><td style=\"text-align: right;\">        1</td><td style=\"text-align: right;\">0.994475   </td><td style=\"text-align: right;\">0.000813062</td><td style=\"text-align: right;\">0.0010725  </td><td style=\"text-align: right;\">0.00224364 </td><td style=\"text-align: right;\">0.00139584 </td></tr>\n</tbody>\n</table>"
     },
     "metadata": {},
     "output_type": "display_data"
    },
    {
     "data": {
      "text/plain": ""
     },
     "execution_count": 51,
     "metadata": {},
     "output_type": "execute_result"
    }
   ],
   "source": [
    "hf_to_predict = h2o.H2OFrame(df_to_predict)\n",
    "\n",
    "hf_preds = aml.predict(hf_to_predict)\n",
    "\n",
    "hf_preds"
   ],
   "metadata": {
    "collapsed": false,
    "pycharm": {
     "name": "#%%\n"
    }
   }
  },
  {
   "cell_type": "code",
   "execution_count": 52,
   "outputs": [
    {
     "data": {
      "text/plain": "(21627, 21627)"
     },
     "execution_count": 52,
     "metadata": {},
     "output_type": "execute_result"
    }
   ],
   "source": [
    "predicts = hf_preds.as_data_frame().predict.to_numpy()\n",
    "\n",
    "correct_label = df_to_predict.label.to_numpy()\n",
    "\n",
    "len(predicts), len(correct_label)"
   ],
   "metadata": {
    "collapsed": false,
    "pycharm": {
     "name": "#%%\n"
    }
   }
  },
  {
   "cell_type": "code",
   "execution_count": 53,
   "outputs": [
    {
     "data": {
      "text/plain": "16785"
     },
     "execution_count": 53,
     "metadata": {},
     "output_type": "execute_result"
    }
   ],
   "source": [
    "correct_predict = np.equal(predicts, correct_label).sum()\n",
    "\n",
    "correct_predict"
   ],
   "metadata": {
    "collapsed": false,
    "pycharm": {
     "name": "#%%\n"
    }
   }
  },
  {
   "cell_type": "code",
   "execution_count": 54,
   "outputs": [
    {
     "data": {
      "text/plain": "0.7761131918435289"
     },
     "execution_count": 54,
     "metadata": {},
     "output_type": "execute_result"
    }
   ],
   "source": [
    "correct_predict / len(predicts)"
   ],
   "metadata": {
    "collapsed": false,
    "pycharm": {
     "name": "#%%\n"
    }
   }
  },
  {
   "cell_type": "code",
   "execution_count": 72,
   "outputs": [
    {
     "name": "stdout",
     "output_type": "stream",
     "text": [
      "Parse progress: |████████████████████████████████████████████████████████████████| (done) 100%\n",
      "stackedensemble prediction progress: |███████████████████████████████████████████| (done) 100%\n",
      "1000 1000\n"
     ]
    }
   ],
   "source": [
    "hf_preds_manual= aml.predict( h2o.H2OFrame(df_to_predict_manual))\n",
    "\n",
    "predicts_manual = hf_preds_manual.as_data_frame().predict.to_numpy()\n",
    "\n",
    "correct_label_manual = df_to_predict_manual.label.to_numpy()\n",
    "\n",
    "print(len(predicts_manual), len(correct_label))"
   ],
   "metadata": {
    "collapsed": false,
    "pycharm": {
     "name": "#%%\n"
    }
   }
  },
  {
   "cell_type": "code",
   "execution_count": 73,
   "outputs": [
    {
     "data": {
      "text/plain": "0.72"
     },
     "execution_count": 73,
     "metadata": {},
     "output_type": "execute_result"
    }
   ],
   "source": [
    "correct_predict_manual = np.equal(predicts_manual, correct_label).sum()\n",
    "\n",
    "correct_predict_manual / len(predicts_manual)"
   ],
   "metadata": {
    "collapsed": false,
    "pycharm": {
     "name": "#%%\n"
    }
   }
  }
 ],
 "metadata": {
  "interpreter": {
   "hash": "da386d383b1a4f2ab977ab0cc371ee70ac9bd2160da3f0bf5cca7f94d497a6a3"
  },
  "kernelspec": {
   "display_name": "Python 3.9.7 ('venv': venv)",
   "language": "python",
   "name": "python3"
  },
  "language_info": {
   "codemirror_mode": {
    "name": "ipython",
    "version": 3
   },
   "file_extension": ".py",
   "mimetype": "text/x-python",
   "name": "python",
   "nbconvert_exporter": "python",
   "pygments_lexer": "ipython3",
   "version": "3.9.7"
  },
  "orig_nbformat": 4
 },
 "nbformat": 4,
 "nbformat_minor": 2
}
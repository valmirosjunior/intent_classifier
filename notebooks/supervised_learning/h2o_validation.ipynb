{
 "cells": [
  {
   "cell_type": "code",
   "execution_count": null,
   "outputs": [],
   "source": [
    "%load_ext autoreload\n",
    "\n",
    "%autoreload 2"
   ],
   "metadata": {
    "collapsed": false,
    "pycharm": {
     "name": "#%%\n"
    }
   }
  },
  {
   "cell_type": "code",
   "execution_count": 22,
   "metadata": {
    "pycharm": {
     "name": "#%%\n"
    }
   },
   "outputs": [],
   "source": [
    "import pandas as pd\n",
    "import numpy as np\n",
    "\n",
    "from src.ml import pipeline\n",
    "from src.core import file_manager"
   ]
  },
  {
   "cell_type": "code",
   "execution_count": 23,
   "metadata": {
    "pycharm": {
     "name": "#%%\n"
    }
   },
   "outputs": [],
   "source": [
    "df_annotated = pipeline.get_annotated_df('use')"
   ]
  },
  {
   "cell_type": "code",
   "execution_count": 24,
   "metadata": {
    "pycharm": {
     "name": "#%%\n"
    }
   },
   "outputs": [],
   "source": [
    "df_embeddings = pipeline.get_embedding_dfs('use')\n",
    "\n",
    "dict_embeddings = pipeline.generate_dict_embedding_text(df_embeddings)"
   ]
  },
  {
   "cell_type": "code",
   "execution_count": 25,
   "metadata": {
    "pycharm": {
     "name": "#%%\n"
    }
   },
   "outputs": [
    {
     "name": "stdout",
     "output_type": "stream",
     "text": [
      "{'inform': 1, 'inform_symptoms': 2, 'inform_medicine': 3, 'greeting': 4, 'request_inform': 5}\n"
     ]
    }
   ],
   "source": [
    "print(pipeline.dict_labels)"
   ]
  },
  {
   "cell_type": "code",
   "execution_count": 37,
   "outputs": [
    {
     "data": {
      "text/plain": "                                                    txt  label  distance  \\\n453                        Sobre a febre quero entender     13  0.300878   \n7389                     Mais isso já faz um mês e meio     27  0.517859   \n10612                                      E pra tosse?     40  0.256707   \n998    Quando eu viro para o outro lado da cama acelera      2  0.384203   \n11519                   Quero saber o que devemos tomar     26  0.437573   \n\n                intent                                     annotated_txt  \n453    inform_symptoms           Sobre a [febre](SINTOMA) quero entender  \n7389            inform                    Mais isso já faz um mês e meio  \n10612  inform_symptoms                           E pra [tosse](SINTOMA)?  \n998             inform  Quando eu viro para o outro lado da cama acelera  \n11519   request_inform                   Quero saber o que devemos tomar  ",
      "text/html": "<div>\n<style scoped>\n    .dataframe tbody tr th:only-of-type {\n        vertical-align: middle;\n    }\n\n    .dataframe tbody tr th {\n        vertical-align: top;\n    }\n\n    .dataframe thead th {\n        text-align: right;\n    }\n</style>\n<table border=\"1\" class=\"dataframe\">\n  <thead>\n    <tr style=\"text-align: right;\">\n      <th></th>\n      <th>txt</th>\n      <th>label</th>\n      <th>distance</th>\n      <th>intent</th>\n      <th>annotated_txt</th>\n    </tr>\n  </thead>\n  <tbody>\n    <tr>\n      <th>453</th>\n      <td>Sobre a febre quero entender</td>\n      <td>13</td>\n      <td>0.300878</td>\n      <td>inform_symptoms</td>\n      <td>Sobre a [febre](SINTOMA) quero entender</td>\n    </tr>\n    <tr>\n      <th>7389</th>\n      <td>Mais isso já faz um mês e meio</td>\n      <td>27</td>\n      <td>0.517859</td>\n      <td>inform</td>\n      <td>Mais isso já faz um mês e meio</td>\n    </tr>\n    <tr>\n      <th>10612</th>\n      <td>E pra tosse?</td>\n      <td>40</td>\n      <td>0.256707</td>\n      <td>inform_symptoms</td>\n      <td>E pra [tosse](SINTOMA)?</td>\n    </tr>\n    <tr>\n      <th>998</th>\n      <td>Quando eu viro para o outro lado da cama acelera</td>\n      <td>2</td>\n      <td>0.384203</td>\n      <td>inform</td>\n      <td>Quando eu viro para o outro lado da cama acelera</td>\n    </tr>\n    <tr>\n      <th>11519</th>\n      <td>Quero saber o que devemos tomar</td>\n      <td>26</td>\n      <td>0.437573</td>\n      <td>request_inform</td>\n      <td>Quero saber o que devemos tomar</td>\n    </tr>\n  </tbody>\n</table>\n</div>"
     },
     "execution_count": 37,
     "metadata": {},
     "output_type": "execute_result"
    }
   ],
   "source": [
    "higher_distances_df = df_annotated[df_annotated['distance'] > 0.25]\n",
    "\n",
    "random_higher_distances_df  = higher_distances_df.sample(n=1000, random_state=42)\n",
    "\n",
    "random_higher_distances_df.head()"
   ],
   "metadata": {
    "collapsed": false,
    "pycharm": {
     "name": "#%%\n"
    }
   }
  },
  {
   "cell_type": "code",
   "execution_count": 48,
   "outputs": [],
   "source": [
    "random_higher_distances_df['txt'].to_csv(file_manager.filename_from_data_dir('output/sentences_to_classify.csv'), index=False)"
   ],
   "metadata": {
    "collapsed": false,
    "pycharm": {
     "name": "#%%\n"
    }
   }
  },
  {
   "cell_type": "code",
   "execution_count": 58,
   "outputs": [
    {
     "data": {
      "text/plain": "                                                txt           label  \\\n0                      Sobre a febre quero entender  request_inform   \n1                    Mais isso já faz um mês e meio          inform   \n2                                      E pra tosse?  request_inform   \n3  Quando eu viro para o outro lado da cama acelera          inform   \n4                   Quero saber o que devemos tomar  request_inform   \n\n   label_index  \\\n0            5   \n1            1   \n2            5   \n3            1   \n4            5   \n\n                                                              embeddings  \n0  [-0.022668906000000003, -0.061208144000000006, 0.003735794, 0.0071...  \n1  [-0.03546224, -0.008965515, -0.018063422000000003, 0.010098209, -0...  \n2  [0.022191908, -0.029259719000000003, -0.019401137000000002, -0.029...  \n3  [-0.072670385, -0.039203867, -0.04282206, -0.0323417, -0.113387555...  \n4  [0.027665587000000002, -0.0006697571, 0.022551859, -0.010470708, -...  ",
      "text/html": "<div>\n<style scoped>\n    .dataframe tbody tr th:only-of-type {\n        vertical-align: middle;\n    }\n\n    .dataframe tbody tr th {\n        vertical-align: top;\n    }\n\n    .dataframe thead th {\n        text-align: right;\n    }\n</style>\n<table border=\"1\" class=\"dataframe\">\n  <thead>\n    <tr style=\"text-align: right;\">\n      <th></th>\n      <th>txt</th>\n      <th>label</th>\n      <th>label_index</th>\n      <th>embeddings</th>\n    </tr>\n  </thead>\n  <tbody>\n    <tr>\n      <th>0</th>\n      <td>Sobre a febre quero entender</td>\n      <td>request_inform</td>\n      <td>5</td>\n      <td>[-0.022668906000000003, -0.061208144000000006, 0.003735794, 0.0071...</td>\n    </tr>\n    <tr>\n      <th>1</th>\n      <td>Mais isso já faz um mês e meio</td>\n      <td>inform</td>\n      <td>1</td>\n      <td>[-0.03546224, -0.008965515, -0.018063422000000003, 0.010098209, -0...</td>\n    </tr>\n    <tr>\n      <th>2</th>\n      <td>E pra tosse?</td>\n      <td>request_inform</td>\n      <td>5</td>\n      <td>[0.022191908, -0.029259719000000003, -0.019401137000000002, -0.029...</td>\n    </tr>\n    <tr>\n      <th>3</th>\n      <td>Quando eu viro para o outro lado da cama acelera</td>\n      <td>inform</td>\n      <td>1</td>\n      <td>[-0.072670385, -0.039203867, -0.04282206, -0.0323417, -0.113387555...</td>\n    </tr>\n    <tr>\n      <th>4</th>\n      <td>Quero saber o que devemos tomar</td>\n      <td>request_inform</td>\n      <td>5</td>\n      <td>[0.027665587000000002, -0.0006697571, 0.022551859, -0.010470708, -...</td>\n    </tr>\n  </tbody>\n</table>\n</div>"
     },
     "execution_count": 58,
     "metadata": {},
     "output_type": "execute_result"
    }
   ],
   "source": [
    "df_classified_manual = pd.read_csv(file_manager.filename_from_data_dir('output/sentences_classified.csv'))\n",
    "\n",
    "df_classified_manual['label_index'] = df_classified_manual['label'].map(pipeline.dict_labels)\n",
    "\n",
    "df_classified_manual['embeddings'] = df_classified_manual['txt'].map(dict_embeddings)\n",
    "\n",
    "df_classified_manual.drop(['correct_label', 'used_intents', 'intents'], axis=1).head()"
   ],
   "metadata": {
    "collapsed": false,
    "pycharm": {
     "name": "#%%\n"
    }
   }
  },
  {
   "cell_type": "code",
   "execution_count": 59,
   "outputs": [
    {
     "data": {
      "text/plain": "                                                    txt           intent  \\\n453                        Sobre a febre quero entender  inform_symptoms   \n7389                     Mais isso já faz um mês e meio           inform   \n10612                                      E pra tosse?  inform_symptoms   \n998    Quando eu viro para o outro lado da cama acelera           inform   \n11519                   Quero saber o que devemos tomar   request_inform   \n\n         manual_label  distance  \n453    request_inform  0.300878  \n7389           inform  0.517859  \n10612  request_inform  0.256707  \n998            inform  0.384203  \n11519  request_inform  0.437573  ",
      "text/html": "<div>\n<style scoped>\n    .dataframe tbody tr th:only-of-type {\n        vertical-align: middle;\n    }\n\n    .dataframe tbody tr th {\n        vertical-align: top;\n    }\n\n    .dataframe thead th {\n        text-align: right;\n    }\n</style>\n<table border=\"1\" class=\"dataframe\">\n  <thead>\n    <tr style=\"text-align: right;\">\n      <th></th>\n      <th>txt</th>\n      <th>intent</th>\n      <th>manual_label</th>\n      <th>distance</th>\n    </tr>\n  </thead>\n  <tbody>\n    <tr>\n      <th>453</th>\n      <td>Sobre a febre quero entender</td>\n      <td>inform_symptoms</td>\n      <td>request_inform</td>\n      <td>0.300878</td>\n    </tr>\n    <tr>\n      <th>7389</th>\n      <td>Mais isso já faz um mês e meio</td>\n      <td>inform</td>\n      <td>inform</td>\n      <td>0.517859</td>\n    </tr>\n    <tr>\n      <th>10612</th>\n      <td>E pra tosse?</td>\n      <td>inform_symptoms</td>\n      <td>request_inform</td>\n      <td>0.256707</td>\n    </tr>\n    <tr>\n      <th>998</th>\n      <td>Quando eu viro para o outro lado da cama acelera</td>\n      <td>inform</td>\n      <td>inform</td>\n      <td>0.384203</td>\n    </tr>\n    <tr>\n      <th>11519</th>\n      <td>Quero saber o que devemos tomar</td>\n      <td>request_inform</td>\n      <td>request_inform</td>\n      <td>0.437573</td>\n    </tr>\n  </tbody>\n</table>\n</div>"
     },
     "execution_count": 59,
     "metadata": {},
     "output_type": "execute_result"
    }
   ],
   "source": [
    "random_higher_distances_df['manual_label'] = df_classified_manual['label'].to_numpy()\n",
    "\n",
    "random_higher_distances_df[['txt', 'intent', 'manual_label', 'distance']].head()"
   ],
   "metadata": {
    "collapsed": false,
    "pycharm": {
     "name": "#%%\n"
    }
   }
  },
  {
   "cell_type": "code",
   "execution_count": 60,
   "outputs": [
    {
     "name": "stdout",
     "output_type": "stream",
     "text": [
      "            label    distance\n",
      "count  676.000000  676.000000\n",
      "mean    30.334320    0.412518\n",
      "std     17.305723    0.105340\n",
      "min      0.000000    0.250969\n",
      "25%     16.000000    0.325190\n",
      "50%     30.000000    0.402756\n",
      "75%     44.000000    0.482611\n",
      "max     59.000000    0.725928\n"
     ]
    },
    {
     "data": {
      "text/plain": "                                                                         txt  \\\n7389                                          Mais isso já faz um mês e meio   \n998                         Quando eu viro para o outro lado da cama acelera   \n11519                                        Quero saber o que devemos tomar   \n18323                                                Tendo todos os ciodados   \n12288  Estou preocupada com meu esposo . Hoje ele passou o dia todo deita...   \n\n                intent     manual_label  distance  \n7389            inform           inform  0.517859  \n998             inform           inform  0.384203  \n11519   request_inform   request_inform  0.437573  \n18323           inform           inform  0.468946  \n12288  inform_symptoms  inform_symptoms  0.444651  ",
      "text/html": "<div>\n<style scoped>\n    .dataframe tbody tr th:only-of-type {\n        vertical-align: middle;\n    }\n\n    .dataframe tbody tr th {\n        vertical-align: top;\n    }\n\n    .dataframe thead th {\n        text-align: right;\n    }\n</style>\n<table border=\"1\" class=\"dataframe\">\n  <thead>\n    <tr style=\"text-align: right;\">\n      <th></th>\n      <th>txt</th>\n      <th>intent</th>\n      <th>manual_label</th>\n      <th>distance</th>\n    </tr>\n  </thead>\n  <tbody>\n    <tr>\n      <th>7389</th>\n      <td>Mais isso já faz um mês e meio</td>\n      <td>inform</td>\n      <td>inform</td>\n      <td>0.517859</td>\n    </tr>\n    <tr>\n      <th>998</th>\n      <td>Quando eu viro para o outro lado da cama acelera</td>\n      <td>inform</td>\n      <td>inform</td>\n      <td>0.384203</td>\n    </tr>\n    <tr>\n      <th>11519</th>\n      <td>Quero saber o que devemos tomar</td>\n      <td>request_inform</td>\n      <td>request_inform</td>\n      <td>0.437573</td>\n    </tr>\n    <tr>\n      <th>18323</th>\n      <td>Tendo todos os ciodados</td>\n      <td>inform</td>\n      <td>inform</td>\n      <td>0.468946</td>\n    </tr>\n    <tr>\n      <th>12288</th>\n      <td>Estou preocupada com meu esposo . Hoje ele passou o dia todo deita...</td>\n      <td>inform_symptoms</td>\n      <td>inform_symptoms</td>\n      <td>0.444651</td>\n    </tr>\n  </tbody>\n</table>\n</div>"
     },
     "execution_count": 60,
     "metadata": {},
     "output_type": "execute_result"
    }
   ],
   "source": [
    "differences = random_higher_distances_df[random_higher_distances_df.apply(lambda x: x['intent'] == x['manual_label'], axis=1)]\n",
    "\n",
    "print(differences.describe())\n",
    "\n",
    "differences[['txt', 'intent', 'manual_label', 'distance']].head()"
   ],
   "metadata": {
    "collapsed": false,
    "pycharm": {
     "name": "#%%\n"
    }
   }
  },
  {
   "cell_type": "code",
   "execution_count": 61,
   "outputs": [
    {
     "name": "stdout",
     "output_type": "stream",
     "text": [
      "            label    distance\n",
      "count  324.000000  324.000000\n",
      "mean    35.716049    0.444295\n",
      "std     17.722131    0.111606\n",
      "min      0.000000    0.253143\n",
      "25%     21.000000    0.351125\n",
      "50%     37.000000    0.429323\n",
      "75%     54.000000    0.526704\n",
      "max     59.000000    0.743197\n"
     ]
    },
    {
     "data": {
      "text/plain": "                                                                         txt  \\\n453                                             Sobre a febre quero entender   \n10612                                                           E pra tosse?   \n18911                                                       São quantos dias   \n19868                                            Não . Tomei logo um remedio   \n23046                                                               Na terça   \n20273                                                           Nessa doença   \n3467                  2 dias no máximo ..ainda tenho o antibiótico pra tomar   \n12188                                              Estes problemas de fígado   \n6237                                                                   MuitA   \n4901                                                     Ontem estava febril   \n5834                               Agora estou sentindo só pelo final do dia   \n24271                                             Cansada em movimentar  nao   \n1535   Oi bom dia enfermeiro, desde ja meus parabéns pelo o serviço prest...   \n8530                                      Mas isso está me angustiando muito   \n20161                                                 Um pouco cansada ainda   \n4085                                                        So o Neosoro msm   \n4994                              Sábado começou o desconforto na respiração   \n21951  Acho que vou fazer o exame. Tenho 55 anos e sou hipertensa...Nervo...   \n4316   Prq assim, meu tio é do grupo de alto risco, não tenho contato com...   \n23178  Entendi. Eu vou iniciar o isolamento dentro de casa imensamente. M...   \n12428                                             Muito obg por me  informar   \n3910                                             GRACAS A DEUS N TENHO FEBRE   \n25249                                          Sou alérgico a vários remédio   \n9965   \"Bom, eu não tenho certeza se estive realmente em contato com pess...   \n23941                                                       To muito nervosa   \n19646                                              Olha tem momentos q sinto   \n5234                        Tô tendo que fazer isso sentada e bem lentamente   \n18344                                 Pra tirar essas coisas da minha cabeça   \n7260                             To aqui desesperada achando q to com convid   \n4884                                                                Diarreia   \n10580                                                         Com a fraqueza   \n14408              Mas graças a Deus não tive nenhuma reação ruim após o uso   \n22812                                                                 Ver Tô   \n12126                                     Em que temperatura tomo o remedio?   \n11017                                                                 Pra ir   \n16725                                     Garganta como se tivesse bloqueada   \n21035  Estou me concentrando muito na respiração, queria saber se isso po...   \n21946                                                                Neosoro   \n18497                                                           De gripe sim   \n25637                                   Ontem meu alfato começou ficar falho   \n5909                                       O quadro foi colocado como renite   \n23356                           Só mesmo ontem a noite e na sexta a noite tb   \n21672                                              Se não me falha a memória   \n1559                                                       Renite e sinusite   \n3878                                                  ESSA TOSSE COM CATARRO   \n24687            Acho que isso contribui pra algumas coisa que eu sinto hoje   \n18120                  A minha é de 37,4 não passou disso e só senti uma vez   \n7903                                      Precisa puxar mais um pouco de ar.   \n4255                                                      Porem n fiz exames   \n13115                                                   Alerg9as alimentares   \n\n                intent     manual_label  distance  \n453    inform_symptoms   request_inform  0.300878  \n10612  inform_symptoms   request_inform  0.256707  \n18911           inform   request_inform  0.292614  \n19868  inform_medicine           inform  0.323028  \n23046         greeting           inform  0.286370  \n20273  inform_medicine           inform  0.527291  \n3467   inform_medicine           inform  0.361323  \n12188  inform_medicine  inform_symptoms  0.562368  \n6237          greeting           inform  0.365427  \n4901            inform  inform_symptoms  0.393517  \n5834   inform_symptoms           inform  0.351290  \n24271  inform_symptoms           inform  0.472773  \n1535            inform         greeting  0.606522  \n8530            inform  inform_symptoms  0.398375  \n20161           inform  inform_symptoms  0.299627  \n4085            inform  inform_medicine  0.605146  \n4994   inform_symptoms           inform  0.462608  \n21951   request_inform  inform_symptoms  0.533815  \n4316   inform_medicine  inform_symptoms  0.526508  \n23178           inform  inform_symptoms  0.445668  \n12428   request_inform         greeting  0.254025  \n3910            inform  inform_symptoms  0.508960  \n25249  inform_medicine           inform  0.381888  \n9965   inform_symptoms   request_inform  0.416608  \n23941           inform  inform_symptoms  0.364959  \n19646  inform_symptoms           inform  0.284263  \n5234   inform_symptoms           inform  0.563074  \n18344  inform_symptoms           inform  0.498494  \n7260    request_inform           inform  0.551918  \n4884          greeting  inform_symptoms  0.410237  \n10580           inform  inform_symptoms  0.383600  \n14408  inform_symptoms           inform  0.561588  \n22812         greeting           inform  0.582452  \n12126           inform   request_inform  0.382536  \n11017         greeting           inform  0.432595  \n16725           inform  inform_symptoms  0.621264  \n21035  inform_symptoms   request_inform  0.253143  \n21946         greeting  inform_medicine  0.458935  \n18497   request_inform           inform  0.322010  \n25637           inform  inform_symptoms  0.492952  \n5909            inform  inform_symptoms  0.612001  \n23356  inform_symptoms           inform  0.401371  \n21672  inform_symptoms           inform  0.506004  \n1559   inform_medicine  inform_symptoms  0.412637  \n3878   inform_medicine  inform_symptoms  0.516654  \n24687  inform_symptoms           inform  0.525311  \n18120           inform  inform_symptoms  0.469983  \n7903   inform_symptoms           inform  0.636486  \n4255    request_inform           inform  0.354550  \n13115  inform_medicine           inform  0.529214  ",
      "text/html": "<div>\n<style scoped>\n    .dataframe tbody tr th:only-of-type {\n        vertical-align: middle;\n    }\n\n    .dataframe tbody tr th {\n        vertical-align: top;\n    }\n\n    .dataframe thead th {\n        text-align: right;\n    }\n</style>\n<table border=\"1\" class=\"dataframe\">\n  <thead>\n    <tr style=\"text-align: right;\">\n      <th></th>\n      <th>txt</th>\n      <th>intent</th>\n      <th>manual_label</th>\n      <th>distance</th>\n    </tr>\n  </thead>\n  <tbody>\n    <tr>\n      <th>453</th>\n      <td>Sobre a febre quero entender</td>\n      <td>inform_symptoms</td>\n      <td>request_inform</td>\n      <td>0.300878</td>\n    </tr>\n    <tr>\n      <th>10612</th>\n      <td>E pra tosse?</td>\n      <td>inform_symptoms</td>\n      <td>request_inform</td>\n      <td>0.256707</td>\n    </tr>\n    <tr>\n      <th>18911</th>\n      <td>São quantos dias</td>\n      <td>inform</td>\n      <td>request_inform</td>\n      <td>0.292614</td>\n    </tr>\n    <tr>\n      <th>19868</th>\n      <td>Não . Tomei logo um remedio</td>\n      <td>inform_medicine</td>\n      <td>inform</td>\n      <td>0.323028</td>\n    </tr>\n    <tr>\n      <th>23046</th>\n      <td>Na terça</td>\n      <td>greeting</td>\n      <td>inform</td>\n      <td>0.286370</td>\n    </tr>\n    <tr>\n      <th>20273</th>\n      <td>Nessa doença</td>\n      <td>inform_medicine</td>\n      <td>inform</td>\n      <td>0.527291</td>\n    </tr>\n    <tr>\n      <th>3467</th>\n      <td>2 dias no máximo ..ainda tenho o antibiótico pra tomar</td>\n      <td>inform_medicine</td>\n      <td>inform</td>\n      <td>0.361323</td>\n    </tr>\n    <tr>\n      <th>12188</th>\n      <td>Estes problemas de fígado</td>\n      <td>inform_medicine</td>\n      <td>inform_symptoms</td>\n      <td>0.562368</td>\n    </tr>\n    <tr>\n      <th>6237</th>\n      <td>MuitA</td>\n      <td>greeting</td>\n      <td>inform</td>\n      <td>0.365427</td>\n    </tr>\n    <tr>\n      <th>4901</th>\n      <td>Ontem estava febril</td>\n      <td>inform</td>\n      <td>inform_symptoms</td>\n      <td>0.393517</td>\n    </tr>\n    <tr>\n      <th>5834</th>\n      <td>Agora estou sentindo só pelo final do dia</td>\n      <td>inform_symptoms</td>\n      <td>inform</td>\n      <td>0.351290</td>\n    </tr>\n    <tr>\n      <th>24271</th>\n      <td>Cansada em movimentar  nao</td>\n      <td>inform_symptoms</td>\n      <td>inform</td>\n      <td>0.472773</td>\n    </tr>\n    <tr>\n      <th>1535</th>\n      <td>Oi bom dia enfermeiro, desde ja meus parabéns pelo o serviço prest...</td>\n      <td>inform</td>\n      <td>greeting</td>\n      <td>0.606522</td>\n    </tr>\n    <tr>\n      <th>8530</th>\n      <td>Mas isso está me angustiando muito</td>\n      <td>inform</td>\n      <td>inform_symptoms</td>\n      <td>0.398375</td>\n    </tr>\n    <tr>\n      <th>20161</th>\n      <td>Um pouco cansada ainda</td>\n      <td>inform</td>\n      <td>inform_symptoms</td>\n      <td>0.299627</td>\n    </tr>\n    <tr>\n      <th>4085</th>\n      <td>So o Neosoro msm</td>\n      <td>inform</td>\n      <td>inform_medicine</td>\n      <td>0.605146</td>\n    </tr>\n    <tr>\n      <th>4994</th>\n      <td>Sábado começou o desconforto na respiração</td>\n      <td>inform_symptoms</td>\n      <td>inform</td>\n      <td>0.462608</td>\n    </tr>\n    <tr>\n      <th>21951</th>\n      <td>Acho que vou fazer o exame. Tenho 55 anos e sou hipertensa...Nervo...</td>\n      <td>request_inform</td>\n      <td>inform_symptoms</td>\n      <td>0.533815</td>\n    </tr>\n    <tr>\n      <th>4316</th>\n      <td>Prq assim, meu tio é do grupo de alto risco, não tenho contato com...</td>\n      <td>inform_medicine</td>\n      <td>inform_symptoms</td>\n      <td>0.526508</td>\n    </tr>\n    <tr>\n      <th>23178</th>\n      <td>Entendi. Eu vou iniciar o isolamento dentro de casa imensamente. M...</td>\n      <td>inform</td>\n      <td>inform_symptoms</td>\n      <td>0.445668</td>\n    </tr>\n    <tr>\n      <th>12428</th>\n      <td>Muito obg por me  informar</td>\n      <td>request_inform</td>\n      <td>greeting</td>\n      <td>0.254025</td>\n    </tr>\n    <tr>\n      <th>3910</th>\n      <td>GRACAS A DEUS N TENHO FEBRE</td>\n      <td>inform</td>\n      <td>inform_symptoms</td>\n      <td>0.508960</td>\n    </tr>\n    <tr>\n      <th>25249</th>\n      <td>Sou alérgico a vários remédio</td>\n      <td>inform_medicine</td>\n      <td>inform</td>\n      <td>0.381888</td>\n    </tr>\n    <tr>\n      <th>9965</th>\n      <td>\"Bom, eu não tenho certeza se estive realmente em contato com pess...</td>\n      <td>inform_symptoms</td>\n      <td>request_inform</td>\n      <td>0.416608</td>\n    </tr>\n    <tr>\n      <th>23941</th>\n      <td>To muito nervosa</td>\n      <td>inform</td>\n      <td>inform_symptoms</td>\n      <td>0.364959</td>\n    </tr>\n    <tr>\n      <th>19646</th>\n      <td>Olha tem momentos q sinto</td>\n      <td>inform_symptoms</td>\n      <td>inform</td>\n      <td>0.284263</td>\n    </tr>\n    <tr>\n      <th>5234</th>\n      <td>Tô tendo que fazer isso sentada e bem lentamente</td>\n      <td>inform_symptoms</td>\n      <td>inform</td>\n      <td>0.563074</td>\n    </tr>\n    <tr>\n      <th>18344</th>\n      <td>Pra tirar essas coisas da minha cabeça</td>\n      <td>inform_symptoms</td>\n      <td>inform</td>\n      <td>0.498494</td>\n    </tr>\n    <tr>\n      <th>7260</th>\n      <td>To aqui desesperada achando q to com convid</td>\n      <td>request_inform</td>\n      <td>inform</td>\n      <td>0.551918</td>\n    </tr>\n    <tr>\n      <th>4884</th>\n      <td>Diarreia</td>\n      <td>greeting</td>\n      <td>inform_symptoms</td>\n      <td>0.410237</td>\n    </tr>\n    <tr>\n      <th>10580</th>\n      <td>Com a fraqueza</td>\n      <td>inform</td>\n      <td>inform_symptoms</td>\n      <td>0.383600</td>\n    </tr>\n    <tr>\n      <th>14408</th>\n      <td>Mas graças a Deus não tive nenhuma reação ruim após o uso</td>\n      <td>inform_symptoms</td>\n      <td>inform</td>\n      <td>0.561588</td>\n    </tr>\n    <tr>\n      <th>22812</th>\n      <td>Ver Tô</td>\n      <td>greeting</td>\n      <td>inform</td>\n      <td>0.582452</td>\n    </tr>\n    <tr>\n      <th>12126</th>\n      <td>Em que temperatura tomo o remedio?</td>\n      <td>inform</td>\n      <td>request_inform</td>\n      <td>0.382536</td>\n    </tr>\n    <tr>\n      <th>11017</th>\n      <td>Pra ir</td>\n      <td>greeting</td>\n      <td>inform</td>\n      <td>0.432595</td>\n    </tr>\n    <tr>\n      <th>16725</th>\n      <td>Garganta como se tivesse bloqueada</td>\n      <td>inform</td>\n      <td>inform_symptoms</td>\n      <td>0.621264</td>\n    </tr>\n    <tr>\n      <th>21035</th>\n      <td>Estou me concentrando muito na respiração, queria saber se isso po...</td>\n      <td>inform_symptoms</td>\n      <td>request_inform</td>\n      <td>0.253143</td>\n    </tr>\n    <tr>\n      <th>21946</th>\n      <td>Neosoro</td>\n      <td>greeting</td>\n      <td>inform_medicine</td>\n      <td>0.458935</td>\n    </tr>\n    <tr>\n      <th>18497</th>\n      <td>De gripe sim</td>\n      <td>request_inform</td>\n      <td>inform</td>\n      <td>0.322010</td>\n    </tr>\n    <tr>\n      <th>25637</th>\n      <td>Ontem meu alfato começou ficar falho</td>\n      <td>inform</td>\n      <td>inform_symptoms</td>\n      <td>0.492952</td>\n    </tr>\n    <tr>\n      <th>5909</th>\n      <td>O quadro foi colocado como renite</td>\n      <td>inform</td>\n      <td>inform_symptoms</td>\n      <td>0.612001</td>\n    </tr>\n    <tr>\n      <th>23356</th>\n      <td>Só mesmo ontem a noite e na sexta a noite tb</td>\n      <td>inform_symptoms</td>\n      <td>inform</td>\n      <td>0.401371</td>\n    </tr>\n    <tr>\n      <th>21672</th>\n      <td>Se não me falha a memória</td>\n      <td>inform_symptoms</td>\n      <td>inform</td>\n      <td>0.506004</td>\n    </tr>\n    <tr>\n      <th>1559</th>\n      <td>Renite e sinusite</td>\n      <td>inform_medicine</td>\n      <td>inform_symptoms</td>\n      <td>0.412637</td>\n    </tr>\n    <tr>\n      <th>3878</th>\n      <td>ESSA TOSSE COM CATARRO</td>\n      <td>inform_medicine</td>\n      <td>inform_symptoms</td>\n      <td>0.516654</td>\n    </tr>\n    <tr>\n      <th>24687</th>\n      <td>Acho que isso contribui pra algumas coisa que eu sinto hoje</td>\n      <td>inform_symptoms</td>\n      <td>inform</td>\n      <td>0.525311</td>\n    </tr>\n    <tr>\n      <th>18120</th>\n      <td>A minha é de 37,4 não passou disso e só senti uma vez</td>\n      <td>inform</td>\n      <td>inform_symptoms</td>\n      <td>0.469983</td>\n    </tr>\n    <tr>\n      <th>7903</th>\n      <td>Precisa puxar mais um pouco de ar.</td>\n      <td>inform_symptoms</td>\n      <td>inform</td>\n      <td>0.636486</td>\n    </tr>\n    <tr>\n      <th>4255</th>\n      <td>Porem n fiz exames</td>\n      <td>request_inform</td>\n      <td>inform</td>\n      <td>0.354550</td>\n    </tr>\n    <tr>\n      <th>13115</th>\n      <td>Alerg9as alimentares</td>\n      <td>inform_medicine</td>\n      <td>inform</td>\n      <td>0.529214</td>\n    </tr>\n  </tbody>\n</table>\n</div>"
     },
     "execution_count": 61,
     "metadata": {},
     "output_type": "execute_result"
    }
   ],
   "source": [
    "differences = random_higher_distances_df[random_higher_distances_df.apply(lambda x: x['intent'] != x['manual_label'], axis=1)]\n",
    "\n",
    "print(differences.describe())\n",
    "\n",
    "differences[['txt', 'intent', 'manual_label', 'distance']].head(50)"
   ],
   "metadata": {
    "collapsed": false,
    "pycharm": {
     "name": "#%%\n"
    }
   }
  },
  {
   "cell_type": "code",
   "execution_count": 63,
   "outputs": [
    {
     "data": {
      "text/plain": "      V_000     V_001     V_002     V_003     V_004     V_005     V_006  \\\n0 -0.022669 -0.061208  0.003736  0.007147 -0.082954  0.050146 -0.002650   \n1 -0.035462 -0.008966 -0.018063  0.010098 -0.010659 -0.001407 -0.000123   \n\n      V_007     V_008     V_009  ...     V_503     V_504     V_505     V_506  \\\n0  0.031844 -0.054984  0.034181  ... -0.028898  0.012946  0.003666 -0.037578   \n1 -0.000145 -0.044095  0.040530  ... -0.029890 -0.016296  0.071277 -0.046813   \n\n      V_507     V_508     V_509     V_510     V_511  label  \n0 -0.031985  0.037607 -0.044444 -0.021451  0.090896      5  \n1  0.001874  0.001296 -0.100866  0.077414 -0.056887      1  \n\n[2 rows x 513 columns]",
      "text/html": "<div>\n<style scoped>\n    .dataframe tbody tr th:only-of-type {\n        vertical-align: middle;\n    }\n\n    .dataframe tbody tr th {\n        vertical-align: top;\n    }\n\n    .dataframe thead th {\n        text-align: right;\n    }\n</style>\n<table border=\"1\" class=\"dataframe\">\n  <thead>\n    <tr style=\"text-align: right;\">\n      <th></th>\n      <th>V_000</th>\n      <th>V_001</th>\n      <th>V_002</th>\n      <th>V_003</th>\n      <th>V_004</th>\n      <th>V_005</th>\n      <th>V_006</th>\n      <th>V_007</th>\n      <th>V_008</th>\n      <th>V_009</th>\n      <th>...</th>\n      <th>V_503</th>\n      <th>V_504</th>\n      <th>V_505</th>\n      <th>V_506</th>\n      <th>V_507</th>\n      <th>V_508</th>\n      <th>V_509</th>\n      <th>V_510</th>\n      <th>V_511</th>\n      <th>label</th>\n    </tr>\n  </thead>\n  <tbody>\n    <tr>\n      <th>0</th>\n      <td>-0.022669</td>\n      <td>-0.061208</td>\n      <td>0.003736</td>\n      <td>0.007147</td>\n      <td>-0.082954</td>\n      <td>0.050146</td>\n      <td>-0.002650</td>\n      <td>0.031844</td>\n      <td>-0.054984</td>\n      <td>0.034181</td>\n      <td>...</td>\n      <td>-0.028898</td>\n      <td>0.012946</td>\n      <td>0.003666</td>\n      <td>-0.037578</td>\n      <td>-0.031985</td>\n      <td>0.037607</td>\n      <td>-0.044444</td>\n      <td>-0.021451</td>\n      <td>0.090896</td>\n      <td>5</td>\n    </tr>\n    <tr>\n      <th>1</th>\n      <td>-0.035462</td>\n      <td>-0.008966</td>\n      <td>-0.018063</td>\n      <td>0.010098</td>\n      <td>-0.010659</td>\n      <td>-0.001407</td>\n      <td>-0.000123</td>\n      <td>-0.000145</td>\n      <td>-0.044095</td>\n      <td>0.040530</td>\n      <td>...</td>\n      <td>-0.029890</td>\n      <td>-0.016296</td>\n      <td>0.071277</td>\n      <td>-0.046813</td>\n      <td>0.001874</td>\n      <td>0.001296</td>\n      <td>-0.100866</td>\n      <td>0.077414</td>\n      <td>-0.056887</td>\n      <td>1</td>\n    </tr>\n  </tbody>\n</table>\n<p>2 rows × 513 columns</p>\n</div>"
     },
     "execution_count": 63,
     "metadata": {},
     "output_type": "execute_result"
    }
   ],
   "source": [
    "df_to_predict_manual = pipeline.generate_df_from_x_y(\n",
    "    x_data=df_classified_manual['embeddings'].to_numpy(),\n",
    "    y_data=df_classified_manual['label_index'].to_numpy()\n",
    ")\n",
    "\n",
    "\n",
    "df_to_predict_manual.head(2)"
   ],
   "metadata": {
    "collapsed": false,
    "pycharm": {
     "name": "#%%\n"
    }
   }
  },
  {
   "cell_type": "code",
   "execution_count": 16,
   "outputs": [
    {
     "name": "stdout",
     "output_type": "stream",
     "text": [
      "Checking whether there is an H2O instance running at http://localhost:54321 . connected.\n"
     ]
    },
    {
     "data": {
      "text/plain": "--------------------------  -----------------------------\nH2O_cluster_uptime:         1 hour 21 mins\nH2O_cluster_timezone:       America/Fortaleza\nH2O_data_parsing_timezone:  UTC\nH2O_cluster_version:        3.36.1.1\nH2O_cluster_version_age:    15 days\nH2O_cluster_name:           H2O_from_python_valmir_rpfn0h\nH2O_cluster_total_nodes:    1\nH2O_cluster_free_memory:    7.442 Gb\nH2O_cluster_total_cores:    16\nH2O_cluster_allowed_cores:  16\nH2O_cluster_status:         locked, healthy\nH2O_connection_url:         http://localhost:54321\nH2O_connection_proxy:       {\"http\": null, \"https\": null}\nH2O_internal_security:      False\nPython_version:             3.9.12 final\n--------------------------  -----------------------------",
      "text/html": "<div style=\"overflow:auto\"><table style=\"width:50%\"><tr><td>H2O_cluster_uptime:</td>\n<td>1 hour 21 mins</td></tr>\n<tr><td>H2O_cluster_timezone:</td>\n<td>America/Fortaleza</td></tr>\n<tr><td>H2O_data_parsing_timezone:</td>\n<td>UTC</td></tr>\n<tr><td>H2O_cluster_version:</td>\n<td>3.36.1.1</td></tr>\n<tr><td>H2O_cluster_version_age:</td>\n<td>15 days </td></tr>\n<tr><td>H2O_cluster_name:</td>\n<td>H2O_from_python_valmir_rpfn0h</td></tr>\n<tr><td>H2O_cluster_total_nodes:</td>\n<td>1</td></tr>\n<tr><td>H2O_cluster_free_memory:</td>\n<td>7.442 Gb</td></tr>\n<tr><td>H2O_cluster_total_cores:</td>\n<td>16</td></tr>\n<tr><td>H2O_cluster_allowed_cores:</td>\n<td>16</td></tr>\n<tr><td>H2O_cluster_status:</td>\n<td>locked, healthy</td></tr>\n<tr><td>H2O_connection_url:</td>\n<td>http://localhost:54321</td></tr>\n<tr><td>H2O_connection_proxy:</td>\n<td>{\"http\": null, \"https\": null}</td></tr>\n<tr><td>H2O_internal_security:</td>\n<td>False</td></tr>\n<tr><td>Python_version:</td>\n<td>3.9.12 final</td></tr></table></div>"
     },
     "metadata": {},
     "output_type": "display_data"
    }
   ],
   "source": [
    "import h2o\n",
    "\n",
    "h2o.init()"
   ],
   "metadata": {
    "collapsed": false,
    "pycharm": {
     "name": "#%%\n"
    }
   }
  },
  {
   "cell_type": "code",
   "execution_count": 17,
   "outputs": [
    {
     "name": "stdout",
     "output_type": "stream",
     "text": [
      "Model Details\n",
      "=============\n",
      "H2OStackedEnsembleEstimator :  Stacked Ensemble\n",
      "Model Key:  StackedEnsemble_AllModels_1_AutoML_1_20220428_200646\n",
      "\n",
      "No model summary for this model\n",
      "\n",
      "ModelMetricsMultinomialGLM: stackedensemble\n",
      "** Reported on train data. **\n",
      "\n",
      "MSE: 3.082669827511523e-06\n",
      "RMSE: 0.001755753350420133\n",
      "\n",
      "ModelMetricsMultinomialGLM: stackedensemble\n",
      "** Reported on cross-validation data. **\n",
      "\n",
      "MSE: 0.003141757357402852\n",
      "RMSE: 0.05605138140494712\n",
      "\n",
      "Cross-Validation Metrics Summary: \n"
     ]
    },
    {
     "data": {
      "text/plain": "                                    mean         sd   cv_1_valid   cv_2_valid  \\\n0                  accuracy     0.996224   0.003082     0.994889     0.998352   \n1                       auc          NaN   0.000000          NaN          NaN   \n2                       err     0.003776   0.003082     0.005111     0.001647   \n3                 err_count     2.200000   1.788854     3.000000     1.000000   \n4                   logloss     0.014103   0.007704     0.013320     0.016439   \n5       max_per_class_error     0.027263   0.015578     0.019231     0.023256   \n6   mean_per_class_accuracy     0.991418   0.006044     0.991334     0.995349   \n7      mean_per_class_error     0.008582   0.006044     0.008666     0.004651   \n8                       mse     0.003058   0.002393     0.004068     0.001898   \n9             null_deviance  1393.299300  61.210255  1407.155900  1467.154200   \n10                   pr_auc          NaN   0.000000          NaN          NaN   \n11                       r2     0.997540   0.001993     0.996969     0.998489   \n12        residual_deviance    16.557772   9.057345    15.637146    19.956640   \n13                     rmse     0.051867   0.021449     0.063777     0.043567   \n\n     cv_3_valid   cv_4_valid   cv_5_valid  \n0      0.998291     0.991379     0.998208  \n1           NaN          NaN          NaN  \n2      0.001709     0.008621     0.001792  \n3      1.000000     5.000000     1.000000  \n4      0.011068     0.025356     0.004330  \n5      0.009346     0.034483     0.050000  \n6      0.998131     0.982275     0.990000  \n7      0.001869     0.017725     0.010000  \n8      0.001874     0.006746     0.000706  \n9   1398.317700  1397.012600  1296.856300  \n10          NaN          NaN          NaN  \n11     0.998484     0.994338     0.999418  \n12    12.950107    29.412502     4.832465  \n13     0.043286     0.082132     0.026571  ",
      "text/html": "<div>\n<style scoped>\n    .dataframe tbody tr th:only-of-type {\n        vertical-align: middle;\n    }\n\n    .dataframe tbody tr th {\n        vertical-align: top;\n    }\n\n    .dataframe thead th {\n        text-align: right;\n    }\n</style>\n<table border=\"1\" class=\"dataframe\">\n  <thead>\n    <tr style=\"text-align: right;\">\n      <th></th>\n      <th></th>\n      <th>mean</th>\n      <th>sd</th>\n      <th>cv_1_valid</th>\n      <th>cv_2_valid</th>\n      <th>cv_3_valid</th>\n      <th>cv_4_valid</th>\n      <th>cv_5_valid</th>\n    </tr>\n  </thead>\n  <tbody>\n    <tr>\n      <th>0</th>\n      <td>accuracy</td>\n      <td>0.996224</td>\n      <td>0.003082</td>\n      <td>0.994889</td>\n      <td>0.998352</td>\n      <td>0.998291</td>\n      <td>0.991379</td>\n      <td>0.998208</td>\n    </tr>\n    <tr>\n      <th>1</th>\n      <td>auc</td>\n      <td>NaN</td>\n      <td>0.000000</td>\n      <td>NaN</td>\n      <td>NaN</td>\n      <td>NaN</td>\n      <td>NaN</td>\n      <td>NaN</td>\n    </tr>\n    <tr>\n      <th>2</th>\n      <td>err</td>\n      <td>0.003776</td>\n      <td>0.003082</td>\n      <td>0.005111</td>\n      <td>0.001647</td>\n      <td>0.001709</td>\n      <td>0.008621</td>\n      <td>0.001792</td>\n    </tr>\n    <tr>\n      <th>3</th>\n      <td>err_count</td>\n      <td>2.200000</td>\n      <td>1.788854</td>\n      <td>3.000000</td>\n      <td>1.000000</td>\n      <td>1.000000</td>\n      <td>5.000000</td>\n      <td>1.000000</td>\n    </tr>\n    <tr>\n      <th>4</th>\n      <td>logloss</td>\n      <td>0.014103</td>\n      <td>0.007704</td>\n      <td>0.013320</td>\n      <td>0.016439</td>\n      <td>0.011068</td>\n      <td>0.025356</td>\n      <td>0.004330</td>\n    </tr>\n    <tr>\n      <th>5</th>\n      <td>max_per_class_error</td>\n      <td>0.027263</td>\n      <td>0.015578</td>\n      <td>0.019231</td>\n      <td>0.023256</td>\n      <td>0.009346</td>\n      <td>0.034483</td>\n      <td>0.050000</td>\n    </tr>\n    <tr>\n      <th>6</th>\n      <td>mean_per_class_accuracy</td>\n      <td>0.991418</td>\n      <td>0.006044</td>\n      <td>0.991334</td>\n      <td>0.995349</td>\n      <td>0.998131</td>\n      <td>0.982275</td>\n      <td>0.990000</td>\n    </tr>\n    <tr>\n      <th>7</th>\n      <td>mean_per_class_error</td>\n      <td>0.008582</td>\n      <td>0.006044</td>\n      <td>0.008666</td>\n      <td>0.004651</td>\n      <td>0.001869</td>\n      <td>0.017725</td>\n      <td>0.010000</td>\n    </tr>\n    <tr>\n      <th>8</th>\n      <td>mse</td>\n      <td>0.003058</td>\n      <td>0.002393</td>\n      <td>0.004068</td>\n      <td>0.001898</td>\n      <td>0.001874</td>\n      <td>0.006746</td>\n      <td>0.000706</td>\n    </tr>\n    <tr>\n      <th>9</th>\n      <td>null_deviance</td>\n      <td>1393.299300</td>\n      <td>61.210255</td>\n      <td>1407.155900</td>\n      <td>1467.154200</td>\n      <td>1398.317700</td>\n      <td>1397.012600</td>\n      <td>1296.856300</td>\n    </tr>\n    <tr>\n      <th>10</th>\n      <td>pr_auc</td>\n      <td>NaN</td>\n      <td>0.000000</td>\n      <td>NaN</td>\n      <td>NaN</td>\n      <td>NaN</td>\n      <td>NaN</td>\n      <td>NaN</td>\n    </tr>\n    <tr>\n      <th>11</th>\n      <td>r2</td>\n      <td>0.997540</td>\n      <td>0.001993</td>\n      <td>0.996969</td>\n      <td>0.998489</td>\n      <td>0.998484</td>\n      <td>0.994338</td>\n      <td>0.999418</td>\n    </tr>\n    <tr>\n      <th>12</th>\n      <td>residual_deviance</td>\n      <td>16.557772</td>\n      <td>9.057345</td>\n      <td>15.637146</td>\n      <td>19.956640</td>\n      <td>12.950107</td>\n      <td>29.412502</td>\n      <td>4.832465</td>\n    </tr>\n    <tr>\n      <th>13</th>\n      <td>rmse</td>\n      <td>0.051867</td>\n      <td>0.021449</td>\n      <td>0.063777</td>\n      <td>0.043567</td>\n      <td>0.043286</td>\n      <td>0.082132</td>\n      <td>0.026571</td>\n    </tr>\n  </tbody>\n</table>\n</div>"
     },
     "metadata": {},
     "output_type": "display_data"
    },
    {
     "data": {
      "text/plain": ""
     },
     "execution_count": 17,
     "metadata": {},
     "output_type": "execute_result"
    }
   ],
   "source": [
    "model_path = file_manager.filename_from_data_dir('output/h2o/models/StackedEnsemble_AllModels_1_AutoML_1_20220428_200646')\n",
    "\n",
    "leader_model = h2o.load_model(model_path)\n",
    "\n",
    "leader_model"
   ],
   "metadata": {
    "collapsed": false,
    "pycharm": {
     "name": "#%%\n"
    }
   }
  },
  {
   "cell_type": "code",
   "execution_count": 64,
   "outputs": [
    {
     "name": "stdout",
     "output_type": "stream",
     "text": [
      "Parse progress: |████████████████████████████████████████████████████████████████| (done) 100%\n",
      "stackedensemble prediction progress: |███████████████████████████████████████████| (done) 100%\n",
      "1000 1000\n"
     ]
    }
   ],
   "source": [
    "hf_preds_manual= leader_model.predict(h2o.H2OFrame(df_to_predict_manual))\n",
    "\n",
    "predicts_manual = hf_preds_manual.as_data_frame().predict.to_numpy()\n",
    "\n",
    "correct_label_manual = df_to_predict_manual.label.to_numpy()\n",
    "\n",
    "print(len(predicts_manual), len(correct_label_manual))"
   ],
   "metadata": {
    "collapsed": false,
    "pycharm": {
     "name": "#%%\n"
    }
   }
  },
  {
   "cell_type": "code",
   "execution_count": 65,
   "outputs": [
    {
     "data": {
      "text/plain": "0.727"
     },
     "execution_count": 65,
     "metadata": {},
     "output_type": "execute_result"
    }
   ],
   "source": [
    "correct_predict_manual = np.equal(predicts_manual, correct_label_manual).sum()\n",
    "\n",
    "correct_predict_manual / len(correct_label_manual)"
   ],
   "metadata": {
    "collapsed": false,
    "pycharm": {
     "name": "#%%\n"
    }
   }
  },
  {
   "cell_type": "code",
   "execution_count": null,
   "outputs": [],
   "source": [],
   "metadata": {
    "collapsed": false,
    "pycharm": {
     "name": "#%%\n"
    }
   }
  }
 ],
 "metadata": {
  "interpreter": {
   "hash": "da386d383b1a4f2ab977ab0cc371ee70ac9bd2160da3f0bf5cca7f94d497a6a3"
  },
  "kernelspec": {
   "display_name": "Python 3.9.7 ('venv': venv)",
   "language": "python",
   "name": "python3"
  },
  "language_info": {
   "codemirror_mode": {
    "name": "ipython",
    "version": 3
   },
   "file_extension": ".py",
   "mimetype": "text/x-python",
   "name": "python",
   "nbconvert_exporter": "python",
   "pygments_lexer": "ipython3",
   "version": "3.9.7"
  },
  "orig_nbformat": 4
 },
 "nbformat": 4,
 "nbformat_minor": 2
}
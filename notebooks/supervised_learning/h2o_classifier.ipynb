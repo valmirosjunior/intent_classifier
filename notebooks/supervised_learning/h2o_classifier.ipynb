{
 "cells": [
  {
   "cell_type": "code",
   "execution_count": 1,
   "outputs": [],
   "source": [
    "%load_ext autoreload\n",
    "\n",
    "%autoreload 2"
   ],
   "metadata": {
    "collapsed": false,
    "pycharm": {
     "name": "#%%\n"
    }
   }
  },
  {
   "cell_type": "code",
   "execution_count": 2,
   "metadata": {
    "pycharm": {
     "name": "#%%\n"
    }
   },
   "outputs": [],
   "source": [
    "import pandas as pd\n",
    "import numpy as np\n",
    "\n",
    "from src.ml import pipeline\n",
    "from src.core import file_manager"
   ]
  },
  {
   "cell_type": "code",
   "execution_count": 3,
   "metadata": {
    "pycharm": {
     "name": "#%%\n"
    }
   },
   "outputs": [
    {
     "data": {
      "text/plain": "                                      txt  label  distance           intent  \\\n0  Há dois tias estou com dor na garganta     15  0.232881  inform_symptoms   \n1        Estou preocupado pois tenho asma     55  0.339475  inform_symptoms   \n2                                Só ontem     10  0.259325           inform   \n3                                     Sim     12  0.099960           inform   \n4                  Chenil e aerodin spray     54  0.700803  inform_medicine   \n\n                                       annotated_txt  \n0  Há dois tias estou com [dor](SINTOMA) na [garg...  \n1        Estou preocupado pois tenho [asma](SINTOMA)  \n2                                           Só ontem  \n3                                                Sim  \n4                             Chenil e aerodin spray  ",
      "text/html": "<div>\n<style scoped>\n    .dataframe tbody tr th:only-of-type {\n        vertical-align: middle;\n    }\n\n    .dataframe tbody tr th {\n        vertical-align: top;\n    }\n\n    .dataframe thead th {\n        text-align: right;\n    }\n</style>\n<table border=\"1\" class=\"dataframe\">\n  <thead>\n    <tr style=\"text-align: right;\">\n      <th></th>\n      <th>txt</th>\n      <th>label</th>\n      <th>distance</th>\n      <th>intent</th>\n      <th>annotated_txt</th>\n    </tr>\n  </thead>\n  <tbody>\n    <tr>\n      <th>0</th>\n      <td>Há dois tias estou com dor na garganta</td>\n      <td>15</td>\n      <td>0.232881</td>\n      <td>inform_symptoms</td>\n      <td>Há dois tias estou com [dor](SINTOMA) na [garg...</td>\n    </tr>\n    <tr>\n      <th>1</th>\n      <td>Estou preocupado pois tenho asma</td>\n      <td>55</td>\n      <td>0.339475</td>\n      <td>inform_symptoms</td>\n      <td>Estou preocupado pois tenho [asma](SINTOMA)</td>\n    </tr>\n    <tr>\n      <th>2</th>\n      <td>Só ontem</td>\n      <td>10</td>\n      <td>0.259325</td>\n      <td>inform</td>\n      <td>Só ontem</td>\n    </tr>\n    <tr>\n      <th>3</th>\n      <td>Sim</td>\n      <td>12</td>\n      <td>0.099960</td>\n      <td>inform</td>\n      <td>Sim</td>\n    </tr>\n    <tr>\n      <th>4</th>\n      <td>Chenil e aerodin spray</td>\n      <td>54</td>\n      <td>0.700803</td>\n      <td>inform_medicine</td>\n      <td>Chenil e aerodin spray</td>\n    </tr>\n  </tbody>\n</table>\n</div>"
     },
     "execution_count": 3,
     "metadata": {},
     "output_type": "execute_result"
    }
   ],
   "source": [
    "df_annotated = pipeline.get_annotated_df('use')\n",
    "\n",
    "df_annotated.head()"
   ]
  },
  {
   "cell_type": "code",
   "execution_count": 4,
   "metadata": {
    "pycharm": {
     "name": "#%%\n"
    }
   },
   "outputs": [],
   "source": [
    "df_embeddings = pipeline.get_embedding_dfs('use')\n",
    "\n",
    "dict_embeddings = pipeline.generate_dict_embedding_text(df_embeddings)"
   ]
  },
  {
   "cell_type": "code",
   "execution_count": 5,
   "outputs": [],
   "source": [
    "df_annotated['label_index'] = df_annotated['intent'].map(pipeline.dict_labels)\n",
    "\n",
    "df_annotated['embeddings'] = df_annotated['txt'].map(dict_embeddings)"
   ],
   "metadata": {
    "collapsed": false,
    "pycharm": {
     "name": "#%%\n"
    }
   }
  },
  {
   "cell_type": "code",
   "execution_count": 6,
   "metadata": {
    "pycharm": {
     "name": "#%%\n"
    }
   },
   "outputs": [
    {
     "name": "stdout",
     "output_type": "stream",
     "text": [
      "{'inform': 1, 'inform_symptoms': 2, 'inform_medicine': 3, 'greeting': 4, 'request_inform': 5}\n"
     ]
    }
   ],
   "source": [
    "print(pipeline.dict_labels)"
   ]
  },
  {
   "cell_type": "code",
   "execution_count": 7,
   "outputs": [
    {
     "data": {
      "text/plain": "                                txt  label  distance           intent  \\\n1  Estou preocupado pois tenho asma     55  0.339475  inform_symptoms   \n2                          Só ontem     10  0.259325           inform   \n\n                                 annotated_txt  label_index  \\\n1  Estou preocupado pois tenho [asma](SINTOMA)            2   \n2                                     Só ontem            1   \n\n                                          embeddings  \n1  [-0.008343049, 0.03336755, -0.0464416560000000...  \n2  [0.06786111, -0.05606858, -0.0013129263, -0.03...  ",
      "text/html": "<div>\n<style scoped>\n    .dataframe tbody tr th:only-of-type {\n        vertical-align: middle;\n    }\n\n    .dataframe tbody tr th {\n        vertical-align: top;\n    }\n\n    .dataframe thead th {\n        text-align: right;\n    }\n</style>\n<table border=\"1\" class=\"dataframe\">\n  <thead>\n    <tr style=\"text-align: right;\">\n      <th></th>\n      <th>txt</th>\n      <th>label</th>\n      <th>distance</th>\n      <th>intent</th>\n      <th>annotated_txt</th>\n      <th>label_index</th>\n      <th>embeddings</th>\n    </tr>\n  </thead>\n  <tbody>\n    <tr>\n      <th>1</th>\n      <td>Estou preocupado pois tenho asma</td>\n      <td>55</td>\n      <td>0.339475</td>\n      <td>inform_symptoms</td>\n      <td>Estou preocupado pois tenho [asma](SINTOMA)</td>\n      <td>2</td>\n      <td>[-0.008343049, 0.03336755, -0.0464416560000000...</td>\n    </tr>\n    <tr>\n      <th>2</th>\n      <td>Só ontem</td>\n      <td>10</td>\n      <td>0.259325</td>\n      <td>inform</td>\n      <td>Só ontem</td>\n      <td>1</td>\n      <td>[0.06786111, -0.05606858, -0.0013129263, -0.03...</td>\n    </tr>\n  </tbody>\n</table>\n</div>"
     },
     "execution_count": 7,
     "metadata": {},
     "output_type": "execute_result"
    }
   ],
   "source": [
    "higher_distances_df = df_annotated[df_annotated['distance'] > 0.25]\n",
    "\n",
    "higher_distances_df.head(2)"
   ],
   "metadata": {
    "collapsed": false,
    "pycharm": {
     "name": "#%%\n"
    }
   }
  },
  {
   "cell_type": "code",
   "execution_count": 8,
   "outputs": [
    {
     "data": {
      "text/plain": "      V_000     V_001     V_002     V_003     V_004     V_005     V_006  \\\n0 -0.008343  0.033368 -0.046442 -0.052166 -0.091297 -0.001843  0.033507   \n1  0.067861 -0.056069 -0.001313 -0.030145 -0.092034 -0.000798  0.052008   \n\n      V_007     V_008     V_009  ...     V_503     V_504     V_505     V_506  \\\n0  0.027626 -0.082742  0.012627  ... -0.069063  0.066489  0.016825  0.019510   \n1  0.061108 -0.091092 -0.012032  ... -0.049187  0.080142  0.014424  0.043665   \n\n      V_507     V_508     V_509     V_510     V_511  label  \n0  0.005963  0.065603 -0.042441  0.007935  0.070579      2  \n1 -0.016288  0.010631 -0.091025  0.029442 -0.074986      1  \n\n[2 rows x 513 columns]",
      "text/html": "<div>\n<style scoped>\n    .dataframe tbody tr th:only-of-type {\n        vertical-align: middle;\n    }\n\n    .dataframe tbody tr th {\n        vertical-align: top;\n    }\n\n    .dataframe thead th {\n        text-align: right;\n    }\n</style>\n<table border=\"1\" class=\"dataframe\">\n  <thead>\n    <tr style=\"text-align: right;\">\n      <th></th>\n      <th>V_000</th>\n      <th>V_001</th>\n      <th>V_002</th>\n      <th>V_003</th>\n      <th>V_004</th>\n      <th>V_005</th>\n      <th>V_006</th>\n      <th>V_007</th>\n      <th>V_008</th>\n      <th>V_009</th>\n      <th>...</th>\n      <th>V_503</th>\n      <th>V_504</th>\n      <th>V_505</th>\n      <th>V_506</th>\n      <th>V_507</th>\n      <th>V_508</th>\n      <th>V_509</th>\n      <th>V_510</th>\n      <th>V_511</th>\n      <th>label</th>\n    </tr>\n  </thead>\n  <tbody>\n    <tr>\n      <th>0</th>\n      <td>-0.008343</td>\n      <td>0.033368</td>\n      <td>-0.046442</td>\n      <td>-0.052166</td>\n      <td>-0.091297</td>\n      <td>-0.001843</td>\n      <td>0.033507</td>\n      <td>0.027626</td>\n      <td>-0.082742</td>\n      <td>0.012627</td>\n      <td>...</td>\n      <td>-0.069063</td>\n      <td>0.066489</td>\n      <td>0.016825</td>\n      <td>0.019510</td>\n      <td>0.005963</td>\n      <td>0.065603</td>\n      <td>-0.042441</td>\n      <td>0.007935</td>\n      <td>0.070579</td>\n      <td>2</td>\n    </tr>\n    <tr>\n      <th>1</th>\n      <td>0.067861</td>\n      <td>-0.056069</td>\n      <td>-0.001313</td>\n      <td>-0.030145</td>\n      <td>-0.092034</td>\n      <td>-0.000798</td>\n      <td>0.052008</td>\n      <td>0.061108</td>\n      <td>-0.091092</td>\n      <td>-0.012032</td>\n      <td>...</td>\n      <td>-0.049187</td>\n      <td>0.080142</td>\n      <td>0.014424</td>\n      <td>0.043665</td>\n      <td>-0.016288</td>\n      <td>0.010631</td>\n      <td>-0.091025</td>\n      <td>0.029442</td>\n      <td>-0.074986</td>\n      <td>1</td>\n    </tr>\n  </tbody>\n</table>\n<p>2 rows × 513 columns</p>\n</div>"
     },
     "execution_count": 8,
     "metadata": {},
     "output_type": "execute_result"
    }
   ],
   "source": [
    "df_to_predict = pipeline.generate_df_from_x_y(\n",
    "    x_data=higher_distances_df['embeddings'].to_numpy(),\n",
    "    y_data=higher_distances_df['label_index'].to_numpy()\n",
    ")\n",
    "\n",
    "\n",
    "df_to_predict.head(2)"
   ],
   "metadata": {
    "collapsed": false,
    "pycharm": {
     "name": "#%%\n"
    }
   }
  },
  {
   "cell_type": "code",
   "execution_count": 9,
   "outputs": [
    {
     "name": "stdout",
     "output_type": "stream",
     "text": [
      "Checking whether there is an H2O instance running at http://localhost:54321 ..... not found.\n",
      "Attempting to start a local H2O server...\n",
      "  Java Version: openjdk version \"11.0.15\" 2022-04-19; OpenJDK Runtime Environment (build 11.0.15+10-Ubuntu-0ubuntu0.22.04.1); OpenJDK 64-Bit Server VM (build 11.0.15+10-Ubuntu-0ubuntu0.22.04.1, mixed mode, sharing)\n",
      "  Starting server from /home/valmir/dev/python/intent_classifier/venv/lib/python3.9/site-packages/h2o/backend/bin/h2o.jar\n",
      "  Ice root: /tmp/tmpuj4xwjmu\n",
      "  JVM stdout: /tmp/tmpuj4xwjmu/h2o_valmir_started_from_python.out\n",
      "  JVM stderr: /tmp/tmpuj4xwjmu/h2o_valmir_started_from_python.err\n",
      "  Server is running at http://127.0.0.1:54321\n",
      "Connecting to H2O server at http://127.0.0.1:54321 ... successful.\n"
     ]
    },
    {
     "data": {
      "text/plain": "--------------------------  -----------------------------\nH2O_cluster_uptime:         00 secs\nH2O_cluster_timezone:       America/Fortaleza\nH2O_data_parsing_timezone:  UTC\nH2O_cluster_version:        3.36.1.1\nH2O_cluster_version_age:    15 days\nH2O_cluster_name:           H2O_from_python_valmir_jl0w66\nH2O_cluster_total_nodes:    1\nH2O_cluster_free_memory:    7.777 Gb\nH2O_cluster_total_cores:    16\nH2O_cluster_allowed_cores:  16\nH2O_cluster_status:         locked, healthy\nH2O_connection_url:         http://127.0.0.1:54321\nH2O_connection_proxy:       {\"http\": null, \"https\": null}\nH2O_internal_security:      False\nPython_version:             3.9.12 final\n--------------------------  -----------------------------",
      "text/html": "<div style=\"overflow:auto\"><table style=\"width:50%\"><tr><td>H2O_cluster_uptime:</td>\n<td>00 secs</td></tr>\n<tr><td>H2O_cluster_timezone:</td>\n<td>America/Fortaleza</td></tr>\n<tr><td>H2O_data_parsing_timezone:</td>\n<td>UTC</td></tr>\n<tr><td>H2O_cluster_version:</td>\n<td>3.36.1.1</td></tr>\n<tr><td>H2O_cluster_version_age:</td>\n<td>15 days </td></tr>\n<tr><td>H2O_cluster_name:</td>\n<td>H2O_from_python_valmir_jl0w66</td></tr>\n<tr><td>H2O_cluster_total_nodes:</td>\n<td>1</td></tr>\n<tr><td>H2O_cluster_free_memory:</td>\n<td>7.777 Gb</td></tr>\n<tr><td>H2O_cluster_total_cores:</td>\n<td>16</td></tr>\n<tr><td>H2O_cluster_allowed_cores:</td>\n<td>16</td></tr>\n<tr><td>H2O_cluster_status:</td>\n<td>locked, healthy</td></tr>\n<tr><td>H2O_connection_url:</td>\n<td>http://127.0.0.1:54321</td></tr>\n<tr><td>H2O_connection_proxy:</td>\n<td>{\"http\": null, \"https\": null}</td></tr>\n<tr><td>H2O_internal_security:</td>\n<td>False</td></tr>\n<tr><td>Python_version:</td>\n<td>3.9.12 final</td></tr></table></div>"
     },
     "metadata": {},
     "output_type": "display_data"
    }
   ],
   "source": [
    "import h2o\n",
    "\n",
    "h2o.init()"
   ],
   "metadata": {
    "collapsed": false,
    "pycharm": {
     "name": "#%%\n"
    }
   }
  },
  {
   "cell_type": "code",
   "execution_count": 10,
   "outputs": [
    {
     "name": "stdout",
     "output_type": "stream",
     "text": [
      "Model Details\n",
      "=============\n",
      "H2OStackedEnsembleEstimator :  Stacked Ensemble\n",
      "Model Key:  StackedEnsemble_AllModels_1_AutoML_1_20220428_200646\n",
      "\n",
      "No model summary for this model\n",
      "\n",
      "ModelMetricsMultinomialGLM: stackedensemble\n",
      "** Reported on train data. **\n",
      "\n",
      "MSE: 3.082669827511523e-06\n",
      "RMSE: 0.001755753350420133\n",
      "\n",
      "ModelMetricsMultinomialGLM: stackedensemble\n",
      "** Reported on cross-validation data. **\n",
      "\n",
      "MSE: 0.003141757357402852\n",
      "RMSE: 0.05605138140494712\n",
      "\n",
      "Cross-Validation Metrics Summary: \n"
     ]
    },
    {
     "data": {
      "text/plain": "                                    mean         sd   cv_1_valid   cv_2_valid  \\\n0                  accuracy     0.996224   0.003082     0.994889     0.998352   \n1                       auc          NaN   0.000000          NaN          NaN   \n2                       err     0.003776   0.003082     0.005111     0.001647   \n3                 err_count     2.200000   1.788854     3.000000     1.000000   \n4                   logloss     0.014103   0.007704     0.013320     0.016439   \n5       max_per_class_error     0.027263   0.015578     0.019231     0.023256   \n6   mean_per_class_accuracy     0.991418   0.006044     0.991334     0.995349   \n7      mean_per_class_error     0.008582   0.006044     0.008666     0.004651   \n8                       mse     0.003058   0.002393     0.004068     0.001898   \n9             null_deviance  1393.299300  61.210255  1407.155900  1467.154200   \n10                   pr_auc          NaN   0.000000          NaN          NaN   \n11                       r2     0.997540   0.001993     0.996969     0.998489   \n12        residual_deviance    16.557772   9.057345    15.637146    19.956640   \n13                     rmse     0.051867   0.021449     0.063777     0.043567   \n\n     cv_3_valid   cv_4_valid   cv_5_valid  \n0      0.998291     0.991379     0.998208  \n1           NaN          NaN          NaN  \n2      0.001709     0.008621     0.001792  \n3      1.000000     5.000000     1.000000  \n4      0.011068     0.025356     0.004330  \n5      0.009346     0.034483     0.050000  \n6      0.998131     0.982275     0.990000  \n7      0.001869     0.017725     0.010000  \n8      0.001874     0.006746     0.000706  \n9   1398.317700  1397.012600  1296.856300  \n10          NaN          NaN          NaN  \n11     0.998484     0.994338     0.999418  \n12    12.950107    29.412502     4.832465  \n13     0.043286     0.082132     0.026571  ",
      "text/html": "<div>\n<style scoped>\n    .dataframe tbody tr th:only-of-type {\n        vertical-align: middle;\n    }\n\n    .dataframe tbody tr th {\n        vertical-align: top;\n    }\n\n    .dataframe thead th {\n        text-align: right;\n    }\n</style>\n<table border=\"1\" class=\"dataframe\">\n  <thead>\n    <tr style=\"text-align: right;\">\n      <th></th>\n      <th></th>\n      <th>mean</th>\n      <th>sd</th>\n      <th>cv_1_valid</th>\n      <th>cv_2_valid</th>\n      <th>cv_3_valid</th>\n      <th>cv_4_valid</th>\n      <th>cv_5_valid</th>\n    </tr>\n  </thead>\n  <tbody>\n    <tr>\n      <th>0</th>\n      <td>accuracy</td>\n      <td>0.996224</td>\n      <td>0.003082</td>\n      <td>0.994889</td>\n      <td>0.998352</td>\n      <td>0.998291</td>\n      <td>0.991379</td>\n      <td>0.998208</td>\n    </tr>\n    <tr>\n      <th>1</th>\n      <td>auc</td>\n      <td>NaN</td>\n      <td>0.000000</td>\n      <td>NaN</td>\n      <td>NaN</td>\n      <td>NaN</td>\n      <td>NaN</td>\n      <td>NaN</td>\n    </tr>\n    <tr>\n      <th>2</th>\n      <td>err</td>\n      <td>0.003776</td>\n      <td>0.003082</td>\n      <td>0.005111</td>\n      <td>0.001647</td>\n      <td>0.001709</td>\n      <td>0.008621</td>\n      <td>0.001792</td>\n    </tr>\n    <tr>\n      <th>3</th>\n      <td>err_count</td>\n      <td>2.200000</td>\n      <td>1.788854</td>\n      <td>3.000000</td>\n      <td>1.000000</td>\n      <td>1.000000</td>\n      <td>5.000000</td>\n      <td>1.000000</td>\n    </tr>\n    <tr>\n      <th>4</th>\n      <td>logloss</td>\n      <td>0.014103</td>\n      <td>0.007704</td>\n      <td>0.013320</td>\n      <td>0.016439</td>\n      <td>0.011068</td>\n      <td>0.025356</td>\n      <td>0.004330</td>\n    </tr>\n    <tr>\n      <th>5</th>\n      <td>max_per_class_error</td>\n      <td>0.027263</td>\n      <td>0.015578</td>\n      <td>0.019231</td>\n      <td>0.023256</td>\n      <td>0.009346</td>\n      <td>0.034483</td>\n      <td>0.050000</td>\n    </tr>\n    <tr>\n      <th>6</th>\n      <td>mean_per_class_accuracy</td>\n      <td>0.991418</td>\n      <td>0.006044</td>\n      <td>0.991334</td>\n      <td>0.995349</td>\n      <td>0.998131</td>\n      <td>0.982275</td>\n      <td>0.990000</td>\n    </tr>\n    <tr>\n      <th>7</th>\n      <td>mean_per_class_error</td>\n      <td>0.008582</td>\n      <td>0.006044</td>\n      <td>0.008666</td>\n      <td>0.004651</td>\n      <td>0.001869</td>\n      <td>0.017725</td>\n      <td>0.010000</td>\n    </tr>\n    <tr>\n      <th>8</th>\n      <td>mse</td>\n      <td>0.003058</td>\n      <td>0.002393</td>\n      <td>0.004068</td>\n      <td>0.001898</td>\n      <td>0.001874</td>\n      <td>0.006746</td>\n      <td>0.000706</td>\n    </tr>\n    <tr>\n      <th>9</th>\n      <td>null_deviance</td>\n      <td>1393.299300</td>\n      <td>61.210255</td>\n      <td>1407.155900</td>\n      <td>1467.154200</td>\n      <td>1398.317700</td>\n      <td>1397.012600</td>\n      <td>1296.856300</td>\n    </tr>\n    <tr>\n      <th>10</th>\n      <td>pr_auc</td>\n      <td>NaN</td>\n      <td>0.000000</td>\n      <td>NaN</td>\n      <td>NaN</td>\n      <td>NaN</td>\n      <td>NaN</td>\n      <td>NaN</td>\n    </tr>\n    <tr>\n      <th>11</th>\n      <td>r2</td>\n      <td>0.997540</td>\n      <td>0.001993</td>\n      <td>0.996969</td>\n      <td>0.998489</td>\n      <td>0.998484</td>\n      <td>0.994338</td>\n      <td>0.999418</td>\n    </tr>\n    <tr>\n      <th>12</th>\n      <td>residual_deviance</td>\n      <td>16.557772</td>\n      <td>9.057345</td>\n      <td>15.637146</td>\n      <td>19.956640</td>\n      <td>12.950107</td>\n      <td>29.412502</td>\n      <td>4.832465</td>\n    </tr>\n    <tr>\n      <th>13</th>\n      <td>rmse</td>\n      <td>0.051867</td>\n      <td>0.021449</td>\n      <td>0.063777</td>\n      <td>0.043567</td>\n      <td>0.043286</td>\n      <td>0.082132</td>\n      <td>0.026571</td>\n    </tr>\n  </tbody>\n</table>\n</div>"
     },
     "metadata": {},
     "output_type": "display_data"
    },
    {
     "data": {
      "text/plain": ""
     },
     "execution_count": 10,
     "metadata": {},
     "output_type": "execute_result"
    }
   ],
   "source": [
    "model_path = file_manager.filename_from_data_dir('output/h2o/models/StackedEnsemble_AllModels_1_AutoML_1_20220428_200646')\n",
    "\n",
    "leader_model = h2o.load_model(model_path)\n",
    "\n",
    "leader_model"
   ],
   "metadata": {
    "collapsed": false,
    "pycharm": {
     "name": "#%%\n"
    }
   }
  },
  {
   "cell_type": "code",
   "execution_count": 12,
   "outputs": [
    {
     "name": "stdout",
     "output_type": "stream",
     "text": [
      "Parse progress: |████████████████████████████████████████████████████████████████| (done) 100%\n",
      "stackedensemble prediction progress: |███████████████████████████████████████████| (done) 100%\n",
      "21627 21627\n"
     ]
    }
   ],
   "source": [
    "hf_preds = leader_model.predict(h2o.H2OFrame(df_to_predict.drop('label', axis=1)))\n",
    "\n",
    "predicts = hf_preds.as_data_frame().predict.to_numpy()\n",
    "\n",
    "correct_label = df_to_predict.label.to_numpy()\n",
    "\n",
    "print(len(predicts), len(correct_label))"
   ],
   "metadata": {
    "collapsed": false,
    "pycharm": {
     "name": "#%%\n"
    }
   }
  },
  {
   "cell_type": "code",
   "execution_count": 13,
   "outputs": [
    {
     "data": {
      "text/plain": "0.7781014472649929"
     },
     "execution_count": 13,
     "metadata": {},
     "output_type": "execute_result"
    }
   ],
   "source": [
    "correct_predict = np.equal(predicts, correct_label).sum()\n",
    "\n",
    "correct_predict / len(correct_label)"
   ],
   "metadata": {
    "collapsed": false,
    "pycharm": {
     "name": "#%%\n"
    }
   }
  },
  {
   "cell_type": "code",
   "execution_count": 14,
   "outputs": [
    {
     "data": {
      "text/plain": "{'inform': 1,\n 'inform_symptoms': 2,\n 'inform_medicine': 3,\n 'greeting': 4,\n 'request_inform': 5}"
     },
     "execution_count": 14,
     "metadata": {},
     "output_type": "execute_result"
    }
   ],
   "source": [
    "pipeline.dict_labels"
   ],
   "metadata": {
    "collapsed": false,
    "pycharm": {
     "name": "#%%\n"
    }
   }
  },
  {
   "cell_type": "code",
   "execution_count": 15,
   "outputs": [
    {
     "data": {
      "text/plain": "{1: 'inform',\n 2: 'inform_symptoms',\n 3: 'inform_medicine',\n 4: 'greeting',\n 5: 'request_inform'}"
     },
     "execution_count": 15,
     "metadata": {},
     "output_type": "execute_result"
    }
   ],
   "source": [
    "pipeline.get_inverted_dict_labels()"
   ],
   "metadata": {
    "collapsed": false,
    "pycharm": {
     "name": "#%%\n"
    }
   }
  },
  {
   "cell_type": "code",
   "execution_count": 16,
   "outputs": [
    {
     "name": "stderr",
     "output_type": "stream",
     "text": [
      "/tmp/ipykernel_18361/1769158110.py:1: SettingWithCopyWarning: \n",
      "A value is trying to be set on a copy of a slice from a DataFrame.\n",
      "Try using .loc[row_indexer,col_indexer] = value instead\n",
      "\n",
      "See the caveats in the documentation: https://pandas.pydata.org/pandas-docs/stable/user_guide/indexing.html#returning-a-view-versus-a-copy\n",
      "  higher_distances_df['old_intent'] = higher_distances_df['intent']\n",
      "/tmp/ipykernel_18361/1769158110.py:2: SettingWithCopyWarning: \n",
      "A value is trying to be set on a copy of a slice from a DataFrame.\n",
      "Try using .loc[row_indexer,col_indexer] = value instead\n",
      "\n",
      "See the caveats in the documentation: https://pandas.pydata.org/pandas-docs/stable/user_guide/indexing.html#returning-a-view-versus-a-copy\n",
      "  higher_distances_df['label_index_predict'] = predicts\n"
     ]
    },
    {
     "data": {
      "text/plain": "                                txt  label  distance           intent  \\\n1  Estou preocupado pois tenho asma     55  0.339475  inform_symptoms   \n2                          Só ontem     10  0.259325           inform   \n4            Chenil e aerodin spray     54  0.700803  inform_medicine   \n5                  As duas da tarde     10  0.347314           inform   \n6           Estou um pouco ofegante      7  0.285150           inform   \n\n                                 annotated_txt  label_index  \\\n1  Estou preocupado pois tenho [asma](SINTOMA)            2   \n2                                     Só ontem            1   \n4                       Chenil e aerodin spray            3   \n5                             As duas da tarde            1   \n6                      Estou um pouco ofegante            1   \n\n                                                              embeddings  \\\n1  [-0.008343049, 0.03336755, -0.046441656000000005, -0.052166402, -0...   \n2  [0.06786111, -0.05606858, -0.0013129263, -0.030144615000000003, -0...   \n4  [0.018875174, 0.024116818, 0.035090007, -0.11278464, -0.0551823080...   \n5  [0.05065007, -0.018381953, 0.015174725000000002, -0.008380645, -0....   \n6  [0.04968314, -0.024636334000000003, -0.020438543, -0.010502479, -0...   \n\n        old_intent  label_index_predict  \n1  inform_symptoms                    2  \n2           inform                    1  \n4  inform_medicine                    2  \n5           inform                    1  \n6           inform                    1  ",
      "text/html": "<div>\n<style scoped>\n    .dataframe tbody tr th:only-of-type {\n        vertical-align: middle;\n    }\n\n    .dataframe tbody tr th {\n        vertical-align: top;\n    }\n\n    .dataframe thead th {\n        text-align: right;\n    }\n</style>\n<table border=\"1\" class=\"dataframe\">\n  <thead>\n    <tr style=\"text-align: right;\">\n      <th></th>\n      <th>txt</th>\n      <th>label</th>\n      <th>distance</th>\n      <th>intent</th>\n      <th>annotated_txt</th>\n      <th>label_index</th>\n      <th>embeddings</th>\n      <th>old_intent</th>\n      <th>label_index_predict</th>\n    </tr>\n  </thead>\n  <tbody>\n    <tr>\n      <th>1</th>\n      <td>Estou preocupado pois tenho asma</td>\n      <td>55</td>\n      <td>0.339475</td>\n      <td>inform_symptoms</td>\n      <td>Estou preocupado pois tenho [asma](SINTOMA)</td>\n      <td>2</td>\n      <td>[-0.008343049, 0.03336755, -0.046441656000000005, -0.052166402, -0...</td>\n      <td>inform_symptoms</td>\n      <td>2</td>\n    </tr>\n    <tr>\n      <th>2</th>\n      <td>Só ontem</td>\n      <td>10</td>\n      <td>0.259325</td>\n      <td>inform</td>\n      <td>Só ontem</td>\n      <td>1</td>\n      <td>[0.06786111, -0.05606858, -0.0013129263, -0.030144615000000003, -0...</td>\n      <td>inform</td>\n      <td>1</td>\n    </tr>\n    <tr>\n      <th>4</th>\n      <td>Chenil e aerodin spray</td>\n      <td>54</td>\n      <td>0.700803</td>\n      <td>inform_medicine</td>\n      <td>Chenil e aerodin spray</td>\n      <td>3</td>\n      <td>[0.018875174, 0.024116818, 0.035090007, -0.11278464, -0.0551823080...</td>\n      <td>inform_medicine</td>\n      <td>2</td>\n    </tr>\n    <tr>\n      <th>5</th>\n      <td>As duas da tarde</td>\n      <td>10</td>\n      <td>0.347314</td>\n      <td>inform</td>\n      <td>As duas da tarde</td>\n      <td>1</td>\n      <td>[0.05065007, -0.018381953, 0.015174725000000002, -0.008380645, -0....</td>\n      <td>inform</td>\n      <td>1</td>\n    </tr>\n    <tr>\n      <th>6</th>\n      <td>Estou um pouco ofegante</td>\n      <td>7</td>\n      <td>0.285150</td>\n      <td>inform</td>\n      <td>Estou um pouco ofegante</td>\n      <td>1</td>\n      <td>[0.04968314, -0.024636334000000003, -0.020438543, -0.010502479, -0...</td>\n      <td>inform</td>\n      <td>1</td>\n    </tr>\n  </tbody>\n</table>\n</div>"
     },
     "execution_count": 16,
     "metadata": {},
     "output_type": "execute_result"
    }
   ],
   "source": [
    "higher_distances_df['old_intent'] = higher_distances_df['intent']\n",
    "higher_distances_df['label_index_predict'] = predicts\n",
    "\n",
    "higher_distances_df.head()"
   ],
   "metadata": {
    "collapsed": false,
    "pycharm": {
     "name": "#%%\n"
    }
   }
  },
  {
   "cell_type": "code",
   "execution_count": 17,
   "outputs": [
    {
     "name": "stderr",
     "output_type": "stream",
     "text": [
      "/tmp/ipykernel_18361/1240061399.py:1: SettingWithCopyWarning: \n",
      "A value is trying to be set on a copy of a slice from a DataFrame.\n",
      "Try using .loc[row_indexer,col_indexer] = value instead\n",
      "\n",
      "See the caveats in the documentation: https://pandas.pydata.org/pandas-docs/stable/user_guide/indexing.html#returning-a-view-versus-a-copy\n",
      "  higher_distances_df['intent'] = higher_distances_df['label_index_predict'].map(pipeline.get_inverted_dict_labels())\n"
     ]
    },
    {
     "data": {
      "text/plain": "                                txt  label  distance           intent  \\\n1  Estou preocupado pois tenho asma     55  0.339475  inform_symptoms   \n2                          Só ontem     10  0.259325           inform   \n4            Chenil e aerodin spray     54  0.700803  inform_symptoms   \n5                  As duas da tarde     10  0.347314           inform   \n6           Estou um pouco ofegante      7  0.285150           inform   \n\n                                 annotated_txt  label_index  \\\n1  Estou preocupado pois tenho [asma](SINTOMA)            2   \n2                                     Só ontem            1   \n4                       Chenil e aerodin spray            3   \n5                             As duas da tarde            1   \n6                      Estou um pouco ofegante            1   \n\n                                                              embeddings  \\\n1  [-0.008343049, 0.03336755, -0.046441656000000005, -0.052166402, -0...   \n2  [0.06786111, -0.05606858, -0.0013129263, -0.030144615000000003, -0...   \n4  [0.018875174, 0.024116818, 0.035090007, -0.11278464, -0.0551823080...   \n5  [0.05065007, -0.018381953, 0.015174725000000002, -0.008380645, -0....   \n6  [0.04968314, -0.024636334000000003, -0.020438543, -0.010502479, -0...   \n\n        old_intent  label_index_predict  \n1  inform_symptoms                    2  \n2           inform                    1  \n4  inform_medicine                    2  \n5           inform                    1  \n6           inform                    1  ",
      "text/html": "<div>\n<style scoped>\n    .dataframe tbody tr th:only-of-type {\n        vertical-align: middle;\n    }\n\n    .dataframe tbody tr th {\n        vertical-align: top;\n    }\n\n    .dataframe thead th {\n        text-align: right;\n    }\n</style>\n<table border=\"1\" class=\"dataframe\">\n  <thead>\n    <tr style=\"text-align: right;\">\n      <th></th>\n      <th>txt</th>\n      <th>label</th>\n      <th>distance</th>\n      <th>intent</th>\n      <th>annotated_txt</th>\n      <th>label_index</th>\n      <th>embeddings</th>\n      <th>old_intent</th>\n      <th>label_index_predict</th>\n    </tr>\n  </thead>\n  <tbody>\n    <tr>\n      <th>1</th>\n      <td>Estou preocupado pois tenho asma</td>\n      <td>55</td>\n      <td>0.339475</td>\n      <td>inform_symptoms</td>\n      <td>Estou preocupado pois tenho [asma](SINTOMA)</td>\n      <td>2</td>\n      <td>[-0.008343049, 0.03336755, -0.046441656000000005, -0.052166402, -0...</td>\n      <td>inform_symptoms</td>\n      <td>2</td>\n    </tr>\n    <tr>\n      <th>2</th>\n      <td>Só ontem</td>\n      <td>10</td>\n      <td>0.259325</td>\n      <td>inform</td>\n      <td>Só ontem</td>\n      <td>1</td>\n      <td>[0.06786111, -0.05606858, -0.0013129263, -0.030144615000000003, -0...</td>\n      <td>inform</td>\n      <td>1</td>\n    </tr>\n    <tr>\n      <th>4</th>\n      <td>Chenil e aerodin spray</td>\n      <td>54</td>\n      <td>0.700803</td>\n      <td>inform_symptoms</td>\n      <td>Chenil e aerodin spray</td>\n      <td>3</td>\n      <td>[0.018875174, 0.024116818, 0.035090007, -0.11278464, -0.0551823080...</td>\n      <td>inform_medicine</td>\n      <td>2</td>\n    </tr>\n    <tr>\n      <th>5</th>\n      <td>As duas da tarde</td>\n      <td>10</td>\n      <td>0.347314</td>\n      <td>inform</td>\n      <td>As duas da tarde</td>\n      <td>1</td>\n      <td>[0.05065007, -0.018381953, 0.015174725000000002, -0.008380645, -0....</td>\n      <td>inform</td>\n      <td>1</td>\n    </tr>\n    <tr>\n      <th>6</th>\n      <td>Estou um pouco ofegante</td>\n      <td>7</td>\n      <td>0.285150</td>\n      <td>inform</td>\n      <td>Estou um pouco ofegante</td>\n      <td>1</td>\n      <td>[0.04968314, -0.024636334000000003, -0.020438543, -0.010502479, -0...</td>\n      <td>inform</td>\n      <td>1</td>\n    </tr>\n  </tbody>\n</table>\n</div>"
     },
     "execution_count": 17,
     "metadata": {},
     "output_type": "execute_result"
    }
   ],
   "source": [
    "higher_distances_df['intent'] = higher_distances_df['label_index_predict'].map(pipeline.get_inverted_dict_labels())\n",
    "\n",
    "higher_distances_df.head()"
   ],
   "metadata": {
    "collapsed": false,
    "pycharm": {
     "name": "#%%\n"
    }
   }
  },
  {
   "cell_type": "code",
   "execution_count": 22,
   "outputs": [],
   "source": [
    "desired_columns = ['txt','label','distance','intent','annotated_txt']"
   ],
   "metadata": {
    "collapsed": false,
    "pycharm": {
     "name": "#%%\n"
    }
   }
  },
  {
   "cell_type": "code",
   "execution_count": 29,
   "outputs": [
    {
     "data": {
      "text/plain": "                                                                         txt  \\\n1                                           Estou preocupado pois tenho asma   \n2                                                                   Só ontem   \n4                                                     Chenil e aerodin spray   \n5                                                           As duas da tarde   \n6                                                    Estou um pouco ofegante   \n...                                                                      ...   \n25789                                                        Bom dia, Amanda   \n25790                                  Gostaria de fazer uma rápida consulta   \n25791  Sou asmática e tenho crise alérgica (sinusite), quais são os sinto...   \n25792                   Entendi. Não senti falta de ar. Mas ficarei atenta..   \n25793                                   A confusão são os sintomas parecidos   \n\n       label  distance           intent  \\\n1         55  0.339475  inform_symptoms   \n2         10  0.259325           inform   \n4         54  0.700803  inform_symptoms   \n5         10  0.347314           inform   \n6          7  0.285150           inform   \n...      ...       ...              ...   \n25789     24  0.309552         greeting   \n25790     51  0.428821   request_inform   \n25791     56  0.318162   request_inform   \n25792     37  0.255014  inform_symptoms   \n25793     23  0.431462   request_inform   \n\n                                                               annotated_txt  \n1                                Estou preocupado pois tenho [asma](SINTOMA)  \n2                                                                   Só ontem  \n4                                                     Chenil e aerodin spray  \n5                                                           As duas da tarde  \n6                                                    Estou um pouco ofegante  \n...                                                                      ...  \n25789                                                        Bom dia, Amanda  \n25790                                  Gostaria de fazer uma rápida consulta  \n25791  Sou asmática e tenho crise alérgica ([sinusite](SINTOMA)), quais s...  \n25792        Entendi. Não senti [falta de ar](SINTOMA). Mas ficarei atenta..  \n25793                        A [confusão](SINTOMA) são os sintomas parecidos  \n\n[21627 rows x 5 columns]",
      "text/html": "<div>\n<style scoped>\n    .dataframe tbody tr th:only-of-type {\n        vertical-align: middle;\n    }\n\n    .dataframe tbody tr th {\n        vertical-align: top;\n    }\n\n    .dataframe thead th {\n        text-align: right;\n    }\n</style>\n<table border=\"1\" class=\"dataframe\">\n  <thead>\n    <tr style=\"text-align: right;\">\n      <th></th>\n      <th>txt</th>\n      <th>label</th>\n      <th>distance</th>\n      <th>intent</th>\n      <th>annotated_txt</th>\n    </tr>\n  </thead>\n  <tbody>\n    <tr>\n      <th>1</th>\n      <td>Estou preocupado pois tenho asma</td>\n      <td>55</td>\n      <td>0.339475</td>\n      <td>inform_symptoms</td>\n      <td>Estou preocupado pois tenho [asma](SINTOMA)</td>\n    </tr>\n    <tr>\n      <th>2</th>\n      <td>Só ontem</td>\n      <td>10</td>\n      <td>0.259325</td>\n      <td>inform</td>\n      <td>Só ontem</td>\n    </tr>\n    <tr>\n      <th>4</th>\n      <td>Chenil e aerodin spray</td>\n      <td>54</td>\n      <td>0.700803</td>\n      <td>inform_symptoms</td>\n      <td>Chenil e aerodin spray</td>\n    </tr>\n    <tr>\n      <th>5</th>\n      <td>As duas da tarde</td>\n      <td>10</td>\n      <td>0.347314</td>\n      <td>inform</td>\n      <td>As duas da tarde</td>\n    </tr>\n    <tr>\n      <th>6</th>\n      <td>Estou um pouco ofegante</td>\n      <td>7</td>\n      <td>0.285150</td>\n      <td>inform</td>\n      <td>Estou um pouco ofegante</td>\n    </tr>\n    <tr>\n      <th>...</th>\n      <td>...</td>\n      <td>...</td>\n      <td>...</td>\n      <td>...</td>\n      <td>...</td>\n    </tr>\n    <tr>\n      <th>25789</th>\n      <td>Bom dia, Amanda</td>\n      <td>24</td>\n      <td>0.309552</td>\n      <td>greeting</td>\n      <td>Bom dia, Amanda</td>\n    </tr>\n    <tr>\n      <th>25790</th>\n      <td>Gostaria de fazer uma rápida consulta</td>\n      <td>51</td>\n      <td>0.428821</td>\n      <td>request_inform</td>\n      <td>Gostaria de fazer uma rápida consulta</td>\n    </tr>\n    <tr>\n      <th>25791</th>\n      <td>Sou asmática e tenho crise alérgica (sinusite), quais são os sinto...</td>\n      <td>56</td>\n      <td>0.318162</td>\n      <td>request_inform</td>\n      <td>Sou asmática e tenho crise alérgica ([sinusite](SINTOMA)), quais s...</td>\n    </tr>\n    <tr>\n      <th>25792</th>\n      <td>Entendi. Não senti falta de ar. Mas ficarei atenta..</td>\n      <td>37</td>\n      <td>0.255014</td>\n      <td>inform_symptoms</td>\n      <td>Entendi. Não senti [falta de ar](SINTOMA). Mas ficarei atenta..</td>\n    </tr>\n    <tr>\n      <th>25793</th>\n      <td>A confusão são os sintomas parecidos</td>\n      <td>23</td>\n      <td>0.431462</td>\n      <td>request_inform</td>\n      <td>A [confusão](SINTOMA) são os sintomas parecidos</td>\n    </tr>\n  </tbody>\n</table>\n<p>21627 rows × 5 columns</p>\n</div>"
     },
     "execution_count": 29,
     "metadata": {},
     "output_type": "execute_result"
    }
   ],
   "source": [
    "higher_distances_df[desired_columns]"
   ],
   "metadata": {
    "collapsed": false,
    "pycharm": {
     "name": "#%%\n"
    }
   }
  },
  {
   "cell_type": "code",
   "execution_count": 19,
   "outputs": [
    {
     "data": {
      "text/plain": "                                       txt  label  distance           intent  \\\n0   Há dois tias estou com dor na garganta     15  0.232881  inform_symptoms   \n3                                      Sim     12  0.099960           inform   \n7                                      Não     18  0.191976           inform   \n12                                      Ok      4  0.151040           inform   \n14                                Tá certo      4  0.159767           inform   \n\n                                                   annotated_txt  label_index  \\\n0   Há dois tias estou com [dor](SINTOMA) na [garganta](SINTOMA)            2   \n3                                                            Sim            1   \n7                                                            Não            1   \n12                                                            Ok            1   \n14                                                      Tá certo            1   \n\n                                                               embeddings  \n0   [-0.05788306, 0.042827144000000004, -0.03576142, -0.07932205, -0.0...  \n3   [0.11549624, -0.010514308, 0.025507968000000002, -0.02144403, -0.0...  \n7   [0.10408107, -0.02228124, 0.00076653576, -0.012209455000000001, -0...  \n12  [0.1262432, -0.01299934, 0.064029716, -0.007820629, -0.08764656, 0...  \n14  [0.12865065, -0.020153655000000003, 0.03307859, -0.06811492, 0.010...  ",
      "text/html": "<div>\n<style scoped>\n    .dataframe tbody tr th:only-of-type {\n        vertical-align: middle;\n    }\n\n    .dataframe tbody tr th {\n        vertical-align: top;\n    }\n\n    .dataframe thead th {\n        text-align: right;\n    }\n</style>\n<table border=\"1\" class=\"dataframe\">\n  <thead>\n    <tr style=\"text-align: right;\">\n      <th></th>\n      <th>txt</th>\n      <th>label</th>\n      <th>distance</th>\n      <th>intent</th>\n      <th>annotated_txt</th>\n      <th>label_index</th>\n      <th>embeddings</th>\n    </tr>\n  </thead>\n  <tbody>\n    <tr>\n      <th>0</th>\n      <td>Há dois tias estou com dor na garganta</td>\n      <td>15</td>\n      <td>0.232881</td>\n      <td>inform_symptoms</td>\n      <td>Há dois tias estou com [dor](SINTOMA) na [garganta](SINTOMA)</td>\n      <td>2</td>\n      <td>[-0.05788306, 0.042827144000000004, -0.03576142, -0.07932205, -0.0...</td>\n    </tr>\n    <tr>\n      <th>3</th>\n      <td>Sim</td>\n      <td>12</td>\n      <td>0.099960</td>\n      <td>inform</td>\n      <td>Sim</td>\n      <td>1</td>\n      <td>[0.11549624, -0.010514308, 0.025507968000000002, -0.02144403, -0.0...</td>\n    </tr>\n    <tr>\n      <th>7</th>\n      <td>Não</td>\n      <td>18</td>\n      <td>0.191976</td>\n      <td>inform</td>\n      <td>Não</td>\n      <td>1</td>\n      <td>[0.10408107, -0.02228124, 0.00076653576, -0.012209455000000001, -0...</td>\n    </tr>\n    <tr>\n      <th>12</th>\n      <td>Ok</td>\n      <td>4</td>\n      <td>0.151040</td>\n      <td>inform</td>\n      <td>Ok</td>\n      <td>1</td>\n      <td>[0.1262432, -0.01299934, 0.064029716, -0.007820629, -0.08764656, 0...</td>\n    </tr>\n    <tr>\n      <th>14</th>\n      <td>Tá certo</td>\n      <td>4</td>\n      <td>0.159767</td>\n      <td>inform</td>\n      <td>Tá certo</td>\n      <td>1</td>\n      <td>[0.12865065, -0.020153655000000003, 0.03307859, -0.06811492, 0.010...</td>\n    </tr>\n  </tbody>\n</table>\n</div>"
     },
     "execution_count": 19,
     "metadata": {},
     "output_type": "execute_result"
    }
   ],
   "source": [
    "closer_distances_df = df_annotated[df_annotated['distance'] <= 0.25]\n",
    "\n",
    "closer_distances_df.head()"
   ],
   "metadata": {
    "collapsed": false,
    "pycharm": {
     "name": "#%%\n"
    }
   }
  },
  {
   "cell_type": "code",
   "execution_count": 24,
   "outputs": [
    {
     "data": {
      "text/plain": "                                             txt  label  distance  \\\n0         Há dois tias estou com dor na garganta     15  0.232881   \n3                                            Sim     12  0.099960   \n7                                            Não     18  0.191976   \n12                                            Ok      4  0.151040   \n14                                      Tá certo      4  0.159767   \n...                                          ...    ...       ...   \n25754                                  nem tosse     40  0.237049   \n25775                 Sinto muita dor nas costas     59  0.121369   \n25780  A dor nas costas aumentou sinto muita dor     59  0.160749   \n25781           A dor de cabeça diminui um pouco      8  0.166069   \n25794                Muita obrigada pela atenção     50  0.243427   \n\n                intent  \\\n0      inform_symptoms   \n3               inform   \n7               inform   \n12              inform   \n14              inform   \n...                ...   \n25754  inform_symptoms   \n25775  inform_symptoms   \n25780  inform_symptoms   \n25781  inform_symptoms   \n25794         greeting   \n\n                                                         annotated_txt  \n0         Há dois tias estou com [dor](SINTOMA) na [garganta](SINTOMA)  \n3                                                                  Sim  \n7                                                                  Não  \n12                                                                  Ok  \n14                                                            Tá certo  \n...                                                                ...  \n25754                                             nem [tosse](SINTOMA)  \n25775                            Sinto muita [dor](SINTOMA) nas costas  \n25780  A [dor](SINTOMA) nas costas aumentou sinto muita [dor](SINTOMA)  \n25781                      A [dor de cabeça](SINTOMA) diminui um pouco  \n25794                                      Muita obrigada pela atenção  \n\n[4168 rows x 5 columns]",
      "text/html": "<div>\n<style scoped>\n    .dataframe tbody tr th:only-of-type {\n        vertical-align: middle;\n    }\n\n    .dataframe tbody tr th {\n        vertical-align: top;\n    }\n\n    .dataframe thead th {\n        text-align: right;\n    }\n</style>\n<table border=\"1\" class=\"dataframe\">\n  <thead>\n    <tr style=\"text-align: right;\">\n      <th></th>\n      <th>txt</th>\n      <th>label</th>\n      <th>distance</th>\n      <th>intent</th>\n      <th>annotated_txt</th>\n    </tr>\n  </thead>\n  <tbody>\n    <tr>\n      <th>0</th>\n      <td>Há dois tias estou com dor na garganta</td>\n      <td>15</td>\n      <td>0.232881</td>\n      <td>inform_symptoms</td>\n      <td>Há dois tias estou com [dor](SINTOMA) na [garganta](SINTOMA)</td>\n    </tr>\n    <tr>\n      <th>3</th>\n      <td>Sim</td>\n      <td>12</td>\n      <td>0.099960</td>\n      <td>inform</td>\n      <td>Sim</td>\n    </tr>\n    <tr>\n      <th>7</th>\n      <td>Não</td>\n      <td>18</td>\n      <td>0.191976</td>\n      <td>inform</td>\n      <td>Não</td>\n    </tr>\n    <tr>\n      <th>12</th>\n      <td>Ok</td>\n      <td>4</td>\n      <td>0.151040</td>\n      <td>inform</td>\n      <td>Ok</td>\n    </tr>\n    <tr>\n      <th>14</th>\n      <td>Tá certo</td>\n      <td>4</td>\n      <td>0.159767</td>\n      <td>inform</td>\n      <td>Tá certo</td>\n    </tr>\n    <tr>\n      <th>...</th>\n      <td>...</td>\n      <td>...</td>\n      <td>...</td>\n      <td>...</td>\n      <td>...</td>\n    </tr>\n    <tr>\n      <th>25754</th>\n      <td>nem tosse</td>\n      <td>40</td>\n      <td>0.237049</td>\n      <td>inform_symptoms</td>\n      <td>nem [tosse](SINTOMA)</td>\n    </tr>\n    <tr>\n      <th>25775</th>\n      <td>Sinto muita dor nas costas</td>\n      <td>59</td>\n      <td>0.121369</td>\n      <td>inform_symptoms</td>\n      <td>Sinto muita [dor](SINTOMA) nas costas</td>\n    </tr>\n    <tr>\n      <th>25780</th>\n      <td>A dor nas costas aumentou sinto muita dor</td>\n      <td>59</td>\n      <td>0.160749</td>\n      <td>inform_symptoms</td>\n      <td>A [dor](SINTOMA) nas costas aumentou sinto muita [dor](SINTOMA)</td>\n    </tr>\n    <tr>\n      <th>25781</th>\n      <td>A dor de cabeça diminui um pouco</td>\n      <td>8</td>\n      <td>0.166069</td>\n      <td>inform_symptoms</td>\n      <td>A [dor de cabeça](SINTOMA) diminui um pouco</td>\n    </tr>\n    <tr>\n      <th>25794</th>\n      <td>Muita obrigada pela atenção</td>\n      <td>50</td>\n      <td>0.243427</td>\n      <td>greeting</td>\n      <td>Muita obrigada pela atenção</td>\n    </tr>\n  </tbody>\n</table>\n<p>4168 rows × 5 columns</p>\n</div>"
     },
     "execution_count": 24,
     "metadata": {},
     "output_type": "execute_result"
    }
   ],
   "source": [
    "closer_distances_df[desired_columns]"
   ],
   "metadata": {
    "collapsed": false,
    "pycharm": {
     "name": "#%%\n"
    }
   }
  },
  {
   "cell_type": "code",
   "execution_count": 32,
   "outputs": [
    {
     "data": {
      "text/plain": "              label      distance\ncount  25795.000000  25795.000000\nmean      31.000582      0.386161\nstd       17.526264      0.129077\nmin        0.000000      0.074440\n25%       16.000000      0.288405\n50%       31.000000      0.382536\n75%       46.000000      0.478938\nmax       59.000000      0.834035",
      "text/html": "<div>\n<style scoped>\n    .dataframe tbody tr th:only-of-type {\n        vertical-align: middle;\n    }\n\n    .dataframe tbody tr th {\n        vertical-align: top;\n    }\n\n    .dataframe thead th {\n        text-align: right;\n    }\n</style>\n<table border=\"1\" class=\"dataframe\">\n  <thead>\n    <tr style=\"text-align: right;\">\n      <th></th>\n      <th>label</th>\n      <th>distance</th>\n    </tr>\n  </thead>\n  <tbody>\n    <tr>\n      <th>count</th>\n      <td>25795.000000</td>\n      <td>25795.000000</td>\n    </tr>\n    <tr>\n      <th>mean</th>\n      <td>31.000582</td>\n      <td>0.386161</td>\n    </tr>\n    <tr>\n      <th>std</th>\n      <td>17.526264</td>\n      <td>0.129077</td>\n    </tr>\n    <tr>\n      <th>min</th>\n      <td>0.000000</td>\n      <td>0.074440</td>\n    </tr>\n    <tr>\n      <th>25%</th>\n      <td>16.000000</td>\n      <td>0.288405</td>\n    </tr>\n    <tr>\n      <th>50%</th>\n      <td>31.000000</td>\n      <td>0.382536</td>\n    </tr>\n    <tr>\n      <th>75%</th>\n      <td>46.000000</td>\n      <td>0.478938</td>\n    </tr>\n    <tr>\n      <th>max</th>\n      <td>59.000000</td>\n      <td>0.834035</td>\n    </tr>\n  </tbody>\n</table>\n</div>"
     },
     "execution_count": 32,
     "metadata": {},
     "output_type": "execute_result"
    }
   ],
   "source": [
    "result_df = pd.concat([closer_distances_df[desired_columns], higher_distances_df[desired_columns]], axis=0)\n",
    "\n",
    "result_df.describe()"
   ],
   "metadata": {
    "collapsed": false,
    "pycharm": {
     "name": "#%%\n"
    }
   }
  },
  {
   "cell_type": "code",
   "execution_count": 33,
   "outputs": [
    {
     "data": {
      "text/plain": "txt              25795\nlabel            25795\ndistance         25795\nintent           25795\nannotated_txt    25795\ndtype: int64"
     },
     "execution_count": 33,
     "metadata": {},
     "output_type": "execute_result"
    }
   ],
   "source": [
    "result_df.count()"
   ],
   "metadata": {
    "collapsed": false,
    "pycharm": {
     "name": "#%%\n"
    }
   }
  },
  {
   "cell_type": "code",
   "execution_count": 35,
   "outputs": [],
   "source": [
    "from pathlib import Path\n",
    "\n",
    "output_dir = Path(file_manager.filename_from_data_dir('output/h2o/use'))\n",
    "\n",
    "output_dir.mkdir(parents=True, exist_ok=True)"
   ],
   "metadata": {
    "collapsed": false,
    "pycharm": {
     "name": "#%%\n"
    }
   }
  },
  {
   "cell_type": "code",
   "execution_count": 36,
   "outputs": [],
   "source": [
    "result_df.to_csv(file_manager.filename_from_data_dir('output/h2o/use/annotated_sentences.csv'))"
   ],
   "metadata": {
    "collapsed": false,
    "pycharm": {
     "name": "#%%\n"
    }
   }
  },
  {
   "cell_type": "code",
   "execution_count": null,
   "outputs": [],
   "source": [],
   "metadata": {
    "collapsed": false,
    "pycharm": {
     "name": "#%%\n"
    }
   }
  }
 ],
 "metadata": {
  "interpreter": {
   "hash": "da386d383b1a4f2ab977ab0cc371ee70ac9bd2160da3f0bf5cca7f94d497a6a3"
  },
  "kernelspec": {
   "display_name": "Python 3.9.7 ('venv': venv)",
   "language": "python",
   "name": "python3"
  },
  "language_info": {
   "codemirror_mode": {
    "name": "ipython",
    "version": 3
   },
   "file_extension": ".py",
   "mimetype": "text/x-python",
   "name": "python",
   "nbconvert_exporter": "python",
   "pygments_lexer": "ipython3",
   "version": "3.9.7"
  },
  "orig_nbformat": 4
 },
 "nbformat": 4,
 "nbformat_minor": 2
}
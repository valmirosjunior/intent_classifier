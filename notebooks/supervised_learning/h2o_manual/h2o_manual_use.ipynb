{
 "cells": [
  {
   "cell_type": "code",
   "execution_count": 1,
   "outputs": [],
   "source": [
    "%load_ext autoreload\n",
    "\n",
    "%autoreload 2"
   ],
   "metadata": {
    "collapsed": false,
    "pycharm": {
     "name": "#%%\n"
    }
   }
  },
  {
   "cell_type": "code",
   "execution_count": 2,
   "outputs": [],
   "source": [
    "from src.ml.pipeline import PipelineH2OManualLabelingData"
   ],
   "metadata": {
    "collapsed": false,
    "pycharm": {
     "name": "#%%\n"
    }
   }
  },
  {
   "cell_type": "code",
   "execution_count": 3,
   "outputs": [
    {
     "name": "stdout",
     "output_type": "stream",
     "text": [
      "Checking whether there is an H2O instance running at http://localhost:54321 ..... not found.\n",
      "Attempting to start a local H2O server...\n",
      "  Java Version: openjdk version \"11.0.15\" 2022-04-19; OpenJDK Runtime Environment (build 11.0.15+10-Ubuntu-0ubuntu0.22.04.1); OpenJDK 64-Bit Server VM (build 11.0.15+10-Ubuntu-0ubuntu0.22.04.1, mixed mode, sharing)\n",
      "  Starting server from /home/valmir/dev/python/intent_classifier/venv/lib/python3.9/site-packages/h2o/backend/bin/h2o.jar\n",
      "  Ice root: /tmp/tmpn4kb00wb\n",
      "  JVM stdout: /tmp/tmpn4kb00wb/h2o_valmir_started_from_python.out\n",
      "  JVM stderr: /tmp/tmpn4kb00wb/h2o_valmir_started_from_python.err\n",
      "  Server is running at http://127.0.0.1:54321\n",
      "Connecting to H2O server at http://127.0.0.1:54321 ... successful.\n"
     ]
    },
    {
     "data": {
      "text/plain": "--------------------------  -----------------------------\nH2O_cluster_uptime:         01 secs\nH2O_cluster_timezone:       America/Fortaleza\nH2O_data_parsing_timezone:  UTC\nH2O_cluster_version:        3.36.1.1\nH2O_cluster_version_age:    25 days\nH2O_cluster_name:           H2O_from_python_valmir_zr57ws\nH2O_cluster_total_nodes:    1\nH2O_cluster_free_memory:    7.777 Gb\nH2O_cluster_total_cores:    16\nH2O_cluster_allowed_cores:  16\nH2O_cluster_status:         locked, healthy\nH2O_connection_url:         http://127.0.0.1:54321\nH2O_connection_proxy:       {\"http\": null, \"https\": null}\nH2O_internal_security:      False\nPython_version:             3.9.12 final\n--------------------------  -----------------------------",
      "text/html": "<div style=\"overflow:auto\"><table style=\"width:50%\"><tr><td>H2O_cluster_uptime:</td>\n<td>01 secs</td></tr>\n<tr><td>H2O_cluster_timezone:</td>\n<td>America/Fortaleza</td></tr>\n<tr><td>H2O_data_parsing_timezone:</td>\n<td>UTC</td></tr>\n<tr><td>H2O_cluster_version:</td>\n<td>3.36.1.1</td></tr>\n<tr><td>H2O_cluster_version_age:</td>\n<td>25 days </td></tr>\n<tr><td>H2O_cluster_name:</td>\n<td>H2O_from_python_valmir_zr57ws</td></tr>\n<tr><td>H2O_cluster_total_nodes:</td>\n<td>1</td></tr>\n<tr><td>H2O_cluster_free_memory:</td>\n<td>7.777 Gb</td></tr>\n<tr><td>H2O_cluster_total_cores:</td>\n<td>16</td></tr>\n<tr><td>H2O_cluster_allowed_cores:</td>\n<td>16</td></tr>\n<tr><td>H2O_cluster_status:</td>\n<td>locked, healthy</td></tr>\n<tr><td>H2O_connection_url:</td>\n<td>http://127.0.0.1:54321</td></tr>\n<tr><td>H2O_connection_proxy:</td>\n<td>{\"http\": null, \"https\": null}</td></tr>\n<tr><td>H2O_internal_security:</td>\n<td>False</td></tr>\n<tr><td>Python_version:</td>\n<td>3.9.12 final</td></tr></table></div>"
     },
     "metadata": {},
     "output_type": "display_data"
    }
   ],
   "source": [
    "pipeline = PipelineH2OManualLabelingData('use')"
   ],
   "metadata": {
    "collapsed": false,
    "pycharm": {
     "name": "#%%\n"
    }
   }
  },
  {
   "cell_type": "code",
   "execution_count": 4,
   "outputs": [
    {
     "name": "stdout",
     "output_type": "stream",
     "text": [
      "training model...\n",
      "Parse progress: |████████████████████████████████████████████████████████████████| (done) 100%\n",
      "AutoML progress: |███████████████████████████████████████████████████████████████| (done) 100%\n",
      "testing model...\n",
      "Parse progress: |████████████████████████████████████████████████████████████████| (done) 100%\n",
      "stackedensemble prediction progress: |███████████████████████████████████████████| (done) 100%\n",
      "The accuracy of model was:  0.7933333333333333\n",
      "saving model...\n",
      "The model was saved at: /home/valmir/dev/python/intent_classifier/data/output/h2o/models/classified_manual/use, with name: StackedEnsemble_BestOfFamily_1_AutoML_1_20220508_222615\n",
      "predicting labels...\n",
      "Parse progress: |████████████████████████████████████████████████████████████████| (done) 100%\n",
      "stackedensemble prediction progress: |███████████████████████████████████████████| (done) 100%\n",
      "saving data...\n"
     ]
    }
   ],
   "source": [
    "pipeline.run()"
   ],
   "metadata": {
    "collapsed": false,
    "pycharm": {
     "name": "#%%\n"
    }
   }
  },
  {
   "cell_type": "code",
   "execution_count": 9,
   "outputs": [],
   "source": [
    "pipeline.save_annotated_data()"
   ],
   "metadata": {
    "collapsed": false,
    "pycharm": {
     "name": "#%%\n"
    }
   }
  },
  {
   "cell_type": "code",
   "execution_count": 5,
   "outputs": [
    {
     "data": {
      "text/html": "<table>\n<thead>\n<tr><th>model_id                                               </th><th style=\"text-align: right;\">  mean_per_class_error</th><th style=\"text-align: right;\">  logloss</th><th style=\"text-align: right;\">    rmse</th><th style=\"text-align: right;\">     mse</th></tr>\n</thead>\n<tbody>\n<tr><td>StackedEnsemble_BestOfFamily_1_AutoML_1_20220508_222615</td><td style=\"text-align: right;\">              0.19731 </td><td style=\"text-align: right;\"> 0.451715</td><td style=\"text-align: right;\">0.373442</td><td style=\"text-align: right;\">0.139459</td></tr>\n<tr><td>GBM_1_AutoML_1_20220508_222615                         </td><td style=\"text-align: right;\">              0.21575 </td><td style=\"text-align: right;\"> 0.476486</td><td style=\"text-align: right;\">0.38261 </td><td style=\"text-align: right;\">0.146391</td></tr>\n<tr><td>GLM_1_AutoML_1_20220508_222615                         </td><td style=\"text-align: right;\">              0.218464</td><td style=\"text-align: right;\"> 0.46899 </td><td style=\"text-align: right;\">0.384037</td><td style=\"text-align: right;\">0.147485</td></tr>\n<tr><td>StackedEnsemble_AllModels_1_AutoML_1_20220508_222615   </td><td style=\"text-align: right;\">              0.219857</td><td style=\"text-align: right;\"> 0.481116</td><td style=\"text-align: right;\">0.391109</td><td style=\"text-align: right;\">0.152966</td></tr>\n<tr><td>XGBoost_grid_1_AutoML_1_20220508_222615_model_2        </td><td style=\"text-align: right;\">              0.220155</td><td style=\"text-align: right;\"> 0.465438</td><td style=\"text-align: right;\">0.374765</td><td style=\"text-align: right;\">0.140449</td></tr>\n<tr><td>XGBoost_3_AutoML_1_20220508_222615                     </td><td style=\"text-align: right;\">              0.222472</td><td style=\"text-align: right;\"> 0.479131</td><td style=\"text-align: right;\">0.376519</td><td style=\"text-align: right;\">0.141767</td></tr>\n<tr><td>GBM_2_AutoML_1_20220508_222615                         </td><td style=\"text-align: right;\">              0.233154</td><td style=\"text-align: right;\"> 0.494303</td><td style=\"text-align: right;\">0.384779</td><td style=\"text-align: right;\">0.148055</td></tr>\n<tr><td>XGBoost_grid_1_AutoML_1_20220508_222615_model_3        </td><td style=\"text-align: right;\">              0.23326 </td><td style=\"text-align: right;\"> 0.530645</td><td style=\"text-align: right;\">0.39376 </td><td style=\"text-align: right;\">0.155047</td></tr>\n<tr><td>XGBoost_1_AutoML_1_20220508_222615                     </td><td style=\"text-align: right;\">              0.233669</td><td style=\"text-align: right;\"> 0.494803</td><td style=\"text-align: right;\">0.390238</td><td style=\"text-align: right;\">0.152286</td></tr>\n<tr><td>GBM_3_AutoML_1_20220508_222615                         </td><td style=\"text-align: right;\">              0.233687</td><td style=\"text-align: right;\"> 0.488946</td><td style=\"text-align: right;\">0.381496</td><td style=\"text-align: right;\">0.145539</td></tr>\n</tbody>\n</table>"
     },
     "metadata": {},
     "output_type": "display_data"
    },
    {
     "data": {
      "text/plain": ""
     },
     "execution_count": 5,
     "metadata": {},
     "output_type": "execute_result"
    }
   ],
   "source": [
    "pipeline.h2o_helper.aml.leaderboard"
   ],
   "metadata": {
    "collapsed": false,
    "pycharm": {
     "name": "#%%\n"
    }
   }
  },
  {
   "cell_type": "code",
   "execution_count": 6,
   "outputs": [
    {
     "name": "stdout",
     "output_type": "stream",
     "text": [
      "Model Details\n",
      "=============\n",
      "H2OStackedEnsembleEstimator :  Stacked Ensemble\n",
      "Model Key:  StackedEnsemble_BestOfFamily_1_AutoML_1_20220508_222615\n",
      "\n",
      "No model summary for this model\n",
      "\n",
      "ModelMetricsMultinomialGLM: stackedensemble\n",
      "** Reported on train data. **\n",
      "\n",
      "MSE: 0.003146781881135767\n",
      "RMSE: 0.05609618419407658\n",
      "\n",
      "ModelMetricsMultinomialGLM: stackedensemble\n",
      "** Reported on cross-validation data. **\n",
      "\n",
      "MSE: 0.13945877749734711\n",
      "RMSE: 0.373441799344084\n",
      "\n",
      "Cross-Validation Metrics Summary: \n"
     ]
    },
    {
     "data": {
      "text/plain": "                                   mean         sd  cv_1_valid  cv_2_valid  \\\n0                  accuracy    0.829790   0.012110    0.845638    0.830986   \n1                       auc         NaN   0.000000         NaN         NaN   \n2                       err    0.170210   0.012110    0.154362    0.169014   \n3                 err_count   23.800000   1.483240   23.000000   24.000000   \n4                   logloss    0.450087   0.060940    0.488552    0.367507   \n5       max_per_class_error    0.365478   0.154413    0.300000    0.250000   \n6   mean_per_class_accuracy    0.805394   0.032133    0.798402    0.831193   \n7      mean_per_class_error    0.194606   0.032133    0.201598    0.168807   \n8                       mse    0.139932   0.016083    0.146772    0.115542   \n9             null_deviance  381.475280  14.967927  403.107120  389.831150   \n10                   pr_auc         NaN   0.000000         NaN         NaN   \n11                       r2    0.917896   0.014852    0.911627    0.942098   \n12        residual_deviance  125.977745  17.534184  145.588530  104.372120   \n13                     rmse    0.373566   0.021818    0.383109    0.339915   \n\n    cv_3_valid  cv_4_valid  cv_5_valid  \n0     0.835821    0.814286    0.822222  \n1          NaN         NaN         NaN  \n2     0.164179    0.185714    0.177778  \n3    22.000000   26.000000   24.000000  \n4     0.525099    0.449669    0.419608  \n5     0.307692    0.636364    0.333333  \n6     0.833449    0.754300    0.809628  \n7     0.166551    0.245700    0.190372  \n8     0.159682    0.139325    0.138340  \n9   367.481320  377.641720  369.315060  \n10         NaN         NaN         NaN  \n11    0.915220    0.902091    0.918443  \n12  140.726580  125.907265  113.294235  \n13    0.399602    0.373263    0.371941  ",
      "text/html": "<div>\n<style scoped>\n    .dataframe tbody tr th:only-of-type {\n        vertical-align: middle;\n    }\n\n    .dataframe tbody tr th {\n        vertical-align: top;\n    }\n\n    .dataframe thead th {\n        text-align: right;\n    }\n</style>\n<table border=\"1\" class=\"dataframe\">\n  <thead>\n    <tr style=\"text-align: right;\">\n      <th></th>\n      <th></th>\n      <th>mean</th>\n      <th>sd</th>\n      <th>cv_1_valid</th>\n      <th>cv_2_valid</th>\n      <th>cv_3_valid</th>\n      <th>cv_4_valid</th>\n      <th>cv_5_valid</th>\n    </tr>\n  </thead>\n  <tbody>\n    <tr>\n      <th>0</th>\n      <td>accuracy</td>\n      <td>0.829790</td>\n      <td>0.012110</td>\n      <td>0.845638</td>\n      <td>0.830986</td>\n      <td>0.835821</td>\n      <td>0.814286</td>\n      <td>0.822222</td>\n    </tr>\n    <tr>\n      <th>1</th>\n      <td>auc</td>\n      <td>NaN</td>\n      <td>0.000000</td>\n      <td>NaN</td>\n      <td>NaN</td>\n      <td>NaN</td>\n      <td>NaN</td>\n      <td>NaN</td>\n    </tr>\n    <tr>\n      <th>2</th>\n      <td>err</td>\n      <td>0.170210</td>\n      <td>0.012110</td>\n      <td>0.154362</td>\n      <td>0.169014</td>\n      <td>0.164179</td>\n      <td>0.185714</td>\n      <td>0.177778</td>\n    </tr>\n    <tr>\n      <th>3</th>\n      <td>err_count</td>\n      <td>23.800000</td>\n      <td>1.483240</td>\n      <td>23.000000</td>\n      <td>24.000000</td>\n      <td>22.000000</td>\n      <td>26.000000</td>\n      <td>24.000000</td>\n    </tr>\n    <tr>\n      <th>4</th>\n      <td>logloss</td>\n      <td>0.450087</td>\n      <td>0.060940</td>\n      <td>0.488552</td>\n      <td>0.367507</td>\n      <td>0.525099</td>\n      <td>0.449669</td>\n      <td>0.419608</td>\n    </tr>\n    <tr>\n      <th>5</th>\n      <td>max_per_class_error</td>\n      <td>0.365478</td>\n      <td>0.154413</td>\n      <td>0.300000</td>\n      <td>0.250000</td>\n      <td>0.307692</td>\n      <td>0.636364</td>\n      <td>0.333333</td>\n    </tr>\n    <tr>\n      <th>6</th>\n      <td>mean_per_class_accuracy</td>\n      <td>0.805394</td>\n      <td>0.032133</td>\n      <td>0.798402</td>\n      <td>0.831193</td>\n      <td>0.833449</td>\n      <td>0.754300</td>\n      <td>0.809628</td>\n    </tr>\n    <tr>\n      <th>7</th>\n      <td>mean_per_class_error</td>\n      <td>0.194606</td>\n      <td>0.032133</td>\n      <td>0.201598</td>\n      <td>0.168807</td>\n      <td>0.166551</td>\n      <td>0.245700</td>\n      <td>0.190372</td>\n    </tr>\n    <tr>\n      <th>8</th>\n      <td>mse</td>\n      <td>0.139932</td>\n      <td>0.016083</td>\n      <td>0.146772</td>\n      <td>0.115542</td>\n      <td>0.159682</td>\n      <td>0.139325</td>\n      <td>0.138340</td>\n    </tr>\n    <tr>\n      <th>9</th>\n      <td>null_deviance</td>\n      <td>381.475280</td>\n      <td>14.967927</td>\n      <td>403.107120</td>\n      <td>389.831150</td>\n      <td>367.481320</td>\n      <td>377.641720</td>\n      <td>369.315060</td>\n    </tr>\n    <tr>\n      <th>10</th>\n      <td>pr_auc</td>\n      <td>NaN</td>\n      <td>0.000000</td>\n      <td>NaN</td>\n      <td>NaN</td>\n      <td>NaN</td>\n      <td>NaN</td>\n      <td>NaN</td>\n    </tr>\n    <tr>\n      <th>11</th>\n      <td>r2</td>\n      <td>0.917896</td>\n      <td>0.014852</td>\n      <td>0.911627</td>\n      <td>0.942098</td>\n      <td>0.915220</td>\n      <td>0.902091</td>\n      <td>0.918443</td>\n    </tr>\n    <tr>\n      <th>12</th>\n      <td>residual_deviance</td>\n      <td>125.977745</td>\n      <td>17.534184</td>\n      <td>145.588530</td>\n      <td>104.372120</td>\n      <td>140.726580</td>\n      <td>125.907265</td>\n      <td>113.294235</td>\n    </tr>\n    <tr>\n      <th>13</th>\n      <td>rmse</td>\n      <td>0.373566</td>\n      <td>0.021818</td>\n      <td>0.383109</td>\n      <td>0.339915</td>\n      <td>0.399602</td>\n      <td>0.373263</td>\n      <td>0.371941</td>\n    </tr>\n  </tbody>\n</table>\n</div>"
     },
     "metadata": {},
     "output_type": "display_data"
    },
    {
     "data": {
      "text/plain": ""
     },
     "execution_count": 6,
     "metadata": {},
     "output_type": "execute_result"
    }
   ],
   "source": [
    "pipeline.h2o_helper.aml.get_best_model()"
   ],
   "metadata": {
    "collapsed": false,
    "pycharm": {
     "name": "#%%\n"
    }
   }
  },
  {
   "cell_type": "code",
   "execution_count": 7,
   "outputs": [
    {
     "data": {
      "text/plain": "['GBM_1_AutoML_1_20220508_222615',\n 'GLM_1_AutoML_1_20220508_222615',\n 'XGBoost_grid_1_AutoML_1_20220508_222615_model_2',\n 'DeepLearning_grid_1_AutoML_1_20220508_222615_model_1',\n 'DRF_1_AutoML_1_20220508_222615',\n 'XRT_1_AutoML_1_20220508_222615']"
     },
     "execution_count": 7,
     "metadata": {},
     "output_type": "execute_result"
    }
   ],
   "source": [
    "pipeline.h2o_helper.aml.leader.base_models"
   ],
   "metadata": {
    "collapsed": false,
    "pycharm": {
     "name": "#%%\n"
    }
   }
  },
  {
   "cell_type": "code",
   "execution_count": 7,
   "outputs": [],
   "source": [],
   "metadata": {
    "collapsed": false,
    "pycharm": {
     "name": "#%%\n"
    }
   }
  }
 ],
 "metadata": {
  "interpreter": {
   "hash": "da386d383b1a4f2ab977ab0cc371ee70ac9bd2160da3f0bf5cca7f94d497a6a3"
  },
  "kernelspec": {
   "display_name": "Python 3.9.7 ('venv': venv)",
   "language": "python",
   "name": "python3"
  },
  "language_info": {
   "codemirror_mode": {
    "name": "ipython",
    "version": 3
   },
   "file_extension": ".py",
   "mimetype": "text/x-python",
   "name": "python",
   "nbconvert_exporter": "python",
   "pygments_lexer": "ipython3",
   "version": "3.9.7"
  },
  "orig_nbformat": 4
 },
 "nbformat": 4,
 "nbformat_minor": 2
}
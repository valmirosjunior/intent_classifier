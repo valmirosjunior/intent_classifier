{
 "cells": [
  {
   "cell_type": "code",
   "execution_count": 1,
   "outputs": [],
   "source": [
    "%load_ext autoreload\n",
    "\n",
    "%autoreload 2"
   ],
   "metadata": {
    "collapsed": false,
    "pycharm": {
     "name": "#%%\n"
    }
   }
  },
  {
   "cell_type": "code",
   "execution_count": 34,
   "outputs": [],
   "source": [
    "from src.ml.pipeline import PipelineH2OManualLabelingData"
   ],
   "metadata": {
    "collapsed": false,
    "pycharm": {
     "name": "#%%\n"
    }
   }
  },
  {
   "cell_type": "code",
   "execution_count": 36,
   "outputs": [
    {
     "name": "stdout",
     "output_type": "stream",
     "text": [
      "Checking whether there is an H2O instance running at http://localhost:54321 . connected.\n"
     ]
    },
    {
     "data": {
      "text/plain": "--------------------------  -----------------------------\nH2O_cluster_uptime:         4 hours 42 mins\nH2O_cluster_timezone:       America/Fortaleza\nH2O_data_parsing_timezone:  UTC\nH2O_cluster_version:        3.36.1.1\nH2O_cluster_version_age:    22 days\nH2O_cluster_name:           H2O_from_python_valmir_836rog\nH2O_cluster_total_nodes:    1\nH2O_cluster_free_memory:    7.548 Gb\nH2O_cluster_total_cores:    16\nH2O_cluster_allowed_cores:  16\nH2O_cluster_status:         locked, healthy\nH2O_connection_url:         http://localhost:54321\nH2O_connection_proxy:       {\"http\": null, \"https\": null}\nH2O_internal_security:      False\nPython_version:             3.9.12 final\n--------------------------  -----------------------------",
      "text/html": "<div style=\"overflow:auto\"><table style=\"width:50%\"><tr><td>H2O_cluster_uptime:</td>\n<td>4 hours 42 mins</td></tr>\n<tr><td>H2O_cluster_timezone:</td>\n<td>America/Fortaleza</td></tr>\n<tr><td>H2O_data_parsing_timezone:</td>\n<td>UTC</td></tr>\n<tr><td>H2O_cluster_version:</td>\n<td>3.36.1.1</td></tr>\n<tr><td>H2O_cluster_version_age:</td>\n<td>22 days </td></tr>\n<tr><td>H2O_cluster_name:</td>\n<td>H2O_from_python_valmir_836rog</td></tr>\n<tr><td>H2O_cluster_total_nodes:</td>\n<td>1</td></tr>\n<tr><td>H2O_cluster_free_memory:</td>\n<td>7.548 Gb</td></tr>\n<tr><td>H2O_cluster_total_cores:</td>\n<td>16</td></tr>\n<tr><td>H2O_cluster_allowed_cores:</td>\n<td>16</td></tr>\n<tr><td>H2O_cluster_status:</td>\n<td>locked, healthy</td></tr>\n<tr><td>H2O_connection_url:</td>\n<td>http://localhost:54321</td></tr>\n<tr><td>H2O_connection_proxy:</td>\n<td>{\"http\": null, \"https\": null}</td></tr>\n<tr><td>H2O_internal_security:</td>\n<td>False</td></tr>\n<tr><td>Python_version:</td>\n<td>3.9.12 final</td></tr></table></div>"
     },
     "metadata": {},
     "output_type": "display_data"
    }
   ],
   "source": [
    "pipeline = PipelineH2OManualLabelingData('use')"
   ],
   "metadata": {
    "collapsed": false,
    "pycharm": {
     "name": "#%%\n"
    }
   }
  },
  {
   "cell_type": "code",
   "execution_count": 37,
   "outputs": [
    {
     "name": "stdout",
     "output_type": "stream",
     "text": [
      "training model...\n",
      "Parse progress: |████████████████████████████████████████████████████████████████| (done) 100%\n",
      "AutoML progress: |███████████████████████████████████████████████████████████████| (done) 100%\n",
      "testing model...\n",
      "Parse progress: |████████████████████████████████████████████████████████████████| (done) 100%\n",
      "stackedensemble prediction progress: |███████████████████████████████████████████| (done) 100%\n",
      "The accuracy of model was:  0.8033333333333333\n",
      "saving model...\n",
      "predicting labels...\n",
      "Parse progress: |████████████████████████████████████████████████████████████████| (done) 100%\n",
      "stackedensemble prediction progress: |███████████████████████████████████████████| (done) 100%\n",
      "saving data...\n"
     ]
    }
   ],
   "source": [
    "pipeline.run()"
   ],
   "metadata": {
    "collapsed": false,
    "pycharm": {
     "name": "#%%\n"
    }
   }
  },
  {
   "cell_type": "code",
   "execution_count": 46,
   "outputs": [
    {
     "data": {
      "text/html": "<table>\n<thead>\n<tr><th>model_id                                               </th><th style=\"text-align: right;\">  mean_per_class_error</th><th style=\"text-align: right;\">  logloss</th><th style=\"text-align: right;\">    rmse</th><th style=\"text-align: right;\">     mse</th></tr>\n</thead>\n<tbody>\n<tr><td>StackedEnsemble_AllModels_1_AutoML_2_20220505_224944   </td><td style=\"text-align: right;\">              0.211322</td><td style=\"text-align: right;\"> 0.468669</td><td style=\"text-align: right;\">0.385528</td><td style=\"text-align: right;\">0.148632</td></tr>\n<tr><td>StackedEnsemble_BestOfFamily_1_AutoML_2_20220505_224944</td><td style=\"text-align: right;\">              0.213557</td><td style=\"text-align: right;\"> 0.449727</td><td style=\"text-align: right;\">0.37374 </td><td style=\"text-align: right;\">0.139681</td></tr>\n<tr><td>GBM_1_AutoML_2_20220505_224944                         </td><td style=\"text-align: right;\">              0.21575 </td><td style=\"text-align: right;\"> 0.476486</td><td style=\"text-align: right;\">0.38261 </td><td style=\"text-align: right;\">0.146391</td></tr>\n<tr><td>GLM_1_AutoML_2_20220505_224944                         </td><td style=\"text-align: right;\">              0.218464</td><td style=\"text-align: right;\"> 0.46899 </td><td style=\"text-align: right;\">0.384037</td><td style=\"text-align: right;\">0.147485</td></tr>\n<tr><td>XGBoost_grid_1_AutoML_2_20220505_224944_model_2        </td><td style=\"text-align: right;\">              0.220155</td><td style=\"text-align: right;\"> 0.465438</td><td style=\"text-align: right;\">0.374765</td><td style=\"text-align: right;\">0.140449</td></tr>\n<tr><td>XGBoost_3_AutoML_2_20220505_224944                     </td><td style=\"text-align: right;\">              0.222472</td><td style=\"text-align: right;\"> 0.479131</td><td style=\"text-align: right;\">0.376519</td><td style=\"text-align: right;\">0.141767</td></tr>\n<tr><td>DeepLearning_grid_1_AutoML_2_20220505_224944_model_1   </td><td style=\"text-align: right;\">              0.231833</td><td style=\"text-align: right;\"> 1.09562 </td><td style=\"text-align: right;\">0.422171</td><td style=\"text-align: right;\">0.178228</td></tr>\n<tr><td>GBM_2_AutoML_2_20220505_224944                         </td><td style=\"text-align: right;\">              0.233154</td><td style=\"text-align: right;\"> 0.494303</td><td style=\"text-align: right;\">0.384779</td><td style=\"text-align: right;\">0.148055</td></tr>\n<tr><td>XGBoost_grid_1_AutoML_2_20220505_224944_model_3        </td><td style=\"text-align: right;\">              0.23326 </td><td style=\"text-align: right;\"> 0.530645</td><td style=\"text-align: right;\">0.39376 </td><td style=\"text-align: right;\">0.155047</td></tr>\n<tr><td>XGBoost_1_AutoML_2_20220505_224944                     </td><td style=\"text-align: right;\">              0.233669</td><td style=\"text-align: right;\"> 0.494803</td><td style=\"text-align: right;\">0.390238</td><td style=\"text-align: right;\">0.152286</td></tr>\n</tbody>\n</table>"
     },
     "metadata": {},
     "output_type": "display_data"
    },
    {
     "data": {
      "text/plain": ""
     },
     "execution_count": 46,
     "metadata": {},
     "output_type": "execute_result"
    }
   ],
   "source": [
    "pipeline.h2o_helper.aml.leaderboard"
   ],
   "metadata": {
    "collapsed": false,
    "pycharm": {
     "name": "#%%\n"
    }
   }
  },
  {
   "cell_type": "code",
   "execution_count": 47,
   "outputs": [
    {
     "name": "stdout",
     "output_type": "stream",
     "text": [
      "Model Details\n",
      "=============\n",
      "H2OStackedEnsembleEstimator :  Stacked Ensemble\n",
      "Model Key:  StackedEnsemble_AllModels_1_AutoML_2_20220505_224944\n",
      "\n",
      "No model summary for this model\n",
      "\n",
      "ModelMetricsMultinomialGLM: stackedensemble\n",
      "** Reported on train data. **\n",
      "\n",
      "MSE: 5.6760254455840816e-05\n",
      "RMSE: 0.007533940168055545\n",
      "\n",
      "ModelMetricsMultinomialGLM: stackedensemble\n",
      "** Reported on cross-validation data. **\n",
      "\n",
      "MSE: 0.14863155162933606\n",
      "RMSE: 0.385527627582429\n",
      "\n",
      "Cross-Validation Metrics Summary: \n"
     ]
    },
    {
     "data": {
      "text/plain": "                                   mean         sd  cv_1_valid  cv_2_valid  \\\n0                  accuracy    0.836267   0.034680    0.885906    0.802817   \n1                       auc         NaN   0.000000         NaN         NaN   \n2                       err    0.163733   0.034680    0.114094    0.197183   \n3                 err_count   22.800000   4.324350   17.000000   28.000000   \n4                   logloss    0.469687   0.057198    0.396938    0.528397   \n5       max_per_class_error    0.426032   0.197894    0.285714    0.444444   \n6   mean_per_class_accuracy    0.778525   0.060625    0.850328    0.752455   \n7      mean_per_class_error    0.221475   0.060625    0.149672    0.247545   \n8                       mse    0.149041   0.023280    0.118594    0.175154   \n9             null_deviance  381.086200  27.238611  420.155100  381.925100   \n10                   pr_auc         NaN   0.000000         NaN         NaN   \n11                       r2    0.914134   0.011195    0.929386    0.903471   \n12        residual_deviance  131.227430  14.228638  118.287630  150.064830   \n13                     rmse    0.385097   0.030429    0.344375    0.418513   \n\n    cv_3_valid  cv_4_valid  cv_5_valid  \n0     0.804511    0.851064    0.837037  \n1          NaN         NaN         NaN  \n2     0.195489    0.148936    0.162963  \n3    26.000000   21.000000   22.000000  \n4     0.522705    0.469904    0.430490  \n5     0.750000    0.400000    0.250000  \n6     0.689926    0.792965    0.806952  \n7     0.310074    0.207035    0.193048  \n8     0.168121    0.148232    0.135104  \n9   346.658300  389.309700  367.382900  \n10         NaN         NaN         NaN  \n11    0.903200    0.914540    0.920072  \n12  139.039440  132.512860  116.232414  \n13    0.410025    0.385009    0.367565  ",
      "text/html": "<div>\n<style scoped>\n    .dataframe tbody tr th:only-of-type {\n        vertical-align: middle;\n    }\n\n    .dataframe tbody tr th {\n        vertical-align: top;\n    }\n\n    .dataframe thead th {\n        text-align: right;\n    }\n</style>\n<table border=\"1\" class=\"dataframe\">\n  <thead>\n    <tr style=\"text-align: right;\">\n      <th></th>\n      <th></th>\n      <th>mean</th>\n      <th>sd</th>\n      <th>cv_1_valid</th>\n      <th>cv_2_valid</th>\n      <th>cv_3_valid</th>\n      <th>cv_4_valid</th>\n      <th>cv_5_valid</th>\n    </tr>\n  </thead>\n  <tbody>\n    <tr>\n      <th>0</th>\n      <td>accuracy</td>\n      <td>0.836267</td>\n      <td>0.034680</td>\n      <td>0.885906</td>\n      <td>0.802817</td>\n      <td>0.804511</td>\n      <td>0.851064</td>\n      <td>0.837037</td>\n    </tr>\n    <tr>\n      <th>1</th>\n      <td>auc</td>\n      <td>NaN</td>\n      <td>0.000000</td>\n      <td>NaN</td>\n      <td>NaN</td>\n      <td>NaN</td>\n      <td>NaN</td>\n      <td>NaN</td>\n    </tr>\n    <tr>\n      <th>2</th>\n      <td>err</td>\n      <td>0.163733</td>\n      <td>0.034680</td>\n      <td>0.114094</td>\n      <td>0.197183</td>\n      <td>0.195489</td>\n      <td>0.148936</td>\n      <td>0.162963</td>\n    </tr>\n    <tr>\n      <th>3</th>\n      <td>err_count</td>\n      <td>22.800000</td>\n      <td>4.324350</td>\n      <td>17.000000</td>\n      <td>28.000000</td>\n      <td>26.000000</td>\n      <td>21.000000</td>\n      <td>22.000000</td>\n    </tr>\n    <tr>\n      <th>4</th>\n      <td>logloss</td>\n      <td>0.469687</td>\n      <td>0.057198</td>\n      <td>0.396938</td>\n      <td>0.528397</td>\n      <td>0.522705</td>\n      <td>0.469904</td>\n      <td>0.430490</td>\n    </tr>\n    <tr>\n      <th>5</th>\n      <td>max_per_class_error</td>\n      <td>0.426032</td>\n      <td>0.197894</td>\n      <td>0.285714</td>\n      <td>0.444444</td>\n      <td>0.750000</td>\n      <td>0.400000</td>\n      <td>0.250000</td>\n    </tr>\n    <tr>\n      <th>6</th>\n      <td>mean_per_class_accuracy</td>\n      <td>0.778525</td>\n      <td>0.060625</td>\n      <td>0.850328</td>\n      <td>0.752455</td>\n      <td>0.689926</td>\n      <td>0.792965</td>\n      <td>0.806952</td>\n    </tr>\n    <tr>\n      <th>7</th>\n      <td>mean_per_class_error</td>\n      <td>0.221475</td>\n      <td>0.060625</td>\n      <td>0.149672</td>\n      <td>0.247545</td>\n      <td>0.310074</td>\n      <td>0.207035</td>\n      <td>0.193048</td>\n    </tr>\n    <tr>\n      <th>8</th>\n      <td>mse</td>\n      <td>0.149041</td>\n      <td>0.023280</td>\n      <td>0.118594</td>\n      <td>0.175154</td>\n      <td>0.168121</td>\n      <td>0.148232</td>\n      <td>0.135104</td>\n    </tr>\n    <tr>\n      <th>9</th>\n      <td>null_deviance</td>\n      <td>381.086200</td>\n      <td>27.238611</td>\n      <td>420.155100</td>\n      <td>381.925100</td>\n      <td>346.658300</td>\n      <td>389.309700</td>\n      <td>367.382900</td>\n    </tr>\n    <tr>\n      <th>10</th>\n      <td>pr_auc</td>\n      <td>NaN</td>\n      <td>0.000000</td>\n      <td>NaN</td>\n      <td>NaN</td>\n      <td>NaN</td>\n      <td>NaN</td>\n      <td>NaN</td>\n    </tr>\n    <tr>\n      <th>11</th>\n      <td>r2</td>\n      <td>0.914134</td>\n      <td>0.011195</td>\n      <td>0.929386</td>\n      <td>0.903471</td>\n      <td>0.903200</td>\n      <td>0.914540</td>\n      <td>0.920072</td>\n    </tr>\n    <tr>\n      <th>12</th>\n      <td>residual_deviance</td>\n      <td>131.227430</td>\n      <td>14.228638</td>\n      <td>118.287630</td>\n      <td>150.064830</td>\n      <td>139.039440</td>\n      <td>132.512860</td>\n      <td>116.232414</td>\n    </tr>\n    <tr>\n      <th>13</th>\n      <td>rmse</td>\n      <td>0.385097</td>\n      <td>0.030429</td>\n      <td>0.344375</td>\n      <td>0.418513</td>\n      <td>0.410025</td>\n      <td>0.385009</td>\n      <td>0.367565</td>\n    </tr>\n  </tbody>\n</table>\n</div>"
     },
     "metadata": {},
     "output_type": "display_data"
    },
    {
     "data": {
      "text/plain": ""
     },
     "execution_count": 47,
     "metadata": {},
     "output_type": "execute_result"
    }
   ],
   "source": [
    "pipeline.h2o_helper.aml.get_best_model()"
   ],
   "metadata": {
    "collapsed": false,
    "pycharm": {
     "name": "#%%\n"
    }
   }
  },
  {
   "cell_type": "code",
   "execution_count": 50,
   "outputs": [
    {
     "data": {
      "text/plain": "['GBM_1_AutoML_2_20220505_224944',\n 'GLM_1_AutoML_2_20220505_224944',\n 'XGBoost_grid_1_AutoML_2_20220505_224944_model_2',\n 'XGBoost_3_AutoML_2_20220505_224944',\n 'DeepLearning_grid_1_AutoML_2_20220505_224944_model_1',\n 'GBM_2_AutoML_2_20220505_224944',\n 'XGBoost_grid_1_AutoML_2_20220505_224944_model_3',\n 'XGBoost_1_AutoML_2_20220505_224944',\n 'GBM_3_AutoML_2_20220505_224944',\n 'XGBoost_grid_1_AutoML_2_20220505_224944_model_1',\n 'GBM_4_AutoML_2_20220505_224944',\n 'DeepLearning_grid_3_AutoML_2_20220505_224944_model_1',\n 'XGBoost_2_AutoML_2_20220505_224944',\n 'GBM_grid_1_AutoML_2_20220505_224944_model_1',\n 'GBM_grid_1_AutoML_2_20220505_224944_model_2',\n 'GBM_5_AutoML_2_20220505_224944',\n 'DeepLearning_grid_2_AutoML_2_20220505_224944_model_1',\n 'DeepLearning_1_AutoML_2_20220505_224944',\n 'DRF_1_AutoML_2_20220505_224944',\n 'XRT_1_AutoML_2_20220505_224944']"
     },
     "execution_count": 50,
     "metadata": {},
     "output_type": "execute_result"
    }
   ],
   "source": [
    "pipeline.h2o_helper.aml.leader.base_models"
   ],
   "metadata": {
    "collapsed": false,
    "pycharm": {
     "name": "#%%\n"
    }
   }
  },
  {
   "cell_type": "code",
   "execution_count": null,
   "outputs": [],
   "source": [],
   "metadata": {
    "collapsed": false,
    "pycharm": {
     "name": "#%%\n"
    }
   }
  }
 ],
 "metadata": {
  "interpreter": {
   "hash": "da386d383b1a4f2ab977ab0cc371ee70ac9bd2160da3f0bf5cca7f94d497a6a3"
  },
  "kernelspec": {
   "display_name": "Python 3.9.7 ('venv': venv)",
   "language": "python",
   "name": "python3"
  },
  "language_info": {
   "codemirror_mode": {
    "name": "ipython",
    "version": 3
   },
   "file_extension": ".py",
   "mimetype": "text/x-python",
   "name": "python",
   "nbconvert_exporter": "python",
   "pygments_lexer": "ipython3",
   "version": "3.9.7"
  },
  "orig_nbformat": 4
 },
 "nbformat": 4,
 "nbformat_minor": 2
}
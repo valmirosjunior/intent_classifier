{
 "cells": [
  {
   "cell_type": "code",
   "execution_count": 1,
   "outputs": [],
   "source": [
    "%load_ext autoreload\n",
    "\n",
    "%autoreload 2"
   ],
   "metadata": {
    "collapsed": false,
    "pycharm": {
     "name": "#%%\n"
    }
   }
  },
  {
   "cell_type": "code",
   "execution_count": 2,
   "outputs": [],
   "source": [
    "from src.ml.pipeline import PipelineH2OManualLabelingData"
   ],
   "metadata": {
    "collapsed": false,
    "pycharm": {
     "name": "#%%\n"
    }
   }
  },
  {
   "cell_type": "code",
   "execution_count": 3,
   "outputs": [
    {
     "name": "stdout",
     "output_type": "stream",
     "text": [
      "Checking whether there is an H2O instance running at http://localhost:54321 . connected.\n"
     ]
    },
    {
     "data": {
      "text/plain": "--------------------------  -----------------------------\nH2O_cluster_uptime:         20 mins 26 secs\nH2O_cluster_timezone:       America/Fortaleza\nH2O_data_parsing_timezone:  UTC\nH2O_cluster_version:        3.36.1.1\nH2O_cluster_version_age:    22 days\nH2O_cluster_name:           H2O_from_python_valmir_hpoby6\nH2O_cluster_total_nodes:    1\nH2O_cluster_free_memory:    7.160 Gb\nH2O_cluster_total_cores:    16\nH2O_cluster_allowed_cores:  16\nH2O_cluster_status:         locked, healthy\nH2O_connection_url:         http://localhost:54321\nH2O_connection_proxy:       {\"http\": null, \"https\": null}\nH2O_internal_security:      False\nPython_version:             3.9.12 final\n--------------------------  -----------------------------",
      "text/html": "<div style=\"overflow:auto\"><table style=\"width:50%\"><tr><td>H2O_cluster_uptime:</td>\n<td>20 mins 26 secs</td></tr>\n<tr><td>H2O_cluster_timezone:</td>\n<td>America/Fortaleza</td></tr>\n<tr><td>H2O_data_parsing_timezone:</td>\n<td>UTC</td></tr>\n<tr><td>H2O_cluster_version:</td>\n<td>3.36.1.1</td></tr>\n<tr><td>H2O_cluster_version_age:</td>\n<td>22 days </td></tr>\n<tr><td>H2O_cluster_name:</td>\n<td>H2O_from_python_valmir_hpoby6</td></tr>\n<tr><td>H2O_cluster_total_nodes:</td>\n<td>1</td></tr>\n<tr><td>H2O_cluster_free_memory:</td>\n<td>7.160 Gb</td></tr>\n<tr><td>H2O_cluster_total_cores:</td>\n<td>16</td></tr>\n<tr><td>H2O_cluster_allowed_cores:</td>\n<td>16</td></tr>\n<tr><td>H2O_cluster_status:</td>\n<td>locked, healthy</td></tr>\n<tr><td>H2O_connection_url:</td>\n<td>http://localhost:54321</td></tr>\n<tr><td>H2O_connection_proxy:</td>\n<td>{\"http\": null, \"https\": null}</td></tr>\n<tr><td>H2O_internal_security:</td>\n<td>False</td></tr>\n<tr><td>Python_version:</td>\n<td>3.9.12 final</td></tr></table></div>"
     },
     "metadata": {},
     "output_type": "display_data"
    }
   ],
   "source": [
    "pipeline = PipelineH2OManualLabelingData('glove')"
   ],
   "metadata": {
    "collapsed": false,
    "pycharm": {
     "name": "#%%\n"
    }
   }
  },
  {
   "cell_type": "code",
   "execution_count": 4,
   "outputs": [
    {
     "name": "stdout",
     "output_type": "stream",
     "text": [
      "training model...\n",
      "Parse progress: |████████████████████████████████████████████████████████████████| (done) 100%\n",
      "AutoML progress: |███████████████████████████████████████████████████████████████| (done) 100%\n",
      "testing model...\n",
      "Parse progress: |████████████████████████████████████████████████████████████████| (done) 100%\n",
      "stackedensemble prediction progress: |███████████████████████████████████████████| (done) 100%\n",
      "The accuracy of model was:  0.6733333333333333\n",
      "saving model...\n",
      "The model was saved at: /home/valmir/dev/python/intent_classifier/data/output/h2o/models/classified_manual/glove, with name: StackedEnsemble_AllModels_1_AutoML_2_20220506_82430\n",
      "predicting labels...\n",
      "Parse progress: |████████████████████████████████████████████████████████████████| (done) 100%\n",
      "stackedensemble prediction progress: |███████████████████████████████████████████| (done) 100%\n",
      "saving data...\n"
     ]
    }
   ],
   "source": [
    "pipeline.run()"
   ],
   "metadata": {
    "collapsed": false,
    "pycharm": {
     "name": "#%%\n"
    }
   }
  },
  {
   "cell_type": "code",
   "execution_count": 5,
   "outputs": [
    {
     "data": {
      "text/html": "<table>\n<thead>\n<tr><th>model_id                                              </th><th style=\"text-align: right;\">  mean_per_class_error</th><th style=\"text-align: right;\">  logloss</th><th style=\"text-align: right;\">    rmse</th><th style=\"text-align: right;\">     mse</th></tr>\n</thead>\n<tbody>\n<tr><td>StackedEnsemble_AllModels_1_AutoML_2_20220506_82430   </td><td style=\"text-align: right;\">              0.50712 </td><td style=\"text-align: right;\"> 0.978218</td><td style=\"text-align: right;\">0.575993</td><td style=\"text-align: right;\">0.331768</td></tr>\n<tr><td>StackedEnsemble_BestOfFamily_1_AutoML_2_20220506_82430</td><td style=\"text-align: right;\">              0.513361</td><td style=\"text-align: right;\"> 0.987862</td><td style=\"text-align: right;\">0.578345</td><td style=\"text-align: right;\">0.334483</td></tr>\n<tr><td>XGBoost_grid_1_AutoML_2_20220506_82430_model_1        </td><td style=\"text-align: right;\">              0.515338</td><td style=\"text-align: right;\"> 1.02941 </td><td style=\"text-align: right;\">0.582384</td><td style=\"text-align: right;\">0.339172</td></tr>\n<tr><td>DeepLearning_grid_2_AutoML_2_20220506_82430_model_1   </td><td style=\"text-align: right;\">              0.524305</td><td style=\"text-align: right;\"> 1.94396 </td><td style=\"text-align: right;\">0.606433</td><td style=\"text-align: right;\">0.367761</td></tr>\n<tr><td>XGBoost_grid_1_AutoML_2_20220506_82430_model_3        </td><td style=\"text-align: right;\">              0.526593</td><td style=\"text-align: right;\"> 1.10026 </td><td style=\"text-align: right;\">0.584618</td><td style=\"text-align: right;\">0.341778</td></tr>\n<tr><td>GLM_1_AutoML_2_20220506_82430                         </td><td style=\"text-align: right;\">              0.532303</td><td style=\"text-align: right;\"> 1.03438 </td><td style=\"text-align: right;\">0.596817</td><td style=\"text-align: right;\">0.356191</td></tr>\n<tr><td>XGBoost_2_AutoML_2_20220506_82430                     </td><td style=\"text-align: right;\">              0.532944</td><td style=\"text-align: right;\"> 1.08085 </td><td style=\"text-align: right;\">0.586514</td><td style=\"text-align: right;\">0.343999</td></tr>\n<tr><td>DeepLearning_grid_1_AutoML_2_20220506_82430_model_1   </td><td style=\"text-align: right;\">              0.536129</td><td style=\"text-align: right;\"> 2.04734 </td><td style=\"text-align: right;\">0.628801</td><td style=\"text-align: right;\">0.39539 </td></tr>\n<tr><td>XGBoost_1_AutoML_2_20220506_82430                     </td><td style=\"text-align: right;\">              0.541871</td><td style=\"text-align: right;\"> 1.05362 </td><td style=\"text-align: right;\">0.588528</td><td style=\"text-align: right;\">0.346365</td></tr>\n<tr><td>XGBoost_grid_1_AutoML_2_20220506_82430_model_2        </td><td style=\"text-align: right;\">              0.548743</td><td style=\"text-align: right;\"> 1.05577 </td><td style=\"text-align: right;\">0.591227</td><td style=\"text-align: right;\">0.349549</td></tr>\n</tbody>\n</table>"
     },
     "metadata": {},
     "output_type": "display_data"
    },
    {
     "data": {
      "text/plain": ""
     },
     "execution_count": 5,
     "metadata": {},
     "output_type": "execute_result"
    }
   ],
   "source": [
    "pipeline.h2o_helper.aml.leaderboard"
   ],
   "metadata": {
    "collapsed": false,
    "pycharm": {
     "name": "#%%\n"
    }
   }
  },
  {
   "cell_type": "code",
   "execution_count": 6,
   "outputs": [
    {
     "name": "stdout",
     "output_type": "stream",
     "text": [
      "Model Details\n",
      "=============\n",
      "H2OStackedEnsembleEstimator :  Stacked Ensemble\n",
      "Model Key:  StackedEnsemble_AllModels_1_AutoML_2_20220506_82430\n",
      "\n",
      "No model summary for this model\n",
      "\n",
      "ModelMetricsMultinomialGLM: stackedensemble\n",
      "** Reported on train data. **\n",
      "\n",
      "MSE: 0.02616451028588622\n",
      "RMSE: 0.1617544753194984\n",
      "\n",
      "ModelMetricsMultinomialGLM: stackedensemble\n",
      "** Reported on cross-validation data. **\n",
      "\n",
      "MSE: 0.33176766602186947\n",
      "RMSE: 0.5759927655985528\n",
      "\n",
      "Cross-Validation Metrics Summary: \n"
     ]
    },
    {
     "data": {
      "text/plain": "                                   mean         sd  cv_1_valid  cv_2_valid  \\\n0                  accuracy    0.628868   0.033254    0.610738    0.626761   \n1                       auc         NaN   0.000000         NaN         NaN   \n2                       err    0.371132   0.033254    0.389262    0.373239   \n3                 err_count   52.000000   5.612486   58.000000   53.000000   \n4                   logloss    0.973206   0.044900    1.010638    0.949515   \n5       max_per_class_error    1.000000   0.000000    1.000000    1.000000   \n6   mean_per_class_accuracy    0.503660   0.041848    0.505810    0.529648   \n7      mean_per_class_error    0.496340   0.041848    0.494190    0.470352   \n8                       mse    0.329220   0.012784    0.338654    0.323905   \n9             null_deviance  381.086200  27.238611  420.155100  381.925100   \n10                   pr_auc         NaN   0.000000         NaN         NaN   \n11                       r2    0.809565   0.012032    0.798357    0.821493   \n12        residual_deviance  272.572900  19.071346  301.170000  269.662170   \n13                     rmse    0.573691   0.011099    0.581940    0.569126   \n\n    cv_3_valid  cv_4_valid  cv_5_valid  \n0     0.669173    0.652482    0.585185  \n1          NaN         NaN         NaN  \n2     0.330827    0.347518    0.414815  \n3    44.000000   49.000000   56.000000  \n4     0.940103    0.933804    1.031971  \n5     1.000000    1.000000    1.000000  \n6     0.520593    0.531235    0.431012  \n7     0.479407    0.468764    0.568988  \n8     0.319455    0.317463    0.346624  \n9   346.658300  389.309700  367.382900  \n10         NaN         NaN         NaN  \n11    0.816066    0.816974    0.794935  \n12  250.067300  263.332760  278.632200  \n13    0.565203    0.563439    0.588748  ",
      "text/html": "<div>\n<style scoped>\n    .dataframe tbody tr th:only-of-type {\n        vertical-align: middle;\n    }\n\n    .dataframe tbody tr th {\n        vertical-align: top;\n    }\n\n    .dataframe thead th {\n        text-align: right;\n    }\n</style>\n<table border=\"1\" class=\"dataframe\">\n  <thead>\n    <tr style=\"text-align: right;\">\n      <th></th>\n      <th></th>\n      <th>mean</th>\n      <th>sd</th>\n      <th>cv_1_valid</th>\n      <th>cv_2_valid</th>\n      <th>cv_3_valid</th>\n      <th>cv_4_valid</th>\n      <th>cv_5_valid</th>\n    </tr>\n  </thead>\n  <tbody>\n    <tr>\n      <th>0</th>\n      <td>accuracy</td>\n      <td>0.628868</td>\n      <td>0.033254</td>\n      <td>0.610738</td>\n      <td>0.626761</td>\n      <td>0.669173</td>\n      <td>0.652482</td>\n      <td>0.585185</td>\n    </tr>\n    <tr>\n      <th>1</th>\n      <td>auc</td>\n      <td>NaN</td>\n      <td>0.000000</td>\n      <td>NaN</td>\n      <td>NaN</td>\n      <td>NaN</td>\n      <td>NaN</td>\n      <td>NaN</td>\n    </tr>\n    <tr>\n      <th>2</th>\n      <td>err</td>\n      <td>0.371132</td>\n      <td>0.033254</td>\n      <td>0.389262</td>\n      <td>0.373239</td>\n      <td>0.330827</td>\n      <td>0.347518</td>\n      <td>0.414815</td>\n    </tr>\n    <tr>\n      <th>3</th>\n      <td>err_count</td>\n      <td>52.000000</td>\n      <td>5.612486</td>\n      <td>58.000000</td>\n      <td>53.000000</td>\n      <td>44.000000</td>\n      <td>49.000000</td>\n      <td>56.000000</td>\n    </tr>\n    <tr>\n      <th>4</th>\n      <td>logloss</td>\n      <td>0.973206</td>\n      <td>0.044900</td>\n      <td>1.010638</td>\n      <td>0.949515</td>\n      <td>0.940103</td>\n      <td>0.933804</td>\n      <td>1.031971</td>\n    </tr>\n    <tr>\n      <th>5</th>\n      <td>max_per_class_error</td>\n      <td>1.000000</td>\n      <td>0.000000</td>\n      <td>1.000000</td>\n      <td>1.000000</td>\n      <td>1.000000</td>\n      <td>1.000000</td>\n      <td>1.000000</td>\n    </tr>\n    <tr>\n      <th>6</th>\n      <td>mean_per_class_accuracy</td>\n      <td>0.503660</td>\n      <td>0.041848</td>\n      <td>0.505810</td>\n      <td>0.529648</td>\n      <td>0.520593</td>\n      <td>0.531235</td>\n      <td>0.431012</td>\n    </tr>\n    <tr>\n      <th>7</th>\n      <td>mean_per_class_error</td>\n      <td>0.496340</td>\n      <td>0.041848</td>\n      <td>0.494190</td>\n      <td>0.470352</td>\n      <td>0.479407</td>\n      <td>0.468764</td>\n      <td>0.568988</td>\n    </tr>\n    <tr>\n      <th>8</th>\n      <td>mse</td>\n      <td>0.329220</td>\n      <td>0.012784</td>\n      <td>0.338654</td>\n      <td>0.323905</td>\n      <td>0.319455</td>\n      <td>0.317463</td>\n      <td>0.346624</td>\n    </tr>\n    <tr>\n      <th>9</th>\n      <td>null_deviance</td>\n      <td>381.086200</td>\n      <td>27.238611</td>\n      <td>420.155100</td>\n      <td>381.925100</td>\n      <td>346.658300</td>\n      <td>389.309700</td>\n      <td>367.382900</td>\n    </tr>\n    <tr>\n      <th>10</th>\n      <td>pr_auc</td>\n      <td>NaN</td>\n      <td>0.000000</td>\n      <td>NaN</td>\n      <td>NaN</td>\n      <td>NaN</td>\n      <td>NaN</td>\n      <td>NaN</td>\n    </tr>\n    <tr>\n      <th>11</th>\n      <td>r2</td>\n      <td>0.809565</td>\n      <td>0.012032</td>\n      <td>0.798357</td>\n      <td>0.821493</td>\n      <td>0.816066</td>\n      <td>0.816974</td>\n      <td>0.794935</td>\n    </tr>\n    <tr>\n      <th>12</th>\n      <td>residual_deviance</td>\n      <td>272.572900</td>\n      <td>19.071346</td>\n      <td>301.170000</td>\n      <td>269.662170</td>\n      <td>250.067300</td>\n      <td>263.332760</td>\n      <td>278.632200</td>\n    </tr>\n    <tr>\n      <th>13</th>\n      <td>rmse</td>\n      <td>0.573691</td>\n      <td>0.011099</td>\n      <td>0.581940</td>\n      <td>0.569126</td>\n      <td>0.565203</td>\n      <td>0.563439</td>\n      <td>0.588748</td>\n    </tr>\n  </tbody>\n</table>\n</div>"
     },
     "metadata": {},
     "output_type": "display_data"
    },
    {
     "data": {
      "text/plain": ""
     },
     "execution_count": 6,
     "metadata": {},
     "output_type": "execute_result"
    }
   ],
   "source": [
    "pipeline.h2o_helper.aml.get_best_model()"
   ],
   "metadata": {
    "collapsed": false,
    "pycharm": {
     "name": "#%%\n"
    }
   }
  },
  {
   "cell_type": "code",
   "execution_count": 7,
   "outputs": [
    {
     "data": {
      "text/plain": "['XGBoost_grid_1_AutoML_2_20220506_82430_model_1',\n 'DeepLearning_grid_2_AutoML_2_20220506_82430_model_1',\n 'XGBoost_grid_1_AutoML_2_20220506_82430_model_3',\n 'GLM_1_AutoML_2_20220506_82430',\n 'XGBoost_2_AutoML_2_20220506_82430',\n 'DeepLearning_grid_1_AutoML_2_20220506_82430_model_1',\n 'XGBoost_1_AutoML_2_20220506_82430',\n 'XGBoost_grid_1_AutoML_2_20220506_82430_model_2',\n 'DeepLearning_grid_3_AutoML_2_20220506_82430_model_1',\n 'XGBoost_3_AutoML_2_20220506_82430',\n 'GBM_4_AutoML_2_20220506_82430',\n 'DeepLearning_1_AutoML_2_20220506_82430',\n 'GBM_grid_1_AutoML_2_20220506_82430_model_1',\n 'GBM_2_AutoML_2_20220506_82430',\n 'GBM_1_AutoML_2_20220506_82430',\n 'GBM_3_AutoML_2_20220506_82430',\n 'XRT_1_AutoML_2_20220506_82430',\n 'GBM_grid_1_AutoML_2_20220506_82430_model_2',\n 'GBM_5_AutoML_2_20220506_82430',\n 'DRF_1_AutoML_2_20220506_82430']"
     },
     "execution_count": 7,
     "metadata": {},
     "output_type": "execute_result"
    }
   ],
   "source": [
    "pipeline.h2o_helper.aml.leader.base_models"
   ],
   "metadata": {
    "collapsed": false,
    "pycharm": {
     "name": "#%%\n"
    }
   }
  },
  {
   "cell_type": "code",
   "execution_count": 7,
   "outputs": [],
   "source": [],
   "metadata": {
    "collapsed": false,
    "pycharm": {
     "name": "#%%\n"
    }
   }
  }
 ],
 "metadata": {
  "interpreter": {
   "hash": "da386d383b1a4f2ab977ab0cc371ee70ac9bd2160da3f0bf5cca7f94d497a6a3"
  },
  "kernelspec": {
   "display_name": "Python 3.9.7 ('venv': venv)",
   "language": "python",
   "name": "python3"
  },
  "language_info": {
   "codemirror_mode": {
    "name": "ipython",
    "version": 3
   },
   "file_extension": ".py",
   "mimetype": "text/x-python",
   "name": "python",
   "nbconvert_exporter": "python",
   "pygments_lexer": "ipython3",
   "version": "3.9.7"
  },
  "orig_nbformat": 4
 },
 "nbformat": 4,
 "nbformat_minor": 2
}
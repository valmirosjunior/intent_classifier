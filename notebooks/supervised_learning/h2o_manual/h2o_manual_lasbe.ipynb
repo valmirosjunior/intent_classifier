{
 "cells": [
  {
   "cell_type": "code",
   "execution_count": 1,
   "outputs": [],
   "source": [
    "%load_ext autoreload\n",
    "\n",
    "%autoreload 2"
   ],
   "metadata": {
    "collapsed": false,
    "pycharm": {
     "name": "#%%\n"
    }
   }
  },
  {
   "cell_type": "code",
   "execution_count": 2,
   "outputs": [],
   "source": [
    "from src.ml.pipeline import PipelineH2OManualLabelingData"
   ],
   "metadata": {
    "collapsed": false,
    "pycharm": {
     "name": "#%%\n"
    }
   }
  },
  {
   "cell_type": "code",
   "execution_count": 3,
   "outputs": [
    {
     "name": "stdout",
     "output_type": "stream",
     "text": [
      "Checking whether there is an H2O instance running at http://localhost:54321 ..... not found.\n",
      "Attempting to start a local H2O server...\n",
      "  Java Version: openjdk version \"11.0.15\" 2022-04-19; OpenJDK Runtime Environment (build 11.0.15+10-Ubuntu-0ubuntu0.22.04.1); OpenJDK 64-Bit Server VM (build 11.0.15+10-Ubuntu-0ubuntu0.22.04.1, mixed mode, sharing)\n",
      "  Starting server from /home/valmir/dev/python/intent_classifier/venv/lib/python3.9/site-packages/h2o/backend/bin/h2o.jar\n",
      "  Ice root: /tmp/tmpzkao7w2r\n",
      "  JVM stdout: /tmp/tmpzkao7w2r/h2o_valmir_started_from_python.out\n",
      "  JVM stderr: /tmp/tmpzkao7w2r/h2o_valmir_started_from_python.err\n",
      "  Server is running at http://127.0.0.1:54321\n",
      "Connecting to H2O server at http://127.0.0.1:54321 ... successful.\n"
     ]
    },
    {
     "data": {
      "text/plain": "--------------------------  -----------------------------\nH2O_cluster_uptime:         01 secs\nH2O_cluster_timezone:       America/Fortaleza\nH2O_data_parsing_timezone:  UTC\nH2O_cluster_version:        3.36.1.1\nH2O_cluster_version_age:    22 days\nH2O_cluster_name:           H2O_from_python_valmir_r7y3k9\nH2O_cluster_total_nodes:    1\nH2O_cluster_free_memory:    7.777 Gb\nH2O_cluster_total_cores:    16\nH2O_cluster_allowed_cores:  16\nH2O_cluster_status:         locked, healthy\nH2O_connection_url:         http://127.0.0.1:54321\nH2O_connection_proxy:       {\"http\": null, \"https\": null}\nH2O_internal_security:      False\nPython_version:             3.9.12 final\n--------------------------  -----------------------------",
      "text/html": "<div style=\"overflow:auto\"><table style=\"width:50%\"><tr><td>H2O_cluster_uptime:</td>\n<td>01 secs</td></tr>\n<tr><td>H2O_cluster_timezone:</td>\n<td>America/Fortaleza</td></tr>\n<tr><td>H2O_data_parsing_timezone:</td>\n<td>UTC</td></tr>\n<tr><td>H2O_cluster_version:</td>\n<td>3.36.1.1</td></tr>\n<tr><td>H2O_cluster_version_age:</td>\n<td>22 days </td></tr>\n<tr><td>H2O_cluster_name:</td>\n<td>H2O_from_python_valmir_r7y3k9</td></tr>\n<tr><td>H2O_cluster_total_nodes:</td>\n<td>1</td></tr>\n<tr><td>H2O_cluster_free_memory:</td>\n<td>7.777 Gb</td></tr>\n<tr><td>H2O_cluster_total_cores:</td>\n<td>16</td></tr>\n<tr><td>H2O_cluster_allowed_cores:</td>\n<td>16</td></tr>\n<tr><td>H2O_cluster_status:</td>\n<td>locked, healthy</td></tr>\n<tr><td>H2O_connection_url:</td>\n<td>http://127.0.0.1:54321</td></tr>\n<tr><td>H2O_connection_proxy:</td>\n<td>{\"http\": null, \"https\": null}</td></tr>\n<tr><td>H2O_internal_security:</td>\n<td>False</td></tr>\n<tr><td>Python_version:</td>\n<td>3.9.12 final</td></tr></table></div>"
     },
     "metadata": {},
     "output_type": "display_data"
    }
   ],
   "source": [
    "pipeline = PipelineH2OManualLabelingData('lasbe')"
   ],
   "metadata": {
    "collapsed": false,
    "pycharm": {
     "name": "#%%\n"
    }
   }
  },
  {
   "cell_type": "code",
   "execution_count": 4,
   "outputs": [
    {
     "name": "stdout",
     "output_type": "stream",
     "text": [
      "training model...\n",
      "Parse progress: |████████████████████████████████████████████████████████████████| (done) 100%\n",
      "AutoML progress: |███████████████████████████████████████████████████████████████| (done) 100%\n",
      "testing model...\n",
      "Parse progress: |████████████████████████████████████████████████████████████████| (done) 100%\n",
      "stackedensemble prediction progress: |███████████████████████████████████████████| (done) 100%\n",
      "The accuracy of model was:  0.84\n",
      "saving model...\n",
      "The model was saved at: /home/valmir/dev/python/intent_classifier/data/output/h2o/models/classified_manual/lasbe, with name: StackedEnsemble_BestOfFamily_1_AutoML_1_20220506_71512\n",
      "predicting labels...\n",
      "Parse progress: |████████████████████████████████████████████████████████████████| (done) 100%\n",
      "stackedensemble prediction progress: |███████████████████████████████████████████| (done) 100%\n",
      "saving data...\n"
     ]
    }
   ],
   "source": [
    "pipeline.run()"
   ],
   "metadata": {
    "collapsed": false,
    "pycharm": {
     "name": "#%%\n"
    }
   }
  },
  {
   "cell_type": "code",
   "execution_count": 5,
   "outputs": [
    {
     "data": {
      "text/html": "<table>\n<thead>\n<tr><th>model_id                                              </th><th style=\"text-align: right;\">  mean_per_class_error</th><th style=\"text-align: right;\">  logloss</th><th style=\"text-align: right;\">    rmse</th><th style=\"text-align: right;\">     mse</th></tr>\n</thead>\n<tbody>\n<tr><td>StackedEnsemble_BestOfFamily_1_AutoML_1_20220506_71512</td><td style=\"text-align: right;\">              0.218143</td><td style=\"text-align: right;\"> 0.496199</td><td style=\"text-align: right;\">0.387645</td><td style=\"text-align: right;\">0.150269</td></tr>\n<tr><td>GLM_1_AutoML_1_20220506_71512                         </td><td style=\"text-align: right;\">              0.244658</td><td style=\"text-align: right;\"> 0.499658</td><td style=\"text-align: right;\">0.392866</td><td style=\"text-align: right;\">0.154344</td></tr>\n<tr><td>DeepLearning_grid_1_AutoML_1_20220506_71512_model_1   </td><td style=\"text-align: right;\">              0.249872</td><td style=\"text-align: right;\"> 1.45498 </td><td style=\"text-align: right;\">0.43459 </td><td style=\"text-align: right;\">0.188868</td></tr>\n<tr><td>StackedEnsemble_AllModels_1_AutoML_1_20220506_71512   </td><td style=\"text-align: right;\">              0.250969</td><td style=\"text-align: right;\"> 0.534399</td><td style=\"text-align: right;\">0.405614</td><td style=\"text-align: right;\">0.164522</td></tr>\n<tr><td>DeepLearning_grid_3_AutoML_1_20220506_71512_model_1   </td><td style=\"text-align: right;\">              0.25312 </td><td style=\"text-align: right;\"> 1.09416 </td><td style=\"text-align: right;\">0.427998</td><td style=\"text-align: right;\">0.183182</td></tr>\n<tr><td>DeepLearning_grid_2_AutoML_1_20220506_71512_model_1   </td><td style=\"text-align: right;\">              0.263282</td><td style=\"text-align: right;\"> 1.26928 </td><td style=\"text-align: right;\">0.429665</td><td style=\"text-align: right;\">0.184612</td></tr>\n<tr><td>XGBoost_2_AutoML_1_20220506_71512                     </td><td style=\"text-align: right;\">              0.272501</td><td style=\"text-align: right;\"> 0.568527</td><td style=\"text-align: right;\">0.419849</td><td style=\"text-align: right;\">0.176273</td></tr>\n<tr><td>DeepLearning_1_AutoML_1_20220506_71512                </td><td style=\"text-align: right;\">              0.283137</td><td style=\"text-align: right;\"> 0.994093</td><td style=\"text-align: right;\">0.457144</td><td style=\"text-align: right;\">0.208981</td></tr>\n<tr><td>XGBoost_grid_1_AutoML_1_20220506_71512_model_3        </td><td style=\"text-align: right;\">              0.291104</td><td style=\"text-align: right;\"> 0.574148</td><td style=\"text-align: right;\">0.419781</td><td style=\"text-align: right;\">0.176216</td></tr>\n<tr><td>XGBoost_grid_1_AutoML_1_20220506_71512_model_2        </td><td style=\"text-align: right;\">              0.296763</td><td style=\"text-align: right;\"> 0.565708</td><td style=\"text-align: right;\">0.4238  </td><td style=\"text-align: right;\">0.179606</td></tr>\n</tbody>\n</table>"
     },
     "metadata": {},
     "output_type": "display_data"
    },
    {
     "data": {
      "text/plain": ""
     },
     "execution_count": 5,
     "metadata": {},
     "output_type": "execute_result"
    }
   ],
   "source": [
    "pipeline.h2o_helper.aml.leaderboard"
   ],
   "metadata": {
    "collapsed": false,
    "pycharm": {
     "name": "#%%\n"
    }
   }
  },
  {
   "cell_type": "code",
   "execution_count": 6,
   "outputs": [
    {
     "name": "stdout",
     "output_type": "stream",
     "text": [
      "Model Details\n",
      "=============\n",
      "H2OStackedEnsembleEstimator :  Stacked Ensemble\n",
      "Model Key:  StackedEnsemble_BestOfFamily_1_AutoML_1_20220506_71512\n",
      "\n",
      "No model summary for this model\n",
      "\n",
      "ModelMetricsMultinomialGLM: stackedensemble\n",
      "** Reported on train data. **\n",
      "\n",
      "MSE: 0.0053879733962521135\n",
      "RMSE: 0.07340281599674575\n",
      "\n",
      "ModelMetricsMultinomialGLM: stackedensemble\n",
      "** Reported on cross-validation data. **\n",
      "\n",
      "MSE: 0.150268520023671\n",
      "RMSE: 0.38764483747842043\n",
      "\n",
      "Cross-Validation Metrics Summary: \n"
     ]
    },
    {
     "data": {
      "text/plain": "                                   mean         sd  cv_1_valid  cv_2_valid  \\\n0                  accuracy    0.834478   0.017078    0.812081    0.852113   \n1                       auc         NaN   0.000000         NaN         NaN   \n2                       err    0.165522   0.017078    0.187919    0.147887   \n3                 err_count   23.200000   2.949576   28.000000   21.000000   \n4                   logloss    0.494461   0.065239    0.557905    0.434999   \n5       max_per_class_error    0.385175   0.105019    0.500000    0.318182   \n6   mean_per_class_accuracy    0.799195   0.046175    0.746780    0.820755   \n7      mean_per_class_error    0.200805   0.046175    0.253220    0.179245   \n8                       mse    0.149641   0.018962    0.166104    0.128455   \n9             null_deviance  381.475280  14.967927  403.107120  389.831150   \n10                   pr_auc         NaN   0.000000         NaN         NaN   \n11                       r2    0.912602   0.013728    0.899987    0.935627   \n12        residual_deviance  138.503430  19.915224  166.255580  123.539700   \n13                     rmse    0.386213   0.024507    0.407559    0.358406   \n\n    cv_3_valid  cv_4_valid  cv_5_valid  \n0     0.820896    0.842857    0.844444  \n1          NaN         NaN         NaN  \n2     0.179104    0.157143    0.155556  \n3    24.000000   22.000000   21.000000  \n4     0.571462    0.442672    0.465266  \n5     0.307692    0.500000    0.300000  \n6     0.825116    0.753535    0.849788  \n7     0.174884    0.246465    0.150212  \n8     0.171639    0.134474    0.147533  \n9   367.481320  377.641720  369.315060  \n10         NaN         NaN         NaN  \n11    0.908872    0.905500    0.913024  \n12  153.151900  123.948190  125.621796  \n13    0.414293    0.366707    0.384100  ",
      "text/html": "<div>\n<style scoped>\n    .dataframe tbody tr th:only-of-type {\n        vertical-align: middle;\n    }\n\n    .dataframe tbody tr th {\n        vertical-align: top;\n    }\n\n    .dataframe thead th {\n        text-align: right;\n    }\n</style>\n<table border=\"1\" class=\"dataframe\">\n  <thead>\n    <tr style=\"text-align: right;\">\n      <th></th>\n      <th></th>\n      <th>mean</th>\n      <th>sd</th>\n      <th>cv_1_valid</th>\n      <th>cv_2_valid</th>\n      <th>cv_3_valid</th>\n      <th>cv_4_valid</th>\n      <th>cv_5_valid</th>\n    </tr>\n  </thead>\n  <tbody>\n    <tr>\n      <th>0</th>\n      <td>accuracy</td>\n      <td>0.834478</td>\n      <td>0.017078</td>\n      <td>0.812081</td>\n      <td>0.852113</td>\n      <td>0.820896</td>\n      <td>0.842857</td>\n      <td>0.844444</td>\n    </tr>\n    <tr>\n      <th>1</th>\n      <td>auc</td>\n      <td>NaN</td>\n      <td>0.000000</td>\n      <td>NaN</td>\n      <td>NaN</td>\n      <td>NaN</td>\n      <td>NaN</td>\n      <td>NaN</td>\n    </tr>\n    <tr>\n      <th>2</th>\n      <td>err</td>\n      <td>0.165522</td>\n      <td>0.017078</td>\n      <td>0.187919</td>\n      <td>0.147887</td>\n      <td>0.179104</td>\n      <td>0.157143</td>\n      <td>0.155556</td>\n    </tr>\n    <tr>\n      <th>3</th>\n      <td>err_count</td>\n      <td>23.200000</td>\n      <td>2.949576</td>\n      <td>28.000000</td>\n      <td>21.000000</td>\n      <td>24.000000</td>\n      <td>22.000000</td>\n      <td>21.000000</td>\n    </tr>\n    <tr>\n      <th>4</th>\n      <td>logloss</td>\n      <td>0.494461</td>\n      <td>0.065239</td>\n      <td>0.557905</td>\n      <td>0.434999</td>\n      <td>0.571462</td>\n      <td>0.442672</td>\n      <td>0.465266</td>\n    </tr>\n    <tr>\n      <th>5</th>\n      <td>max_per_class_error</td>\n      <td>0.385175</td>\n      <td>0.105019</td>\n      <td>0.500000</td>\n      <td>0.318182</td>\n      <td>0.307692</td>\n      <td>0.500000</td>\n      <td>0.300000</td>\n    </tr>\n    <tr>\n      <th>6</th>\n      <td>mean_per_class_accuracy</td>\n      <td>0.799195</td>\n      <td>0.046175</td>\n      <td>0.746780</td>\n      <td>0.820755</td>\n      <td>0.825116</td>\n      <td>0.753535</td>\n      <td>0.849788</td>\n    </tr>\n    <tr>\n      <th>7</th>\n      <td>mean_per_class_error</td>\n      <td>0.200805</td>\n      <td>0.046175</td>\n      <td>0.253220</td>\n      <td>0.179245</td>\n      <td>0.174884</td>\n      <td>0.246465</td>\n      <td>0.150212</td>\n    </tr>\n    <tr>\n      <th>8</th>\n      <td>mse</td>\n      <td>0.149641</td>\n      <td>0.018962</td>\n      <td>0.166104</td>\n      <td>0.128455</td>\n      <td>0.171639</td>\n      <td>0.134474</td>\n      <td>0.147533</td>\n    </tr>\n    <tr>\n      <th>9</th>\n      <td>null_deviance</td>\n      <td>381.475280</td>\n      <td>14.967927</td>\n      <td>403.107120</td>\n      <td>389.831150</td>\n      <td>367.481320</td>\n      <td>377.641720</td>\n      <td>369.315060</td>\n    </tr>\n    <tr>\n      <th>10</th>\n      <td>pr_auc</td>\n      <td>NaN</td>\n      <td>0.000000</td>\n      <td>NaN</td>\n      <td>NaN</td>\n      <td>NaN</td>\n      <td>NaN</td>\n      <td>NaN</td>\n    </tr>\n    <tr>\n      <th>11</th>\n      <td>r2</td>\n      <td>0.912602</td>\n      <td>0.013728</td>\n      <td>0.899987</td>\n      <td>0.935627</td>\n      <td>0.908872</td>\n      <td>0.905500</td>\n      <td>0.913024</td>\n    </tr>\n    <tr>\n      <th>12</th>\n      <td>residual_deviance</td>\n      <td>138.503430</td>\n      <td>19.915224</td>\n      <td>166.255580</td>\n      <td>123.539700</td>\n      <td>153.151900</td>\n      <td>123.948190</td>\n      <td>125.621796</td>\n    </tr>\n    <tr>\n      <th>13</th>\n      <td>rmse</td>\n      <td>0.386213</td>\n      <td>0.024507</td>\n      <td>0.407559</td>\n      <td>0.358406</td>\n      <td>0.414293</td>\n      <td>0.366707</td>\n      <td>0.384100</td>\n    </tr>\n  </tbody>\n</table>\n</div>"
     },
     "metadata": {},
     "output_type": "display_data"
    },
    {
     "data": {
      "text/plain": ""
     },
     "execution_count": 6,
     "metadata": {},
     "output_type": "execute_result"
    }
   ],
   "source": [
    "pipeline.h2o_helper.aml.get_best_model()"
   ],
   "metadata": {
    "collapsed": false,
    "pycharm": {
     "name": "#%%\n"
    }
   }
  },
  {
   "cell_type": "code",
   "execution_count": 7,
   "outputs": [
    {
     "data": {
      "text/plain": "['GLM_1_AutoML_1_20220506_71512',\n 'DeepLearning_grid_1_AutoML_1_20220506_71512_model_1',\n 'XGBoost_2_AutoML_1_20220506_71512',\n 'GBM_1_AutoML_1_20220506_71512',\n 'DRF_1_AutoML_1_20220506_71512',\n 'XRT_1_AutoML_1_20220506_71512']"
     },
     "execution_count": 7,
     "metadata": {},
     "output_type": "execute_result"
    }
   ],
   "source": [
    "pipeline.h2o_helper.aml.leader.base_models"
   ],
   "metadata": {
    "collapsed": false,
    "pycharm": {
     "name": "#%%\n"
    }
   }
  },
  {
   "cell_type": "code",
   "execution_count": null,
   "outputs": [],
   "source": [],
   "metadata": {
    "collapsed": false,
    "pycharm": {
     "name": "#%%\n",
     "is_executing": true
    }
   }
  }
 ],
 "metadata": {
  "interpreter": {
   "hash": "da386d383b1a4f2ab977ab0cc371ee70ac9bd2160da3f0bf5cca7f94d497a6a3"
  },
  "kernelspec": {
   "display_name": "Python 3.9.7 ('venv': venv)",
   "language": "python",
   "name": "python3"
  },
  "language_info": {
   "codemirror_mode": {
    "name": "ipython",
    "version": 3
   },
   "file_extension": ".py",
   "mimetype": "text/x-python",
   "name": "python",
   "nbconvert_exporter": "python",
   "pygments_lexer": "ipython3",
   "version": "3.9.7"
  },
  "orig_nbformat": 4
 },
 "nbformat": 4,
 "nbformat_minor": 2
}
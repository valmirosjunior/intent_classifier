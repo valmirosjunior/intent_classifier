{
 "cells": [
  {
   "cell_type": "code",
   "execution_count": 1,
   "outputs": [],
   "source": [
    "%load_ext autoreload\n",
    "\n",
    "%autoreload 2"
   ],
   "metadata": {
    "collapsed": false,
    "pycharm": {
     "name": "#%%\n"
    }
   }
  },
  {
   "cell_type": "code",
   "execution_count": 2,
   "outputs": [],
   "source": [
    "from src.ml.pipeline import PipelineH2OManualLabelingData"
   ],
   "metadata": {
    "collapsed": false,
    "pycharm": {
     "name": "#%%\n"
    }
   }
  },
  {
   "cell_type": "code",
   "execution_count": 3,
   "outputs": [
    {
     "name": "stdout",
     "output_type": "stream",
     "text": [
      "Checking whether there is an H2O instance running at http://localhost:54321 . connected.\n"
     ]
    },
    {
     "data": {
      "text/plain": "--------------------------  -----------------------------\nH2O_cluster_uptime:         13 mins 59 secs\nH2O_cluster_timezone:       America/Fortaleza\nH2O_data_parsing_timezone:  UTC\nH2O_cluster_version:        3.36.1.1\nH2O_cluster_version_age:    22 days\nH2O_cluster_name:           H2O_from_python_valmir_r7y3k9\nH2O_cluster_total_nodes:    1\nH2O_cluster_free_memory:    7.370 Gb\nH2O_cluster_total_cores:    16\nH2O_cluster_allowed_cores:  16\nH2O_cluster_status:         locked, healthy\nH2O_connection_url:         http://localhost:54321\nH2O_connection_proxy:       {\"http\": null, \"https\": null}\nH2O_internal_security:      False\nPython_version:             3.9.12 final\n--------------------------  -----------------------------",
      "text/html": "<div style=\"overflow:auto\"><table style=\"width:50%\"><tr><td>H2O_cluster_uptime:</td>\n<td>13 mins 59 secs</td></tr>\n<tr><td>H2O_cluster_timezone:</td>\n<td>America/Fortaleza</td></tr>\n<tr><td>H2O_data_parsing_timezone:</td>\n<td>UTC</td></tr>\n<tr><td>H2O_cluster_version:</td>\n<td>3.36.1.1</td></tr>\n<tr><td>H2O_cluster_version_age:</td>\n<td>22 days </td></tr>\n<tr><td>H2O_cluster_name:</td>\n<td>H2O_from_python_valmir_r7y3k9</td></tr>\n<tr><td>H2O_cluster_total_nodes:</td>\n<td>1</td></tr>\n<tr><td>H2O_cluster_free_memory:</td>\n<td>7.370 Gb</td></tr>\n<tr><td>H2O_cluster_total_cores:</td>\n<td>16</td></tr>\n<tr><td>H2O_cluster_allowed_cores:</td>\n<td>16</td></tr>\n<tr><td>H2O_cluster_status:</td>\n<td>locked, healthy</td></tr>\n<tr><td>H2O_connection_url:</td>\n<td>http://localhost:54321</td></tr>\n<tr><td>H2O_connection_proxy:</td>\n<td>{\"http\": null, \"https\": null}</td></tr>\n<tr><td>H2O_internal_security:</td>\n<td>False</td></tr>\n<tr><td>Python_version:</td>\n<td>3.9.12 final</td></tr></table></div>"
     },
     "metadata": {},
     "output_type": "display_data"
    }
   ],
   "source": [
    "pipeline = PipelineH2OManualLabelingData('bert_pt')"
   ],
   "metadata": {
    "collapsed": false,
    "pycharm": {
     "name": "#%%\n"
    }
   }
  },
  {
   "cell_type": "code",
   "execution_count": 4,
   "outputs": [
    {
     "name": "stdout",
     "output_type": "stream",
     "text": [
      "training model...\n",
      "Parse progress: |████████████████████████████████████████████████████████████████| (done) 100%\n",
      "AutoML progress: |███████████████████████████████████████████████████████████████| (done) 100%\n",
      "testing model...\n",
      "Parse progress: |████████████████████████████████████████████████████████████████| (done) 100%\n",
      "stackedensemble prediction progress: |███████████████████████████████████████████| (done) 100%\n",
      "The accuracy of model was:  0.84\n",
      "saving model...\n",
      "The model was saved at: /home/valmir/dev/python/intent_classifier/data/output/h2o/models/classified_manual/bert_pt, with name: StackedEnsemble_BestOfFamily_1_AutoML_2_20220506_72915\n",
      "predicting labels...\n",
      "Parse progress: |████████████████████████████████████████████████████████████████| (done) 100%\n",
      "stackedensemble prediction progress: |███████████████████████████████████████████| (done) 100%\n",
      "saving data...\n"
     ]
    }
   ],
   "source": [
    "pipeline.run()"
   ],
   "metadata": {
    "collapsed": false,
    "pycharm": {
     "name": "#%%\n"
    }
   }
  },
  {
   "cell_type": "code",
   "execution_count": 5,
   "outputs": [
    {
     "data": {
      "text/html": "<table>\n<thead>\n<tr><th>model_id                                              </th><th style=\"text-align: right;\">  mean_per_class_error</th><th style=\"text-align: right;\">  logloss</th><th style=\"text-align: right;\">    rmse</th><th style=\"text-align: right;\">     mse</th></tr>\n</thead>\n<tbody>\n<tr><td>StackedEnsemble_BestOfFamily_1_AutoML_2_20220506_72915</td><td style=\"text-align: right;\">              0.186235</td><td style=\"text-align: right;\"> 0.459456</td><td style=\"text-align: right;\">0.369183</td><td style=\"text-align: right;\">0.136296</td></tr>\n<tr><td>StackedEnsemble_AllModels_1_AutoML_2_20220506_72915   </td><td style=\"text-align: right;\">              0.192921</td><td style=\"text-align: right;\"> 0.466382</td><td style=\"text-align: right;\">0.377114</td><td style=\"text-align: right;\">0.142215</td></tr>\n<tr><td>GLM_1_AutoML_2_20220506_72915                         </td><td style=\"text-align: right;\">              0.197041</td><td style=\"text-align: right;\"> 0.448652</td><td style=\"text-align: right;\">0.370421</td><td style=\"text-align: right;\">0.137212</td></tr>\n<tr><td>DeepLearning_grid_1_AutoML_2_20220506_72915_model_1   </td><td style=\"text-align: right;\">              0.197055</td><td style=\"text-align: right;\"> 1.1029  </td><td style=\"text-align: right;\">0.406603</td><td style=\"text-align: right;\">0.165326</td></tr>\n<tr><td>DeepLearning_grid_3_AutoML_2_20220506_72915_model_1   </td><td style=\"text-align: right;\">              0.198441</td><td style=\"text-align: right;\"> 0.987549</td><td style=\"text-align: right;\">0.401631</td><td style=\"text-align: right;\">0.161307</td></tr>\n<tr><td>DeepLearning_grid_2_AutoML_2_20220506_72915_model_1   </td><td style=\"text-align: right;\">              0.224445</td><td style=\"text-align: right;\"> 1.10712 </td><td style=\"text-align: right;\">0.401813</td><td style=\"text-align: right;\">0.161454</td></tr>\n<tr><td>DeepLearning_1_AutoML_2_20220506_72915                </td><td style=\"text-align: right;\">              0.252147</td><td style=\"text-align: right;\"> 0.773873</td><td style=\"text-align: right;\">0.426294</td><td style=\"text-align: right;\">0.181726</td></tr>\n<tr><td>XGBoost_1_AutoML_2_20220506_72915                     </td><td style=\"text-align: right;\">              0.267275</td><td style=\"text-align: right;\"> 0.588271</td><td style=\"text-align: right;\">0.431287</td><td style=\"text-align: right;\">0.186008</td></tr>\n<tr><td>XGBoost_2_AutoML_2_20220506_72915                     </td><td style=\"text-align: right;\">              0.269111</td><td style=\"text-align: right;\"> 0.595839</td><td style=\"text-align: right;\">0.418994</td><td style=\"text-align: right;\">0.175556</td></tr>\n<tr><td>XGBoost_grid_1_AutoML_2_20220506_72915_model_1        </td><td style=\"text-align: right;\">              0.273084</td><td style=\"text-align: right;\"> 0.560141</td><td style=\"text-align: right;\">0.415154</td><td style=\"text-align: right;\">0.172353</td></tr>\n</tbody>\n</table>"
     },
     "metadata": {},
     "output_type": "display_data"
    },
    {
     "data": {
      "text/plain": ""
     },
     "execution_count": 5,
     "metadata": {},
     "output_type": "execute_result"
    }
   ],
   "source": [
    "pipeline.h2o_helper.aml.leaderboard"
   ],
   "metadata": {
    "collapsed": false,
    "pycharm": {
     "name": "#%%\n"
    }
   }
  },
  {
   "cell_type": "code",
   "execution_count": 6,
   "outputs": [
    {
     "name": "stdout",
     "output_type": "stream",
     "text": [
      "Model Details\n",
      "=============\n",
      "H2OStackedEnsembleEstimator :  Stacked Ensemble\n",
      "Model Key:  StackedEnsemble_BestOfFamily_1_AutoML_2_20220506_72915\n",
      "\n",
      "No model summary for this model\n",
      "\n",
      "ModelMetricsMultinomialGLM: stackedensemble\n",
      "** Reported on train data. **\n",
      "\n",
      "MSE: 0.005158106682977241\n",
      "RMSE: 0.07181996019893941\n",
      "\n",
      "ModelMetricsMultinomialGLM: stackedensemble\n",
      "** Reported on cross-validation data. **\n",
      "\n",
      "MSE: 0.13629596654598794\n",
      "RMSE: 0.3691828362017768\n",
      "\n",
      "Cross-Validation Metrics Summary: \n"
     ]
    },
    {
     "data": {
      "text/plain": "                                   mean         sd  cv_1_valid  cv_2_valid  \\\n0                  accuracy    0.843354   0.020811    0.818792    0.830986   \n1                       auc         NaN   0.000000         NaN         NaN   \n2                       err    0.156646   0.020811    0.181208    0.169014   \n3                 err_count   22.000000   3.674235   27.000000   24.000000   \n4                   logloss    0.455115   0.029323    0.482238    0.486010   \n5       max_per_class_error    0.302632   0.091955    0.400000    0.250000   \n6   mean_per_class_accuracy    0.822046   0.048378    0.763921    0.820796   \n7      mean_per_class_error    0.177954   0.048378    0.236079    0.179204   \n8                       mse    0.134753   0.011793    0.149325    0.145278   \n9             null_deviance  381.475280  14.967927  403.107120  389.831150   \n10                   pr_auc         NaN   0.000000         NaN         NaN   \n11                       r2    0.921473   0.009306    0.910090    0.927197   \n12        residual_deviance  127.617570  12.610852  143.706920  138.026980   \n13                     rmse    0.366809   0.015974    0.386426    0.381153   \n\n    cv_3_valid  cv_4_valid  cv_5_valid  \n0     0.865672    0.864286    0.837037  \n1          NaN         NaN         NaN  \n2     0.134328    0.135714    0.162963  \n3    18.000000   19.000000   22.000000  \n4     0.455930    0.428705    0.422694  \n5     0.263158    0.200000    0.400000  \n6     0.884365    0.852929    0.788219  \n7     0.115635    0.147071    0.211781  \n8     0.130269    0.123902    0.124990  \n9   367.481320  377.641720  369.315060  \n10         NaN         NaN         NaN  \n11    0.930836    0.912930    0.926314  \n12  122.189156  120.037390  114.127396  \n13    0.360928    0.351997    0.353539  ",
      "text/html": "<div>\n<style scoped>\n    .dataframe tbody tr th:only-of-type {\n        vertical-align: middle;\n    }\n\n    .dataframe tbody tr th {\n        vertical-align: top;\n    }\n\n    .dataframe thead th {\n        text-align: right;\n    }\n</style>\n<table border=\"1\" class=\"dataframe\">\n  <thead>\n    <tr style=\"text-align: right;\">\n      <th></th>\n      <th></th>\n      <th>mean</th>\n      <th>sd</th>\n      <th>cv_1_valid</th>\n      <th>cv_2_valid</th>\n      <th>cv_3_valid</th>\n      <th>cv_4_valid</th>\n      <th>cv_5_valid</th>\n    </tr>\n  </thead>\n  <tbody>\n    <tr>\n      <th>0</th>\n      <td>accuracy</td>\n      <td>0.843354</td>\n      <td>0.020811</td>\n      <td>0.818792</td>\n      <td>0.830986</td>\n      <td>0.865672</td>\n      <td>0.864286</td>\n      <td>0.837037</td>\n    </tr>\n    <tr>\n      <th>1</th>\n      <td>auc</td>\n      <td>NaN</td>\n      <td>0.000000</td>\n      <td>NaN</td>\n      <td>NaN</td>\n      <td>NaN</td>\n      <td>NaN</td>\n      <td>NaN</td>\n    </tr>\n    <tr>\n      <th>2</th>\n      <td>err</td>\n      <td>0.156646</td>\n      <td>0.020811</td>\n      <td>0.181208</td>\n      <td>0.169014</td>\n      <td>0.134328</td>\n      <td>0.135714</td>\n      <td>0.162963</td>\n    </tr>\n    <tr>\n      <th>3</th>\n      <td>err_count</td>\n      <td>22.000000</td>\n      <td>3.674235</td>\n      <td>27.000000</td>\n      <td>24.000000</td>\n      <td>18.000000</td>\n      <td>19.000000</td>\n      <td>22.000000</td>\n    </tr>\n    <tr>\n      <th>4</th>\n      <td>logloss</td>\n      <td>0.455115</td>\n      <td>0.029323</td>\n      <td>0.482238</td>\n      <td>0.486010</td>\n      <td>0.455930</td>\n      <td>0.428705</td>\n      <td>0.422694</td>\n    </tr>\n    <tr>\n      <th>5</th>\n      <td>max_per_class_error</td>\n      <td>0.302632</td>\n      <td>0.091955</td>\n      <td>0.400000</td>\n      <td>0.250000</td>\n      <td>0.263158</td>\n      <td>0.200000</td>\n      <td>0.400000</td>\n    </tr>\n    <tr>\n      <th>6</th>\n      <td>mean_per_class_accuracy</td>\n      <td>0.822046</td>\n      <td>0.048378</td>\n      <td>0.763921</td>\n      <td>0.820796</td>\n      <td>0.884365</td>\n      <td>0.852929</td>\n      <td>0.788219</td>\n    </tr>\n    <tr>\n      <th>7</th>\n      <td>mean_per_class_error</td>\n      <td>0.177954</td>\n      <td>0.048378</td>\n      <td>0.236079</td>\n      <td>0.179204</td>\n      <td>0.115635</td>\n      <td>0.147071</td>\n      <td>0.211781</td>\n    </tr>\n    <tr>\n      <th>8</th>\n      <td>mse</td>\n      <td>0.134753</td>\n      <td>0.011793</td>\n      <td>0.149325</td>\n      <td>0.145278</td>\n      <td>0.130269</td>\n      <td>0.123902</td>\n      <td>0.124990</td>\n    </tr>\n    <tr>\n      <th>9</th>\n      <td>null_deviance</td>\n      <td>381.475280</td>\n      <td>14.967927</td>\n      <td>403.107120</td>\n      <td>389.831150</td>\n      <td>367.481320</td>\n      <td>377.641720</td>\n      <td>369.315060</td>\n    </tr>\n    <tr>\n      <th>10</th>\n      <td>pr_auc</td>\n      <td>NaN</td>\n      <td>0.000000</td>\n      <td>NaN</td>\n      <td>NaN</td>\n      <td>NaN</td>\n      <td>NaN</td>\n      <td>NaN</td>\n    </tr>\n    <tr>\n      <th>11</th>\n      <td>r2</td>\n      <td>0.921473</td>\n      <td>0.009306</td>\n      <td>0.910090</td>\n      <td>0.927197</td>\n      <td>0.930836</td>\n      <td>0.912930</td>\n      <td>0.926314</td>\n    </tr>\n    <tr>\n      <th>12</th>\n      <td>residual_deviance</td>\n      <td>127.617570</td>\n      <td>12.610852</td>\n      <td>143.706920</td>\n      <td>138.026980</td>\n      <td>122.189156</td>\n      <td>120.037390</td>\n      <td>114.127396</td>\n    </tr>\n    <tr>\n      <th>13</th>\n      <td>rmse</td>\n      <td>0.366809</td>\n      <td>0.015974</td>\n      <td>0.386426</td>\n      <td>0.381153</td>\n      <td>0.360928</td>\n      <td>0.351997</td>\n      <td>0.353539</td>\n    </tr>\n  </tbody>\n</table>\n</div>"
     },
     "metadata": {},
     "output_type": "display_data"
    },
    {
     "data": {
      "text/plain": ""
     },
     "execution_count": 6,
     "metadata": {},
     "output_type": "execute_result"
    }
   ],
   "source": [
    "pipeline.h2o_helper.aml.get_best_model()"
   ],
   "metadata": {
    "collapsed": false,
    "pycharm": {
     "name": "#%%\n"
    }
   }
  },
  {
   "cell_type": "code",
   "execution_count": 7,
   "outputs": [
    {
     "data": {
      "text/plain": "['GLM_1_AutoML_2_20220506_72915',\n 'DeepLearning_grid_1_AutoML_2_20220506_72915_model_1',\n 'XGBoost_1_AutoML_2_20220506_72915',\n 'GBM_1_AutoML_2_20220506_72915',\n 'XRT_1_AutoML_2_20220506_72915',\n 'DRF_1_AutoML_2_20220506_72915']"
     },
     "execution_count": 7,
     "metadata": {},
     "output_type": "execute_result"
    }
   ],
   "source": [
    "pipeline.h2o_helper.aml.leader.base_models"
   ],
   "metadata": {
    "collapsed": false,
    "pycharm": {
     "name": "#%%\n"
    }
   }
  },
  {
   "cell_type": "code",
   "execution_count": null,
   "outputs": [],
   "source": [],
   "metadata": {
    "collapsed": false,
    "pycharm": {
     "name": "#%%\n",
     "is_executing": true
    }
   }
  }
 ],
 "metadata": {
  "interpreter": {
   "hash": "da386d383b1a4f2ab977ab0cc371ee70ac9bd2160da3f0bf5cca7f94d497a6a3"
  },
  "kernelspec": {
   "display_name": "Python 3.9.7 ('venv': venv)",
   "language": "python",
   "name": "python3"
  },
  "language_info": {
   "codemirror_mode": {
    "name": "ipython",
    "version": 3
   },
   "file_extension": ".py",
   "mimetype": "text/x-python",
   "name": "python",
   "nbconvert_exporter": "python",
   "pygments_lexer": "ipython3",
   "version": "3.9.7"
  },
  "orig_nbformat": 4
 },
 "nbformat": 4,
 "nbformat_minor": 2
}